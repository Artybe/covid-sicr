{
 "cells": [
  {
   "cell_type": "code",
   "execution_count": 1,
   "metadata": {},
   "outputs": [],
   "source": [
    "%matplotlib inline\n",
    "import pandas as pd\n",
    "import matplotlib.pyplot as plt\n",
    "import numpy as np\n",
    "import seaborn as sns\n",
    "import string\n",
    "from pathlib import Path\n",
    "#https://stackoverflow.com/questions/19726663/how-to-save-the-pandas-dataframe-series-data-as-a-figure\n",
    "import six\n",
    "from matplotlib.cbook import boxplot_stats\n",
    "\n",
    "\n"
   ]
  },
  {
   "cell_type": "code",
   "execution_count": 2,
   "metadata": {},
   "outputs": [
    {
     "name": "stdout",
     "output_type": "stream",
     "text": [
      "Index(['Region', 'R0 (CI)', 'ci1', 'CAR (week 0) (CI)', 'ci2',\n",
      "       'IFR (week 0) (CI)', 'ci3', 'Rt(May 7th, 2020) (CI)', 'ci4',\n",
      "       'CARt(May 7th, 2020) (CI)', 'ci5', 'IFRt(May 7th, 2020) (CI)', 'ci6',\n",
      "       'delta weeks'],\n",
      "      dtype='object')\n"
     ]
    }
   ],
   "source": [
    "tbpath = \"../../results/\"\n",
    "df = pd.read_csv(tbpath + \"Table1_flat.csv\") \n",
    "print(df.columns)"
   ]
  },
  {
   "cell_type": "code",
   "execution_count": 9,
   "metadata": {},
   "outputs": [
    {
     "data": {
      "text/plain": [
       "<matplotlib.axes._subplots.AxesSubplot at 0x13cf36e90>"
      ]
     },
     "execution_count": 9,
     "metadata": {},
     "output_type": "execute_result"
    },
    {
     "data": {
      "image/png": "[encoded data removed]",
      "text/plain": [
       "<Figure size 432x288 with 1 Axes>"
      ]
     },
     "metadata": {
      "needs_background": "light"
     },
     "output_type": "display_data"
    }
   ],
   "source": [
    "sns.distplot(df['CARt(May 7th, 2020) (CI)'])"
   ]
  },
  {
   "cell_type": "code",
   "execution_count": 4,
   "metadata": {},
   "outputs": [],
   "source": [
    "# ax = sns.boxplot(data=df['R0 (CI)'])\n",
    "# outliers = [y for stat in boxplot_stats(df['R0 (CI)']) for y in stat['fliers']]\n",
    "# print(outliers)"
   ]
  },
  {
   "cell_type": "code",
   "execution_count": 5,
   "metadata": {},
   "outputs": [],
   "source": [
    "# def fix_region_name(roi):\n",
    "#     roi = roi.replace('_', ' ')\n",
    "#     roi = ' '.join(roi.split(',')[::-1]).strip()\n",
    "#     return roi\n",
    "\n",
    "# table_path = Path('../../results/fit9_tables_allmodels')\n",
    "\n",
    "# # df_raw = pd.read_csv(table_path / 'fit_table_raw.csv')\n",
    "# # df_raw['roi'] = df_raw['roi'].apply(fix_region_name)\n",
    "# # df_raw = df_raw.set_index(['model', 'roi', 'quantile']).sort_index()\n",
    "\n",
    "# df = pd.read_csv(table_path / 'fit_table_reweighted.csv')\n",
    "# rois = list(df.roi.unique())\n",
    "\n",
    "# roi_us = np.sort([i for i in rois if i[:2]=='US'])\n",
    "# roi_other = np.sort([i for i in rois if i[:2]!='US'])\n",
    "\n",
    "# rois = list(roi_other) + list(roi_us)\n",
    "\n",
    "# rois.remove('US')\n",
    "# rois.remove('AA_Global')\n",
    "# v = []\n",
    "# w = []\n",
    "# for roi in rois:\n",
    "#     v.append(df.loc[(roi==roi)&(df['quantile']=='0.5'),'R0'].values[0])\n",
    "#     w.append(1/(df.loc[(roi==roi)&(df['quantile']=='0.5'),'R0'].fillna(0)).values[0]**2)\n",
    "             \n",
    "# v = np.array(v)\n",
    "# w = np.array(w)\n",
    "# print(sum(v*w)/sum(w))\n",
    "# # print(df.columns)\n",
    "# # # print(len(df['roi'].unique()))\n",
    "# # df['roi'] = df['roi'].apply(fix_region_name)\n",
    "# # # print(len(df['roi'].unique()))\n",
    "# # df = df.set_index(['roi', 'quantile']).sort_index()\n",
    "# # # a = [i[1] for  i in df.unstack('roi').columns]\n",
    "# # # print(len(set(a)))\n",
    "\n",
    "# # def get_global(df):\n",
    "# #     # Compute global stats\n",
    "# #     df = df.drop('AA Global', errors='ignore')\n",
    "# #     df.columns.name = 'param'\n",
    "# # #     means = df.unstack('roi').loc['mean'].unstack('param')\n",
    "# #     weights = (1/df.unstack('roi').loc['std']**2).fillna(0).unstack('param')\n",
    "# # #     global_mean = (means*weights).sum() / weights.sum()\n",
    "# # #     global_sd = ((weights*((means - global_mean)**2)).sum()/weights.sum())**(1/2)\n",
    "# # #     df.loc[('GLOBAL', 'mean'), :] = global_mean\n",
    "# # #     df.loc[('GLOBAL', 'std'), :] = global_sd\n",
    "# #     for quantile in ['0.025', '0.25', '0.5', '0.75', '0.975']:\n",
    "# #         vals = df.unstack('roi').loc[quantile].unstack('param')\n",
    "# #         df.loc[('GLOBAL', quantile), :] = (vals*weights).sum() / weights.sum()\n",
    "# #     #df = df.sort_index()\n",
    "# #     #gl = df.loc['Global']\n",
    "# #     return df,weights,vals\n",
    "\n",
    "\n",
    "\n",
    "\n",
    "# # df,weights,vals= get_global(df)\n",
    "\n",
    "# # [print(len(w)) for w in vals.values]\n",
    "# # print(gmu)\n",
    "\n",
    "\n",
    "\n",
    "\n"
   ]
  },
  {
   "cell_type": "code",
   "execution_count": null,
   "metadata": {},
   "outputs": [],
   "source": []
  }
 ],
 "metadata": {
  "kernelspec": {
   "display_name": "Python 3",
   "language": "python",
   "name": "python3"
  },
  "language_info": {
   "codemirror_mode": {
    "name": "ipython",
    "version": 3
   },
   "file_extension": ".py",
   "mimetype": "text/x-python",
   "name": "python",
   "nbconvert_exporter": "python",
   "pygments_lexer": "ipython3",
   "version": "3.7.4"
  }
 },
 "nbformat": 4,
 "nbformat_minor": 2
}
