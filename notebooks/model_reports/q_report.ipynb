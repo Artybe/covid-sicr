{
 "cells": [
  {
   "cell_type": "code",
   "execution_count": 1,
   "metadata": {},
   "outputs": [],
   "source": [
    "%matplotlib inline\n",
    "import pandas as pd\n",
    "import matplotlib.pyplot as plt\n",
    "import matplotlib\n",
    "import numpy as np\n",
    "import seaborn as sns\n",
    "import string\n",
    "#https://stackoverflow.com/questions/19726663/how-to-save-the-pandas-dataframe-series-data-as-a-figure\n",
    "import six\n",
    "\n"
   ]
  },
  {
   "cell_type": "code",
   "execution_count": 2,
   "metadata": {},
   "outputs": [],
   "source": [
    "tbpath = \"../../fits/\"\n",
    "productpath = \"../../postfit_derivatives/\""
   ]
  },
  {
   "cell_type": "code",
   "execution_count": 3,
   "metadata": {},
   "outputs": [],
   "source": [
    "models = [\"fulllinearmodel_fit_table.csv\",\"reducedlinearmodelNegBinom_fit_table.csv\",\n",
    "          \"reducedlinearmodelq0_fit_table.csv\",\"reducedlinearmodelq0ctime_fit_table.csv\",\n",
    "         \"nonlinearmodelq0ctime_fit_table.csv\",\"nonlinearmodel_fit_table.csv\"]"
   ]
  },
  {
   "cell_type": "code",
   "execution_count": 4,
   "metadata": {},
   "outputs": [],
   "source": [
    "rois = []\n",
    "for model in models:\n",
    "    df = pd.read_csv(tbpath + model) #get rois in all tables (some may have failed)\n",
    "    rois += list(df.roi.unique())\n",
    "\n",
    "    \n",
    "rois = list(set(rois))"
   ]
  },
  {
   "cell_type": "code",
   "execution_count": 5,
   "metadata": {},
   "outputs": [],
   "source": [
    "theta_ = [\"q\"]#,\"Rlast\"] #need to update Rlast\n",
    "\n",
    "\n",
    "dfreport = pd.DataFrame(columns=['Region', 'Model','median '+theta_[0],'CI lower','CI upper'])#,'median '+theta_[1],'CI lower','CI upper'])\n",
    "k = -1\n",
    "for roi in rois:\n",
    "    try:\n",
    "        k += 1\n",
    "        model = \"fulllinearmodel_fit_table.csv\" \n",
    "        df = pd.read_csv(tbpath + model)\n",
    "        theta = theta_[0]\n",
    "        measure1 = df.loc[(df.roi==roi)&(df['quantile']==0.5),theta].values[0]\n",
    "        measure2 = df.loc[(df.roi==roi)&(df['quantile']==0.025),theta].values[0]\n",
    "        measure3 = df.loc[(df.roi==roi)&(df['quantile']==0.975),theta].values[0]\n",
    "        x = [roi,model.split('_fit_table.csv')[0],np.round(measure1,4),np.round(measure2,4),np.round(measure3,4)]\n",
    "    #         theta = theta_[1]\n",
    "    #         measure1 = df.loc[(df.roi==roi)&(df['quantile']==0.5),theta].values[0]\n",
    "    #         measure2 = df.loc[(df.roi==roi)&(df['quantile']==0.025),theta].values[0]\n",
    "    #         measure3 = df.loc[(df.roi==roi)&(df['quantile']==0.975),theta].values[0]\n",
    "    #         x += [np.round(measure1,4),np.round(measure2,4),np.round(measure3,4)]\n",
    "        dfreport.loc[k] = x\n",
    "    except:\n",
    "        print(roi)"
   ]
  },
  {
   "cell_type": "code",
   "execution_count": 20,
   "metadata": {},
   "outputs": [
    {
     "name": "stdout",
     "output_type": "stream",
     "text": [
      "0.14055\n",
      "0.013283978885206965\n"
     ]
    },
    {
     "data": {
      "image/png": "[encoded data removed]",
      "text/plain": [
       "<Figure size 576x360 with 1 Axes>"
      ]
     },
     "metadata": {
      "needs_background": "light"
     },
     "output_type": "display_data"
    }
   ],
   "source": [
    "font = {'family' : 'sans-serif',\n",
    "        'weight' : 'normal',\n",
    "        'size'   : 18}\n",
    "\n",
    "matplotlib.rc('font', **font)\n",
    "\n",
    "\n",
    "def simpleaxis(ax):\n",
    "    ax.spines['top'].set_visible(False)\n",
    "    ax.spines['bottom'].set_visible(False)\n",
    "    ax.spines['right'].set_visible(False)\n",
    "    ax.spines['left'].set_visible(False)\n",
    "\n",
    "\n",
    "f,ax = plt.subplots(1,1,figsize=(8,5))\n",
    "\n",
    "## R0\n",
    "sns.distplot(dfreport['median q'],color=sns.xkcd_rgb[\"bright blue\"],ax=ax, kde=False, norm_hist=True, label='region-wide q')\n",
    "mu = np.median(dfreport['median q'].values)\n",
    "print(mu)\n",
    "ax.axvline(mu,color='b',label='median q')\n",
    "# print(dfreport['median q'].quantile(q=[0.025,0.5,0.975]))\n",
    "print(dfreport['median q'].std())\n",
    "## Rlast\n",
    "# sns.distplot(dfreport['median R0'],color=c_[1],ax=ax, kde=False, norm_hist=True,label='region-wide April 15th, 2020')\n",
    "# mu = np.median(dfreport['median Rlast'].values)\n",
    "# print(mu)\n",
    "# ax.axvline(mu,color='b',alpha=0.5,label='median April 15th, 2020')\n",
    "# print(dfreport['median Rlast'].quantiles(q=[0.025,0.5,97.5]))\n",
    "\n",
    "\n",
    "plt.legend(loc=2)\n",
    "simpleaxis(ax)\n",
    "ax.get_yaxis().set_visible(False)\n",
    "ax.set_xlabel('')\n",
    "plt.subplots_adjust(hspace=0.5,bottom=0.1)\n",
    "ax.set_xlabel('q')\n",
    "plt.subplots_adjust(hspace=0.5,bottom=0.2)\n",
    "plt.savefig(productpath + 'q.png')\n",
    "\n"
   ]
  },
  {
   "cell_type": "code",
   "execution_count": null,
   "metadata": {},
   "outputs": [],
   "source": []
  }
 ],
 "metadata": {
  "kernelspec": {
   "display_name": "Python 3",
   "language": "python",
   "name": "python3"
  },
  "language_info": {
   "codemirror_mode": {
    "name": "ipython",
    "version": 3
   },
   "file_extension": ".py",
   "mimetype": "text/x-python",
   "name": "python",
   "nbconvert_exporter": "python",
   "pygments_lexer": "ipython3",
   "version": "3.7.4"
  }
 },
 "nbformat": 4,
 "nbformat_minor": 2
}
