{
 "cells": [
  {
   "cell_type": "code",
   "execution_count": 1,
   "metadata": {},
   "outputs": [],
   "source": [
    "%matplotlib inline\n",
    "import pandas as pd\n",
    "import matplotlib.pyplot as plt\n",
    "import matplotlib\n",
    "import numpy as np\n",
    "import seaborn as sns\n",
    "import string\n",
    "import math"
   ]
  },
  {
   "cell_type": "code",
   "execution_count": 2,
   "metadata": {},
   "outputs": [],
   "source": [
    "datapath = \"/Users/aavattikutis/Documents/epidemicmodel/cccruns/fits/fit2/tables/\"\n",
    "models = [\"fulllinearmodel_fit_table.csv\",\"reducedlinearmodelNegBinom_fit_table.csv\",\n",
    "          \"reducedlinearmodelq0_fit_table.csv\",\"reducedlinearmodelq0ctime_fit_table.csv\",\n",
    "         \"nonlinearmodelq0ctime_fit_table.csv\"]\n",
    "\n",
    "\n",
    "# model_hash = {}\n",
    "# k = -1\n",
    "# for model in models:\n",
    "#     k += 1\n",
    "#     model_hash[model] = string.ascii_uppercase[k]\n",
    "\n",
    "# df = pd.DataFrame.from_dict(model_hash, orient='index')\n",
    "# df.to_csv('../postmodel_derivatives/model_hash.csv', header=False)"
   ]
  },
  {
   "cell_type": "code",
   "execution_count": 3,
   "metadata": {},
   "outputs": [],
   "source": [
    "rois = []\n",
    "for model in models:\n",
    "    df = pd.read_csv(datapath + model) #get rois in all tables (some may have failed)\n",
    "    rois += list(df.roi.unique())\n",
    "\n",
    "    \n",
    "rois = list(set(rois))\n",
    "\n",
    "#get inferred\n",
    "theta = df.columns[2:] \n",
    "ntheta = len(theta)\n",
    "\n"
   ]
  },
  {
   "cell_type": "code",
   "execution_count": 4,
   "metadata": {},
   "outputs": [],
   "source": [
    "#get rois\n",
    "\n",
    "roi_us = np.sort([i for i in rois if i[:2]=='US'])[::-1]\n",
    "roi_other = np.sort([i for i in rois if i[:2]!='US'])[::-1]\n",
    "rois = list(roi_us) + list(roi_other)\n",
    "\n"
   ]
  },
  {
   "cell_type": "code",
   "execution_count": 6,
   "metadata": {},
   "outputs": [
    {
     "name": "stdout",
     "output_type": "stream",
     "text": [
      "4.350131004943883\n",
      "0.06874755354613585\n",
      "0.004267655670099832\n"
     ]
    },
    {
     "data": {
      "image/png": "[encoded data removed]",
      "text/plain": [
       "<Figure size 1440x360 with 3 Axes>"
      ]
     },
     "metadata": {
      "needs_background": "light"
     },
     "output_type": "display_data"
    }
   ],
   "source": [
    "font = {'family' : 'sans-serif',\n",
    "        'weight' : 'normal',\n",
    "        'size'   : 22}\n",
    "\n",
    "matplotlib.rc('font', **font)\n",
    "\n",
    "def simpleaxis(ax):\n",
    "    ax.spines['top'].set_visible(False)\n",
    "    ax.spines['bottom'].set_visible(False)\n",
    "    ax.spines['right'].set_visible(False)\n",
    "    ax.spines['left'].set_visible(False)\n",
    "    return\n",
    "             \n",
    "fs=24\n",
    "\n",
    "theta_ = [\"R0\",\"car (week 0)\",\"ifr (week 0)\"]\n",
    "label_ = [r'R$_{0}$','CAR (week=0)','IFR (week=0)']\n",
    "xticks_ = [[0,5,10],[0,0.1,0.2],[0,0.005,0.01]]\n",
    "# xlim_ = [[0,5,10],[0,1,2],[0,0.5,1],[0,2,5]]\n",
    "\n",
    "def histrois(ax,theta,label,histcolor,xticks):\n",
    "    x = []\n",
    "    dfbest = pd.read_csv(\"../postfit_derivatives/\"+theta+\"_summary.csv\")\n",
    "    for roi in rois:\n",
    "        model = dfbest.loc[(dfbest.Region==roi), \"Model\"].values[0] + \"_fit_table.csv\"\n",
    "        df = pd.read_csv(datapath + model)\n",
    "        try:\n",
    "            x2 = df.loc[(df.roi==roi)&(df['quantile']==0.5), theta].values[0]\n",
    "            if np.isfinite(x2):\n",
    "                if theta in [\"car (week 0)\",\"ifr (week 0)\"]:\n",
    "                    x.append(x2)\n",
    "                else:\n",
    "                    x.append(x2)\n",
    "        except:\n",
    "            print()\n",
    "    mu = np.median(x)\n",
    "    print(mu)\n",
    "    f = sns.distplot(x,hist=True,kde=False,ax=ax,color=histcolor)\n",
    "    simpleaxis(ax)\n",
    "    ax.set_title(label,fontsize=fs)\n",
    "    ax.axvline(mu)\n",
    "    ax.text(mu,20,str(np.round(mu,3)))\n",
    "    ax.get_yaxis().set_visible(False)\n",
    "    ax.set_xticks(xticks)\n",
    "    ax.set_xlim((min(xticks),max(xticks)))\n",
    "    return\n",
    "    \n",
    "f,ax = plt.subplots(1,3,figsize=(20,5))\n",
    "c_ = sns.color_palette(\"cubehelix\")\n",
    "for i in range(len(theta_)):\n",
    "    histrois(ax.flatten()[i],theta_[i],label_[i],c_[i],xticks_[i])\n",
    "        \n",
    "plt.subplots_adjust(wspace=0.5)\n",
    "plt.savefig('../postfit_derivatives/fig_regionaverages.png')"
   ]
  },
  {
   "cell_type": "code",
   "execution_count": null,
   "metadata": {},
   "outputs": [],
   "source": []
  }
 ],
 "metadata": {
  "kernelspec": {
   "display_name": "Python 3",
   "language": "python",
   "name": "python3"
  },
  "language_info": {
   "codemirror_mode": {
    "name": "ipython",
    "version": 3
   },
   "file_extension": ".py",
   "mimetype": "text/x-python",
   "name": "python",
   "nbconvert_exporter": "python",
   "pygments_lexer": "ipython3",
   "version": "3.7.4"
  }
 },
 "nbformat": 4,
 "nbformat_minor": 2
}
