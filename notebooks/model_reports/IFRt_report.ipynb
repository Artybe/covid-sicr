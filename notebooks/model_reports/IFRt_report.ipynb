{
 "cells": [
  {
   "cell_type": "code",
   "execution_count": 1,
   "metadata": {},
   "outputs": [],
   "source": [
    "%matplotlib inline\n",
    "import pandas as pd\n",
    "import matplotlib.pyplot as plt\n",
    "import matplotlib\n",
    "import numpy as np\n",
    "import seaborn as sns\n",
    "import string\n",
    "#https://stackoverflow.com/questions/19726663/how-to-save-the-pandas-dataframe-series-data-as-a-figure\n",
    "import six"
   ]
  },
  {
   "cell_type": "code",
   "execution_count": 2,
   "metadata": {},
   "outputs": [],
   "source": [
    "tbpath = \"../../fits/\"\n",
    "productpath = \"../../postfit_derivatives/\""
   ]
  },
  {
   "cell_type": "code",
   "execution_count": 3,
   "metadata": {},
   "outputs": [],
   "source": [
    "models = [\"fulllinearmodel_fit_table.csv\",\"reducedlinearmodelNegBinom_fit_table.csv\",\n",
    "          \"reducedlinearmodelq0_fit_table.csv\",\"reducedlinearmodelq0ctime_fit_table.csv\",\n",
    "         \"nonlinearmodelq0ctime_fit_table.csv\",\"nonlinearmodel_fit_table.csv\"]"
   ]
  },
  {
   "cell_type": "code",
   "execution_count": 4,
   "metadata": {},
   "outputs": [],
   "source": [
    "rois = []\n",
    "for model in models:\n",
    "    df = pd.read_csv(tbpath + model) #get rois in all tables (some may have failed)\n",
    "    rois += list(df.roi.unique())\n",
    "    \n",
    "rois = list(set(rois))"
   ]
  },
  {
   "cell_type": "code",
   "execution_count": 5,
   "metadata": {},
   "outputs": [
    {
     "name": "stdout",
     "output_type": "stream",
     "text": [
      "Gambia\n"
     ]
    }
   ],
   "source": [
    "dfreport = pd.DataFrame(columns=['Region', 'Model','median IFR0','CI lower','CI upper','median IFRc','CI lower','CI upper','delta weeks'])\n",
    "k = -1\n",
    "for roi in rois:\n",
    "    k += 1\n",
    "    model = \"fulllinearmodel_fit_table.csv\" \n",
    "    df = pd.read_csv(tbpath + model)\n",
    "    theta = \"ifr (week 0)\"\n",
    "    try:\n",
    "        measure1 = df.loc[(df.roi==roi)&(df['quantile']==0.5),theta].values[0]\n",
    "        measure2 = df.loc[(df.roi==roi)&(df['quantile']==0.025),theta].values[0]\n",
    "        measure3 = df.loc[(df.roi==roi)&(df['quantile']==0.975),theta].values[0]\n",
    "        x = [roi,model.split('_fit_table.csv')[0],np.round(measure1,4),np.round(measure2,4),np.round(measure3,4)]\n",
    "        #find latest week with data\n",
    "    #     maxweek = 11\n",
    "        for i in np.arange(11,0,-1):\n",
    "            theta = 'ifr (week '+str(i)+')'\n",
    "            x2 = df.loc[(df.roi==roi)&(df['quantile']==0.5),theta].values[0]\n",
    "            if np.isfinite(x2):\n",
    "    #             print(x2)\n",
    "                measure1 = df.loc[(df.roi==roi)&(df['quantile']==0.5),theta].values[0]\n",
    "                measure2 = df.loc[(df.roi==roi)&(df['quantile']==0.025),theta].values[0]\n",
    "                measure3 = df.loc[(df.roi==roi)&(df['quantile']==0.975),theta].values[0]\n",
    "                x += [np.round(measure1,4),np.round(measure2,4),np.round(measure3,4),i]\n",
    "                break\n",
    "    except:\n",
    "        print(roi)\n",
    "    try:\n",
    "        dfreport.loc[k] = x\n",
    "    except:\n",
    "        print(roi)"
   ]
  },
  {
   "cell_type": "code",
   "execution_count": 7,
   "metadata": {},
   "outputs": [
    {
     "name": "stdout",
     "output_type": "stream",
     "text": [
      "0.0049\n",
      "0.025    0.00132\n",
      "0.500    0.00490\n",
      "0.975    0.03832\n",
      "Name: median IFR0, dtype: float64\n",
      "0.0228\n",
      "0.025    0.00190\n",
      "0.500    0.02280\n",
      "0.975    0.13738\n",
      "Name: median IFRc, dtype: float64\n"
     ]
    },
    {
     "data": {
      "image/png": "[encoded data removed]",
      "text/plain": [
       "<Figure size 1080x360 with 1 Axes>"
      ]
     },
     "metadata": {
      "needs_background": "light"
     },
     "output_type": "display_data"
    }
   ],
   "source": [
    "font = {'family' : 'sans-serif',\n",
    "        'weight' : 'normal',\n",
    "        'size'   : 18}\n",
    "\n",
    "matplotlib.rc('font', **font)\n",
    "\n",
    "def simpleaxis(ax):\n",
    "    ax.spines['top'].set_visible(False)\n",
    "    ax.spines['bottom'].set_visible(False)\n",
    "    ax.spines['right'].set_visible(False)\n",
    "    ax.spines['left'].set_visible(False)\n",
    "\n",
    "c_ = sns.color_palette('Reds')\n",
    "f,ax = plt.subplots(1,1,figsize=(15,5))\n",
    "\n",
    "#IFR0\n",
    "sns.distplot(dfreport['median IFR0'],color = c_[5],ax=ax, kde=False, norm_hist=True, label='region-wide week 0')\n",
    "mu = np.median(dfreport['median IFR0'].values)\n",
    "ax.axvline(mu, color='r',label='median week 0')\n",
    "print(mu)\n",
    "print(dfreport['median IFR0'].quantile(q=[0.025,0.5,0.975]))\n",
    "\n",
    "#IFRt\n",
    "sns.distplot(dfreport['median IFRc'],color = c_[2],ax=ax, kde=False, norm_hist=True, label='region-wide April 15th, 2020')\n",
    "mu = np.median(dfreport['median IFRc'].values)\n",
    "ax.axvline(mu, color='r',alpha=0.5,label='median April 15th, 2020')\n",
    "print(mu)\n",
    "print(dfreport['median IFRc'].quantile(q=[0.025,0.5,0.975]))\n",
    "\n",
    "\n",
    "ax.set_xlim((0.001,0.2))\n",
    "plt.legend()\n",
    "\n",
    "ax.get_yaxis().set_visible(False)\n",
    "ax.set_xlabel('')\n",
    "plt.subplots_adjust(hspace=0.8,bottom=0.2)\n",
    "\n",
    "x = np.array(list(np.arange(0.01,0.2,0.02)))\n",
    "ax.set_xticks(x)\n",
    "ax.set_xlabel(r'IFR$_{t}$')\n",
    "simpleaxis(plt.gca())\n",
    "plt.savefig(productpath + 'ifrpastpresent.png')"
   ]
  },
  {
   "cell_type": "code",
   "execution_count": null,
   "metadata": {},
   "outputs": [],
   "source": []
  }
 ],
 "metadata": {
  "kernelspec": {
   "display_name": "Python 3",
   "language": "python",
   "name": "python3"
  },
  "language_info": {
   "codemirror_mode": {
    "name": "ipython",
    "version": 3
   },
   "file_extension": ".py",
   "mimetype": "text/x-python",
   "name": "python",
   "nbconvert_exporter": "python",
   "pygments_lexer": "ipython3",
   "version": "3.7.4"
  }
 },
 "nbformat": 4,
 "nbformat_minor": 2
}
