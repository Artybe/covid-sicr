{
 "cells": [
  {
   "cell_type": "code",
   "execution_count": 1,
   "metadata": {},
   "outputs": [],
   "source": [
    "%matplotlib inline\n",
    "import pandas as pd\n",
    "import matplotlib.pyplot as plt\n",
    "import numpy as np\n",
    "import seaborn as sns\n",
    "import string\n",
    "#https://stackoverflow.com/questions/19726663/how-to-save-the-pandas-dataframe-series-data-as-a-figure\n",
    "import six\n",
    "\n"
   ]
  },
  {
   "cell_type": "code",
   "execution_count": 2,
   "metadata": {},
   "outputs": [],
   "source": [
    "tbpath = '../../results/tables/'\n",
    "productpath = '../../results/'"
   ]
  },
  {
   "cell_type": "code",
   "execution_count": 3,
   "metadata": {},
   "outputs": [],
   "source": [
    "df = pd.read_csv(tbpath + 'fit_table_reweighted_q_f.csv') #get rois in all tables (some may have failed)\n",
    "rois = df.roi.unique()"
   ]
  },
  {
   "cell_type": "code",
   "execution_count": 4,
   "metadata": {},
   "outputs": [],
   "source": [
    "#plot side by side \n",
    "\n",
    "def simpleaxis(ax):\n",
    "    ax.spines['top'].set_visible(False)\n",
    "    ax.spines['bottom'].set_visible(False)\n",
    "    ax.spines['right'].set_visible(False)\n",
    "    ax.spines['left'].set_visible(False)\n",
    "             \n",
    "roi_us = np.sort([i for i in rois if i[:2]=='US'])#[::-1]\n",
    "roi_other = np.sort([i for i in rois if i[:2]!='US'])#[::-1]\n",
    "# roi_other = np.sort(list(pd.read_csv(productpath + \"top25.csv\").values[:,0])+['China'])\n",
    "rois = list(roi_us) + list(roi_other)\n",
    "rois.remove('US')\n",
    "rois.remove('Gambia')\n",
    "rois.remove('AA_Global')"
   ]
  },
  {
   "cell_type": "code",
   "execution_count": 5,
   "metadata": {},
   "outputs": [],
   "source": [
    "theta_ = [\"q\",\"extra_std\"]\n",
    "round_ =[1,2,4,1,2,4]\n",
    "label_ = {}\n",
    "label_[\"R0\"] = \"R0\"\n",
    "label_[\"car (week 0)\"] = \"CAR (week 0)\"\n",
    "label_[\"ifr (week 0)\"] = \"IFR (week 0)\"\n",
    "label_[\"Rlast\"] = \"R current\"\n",
    "label_[\"extra_std\"] = \"Extra Variability\"\n",
    "\n",
    "def afun1(x):\n",
    "    return '%s' % float('%.1g' %x)\n",
    "\n",
    "def afun2(x):\n",
    "    return '%s' % float('%.2g' %x)\n",
    "\n",
    "dfreport = pd.DataFrame(columns=\n",
    "                        ['Region']+\n",
    "                        [\"q (CI)\"]+\n",
    "                        [\"ci1\"]+\n",
    "                        [\"f(CI)\"]+\n",
    "                        [\"ci2\"]\n",
    "                        )\n",
    "\n",
    "\n",
    "\n",
    "k = -1\n",
    "for roi in rois:\n",
    "    k += 1\n",
    "    x = [roi]\n",
    "    for i in range(len(theta_)):\n",
    "        theta = theta_[i]\n",
    "#         print(roi)\n",
    "#         print(theta)\n",
    "        mu = df.loc[(df.roi==roi)&(df['quantile']=='0.5'),theta].values[0]\n",
    "        lb = df.loc[(df.roi==roi)&(df['quantile']=='0.025'),theta].values[0]\n",
    "        ub = df.loc[(df.roi==roi)&(df['quantile']=='0.975'),theta].values[0]\n",
    "        x += [afun1(mu)]+[\"(\"+afun1(lb)+\", \"+afun1(ub)+\")\"]\n",
    "    try:\n",
    "        dfreport.loc[k] = x\n",
    "    except:\n",
    "        pass\n",
    "dfreport.to_csv(productpath + \"theta_q_f_summary.csv\",sep='\\t',index=False)\n"
   ]
  },
  {
   "cell_type": "code",
   "execution_count": null,
   "metadata": {},
   "outputs": [],
   "source": []
  }
 ],
 "metadata": {
  "kernelspec": {
   "display_name": "Python 3",
   "language": "python",
   "name": "python3"
  },
  "language_info": {
   "codemirror_mode": {
    "name": "ipython",
    "version": 3
   },
   "file_extension": ".py",
   "mimetype": "text/x-python",
   "name": "python",
   "nbconvert_exporter": "python",
   "pygments_lexer": "ipython3",
   "version": "3.7.4"
  }
 },
 "nbformat": 4,
 "nbformat_minor": 2
}
