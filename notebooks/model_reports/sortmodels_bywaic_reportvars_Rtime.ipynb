{
 "cells": [
  {
   "cell_type": "code",
   "execution_count": 1,
   "metadata": {},
   "outputs": [],
   "source": [
    "%matplotlib inline\n",
    "import pandas as pd\n",
    "import matplotlib.pyplot as plt\n",
    "import matplotlib\n",
    "import numpy as np\n",
    "import seaborn as sns\n",
    "import string\n",
    "#https://stackoverflow.com/questions/19726663/how-to-save-the-pandas-dataframe-series-data-as-a-figure\n",
    "import six\n",
    "\n"
   ]
  },
  {
   "cell_type": "code",
   "execution_count": 2,
   "metadata": {},
   "outputs": [],
   "source": [
    "datapath = \"/Users/aavattikutis/Documents/epidemicmodel/cccruns/fits/fit2/tables/\"\n",
    "models = [\"fulllinearmodel_fit_table.csv\",\"reducedlinearmodelNegBinom_fit_table.csv\",\n",
    "          \"reducedlinearmodelq0_fit_table.csv\",\"reducedlinearmodelq0ctime_fit_table.csv\",\n",
    "         \"nonlinearmodelq0ctime_fit_table.csv\",\"nonlinearmodel_fit_table_fit3.csv\"]\n",
    "model_hash = {}\n",
    "k = -1\n",
    "for model in models:\n",
    "    k += 1\n",
    "    model_hash[model] = string.ascii_uppercase[k]\n",
    "\n",
    "df = pd.DataFrame.from_dict(model_hash, orient='index')\n",
    "df.to_csv('../postfit_derivatives/model_hash.csv', header=False)"
   ]
  },
  {
   "cell_type": "code",
   "execution_count": 3,
   "metadata": {},
   "outputs": [],
   "source": [
    "rois = []\n",
    "for model in models:\n",
    "    df = pd.read_csv(datapath + model) #get rois in all tables (some may have failed)\n",
    "    rois += list(df.roi.unique())\n",
    "\n",
    "    \n",
    "rois = list(set(rois))\n",
    "\n",
    "#get inferred\n",
    "theta = df.columns[2:] \n",
    "ntheta = len(theta)\n",
    "\n"
   ]
  },
  {
   "cell_type": "code",
   "execution_count": 4,
   "metadata": {},
   "outputs": [],
   "source": [
    "dfwaic_sorted = pd.read_csv(\"../postfit_derivatives/roimodel_waicsorted_topmodel_modelname.csv\")"
   ]
  },
  {
   "cell_type": "code",
   "execution_count": 5,
   "metadata": {},
   "outputs": [
    {
     "name": "stdout",
     "output_type": "stream",
     "text": [
      "          Region            Model  median R0  CI lower  CI upper  \\\n",
      "0          Benin  fulllinearmodel     3.9210    1.2309   14.2177   \n",
      "1    Philippines  fulllinearmodel     8.1191    2.3694   32.9272   \n",
      "2        Bahamas  fulllinearmodel     3.9298    1.2360   14.3376   \n",
      "3        Albania  fulllinearmodel     4.9566    1.8474   19.4881   \n",
      "4           Iraq  fulllinearmodel     2.6453    1.2720   10.3216   \n",
      "..           ...              ...        ...       ...       ...   \n",
      "165        US_RI  fulllinearmodel     4.4476    1.6745   12.7735   \n",
      "166       Gambia  fulllinearmodel     5.0432    1.3243   18.8032   \n",
      "167      Morocco  fulllinearmodel     6.8236    2.4982   19.2799   \n",
      "168         Peru  fulllinearmodel     4.4531    1.6784   15.7611   \n",
      "169      Belarus  fulllinearmodel     2.8127    1.3458   11.3203   \n",
      "\n",
      "     median R current  CI lower  CI upper  Mean WAIC  \n",
      "0              2.6778    0.4147   10.9925     130.58  \n",
      "1              4.6509    1.9379   11.2546     870.97  \n",
      "2              2.3218    0.2910   10.0093     189.89  \n",
      "3              3.2932    1.4455    8.9203     547.17  \n",
      "4              2.1014    1.2306    4.2060     872.37  \n",
      "..                ...       ...       ...        ...  \n",
      "165            2.7091    1.4070    5.5653     645.83  \n",
      "166            4.9567    1.3015   18.4679      16.53  \n",
      "167            6.1590    2.2788   15.8027     635.20  \n",
      "168            3.2678    1.5298    7.4988     924.10  \n",
      "169            2.5412    1.2783    5.2979     609.55  \n",
      "\n",
      "[170 rows x 9 columns]\n"
     ]
    }
   ],
   "source": [
    "theta_ = [\"R0\",\"Rlast\"]\n",
    "label_ = {}\n",
    "label_[\"R0\"] = \"R0\"\n",
    "label_[\"Rlast\"] = \"R current\"\n",
    "\n",
    "dfreport = pd.DataFrame(columns=['Region', 'Model','median '+label_[theta_[0]],'CI lower','CI upper','median '+label_[theta_[1]],'CI lower','CI upper','Mean WAIC'])\n",
    "k = -1\n",
    "for roi in rois:\n",
    "#     try:\n",
    "    k += 1\n",
    "    model = \"fulllinearmodel_fit_table.csv\" #dfwaic_sorted.loc[dfwaic_sorted.roi==roi,'model'].values[0]\n",
    "    df = pd.read_csv(datapath + model)\n",
    "    theta = theta_[0]\n",
    "    measure1 = df.loc[(df.roi==roi)&(df['quantile']==0.5),theta].values[0]\n",
    "    measure2 = df.loc[(df.roi==roi)&(df['quantile']==0.025),theta].values[0]\n",
    "    measure3 = df.loc[(df.roi==roi)&(df['quantile']==0.975),theta].values[0]\n",
    "    waic = dfwaic_sorted.loc[dfwaic_sorted.roi==roi,'waic'].values[0]\n",
    "    x = [roi,model.split('_fit_table.csv')[0],np.round(measure1,4),np.round(measure2,4),np.round(measure3,4)]\n",
    "    theta = theta_[1]\n",
    "    measure1 = df.loc[(df.roi==roi)&(df['quantile']==0.5),theta].values[0]\n",
    "    measure2 = df.loc[(df.roi==roi)&(df['quantile']==0.025),theta].values[0]\n",
    "    measure3 = df.loc[(df.roi==roi)&(df['quantile']==0.975),theta].values[0]\n",
    "    waic = dfwaic_sorted.loc[dfwaic_sorted.roi==roi,'waic'].values[0]\n",
    "    x += [np.round(measure1,4),np.round(measure2,4),np.round(measure3,4),np.round(waic,2)]\n",
    "    dfreport.loc[k] = x\n",
    "#     except:\n",
    "#         print(model)\n",
    "#         print(df.columns)\n",
    "\n",
    "\n",
    "print(dfreport)\n",
    "\n"
   ]
  },
  {
   "cell_type": "code",
   "execution_count": 6,
   "metadata": {},
   "outputs": [
    {
     "name": "stdout",
     "output_type": "stream",
     "text": [
      "4.5487\n",
      "2.7291499999999997\n"
     ]
    },
    {
     "data": {
      "image/png": "[encoded data removed]",
      "text/plain": [
       "<Figure size 1080x360 with 1 Axes>"
      ]
     },
     "metadata": {
      "needs_background": "light"
     },
     "output_type": "display_data"
    }
   ],
   "source": [
    "font = {'family' : 'sans-serif',\n",
    "        'weight' : 'normal',\n",
    "        'size'   : 18}\n",
    "\n",
    "matplotlib.rc('font', **font)\n",
    "\n",
    "\n",
    "def simpleaxis(ax):\n",
    "    ax.spines['top'].set_visible(False)\n",
    "    ax.spines['bottom'].set_visible(False)\n",
    "    ax.spines['right'].set_visible(False)\n",
    "    ax.spines['left'].set_visible(False)\n",
    "\n",
    "#flatui = [\"#9b59b6\", \"#3498db\", \"#95a5a6\", \"#e74c3c\", \"#34495e\", \"#2ecc71\"]\n",
    "c_ = sns.color_palette('Blues')\n",
    "f,ax = plt.subplots(1,1,figsize=(15,5))\n",
    "sns.distplot(dfreport['median R0'],color=c_[5],ax=ax, kde=False, norm_hist=True, label='region-wide week 0')\n",
    "mu = np.median(dfreport['median R0'].values)\n",
    "print(mu)\n",
    "ax.axvline(mu,color='b',label='region-wide week 0 median')\n",
    "sns.distplot(dfreport['median R current'],color=c_[1],ax=ax, kde=False, norm_hist=True,label='region-wide recent')\n",
    "mu = np.median(dfreport['median R current'].values)\n",
    "print(mu)\n",
    "ax.axvline(mu,color='b',alpha=0.5,label='region-wide recent median')\n",
    "# ax.set_xlim((0,1))\n",
    "plt.legend()\n",
    "simpleaxis(ax)\n",
    "# ax.set_title(label,fontsize=fs)\n",
    "# ax.axvline(mu)\n",
    "# ax.text(mu,20,str(np.round(mu,3)))\n",
    "ax.get_yaxis().set_visible(False)\n",
    "ax.set_xlabel('')\n",
    "plt.subplots_adjust(hspace=0.5,bottom=0.1)\n",
    "ax.set_xlabel('R(t)')\n",
    "plt.subplots_adjust(hspace=0.5,bottom=0.2)\n",
    "\n",
    "plt.savefig('../postfit_derivatives/Rpastpresent.png')"
   ]
  },
  {
   "cell_type": "code",
   "execution_count": null,
   "metadata": {},
   "outputs": [],
   "source": []
  }
 ],
 "metadata": {
  "kernelspec": {
   "display_name": "Python 3",
   "language": "python",
   "name": "python3"
  },
  "language_info": {
   "codemirror_mode": {
    "name": "ipython",
    "version": 3
   },
   "file_extension": ".py",
   "mimetype": "text/x-python",
   "name": "python",
   "nbconvert_exporter": "python",
   "pygments_lexer": "ipython3",
   "version": "3.7.4"
  }
 },
 "nbformat": 4,
 "nbformat_minor": 2
}
