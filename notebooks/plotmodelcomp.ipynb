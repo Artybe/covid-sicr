{
 "cells": [
  {
   "cell_type": "code",
   "execution_count": 1,
   "metadata": {},
   "outputs": [],
   "source": [
    "%matplotlib inline\n",
    "import pandas as pd\n",
    "import matplotlib.pyplot as plt\n",
    "import numpy as np\n",
    "plt.ion()\n",
    "import seaborn as sns"
   ]
  },
  {
   "cell_type": "code",
   "execution_count": 2,
   "metadata": {},
   "outputs": [],
   "source": [
    "datapath1 = \"/Users/aavattikutis/Documents/epidemicmodel/cccruns/fits/run1/\"\n",
    "datapath2 = \"/Users/aavattikutis/Documents/epidemicmodel/cccruns/fits/run2/\"\n",
    "models = [\"fulllinearmodel_fit_table.csv\",\"reducedlinearmodelNegBinom_fit_table.csv\",\n",
    "          \"reducedlinearmodelq0_fit_table.csv\",\"reducedlinearmodelq0ctime_fit_table.csv\"]\n"
   ]
  },
  {
   "cell_type": "code",
   "execution_count": 3,
   "metadata": {},
   "outputs": [],
   "source": [
    "df = pd.read_csv(datapath2 + models[0]) #just to get parameters\n",
    "\n",
    "#get roi\n",
    "rois = df.roi.unique()\n",
    "#get inferred\n",
    "theta = df.columns[2:] \n",
    "ntheta = len(theta)\n",
    "\n"
   ]
  },
  {
   "cell_type": "code",
   "execution_count": 19,
   "metadata": {},
   "outputs": [
    {
     "name": "stdout",
     "output_type": "stream",
     "text": [
      "0\n"
     ]
    },
    {
     "ename": "TypeError",
     "evalue": "distplot() got an unexpected keyword argument 'alpha'",
     "output_type": "error",
     "traceback": [
      "\u001b[0;31m---------------------------------------------------------------------------\u001b[0m",
      "\u001b[0;31mTypeError\u001b[0m                                 Traceback (most recent call last)",
      "\u001b[0;32m<ipython-input-19-613fd03fe7b8>\u001b[0m in \u001b[0;36m<module>\u001b[0;34m\u001b[0m\n\u001b[1;32m     44\u001b[0m \u001b[0;34m\u001b[0m\u001b[0m\n\u001b[1;32m     45\u001b[0m     \u001b[0mplt\u001b[0m\u001b[0;34m.\u001b[0m\u001b[0msubplot\u001b[0m\u001b[0;34m(\u001b[0m\u001b[0;36m1\u001b[0m\u001b[0;34m,\u001b[0m\u001b[0;36m3\u001b[0m\u001b[0;34m,\u001b[0m\u001b[0;36m1\u001b[0m\u001b[0;34m)\u001b[0m\u001b[0;34m\u001b[0m\u001b[0;34m\u001b[0m\u001b[0m\n\u001b[0;32m---> 46\u001b[0;31m     \u001b[0msns\u001b[0m\u001b[0;34m.\u001b[0m\u001b[0mdistplot\u001b[0m\u001b[0;34m(\u001b[0m\u001b[0mll_\u001b[0m\u001b[0;34m,\u001b[0m\u001b[0mkde\u001b[0m\u001b[0;34m=\u001b[0m\u001b[0;32mFalse\u001b[0m\u001b[0;34m,\u001b[0m\u001b[0mcolor\u001b[0m\u001b[0;34m=\u001b[0m\u001b[0mc_\u001b[0m\u001b[0;34m[\u001b[0m\u001b[0mk\u001b[0m\u001b[0;34m]\u001b[0m\u001b[0;34m,\u001b[0m\u001b[0malpha\u001b[0m\u001b[0;34m=\u001b[0m\u001b[0;36m0.5\u001b[0m\u001b[0;34m)\u001b[0m\u001b[0;34m\u001b[0m\u001b[0;34m\u001b[0m\u001b[0m\n\u001b[0m\u001b[1;32m     47\u001b[0m     \u001b[0mplt\u001b[0m\u001b[0;34m.\u001b[0m\u001b[0mtitle\u001b[0m\u001b[0;34m(\u001b[0m\u001b[0;34m'll_'\u001b[0m\u001b[0;34m)\u001b[0m\u001b[0;34m\u001b[0m\u001b[0;34m\u001b[0m\u001b[0m\n\u001b[1;32m     48\u001b[0m     \u001b[0mplt\u001b[0m\u001b[0;34m.\u001b[0m\u001b[0msubplot\u001b[0m\u001b[0;34m(\u001b[0m\u001b[0;36m1\u001b[0m\u001b[0;34m,\u001b[0m\u001b[0;36m3\u001b[0m\u001b[0;34m,\u001b[0m\u001b[0;36m2\u001b[0m\u001b[0;34m)\u001b[0m\u001b[0;34m\u001b[0m\u001b[0;34m\u001b[0m\u001b[0m\n",
      "\u001b[0;31mTypeError\u001b[0m: distplot() got an unexpected keyword argument 'alpha'"
     ]
    },
    {
     "data": {
      "image/png": "[encoded data removed]",
      "text/plain": [
       "<Figure size 432x288 with 1 Axes>"
      ]
     },
     "metadata": {
      "needs_background": "light"
     },
     "output_type": "display_data"
    }
   ],
   "source": [
    "#plot side by side \n",
    "\n",
    "def simpleaxis(ax):\n",
    "    ax.spines['top'].set_visible(False)\n",
    "    ax.spines['bottom'].set_visible(False)\n",
    "    ax.spines['right'].set_visible(False)\n",
    "    ax.spines['left'].set_visible(False)\n",
    "             \n",
    "roi_us = np.sort([i for i in rois if i[:2]=='US'])[::-1]\n",
    "roi_other = np.sort([i for i in rois if i[:2]!='US'])[::-1]\n",
    "rois = list(roi_us) + list(roi_other)\n",
    "# print(rois)\n",
    "\n",
    "\n",
    "c_ = sns.color_palette(\"Set1\", n_colors=4, desat=.5)\n",
    "plt.figure(1)\n",
    "k = -1\n",
    "for model in models:\n",
    "    k += 1\n",
    "    print(k)\n",
    "    df = pd.read_csv(datapath2 + model) #just to get parameters\n",
    "    ll_ = []\n",
    "    waic_ = []\n",
    "    loo_ = []\n",
    "    for roi in rois:\n",
    "        try:\n",
    "            ll_ += [df.loc[(df.roi==roi)&(df['quantile']==0.5),'ll_'].values[0]]\n",
    "        except:\n",
    "            print('ll_')\n",
    "            print(model)\n",
    "            print(roi)\n",
    "        try:\n",
    "            waic_ += [df.loc[(df.roi==roi)&(df['quantile']==0.5),'waic'].values[0]]  \n",
    "        except:\n",
    "            print('waic_')\n",
    "            print(model)\n",
    "            print(roi)  \n",
    "        try:\n",
    "            loo_ += [df.loc[(df.roi==roi)&(df['quantile']==0.5),'loo'].values[0]]  \n",
    "        except:\n",
    "            print('loo_')\n",
    "            print(model)\n",
    "            print(roi) \n",
    "        \n",
    "    plt.subplot(1,3,1)             \n",
    "    sns.distplot(ll_,kde=False,color=c_[k])\n",
    "    plt.title('ll_')\n",
    "    plt.subplot(1,3,2)             \n",
    "    sns.distplot(waic_,kde=False,color=c_[k])\n",
    "    plt.title('waic')\n",
    "    plt.subplot(1,3,3)             \n",
    "    sns.distplot(loo_,kde=False,color=c_[k])  \n",
    "    plt.title('loo')\n",
    "           \n",
    "    \n",
    "    \n",
    "# fig, axes = plt.subplots(1,3, figsize=(15,5))\n",
    "# plt.subplot(1,3,1)\n",
    "\n",
    "# mu = round(np.median(R0_),3)\n",
    "# plt.axvline(mu,linestyle='dashed',color='k')\n",
    "# plt.text(mu+1,40,mu,rotation=0)\n",
    "# simpleaxis(plt.gca())\n",
    "# plt.title('R0')\n",
    "# plt.ylim((0,120))"
   ]
  },
  {
   "cell_type": "code",
   "execution_count": null,
   "metadata": {},
   "outputs": [],
   "source": []
  }
 ],
 "metadata": {
  "kernelspec": {
   "display_name": "Python 3",
   "language": "python",
   "name": "python3"
  },
  "language_info": {
   "codemirror_mode": {
    "name": "ipython",
    "version": 3
   },
   "file_extension": ".py",
   "mimetype": "text/x-python",
   "name": "python",
   "nbconvert_exporter": "python",
   "pygments_lexer": "ipython3",
   "version": "3.7.4"
  }
 },
 "nbformat": 4,
 "nbformat_minor": 2
}
