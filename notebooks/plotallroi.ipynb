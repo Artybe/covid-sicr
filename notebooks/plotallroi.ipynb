{
 "cells": [
  {
   "cell_type": "code",
   "execution_count": 1,
   "metadata": {},
   "outputs": [],
   "source": [
    "%matplotlib inline\n",
    "import pandas as pd\n",
    "import matplotlib.pyplot as plt\n",
    "import numpy as np\n",
    "plt.ion()"
   ]
  },
  {
   "cell_type": "code",
   "execution_count": 2,
   "metadata": {},
   "outputs": [],
   "source": [
    "datapath1 = \"/Users/aavattikutis/Documents/epidemicmodel/cccruns/fits/run1/\"\n",
    "datapath2 = \"/Users/aavattikutis/Documents/epidemicmodel/cccruns/fits/run2/\"\n",
    "models = [\"fulllinearmodel_fit_table.csv\",\"reducedlinearmodelNegBinom_fit_table.csv\",\n",
    "          \"reducedlinearmodelq0_fit_table.csv\",\"reducedlinearmodelq0ctime_fit_table.csv\"]\n",
    "\n",
    "model = models[0]\n",
    "df = pd.read_csv(datapath2 + model)\n"
   ]
  },
  {
   "cell_type": "code",
   "execution_count": 3,
   "metadata": {},
   "outputs": [],
   "source": [
    "#get roi\n",
    "rois = a.roi.unique()\n",
    "#get inferred\n",
    "theta = a.columns[2:] \n",
    "ntheta = len(theta)\n",
    "\n"
   ]
  },
  {
   "cell_type": "code",
   "execution_count": 7,
   "metadata": {},
   "outputs": [
    {
     "name": "stdout",
     "output_type": "stream",
     "text": [
      "['Afghanistan' 'Albania' 'Algeria' 'Andorra' 'Antigua and Barbuda'\n",
      " 'Argentina' 'Armenia' 'Austria' 'Azerbaijan' 'Bahamas' 'Bahrain'\n",
      " 'Bangladesh' 'Barbados' 'Belarus' 'Belgium' 'Benin' 'Bolivia'\n",
      " 'Bosnia and Herzegovina' 'Brazil' 'Brunei' 'Bulgaria' 'Burkina Faso'\n",
      " 'Burma' 'Cabo Verde' 'Cameroon' 'Chile' 'China' 'Colombia'\n",
      " 'Congo (Brazzaville)' 'Congo (Kinshasa)' 'Costa Rica' 'Croatia' 'Cuba'\n",
      " 'Cyprus' 'Czechia' 'Denmark' 'Diamond Princess' 'Djibouti'\n",
      " 'Dominican Republic' 'Ecuador' 'Egypt' 'El Salvador' 'Estonia' 'Ethiopia'\n",
      " 'Finland' 'France' 'Gabon' 'Gambia' 'Georgia' 'Germany' 'Ghana' 'Greece'\n",
      " 'Guatemala' 'Guinea' 'Guyana' 'Haiti' 'Honduras' 'Hungary' 'Iceland'\n",
      " 'India' 'Indonesia' 'Iran' 'Iraq' 'Ireland' 'Israel' 'Italy' 'Jamaica'\n",
      " 'Japan' 'Jordan' 'Kazakhstan' 'Kenya' 'Korea, South' 'Kosovo' 'Kuwait'\n",
      " 'Kyrgyzstan' 'Latvia' 'Lebanon' 'Liberia' 'Libya' 'Liechtenstein'\n",
      " 'Lithuania' 'Luxembourg' 'Malaysia' 'Mali' 'Malta' 'Mauritius' 'Mexico'\n",
      " 'Moldova' 'Monaco' 'Montenegro' 'Morocco' 'Netherlands' 'New Zealand'\n",
      " 'Niger' 'Nigeria' 'North Macedonia' 'Norway' 'Oman' 'Pakistan' 'Panama'\n",
      " 'Paraguay' 'Peru' 'Philippines' 'Poland' 'Portugal' 'Qatar' 'Romania'\n",
      " 'Russia' 'San Marino' 'Saudi Arabia' 'Senegal' 'Serbia' 'Singapore'\n",
      " 'Slovakia' 'Slovenia' 'Somalia' 'South Africa' 'Spain' 'Sri Lanka'\n",
      " 'Sudan' 'Sweden' 'Switzerland' 'Syria' 'Taiwan*' 'Tanzania' 'Thailand'\n",
      " 'Togo' 'Trinidad and Tobago' 'Tunisia' 'Turkey' 'Ukraine'\n",
      " 'United Arab Emirates' 'United Kingdom' 'Uruguay' 'Uzbekistan'\n",
      " 'Venezuela' 'West Bank and Gaza' 'Zambia' 'Zimbabwe']\n"
     ]
    }
   ],
   "source": [
    "#plot side by side \n",
    "\n",
    "def simpleaxis(ax):\n",
    "    ax.spines['top'].set_visible(False)\n",
    "    ax.spines['bottom'].set_visible(False)\n",
    "    ax.spines['right'].set_visible(False)\n",
    "    ax.spines['left'].set_visible(False)\n",
    "    \n",
    "import math\n",
    "def plot_table_data(df,roi_subset):\n",
    "    fig, axes = plt.subplots(math.ceil(ntheta/3), 3, figsize=(20, 150))\n",
    "    for i, ax in enumerate(axes.flat):\n",
    "        try:\n",
    "            col = theta[i]\n",
    "            for j, roi in enumerate(roi_subset):\n",
    "                boxes = [\n",
    "                    {\n",
    "                    'x': i,\n",
    "                    'label' : roi,\n",
    "                    'whislo': df.loc[(df.roi==roi)&(df['quantile']==0.025), col].values[0],    # Bottom whisker position\n",
    "                    'q1'    : df.loc[(df.roi==roi)&(df['quantile']==0.25), col].values[0],    # First quartile (25th percentile)\n",
    "                    'med'   : df.loc[(df.roi==roi)&(df['quantile']==0.5), col].values[0],    # Median         (50th percentile)\n",
    "                    'q3'    : df.loc[(df.roi==roi)&(df['quantile']==0.75), col].values[0],     # Third quartile (75th percentile)\n",
    "                    'whishi': df.loc[(df.roi==roi)&(df['quantile']==0.975), col].values[0],    # Top whisker position\n",
    "                    'fliers': []        # Outliers\n",
    "                    }\n",
    "                ]\n",
    "                \n",
    "            ax.bxp(boxes, positions=[j], showfliers=False, vert=False, patch_artist=True,\n",
    "                       boxprops=dict(facecolor='none',edgecolor='gray'))\n",
    "            ax.set_title(theta[i])\n",
    "            simpleaxis(ax)\n",
    "        except:\n",
    "            simpleaxis(ax)\n",
    "            ax.xaxis.set_visible(False)\n",
    "            ax.yaxis.set_visible(False)\n",
    "            \n",
    "roi_us = [i for i in rois if i[:2]=='US']\n",
    "roi_other = [i for i in rois if i[:2]!='US']\n",
    "rois = roi_us + roi_other\n",
    "\n",
    "plot_table_data(df, rois)\n",
    "plt.subplots_adjust(hspace=0.2,wspace=1)\n",
    "plt.suptitle(model.split('.csv')[0])\n",
    "plt.savefig(model.split('.csv')[0]+'_allroi.png')\n"
   ]
  },
  {
   "cell_type": "code",
   "execution_count": null,
   "metadata": {},
   "outputs": [],
   "source": []
  }
 ],
 "metadata": {
  "kernelspec": {
   "display_name": "Python 3",
   "language": "python",
   "name": "python3"
  },
  "language_info": {
   "codemirror_mode": {
    "name": "ipython",
    "version": 3
   },
   "file_extension": ".py",
   "mimetype": "text/x-python",
   "name": "python",
   "nbconvert_exporter": "python",
   "pygments_lexer": "ipython3",
   "version": "3.7.4"
  }
 },
 "nbformat": 4,
 "nbformat_minor": 2
}
