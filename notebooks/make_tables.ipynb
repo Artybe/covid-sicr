{
 "cells": [
  {
   "cell_type": "code",
   "execution_count": 1,
   "metadata": {},
   "outputs": [],
   "source": [
    "import os"
   ]
  },
  {
   "cell_type": "markdown",
   "metadata": {},
   "source": [
    "### make tables for all models"
   ]
  },
  {
   "cell_type": "code",
   "execution_count": 2,
   "metadata": {},
   "outputs": [],
   "source": [
    "linear_models = ['SICRLM','SICRLM2R','SICRLMQ','SICRLMQC','SICRLMQC2R']\n",
    "nonlinear_models = ['SICR','SICR2R','SICRM','SICRM2R','SICRMQ','SICRMQC','SICRMQC2R']\n",
    "models = linear_models + nonlinear_models\n",
    "\n",
    "p = ['ll_', 'R0',  'Rt-by-week','car-by-week', 'ifr-by-week','q', 'extra_std',\n",
    "     'mbase', 'mlocation',\n",
    "     'beta', 'sigmac', 'sigmar', 'sigmad','sigmau']\n",
    "\n",
    "\n"
   ]
  },
  {
   "cell_type": "code",
   "execution_count": 3,
   "metadata": {},
   "outputs": [
    {
     "name": "stdout",
     "output_type": "stream",
     "text": [
      "python3 ../scripts/make-tables.py -tp ../results/fit9_tables_allmodels/ -fp /Users/aavattikutis/Documents/epidemicmodel/cccruns/fits/fit9/ -mp ../models/models_fit9/ -ms SICRLM SICRLM2R SICRLMQ SICRLMQC SICRLMQC2R SICR SICR2R SICRM SICRM2R SICRMQ SICRMQC SICRMQC2R -p ll_ R0 Rt-by-week car-by-week ifr-by-week q extra_std mbase mlocation beta sigmac sigmar sigmad sigmau\n"
     ]
    }
   ],
   "source": [
    "scpath = '../scripts/'\n",
    "fitpath = '/Users/aavattikutis/Documents/epidemicmodel/cccruns/fits/fit9/'\n",
    "modelpath = '../models/models_fit9/'\n",
    "tablepath = '../results/fit9_tables_allmodels/'\n",
    "\n",
    "q = 'python3 '+scpath+'make-tables.py '+'-tp '+tablepath+' -fp '+fitpath+' -mp '+modelpath+' -ms '+' '.join(models)+' -p '+' '.join(p)\n",
    "print(q)"
   ]
  },
  {
   "cell_type": "code",
   "execution_count": 4,
   "metadata": {},
   "outputs": [
    {
     "data": {
      "text/plain": [
       "0"
      ]
     },
     "execution_count": 4,
     "metadata": {},
     "output_type": "execute_result"
    }
   ],
   "source": [
    "os.system(q)"
   ]
  }
 ],
 "metadata": {
  "kernelspec": {
   "display_name": "Python 3.7.4 64-bit",
   "language": "python",
   "name": "python37464bit88472551656c4de0b45b4bb9cfa50a19"
  },
  "language_info": {
   "codemirror_mode": {
    "name": "ipython",
    "version": 3
   },
   "file_extension": ".py",
   "mimetype": "text/x-python",
   "name": "python",
   "nbconvert_exporter": "python",
   "pygments_lexer": "ipython3",
   "version": "3.7.4"
  }
 },
 "nbformat": 4,
 "nbformat_minor": 2
}
