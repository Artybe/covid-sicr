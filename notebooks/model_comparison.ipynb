{
 "cells": [
  {
   "cell_type": "code",
   "execution_count": 1,
   "metadata": {},
   "outputs": [],
   "source": [
    "import os, sys\n",
    "import pandas as pd\n",
    "from matplotlib.pyplot import *\n",
    "from numpy import *"
   ]
  },
  {
   "cell_type": "code",
   "execution_count": 2,
   "metadata": {},
   "outputs": [],
   "source": [
    "import matplotlib\n",
    "#\n",
    "font = {'family' : 'normal',\n",
    "        'weight' : 'normal',\n",
    "        'size'   : 14}\n",
    "\n",
    "matplotlib.rc('font', **font)\n",
    "\n",
    "def simpleaxis(ax):\n",
    "    ax.spines['top'].set_visible(False)\n",
    "    ax.spines['bottom'].set_visible(False)\n",
    "    ax.spines['right'].set_visible(False)\n",
    "    ax.spines['left'].set_visible(False)\n"
   ]
  },
  {
   "cell_type": "code",
   "execution_count": 3,
   "metadata": {},
   "outputs": [],
   "source": [
    "linear_models = ['SICRLM','SICRLM2R','SICRLMQC','SICRLMQC2R']\n",
    "nonlinear_models = ['SICRM','SICRM2R','SICRMQC','SICRMQC2R']\n",
    "models = linear_models + nonlinear_models"
   ]
  },
  {
   "cell_type": "code",
   "execution_count": 31,
   "metadata": {},
   "outputs": [
    {
     "name": "stdout",
     "output_type": "stream",
     "text": [
      "SICRLM\n",
      "SICRLM2R\n",
      "SICRLMQC\n",
      "SICRLMQC2R\n"
     ]
    },
    {
     "data": {
      "image/png": "[encoded data removed]",
      "text/plain": [
       "<Figure size 360x360 with 1 Axes>"
      ]
     },
     "metadata": {},
     "output_type": "display_data"
    }
   ],
   "source": [
    "tbpath = '../results/fit_tables_allmodels/'\n",
    "l_ = []\n",
    "nl_ = []\n",
    "df = pd.read_csv(tbpath+'fit_table_raw.csv')\n",
    "\n",
    "f = figure(figsize=(5,5))\n",
    "theta = 'waic'\n",
    "q = '0.5'\n",
    "for i in range(len(linear_models)):\n",
    "    print(linear_models[i])\n",
    "    df2 = df.loc[df.model==linear_models[i]]\n",
    "    y = df2[(df2['quantile']==q)&(df2[theta].notnull())][theta].values\n",
    "    v = violinplot(y,positions=[2*i],showextrema=False, vert=False)\n",
    "    for pc in v['bodies']:\n",
    "        pc.set_facecolor('red')\n",
    "        pc.set_edgecolor('black')\n",
    "        pc.set_alpha(1)\n",
    "        if i == 0:\n",
    "            pc.set_label('linear')\n",
    "    df2 = df.loc[df.model==nonlinear_models[i]]\n",
    "    y = df2[(df2['quantile']==q)&(df2[theta].notnull())][theta].values\n",
    "    v = violinplot(y,positions=[2*i+1],showextrema=False, vert=False)\n",
    "    for pc in v['bodies']:\n",
    "        pc.set_facecolor('blue')\n",
    "        pc.set_edgecolor('black')\n",
    "        pc.set_alpha(1)  \n",
    "        if i == 0:\n",
    "            pc.set_label('nonlinear')\n",
    "      \n",
    "xlim((-1e7,1e7))\n",
    "ylim((-2,10))\n",
    "yticks([0,2,4,6])\n",
    "gca().set_yticklabels(linear_models)\n",
    "axhline(1.5,color='k', ls ='--')\n",
    "axhline(3.5,color='k', ls ='--')\n",
    "axhline(5.5,color='k', ls ='--')\n",
    "axvline(0,color='k', ls ='--')\n",
    "legend(loc=2)\n",
    "simpleaxis(gca())\n",
    "xlabel(theta)\n",
    "title('quantile: '+str(q))\n",
    "\n",
    "subplots_adjust(left=0.3)\n",
    "savefig('model_comparison.png',dpi=200)\n"
   ]
  },
  {
   "cell_type": "code",
   "execution_count": null,
   "metadata": {},
   "outputs": [],
   "source": []
  }
 ],
 "metadata": {
  "kernelspec": {
   "display_name": "Python 3.7.4 64-bit",
   "language": "python",
   "name": "python37464bit88472551656c4de0b45b4bb9cfa50a19"
  },
  "language_info": {
   "codemirror_mode": {
    "name": "ipython",
    "version": 3
   },
   "file_extension": ".py",
   "mimetype": "text/x-python",
   "name": "python",
   "nbconvert_exporter": "python",
   "pygments_lexer": "ipython3",
   "version": "3.7.4"
  }
 },
 "nbformat": 4,
 "nbformat_minor": 2
}
