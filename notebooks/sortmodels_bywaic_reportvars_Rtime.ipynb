{
 "cells": [
  {
   "cell_type": "code",
   "execution_count": 1,
   "metadata": {},
   "outputs": [],
   "source": [
    "%matplotlib inline\n",
    "import pandas as pd\n",
    "import matplotlib.pyplot as plt\n",
    "import matplotlib\n",
    "import numpy as np\n",
    "import seaborn as sns\n",
    "import string\n",
    "#https://stackoverflow.com/questions/19726663/how-to-save-the-pandas-dataframe-series-data-as-a-figure\n",
    "import six\n",
    "\n"
   ]
  },
  {
   "cell_type": "code",
   "execution_count": 2,
   "metadata": {},
   "outputs": [],
   "source": [
    "datapath = \"/Users/aavattikutis/Documents/epidemicmodel/cccruns/fits/fit2/tables/\"\n",
    "models = [\"fulllinearmodel_fit_table.csv\",\"reducedlinearmodelNegBinom_fit_table.csv\",\n",
    "          \"reducedlinearmodelq0_fit_table.csv\",\"reducedlinearmodelq0ctime_fit_table.csv\",\n",
    "         \"nonlinearmodelq0ctime_fit_table.csv\",\"nonlinearmodel_fit_table.csv\"]\n",
    "model_hash = {}\n",
    "k = -1\n",
    "for model in models:\n",
    "    k += 1\n",
    "    model_hash[model] = string.ascii_uppercase[k]\n",
    "\n",
    "df = pd.DataFrame.from_dict(model_hash, orient='index')\n",
    "df.to_csv('../postfit_derivatives/model_hash.csv', header=False)"
   ]
  },
  {
   "cell_type": "code",
   "execution_count": 3,
   "metadata": {},
   "outputs": [],
   "source": [
    "rois = []\n",
    "for model in models:\n",
    "    df = pd.read_csv(datapath + model) #get rois in all tables (some may have failed)\n",
    "    rois += list(df.roi.unique())\n",
    "\n",
    "    \n",
    "rois = list(set(rois))\n",
    "\n",
    "#get inferred\n",
    "theta = df.columns[2:] \n",
    "ntheta = len(theta)\n",
    "\n"
   ]
  },
  {
   "cell_type": "code",
   "execution_count": 4,
   "metadata": {},
   "outputs": [],
   "source": [
    "dfwaic_sorted = pd.read_csv(\"../postfit_derivatives/roimodel_waicsorted_topmodel_modelname.csv\")"
   ]
  },
  {
   "cell_type": "code",
   "execution_count": 5,
   "metadata": {},
   "outputs": [
    {
     "name": "stdout",
     "output_type": "stream",
     "text": [
      "                     Region            Model  median R0  CI lower  CI upper  \\\n",
      "0                   Ireland  fulllinearmodel     5.8438    1.7975   22.5720   \n",
      "1               Philippines  fulllinearmodel     8.1191    2.3694   32.9272   \n",
      "2                    Kosovo  fulllinearmodel     2.8393    1.1794   12.4587   \n",
      "3                     US_VA  fulllinearmodel     4.4436    1.7559   10.8041   \n",
      "4                     US_DE  fulllinearmodel     3.9107    1.6520    9.4114   \n",
      "..                      ...              ...        ...       ...       ...   \n",
      "165                   China  fulllinearmodel     9.7208    4.2281   19.3681   \n",
      "166             El Salvador  fulllinearmodel     5.4095    1.5745   18.2774   \n",
      "167  Bosnia and Herzegovina  fulllinearmodel     3.7890    1.7375   10.4374   \n",
      "168                  Latvia  fulllinearmodel     5.4831    1.6639   18.8662   \n",
      "169                  Mexico  fulllinearmodel     3.0962    1.4260   10.3685   \n",
      "\n",
      "     median R current  CI lower  CI upper  Mean WAIC  \n",
      "0              3.1402    1.5385    6.8266     904.60  \n",
      "1              4.6509    1.9379   11.2546     870.97  \n",
      "2              2.3783    1.0706   10.0957     288.80  \n",
      "3              2.5585    0.9551    5.5637     754.02  \n",
      "4              2.0265    0.8200    4.5280     611.75  \n",
      "..                ...       ...       ...        ...  \n",
      "165            0.6203    0.1950    1.0108    3090.62  \n",
      "166            3.8930    1.4943   14.5503     266.17  \n",
      "167            3.4701    1.6470    7.4037     642.84  \n",
      "168            2.9306    1.2548    8.6960     472.00  \n",
      "169            2.8695    1.3697    6.1037     864.65  \n",
      "\n",
      "[170 rows x 9 columns]\n"
     ]
    }
   ],
   "source": [
    "theta_ = [\"R0\",\"Rlast\"]\n",
    "label_ = {}\n",
    "label_[\"R0\"] = \"R0\"\n",
    "label_[\"Rlast\"] = \"R current\"\n",
    "\n",
    "dfreport = pd.DataFrame(columns=['Region', 'Model','median '+label_[theta_[0]],'CI lower','CI upper','median '+label_[theta_[1]],'CI lower','CI upper','Mean WAIC'])\n",
    "k = -1\n",
    "for roi in rois:\n",
    "#     try:\n",
    "    k += 1\n",
    "    model = \"fulllinearmodel_fit_table.csv\" #dfwaic_sorted.loc[dfwaic_sorted.roi==roi,'model'].values[0]\n",
    "    df = pd.read_csv(datapath + model)\n",
    "    theta = theta_[0]\n",
    "    measure1 = df.loc[(df.roi==roi)&(df['quantile']==0.5),theta].values[0]\n",
    "    measure2 = df.loc[(df.roi==roi)&(df['quantile']==0.025),theta].values[0]\n",
    "    measure3 = df.loc[(df.roi==roi)&(df['quantile']==0.975),theta].values[0]\n",
    "    waic = dfwaic_sorted.loc[dfwaic_sorted.roi==roi,'waic'].values[0]\n",
    "    x = [roi,model.split('_fit_table.csv')[0],np.round(measure1,4),np.round(measure2,4),np.round(measure3,4)]\n",
    "    theta = theta_[1]\n",
    "    measure1 = df.loc[(df.roi==roi)&(df['quantile']==0.5),theta].values[0]\n",
    "    measure2 = df.loc[(df.roi==roi)&(df['quantile']==0.025),theta].values[0]\n",
    "    measure3 = df.loc[(df.roi==roi)&(df['quantile']==0.975),theta].values[0]\n",
    "    waic = dfwaic_sorted.loc[dfwaic_sorted.roi==roi,'waic'].values[0]\n",
    "    x += [np.round(measure1,4),np.round(measure2,4),np.round(measure3,4),np.round(waic,2)]\n",
    "    dfreport.loc[k] = x\n",
    "#     except:\n",
    "#         print(model)\n",
    "#         print(df.columns)\n",
    "\n",
    "\n",
    "print(dfreport)\n",
    "\n"
   ]
  },
  {
   "cell_type": "code",
   "execution_count": 6,
   "metadata": {},
   "outputs": [
    {
     "data": {
      "image/png": "[encoded data removed]",
      "text/plain": [
       "<Figure size 360x360 with 1 Axes>"
      ]
     },
     "metadata": {
      "needs_background": "light"
     },
     "output_type": "display_data"
    }
   ],
   "source": [
    "font = {'family' : 'sans-serif',\n",
    "        'weight' : 'normal',\n",
    "        'size'   : 18}\n",
    "\n",
    "matplotlib.rc('font', **font)\n",
    "\n",
    "\n",
    "def simpleaxis(ax):\n",
    "    ax.spines['top'].set_visible(False)\n",
    "    ax.spines['bottom'].set_visible(False)\n",
    "    ax.spines['right'].set_visible(False)\n",
    "    ax.spines['left'].set_visible(False)\n",
    "\n",
    "#flatui = [\"#9b59b6\", \"#3498db\", \"#95a5a6\", \"#e74c3c\", \"#34495e\", \"#2ecc71\"]\n",
    "c_ = sns.color_palette('Blues')\n",
    "f,ax = plt.subplots(1,1,figsize=(5,5))\n",
    "sns.distplot(dfreport['median R0'],color=c_[5],ax=ax, kde=False, norm_hist=True, label='median R0')\n",
    "sns.distplot(dfreport['median R current'],color=c_[1],ax=ax, kde=False, norm_hist=True,label='median R current')\n",
    "ax = plt.gca()\n",
    "# ax.set_xlim((0,1))\n",
    "plt.legend()\n",
    "simpleaxis(ax)\n",
    "# ax.set_title(label,fontsize=fs)\n",
    "# ax.axvline(mu)\n",
    "# ax.text(mu,20,str(np.round(mu,3)))\n",
    "ax.get_yaxis().set_visible(False)\n",
    "ax.set_xlabel('')\n",
    "plt.subplots_adjust(hspace=0.5,bottom=0.1)\n",
    "plt.savefig('../postfit_derivatives/Rpastpresent.png')"
   ]
  },
  {
   "cell_type": "code",
   "execution_count": null,
   "metadata": {},
   "outputs": [],
   "source": []
  }
 ],
 "metadata": {
  "kernelspec": {
   "display_name": "Python 3",
   "language": "python",
   "name": "python3"
  },
  "language_info": {
   "codemirror_mode": {
    "name": "ipython",
    "version": 3
   },
   "file_extension": ".py",
   "mimetype": "text/x-python",
   "name": "python",
   "nbconvert_exporter": "python",
   "pygments_lexer": "ipython3",
   "version": "3.7.4"
  }
 },
 "nbformat": 4,
 "nbformat_minor": 2
}
