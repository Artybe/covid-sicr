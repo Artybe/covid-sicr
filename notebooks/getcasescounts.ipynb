{
 "cells": [
  {
   "cell_type": "markdown",
   "metadata": {},
   "source": [
    "### Init stuff"
   ]
  },
  {
   "cell_type": "code",
   "execution_count": 1,
   "metadata": {},
   "outputs": [],
   "source": [
    "from matplotlib.pyplot import *\n",
    "import matplotlib\n",
    "from numpy import *\n",
    "import pandas as pd"
   ]
  },
  {
   "cell_type": "markdown",
   "metadata": {},
   "source": [
    "### Define paths and other"
   ]
  },
  {
   "cell_type": "code",
   "execution_count": 2,
   "metadata": {},
   "outputs": [],
   "source": [
    "casepath = '/Users/aavattikutis/Box/covid-19_share/data/covidtimeseries_'\n",
    "table_path = Path('../../results/fit9_tables_allmodels')"
   ]
  },
  {
   "cell_type": "code",
   "execution_count": 3,
   "metadata": {},
   "outputs": [],
   "source": [
    "%matplotlib inline\n",
    "\n",
    "font = {'family' : 'normal',\n",
    "        'weight' : 'normal',\n",
    "        'size'   : 18}\n",
    "\n",
    "matplotlib.rc('font', **font)"
   ]
  },
  {
   "cell_type": "code",
   "execution_count": 4,
   "metadata": {},
   "outputs": [],
   "source": [
    "def simpleaxis(ax):\n",
    "    ax.spines['top'].set_visible(False)\n",
    "    ax.spines['bottom'].set_visible(False)\n",
    "    ax.spines['right'].set_visible(False)\n",
    "    ax.spines['left'].set_visible(False)\n"
   ]
  },
  {
   "cell_type": "markdown",
   "metadata": {},
   "source": [
    "### Load data "
   ]
  },
  {
   "cell_type": "code",
   "execution_count": 5,
   "metadata": {},
   "outputs": [],
   "source": [
    "# Location Sample size Antibody Population in region\n",
    "# Iran (Guilan) 551 IgG/IgM 2354848\n",
    "# Idaho (Boise) 4856 IgG 392365 (Ada county)\n",
    "# Switzerland (Geneva) 576 IgG 5000000\n",
    "# Japan (Kobe) 1000 IgG 1518870\n",
    "# Denmark blood donors 9496 IgG/IgM 3800000*\n",
    "# France (Oise) 661 IgG 5978000\n",
    "# China (Wuhan) 1401 IgG/IgM 11080000\n",
    "# Netherlands blood donors 7361 IgG/IgM/IgA 13745768**\n",
    "# Germany (Gangelt) 919 IgG/IgA 12597\n",
    "# Brazil (Rio Grande do Sul) 4500 IgG 11377239\n",
    "# Scotland blood donors 500 IgG 5400000\n",
    "# California (Santa Clara) 3300 IgG/IgM 1928000 \n",
    "\n",
    "# Location Prev\n",
    "# Adjusted prev\n",
    "# (adjustments)\n",
    "# Estimated\n",
    "# infected Deaths (date)\n",
    "# Inferred IFR\n",
    "# (corrected)\n",
    "# Iran (Guilan) 22.0 33.0 (test, samp) 770000 617 (4/23) 0.08 (0.07)\n",
    "# Idaho (Boise) 1.79 ND 7023 14 (4/24) 0.20 (0.16)\n",
    "# Switzerland (Geneva) 8.7 9.7 (test, age, sex) 48500 243 (4/30) 0.50 (0.40)\n",
    "# Japan (Kobe) 3.3 2.7 (age, sex) 40999 10 (mid-April) 0.02 (0.02)\n",
    "# Denmark blood donors 1.8 1.7 (test) 64600* 53 (4/21)* 0.08 (0.07)*\n",
    "# France (Oise) 25.9 ND 1548000 635 (4/7) 0.04 (0.03)\n",
    "# China (Wuhan) 10.0 ND 1108000 3869 (5/2) 0.35 (0.31)\n",
    "# Netherlands blood donors 2.7 ND 371119** 344 (4/15)** 0.09 (0.09)**\n",
    "# Germany (Gangelt) 15.0 20.0 (test, cluster, sym) 2519 7 (4/15) 0.28 (0.25)\n",
    "# Brazil (Rio Grande do Sul) 0.133 0.309 (samp, city size) 35153 50 (4/30) 0.14 (0.11)\n",
    "# Scotland blood donors 1.2 ND 64800 47 (4/1) 0.07 (0.06)\n",
    "# California (Santa Clara) 1.5 2.6 (test, samp, cluster) 51000 94 (4/22) 0.18 (0.17)"
   ]
  },
  {
   "cell_type": "code",
   "execution_count": 34,
   "metadata": {},
   "outputs": [],
   "source": [
    "sero = {}\n",
    "sero['Iran'] = 551\n",
    "sero['US_ID'] = 4856\n",
    "sero['Switzerland'] = 576\n",
    "\n",
    "pop = {}\n",
    "pop['Iran'] = 2354848\n",
    "pop['US_ID'] = 392365\n",
    "sero['Switzerland'] = 5000000\n"
   ]
  },
  {
   "cell_type": "markdown",
   "metadata": {},
   "source": [
    "### Define ROI"
   ]
  },
  {
   "cell_type": "code",
   "execution_count": 36,
   "metadata": {},
   "outputs": [],
   "source": [
    "roi = 'Switzerland'"
   ]
  },
  {
   "cell_type": "code",
   "execution_count": null,
   "metadata": {},
   "outputs": [],
   "source": [
    "# df_fit = pd.read_csv(table_path / 'fit_table_reweighted.csv')"
   ]
  },
  {
   "cell_type": "code",
   "execution_count": 7,
   "metadata": {},
   "outputs": [],
   "source": [
    "#  if roi[:2]=='US':\n",
    "#     DF = getDF_covidtrack(roi.split('US_')[1])\n",
    "# else:\n",
    "#     DF = getDF_JHU(roi)"
   ]
  },
  {
   "cell_type": "code",
   "execution_count": 37,
   "metadata": {},
   "outputs": [],
   "source": [
    "csv = casepath + roi + \".csv\"\n",
    "DF = pd.read_csv(csv)\n",
    "t0 = DF.index[DF.new_cases>1].values[0]\n",
    "DF = DF[DF.index>=t0]\n",
    "\n",
    "x = DF[\"new_cases\"].values"
   ]
  },
  {
   "cell_type": "code",
   "execution_count": 38,
   "metadata": {},
   "outputs": [
    {
     "data": {
      "text/plain": [
       "[<matplotlib.lines.Line2D at 0x124b529d0>]"
      ]
     },
     "execution_count": 38,
     "metadata": {},
     "output_type": "execute_result"
    },
    {
     "data": {
      "image/png": "[encoded data removed]",
      "text/plain": [
       "<Figure size 432x288 with 1 Axes>"
      ]
     },
     "metadata": {},
     "output_type": "display_data"
    }
   ],
   "source": [
    "plot(x)"
   ]
  },
  {
   "cell_type": "code",
   "execution_count": 33,
   "metadata": {},
   "outputs": [],
   "source": [
    "car = {}\n",
    "car['Iran'] = 0.16\n",
    "car['US_ID'] = 0.16\n",
    "car['Switzerland'] = 0.25"
   ]
  },
  {
   "cell_type": "code",
   "execution_count": 32,
   "metadata": {},
   "outputs": [
    {
     "name": "stdout",
     "output_type": "stream",
     "text": [
      "Io: 0.012376231315229441\n",
      "0.0004300842327934449\n"
     ]
    }
   ],
   "source": [
    "print('Io: '+str(sero[roi]/pop[roi]))\n",
    "\n",
    "cases = median(x)\n",
    "SP = cases/ car[roi] / pop[roi]\n",
    "print(SP)\n"
   ]
  },
  {
   "cell_type": "code",
   "execution_count": null,
   "metadata": {},
   "outputs": [],
   "source": []
  }
 ],
 "metadata": {
  "kernelspec": {
   "display_name": "Python 3.7.4 64-bit",
   "language": "python",
   "name": "python37464bit88472551656c4de0b45b4bb9cfa50a19"
  },
  "language_info": {
   "codemirror_mode": {
    "name": "ipython",
    "version": 3
   },
   "file_extension": ".py",
   "mimetype": "text/x-python",
   "name": "python",
   "nbconvert_exporter": "python",
   "pygments_lexer": "ipython3",
   "version": "3.7.4"
  }
 },
 "nbformat": 4,
 "nbformat_minor": 2
}
