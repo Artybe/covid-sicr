{
 "cells": [
  {
   "cell_type": "code",
   "execution_count": 1,
   "metadata": {},
   "outputs": [],
   "source": [
    "%matplotlib inline\n",
    "import pandas as pd\n",
    "import matplotlib.pyplot as plt\n",
    "import matplotlib\n",
    "import numpy as np\n",
    "import seaborn as sns\n",
    "import string\n",
    "#https://stackoverflow.com/questions/19726663/how-to-save-the-pandas-dataframe-series-data-as-a-figure\n",
    "import six\n",
    "\n"
   ]
  },
  {
   "cell_type": "code",
   "execution_count": 2,
   "metadata": {},
   "outputs": [],
   "source": [
    "datapath = \"/Users/aavattikutis/Documents/epidemicmodel/cccruns/fits/fit2/tables/\"\n",
    "models = [\"fulllinearmodel_fit_table.csv\",\"reducedlinearmodelNegBinom_fit_table.csv\",\n",
    "          \"reducedlinearmodelq0_fit_table.csv\",\"reducedlinearmodelq0ctime_fit_table.csv\",\n",
    "         \"nonlinearmodelq0ctime_fit_table.csv\",\"nonlinearmodel_fit_table.csv\"]\n",
    "model_hash = {}\n",
    "k = -1\n",
    "for model in models:\n",
    "    k += 1\n",
    "    model_hash[model] = string.ascii_uppercase[k]\n",
    "\n",
    "df = pd.DataFrame.from_dict(model_hash, orient='index')\n",
    "df.to_csv('../postfit_derivatives/model_hash.csv', header=False)"
   ]
  },
  {
   "cell_type": "code",
   "execution_count": 3,
   "metadata": {},
   "outputs": [],
   "source": [
    "rois = []\n",
    "for model in models:\n",
    "    df = pd.read_csv(datapath + model) #get rois in all tables (some may have failed)\n",
    "    rois += list(df.roi.unique())\n",
    "\n",
    "    \n",
    "rois = list(set(rois))\n",
    "\n",
    "#get inferred\n",
    "theta = df.columns[2:] \n",
    "ntheta = len(theta)\n",
    "\n"
   ]
  },
  {
   "cell_type": "code",
   "execution_count": 4,
   "metadata": {},
   "outputs": [],
   "source": [
    "font = {'family' : 'sans-serif',\n",
    "        'weight' : 'normal',\n",
    "        'size'   : 18}\n",
    "\n",
    "matplotlib.rc('font', **font)\n",
    " \n",
    "\n",
    "def simpleaxis(ax):\n",
    "    ax.spines['top'].set_visible(False)\n",
    "    ax.spines['bottom'].set_visible(False)\n",
    "    ax.spines['right'].set_visible(False)\n",
    "    ax.spines['left'].set_visible(False)\n",
    "             \n",
    "roi_us = np.sort([i for i in rois if i[:2]=='US'])#[::-1]\n",
    "roi_other = np.sort([i for i in rois if i[:2]!='US'])#[::-1]\n",
    "# roi_other = np.sort(pd.read_csv(\"../postfit_derivatives/top25.csv\").values[:,0])\n",
    "rois = list(roi_us) + list(roi_other)\n",
    "\n",
    "dfwaic = pd.DataFrame(columns=['roi', 'model', 'waic'])\n",
    "\n",
    "k = 0\n",
    "for roi in rois:\n",
    "#     print(roi)\n",
    "    for model in models:\n",
    "        k += 1\n",
    "        df = pd.read_csv(datapath + model)\n",
    "        try:\n",
    "            measure = df.loc[(df.roi==roi)&(df['quantile']==0.5),'waic'].values[0]\n",
    "#             dfwaic.loc[k] = [roi,model_hash[model],measure]\n",
    "            dfwaic.loc[k] = [roi,model,measure]\n",
    "        except:\n",
    "#             dfwaic.loc[k] = [roi,model_hash[model],1e6]\n",
    "            dfwaic.loc[k] = [roi,model,1e6]\n",
    "\n",
    "# print(dfwaic)"
   ]
  },
  {
   "cell_type": "code",
   "execution_count": 5,
   "metadata": {},
   "outputs": [],
   "source": [
    "dfwaic_sorted = dfwaic.sort_values(['waic'],ascending=True).groupby('roi')\n",
    "# print(dfwaic_sorted.head())\n",
    "# dfwaic_sorted = dfwaic_sorted.head().reset_index(drop=True)\n",
    "dfwaic_sorted = dfwaic_sorted.head(1)"
   ]
  },
  {
   "cell_type": "code",
   "execution_count": 6,
   "metadata": {},
   "outputs": [
    {
     "name": "stdout",
     "output_type": "stream",
     "text": [
      "Gambia\n"
     ]
    }
   ],
   "source": [
    "dfreport = pd.DataFrame(columns=['Region', 'Model','median CAR (week=0)','CI lower','CI upper','median CAR current','CI lower','CI upper','delta weeks','Mean WAIC'])\n",
    "k = -1\n",
    "for roi in rois:\n",
    "    k += 1\n",
    "    model = \"fulllinearmodel_fit_table.csv\" #dfwaic_sorted.loc[dfwaic_sorted.roi==roi,'model'].values[0]\n",
    "    df = pd.read_csv(datapath + model)\n",
    "    theta = \"car (week 0)\"\n",
    "    measure1 = df.loc[(df.roi==roi)&(df['quantile']==0.5),theta].values[0]\n",
    "    measure2 = df.loc[(df.roi==roi)&(df['quantile']==0.025),theta].values[0]\n",
    "    measure3 = df.loc[(df.roi==roi)&(df['quantile']==0.975),theta].values[0]\n",
    "    waic = dfwaic_sorted.loc[dfwaic_sorted.roi==roi,'waic'].values[0]\n",
    "    x = [roi,model.split('_fit_table.csv')[0],np.round(measure1,4),np.round(measure2,4),np.round(measure3,4)]\n",
    "    #find latest week with data\n",
    "#     maxweek = 11\n",
    "    for i in np.arange(11,0,-1):\n",
    "        theta = 'car (week '+str(i)+')'\n",
    "        x2 = df.loc[(df.roi==roi)&(df['quantile']==0.5),theta].values[0]\n",
    "        if np.isfinite(x2):\n",
    "#             print(x2)\n",
    "            measure1 = df.loc[(df.roi==roi)&(df['quantile']==0.5),theta].values[0]\n",
    "            measure2 = df.loc[(df.roi==roi)&(df['quantile']==0.025),theta].values[0]\n",
    "            measure3 = df.loc[(df.roi==roi)&(df['quantile']==0.975),theta].values[0]\n",
    "            x += [np.round(measure1,4),np.round(measure2,4),np.round(measure3,4),i,np.round(waic,2)]\n",
    "            break\n",
    "    try:\n",
    "        dfreport.loc[k] = x\n",
    "    except:\n",
    "        print(roi)\n",
    "    \n"
   ]
  },
  {
   "cell_type": "code",
   "execution_count": 66,
   "metadata": {},
   "outputs": [
    {
     "data": {
      "image/png": "[encoded data removed]",
      "text/plain": [
       "<Figure size 1080x360 with 2 Axes>"
      ]
     },
     "metadata": {
      "needs_background": "light"
     },
     "output_type": "display_data"
    }
   ],
   "source": [
    "c_ = sns.color_palette('Greens')\n",
    "f,ax = plt.subplots(1,1,figsize=(15,5))\n",
    "sns.distplot(dfreport['median CAR (week=0)'],color = c_[5],ax=ax, kde=False, norm_hist=True, label='region-wide week 0')\n",
    "mu = np.median(dfreport['median CAR (week=0)'].values)\n",
    "ax.axvline(mu, color='g',label='region-wide week 0 median')\n",
    "sns.distplot(dfreport['median CAR current'],color = c_[2],ax=ax, kde=False, norm_hist=True,label='region-wide recent')\n",
    "mu = np.median(dfreport['median CAR current'].values)\n",
    "ax.axvline(mu, color='g',alpha=0.5,label='region-wide recent median')\n",
    "ax.set_xlim((0.001,0.6))\n",
    "plt.legend()\n",
    "\n",
    "# ax.set_title(label,fontsize=fs)\n",
    "# ax.axvline(mu)\n",
    "# ax.text(mu,20,str(np.round(mu,3)))\n",
    "ax.get_yaxis().set_visible(False)\n",
    "ax.set_xlabel('')\n",
    "plt.subplots_adjust(hspace=0.5,top=0.8,bottom=0.2)\n",
    "\n",
    "def calcfold(x):\n",
    "    return 1/x\n",
    "def calcfold2(x):\n",
    "    return x\n",
    "# ax.secondary_xaxis('top', functions=(calcfold,calcfold2))\n",
    "x = np.array([0.05]+list(np.arange(0.1,1.1,0.1)))\n",
    "ax.set_xticks(x)\n",
    "ax.set_xlabel('CAR')\n",
    "ax2 = ax.twiny()\n",
    "ax2.set_xticks(x)\n",
    "ax2.set_xticklabels(np.round(1/x,1))\n",
    "ax2.set_xlabel('fold difference')\n",
    "simpleaxis(plt.gca())\n",
    "plt.savefig('../postfit_derivatives/carpastpresent.png')"
   ]
  },
  {
   "cell_type": "code",
   "execution_count": null,
   "metadata": {},
   "outputs": [],
   "source": []
  }
 ],
 "metadata": {
  "kernelspec": {
   "display_name": "Python 3",
   "language": "python",
   "name": "python3"
  },
  "language_info": {
   "codemirror_mode": {
    "name": "ipython",
    "version": 3
   },
   "file_extension": ".py",
   "mimetype": "text/x-python",
   "name": "python",
   "nbconvert_exporter": "python",
   "pygments_lexer": "ipython3",
   "version": "3.7.4"
  }
 },
 "nbformat": 4,
 "nbformat_minor": 2
}
