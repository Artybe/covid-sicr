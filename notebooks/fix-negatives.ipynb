{
 "cells": [
  {
   "cell_type": "code",
   "execution_count": null,
   "metadata": {},
   "outputs": [],
   "source": [
    "%matplotlib inline\n",
    "from datetime import datetime\n",
    "import numpy as np\n",
    "import pandas as pd\n",
    "from pathlib import Path\n",
    "import pickle\n",
    "import matplotlib.pyplot as plt\n",
    "import scipy"
   ]
  },
  {
   "cell_type": "code",
   "execution_count": null,
   "metadata": {},
   "outputs": [],
   "source": [
    "data_dir = Path('../data/updated/')"
   ]
  },
  {
   "cell_type": "code",
   "execution_count": null,
   "metadata": {},
   "outputs": [],
   "source": [
    "def fix_neg(df, columns=['cases', 'deaths', 'recover'], verbose=False):\n",
    "    for c in columns:\n",
    "        cum = 'cum_%s' % c\n",
    "        new = 'new_%s' % c\n",
    "        before = df[cum].copy()\n",
    "        non_zeros = df[df[new]>0].index\n",
    "        has_negs = before.diff().min()<0\n",
    "        if len(non_zeros) and has_negs:\n",
    "            first_non_zero = non_zeros[0]\n",
    "            maxx = df.loc[first_non_zero, cum].max()\n",
    "            # Find the bad entries and null the corresponding cumulative column, which are:\n",
    "            # 1) Cumulative columns which are zero after previously being non-zero\n",
    "            bad = df.loc[first_non_zero:, cum]==0\n",
    "            df.loc[bad[bad].index, cum] = None\n",
    "            # 2) New daily columns which are negative\n",
    "            bad = df.loc[first_non_zero:, new]<0\n",
    "            df.loc[bad[bad].index, cum] = None\n",
    "            # Protect against 0 null final value which screws up interpolator\n",
    "            if np.isnan(df.loc[df.index[-1], cum]):\n",
    "                df.loc[df.index[-1], cum] = maxx\n",
    "            # Then run a loop which:\n",
    "            while True:\n",
    "                # Interpolates the cumulative column nulls to have monotonic growth\n",
    "                after = df[cum].interpolate('pchip')\n",
    "                diff = after.diff()\n",
    "                if diff.min() < 0:\n",
    "                    # If there are still negative first-differences at this point,\n",
    "                    # increase the corresponding cumulative values by 1.\n",
    "                    neg_index = diff[diff<0].index\n",
    "                    df.loc[neg_index, cum] += 1\n",
    "                else:\n",
    "                    break\n",
    "                # Then repeat\n",
    "            plt.figure()\n",
    "            plt.plot(df.index, before, label='raw')\n",
    "            plt.plot(df.index, after, label='fixed')\n",
    "            plt.title(\"%s %s Raw vs Fixed R=%.5g\" % (region, c, np.corrcoef(before, after)[0, 1]))\n",
    "            plt.legend()\n",
    "        else:\n",
    "            after = before\n",
    "        # Make sure the first differences are now all non-negative\n",
    "        assert after.diff().min()>=0\n",
    "        # Replace the values\n",
    "        df[new] = df[cum].diff().fillna(0).astype(int).values\n",
    "    return df"
   ]
  },
  {
   "cell_type": "code",
   "execution_count": null,
   "metadata": {},
   "outputs": [],
   "source": [
    "csvs = [x for x in data_dir.iterdir() if 'covidtimeseries' in str(x)]\n",
    "counts = []\n",
    "regions = []\n",
    "results = pd.DataFrame(columns=['new_deaths', 'new_cases', 'new_recover', 'abs_days', 'rel_days'])\n",
    "for csv in csvs:\n",
    "    region = str(csv).split('.')[0].split('_')[-1]\n",
    "    df = pd.read_csv(csv)\n",
    "    df = df.iloc[:-1]\n",
    "    df = fix_neg(df, verbose=(region=='OK'))\n",
    "    df.to_csv(data_dir / (csv.name.split('.')[0]+'.csv'))"
   ]
  },
  {
   "cell_type": "code",
   "execution_count": null,
   "metadata": {},
   "outputs": [],
   "source": []
  }
 ],
 "metadata": {
  "kernelspec": {
   "display_name": "Python 3",
   "language": "python",
   "name": "python3"
  },
  "language_info": {
   "codemirror_mode": {
    "name": "ipython",
    "version": 3
   },
   "file_extension": ".py",
   "mimetype": "text/x-python",
   "name": "python",
   "nbconvert_exporter": "python",
   "pygments_lexer": "ipython3",
   "version": "3.7.4"
  }
 },
 "nbformat": 4,
 "nbformat_minor": 4
}
