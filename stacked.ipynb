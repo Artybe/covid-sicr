{
 "cells": [
  {
   "cell_type": "code",
   "execution_count": 1,
   "metadata": {},
   "outputs": [],
   "source": [
    "from datetime import datetime\n",
    "import pandas as pd\n",
    "from pathlib import Path\n",
    "import pickle"
   ]
  },
  {
   "cell_type": "code",
   "execution_count": 2,
   "metadata": {},
   "outputs": [],
   "source": [
    "csvs = [x for x in Path('data').iterdir() if 'timeseries' in str(x)]\n",
    "counts = []\n",
    "regions = []\n",
    "results = pd.DataFrame(columns=['new_deaths', 'new_cases', 'new_recover', 'abs_days', 'rel_days'])\n",
    "for csv in csvs:\n",
    "    region = str(csv).split('.')[0].split('_')[-1]\n",
    "    regions.append(region)\n",
    "    df = pd.read_csv(csv)\n",
    "    df = df.iloc[:-1]\n",
    "    df = df[df['cum_cases']>=10]\n",
    "    df['abs_days'] = df['dates2'].apply(lambda x: (datetime.strptime(x, '%m/%d/%y') - datetime.strptime('01/22/20', '%m/%d/%y')).days)\n",
    "    df['rel_days'] = df['dates2'].apply(lambda x: (datetime.strptime(x, '%m/%d/%y') - datetime.strptime(df['dates2'].values[0], '%m/%d/%y')).days)\n",
    "    counts.append(df.shape[0])\n",
    "    subset = ['new_deaths', 'new_cases', 'new_recover']\n",
    "    df[subset] = df[subset].clip(lower = 0)\n",
    "    subset = ['new_deaths', 'new_cases', 'new_recover', 'abs_days', 'rel_days']\n",
    "    results = results.append(df[subset])"
   ]
  },
  {
   "cell_type": "code",
   "execution_count": 3,
   "metadata": {},
   "outputs": [],
   "source": [
    "import pickle\n",
    "with open('data/stacked.pkl', 'wb') as f:\n",
    "    pickle.dump({'data': results, 'regions': regions, 'counts': counts}, f)"
   ]
  }
 ],
 "metadata": {
  "kernelspec": {
   "display_name": "Python 3",
   "language": "python",
   "name": "python3"
  },
  "language_info": {
   "codemirror_mode": {
    "name": "ipython",
    "version": 3
   },
   "file_extension": ".py",
   "mimetype": "text/x-python",
   "name": "python",
   "nbconvert_exporter": "python",
   "pygments_lexer": "ipython3",
   "version": "3.7.4"
  }
 },
 "nbformat": 4,
 "nbformat_minor": 4
}
