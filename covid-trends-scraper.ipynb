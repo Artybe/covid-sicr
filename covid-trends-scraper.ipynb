{
 "cells": [
  {
   "cell_type": "code",
   "execution_count": 61,
   "metadata": {},
   "outputs": [],
   "source": [
    "import json\n",
    "import pandas as pd # Pandas\n",
    "import pathlib # Built-in path manipulation library\n",
    "import requests\n",
    "from datetime import datetime"
   ]
  },
  {
   "cell_type": "code",
   "execution_count": 62,
   "metadata": {},
   "outputs": [],
   "source": [
    "url = \"https://raw.githubusercontent.com/COVID19Tracking/covid-tracking-data/master/data/states_daily_4pm_et.csv\"\n",
    "df_raw = pd.read_csv(url)"
   ]
  },
  {
   "cell_type": "code",
   "execution_count": 63,
   "metadata": {},
   "outputs": [],
   "source": [
    "states = df_raw['state'].unique()"
   ]
  },
  {
   "cell_type": "code",
   "execution_count": 64,
   "metadata": {},
   "outputs": [],
   "source": [
    "# Fix Michigan\n",
    "import bs4\n",
    "import numpy as np\n",
    "import requests\n",
    "response = requests.get('https://www.michigan.gov/coronavirus/0,9753,7-406-98163_98173_99207---,00.html')\n",
    "soup = bs4.BeautifulSoup(response.content)\n",
    "three_five_index = [x.find_all('td')[0].text for x in soup.find('table').find_all('tr') if x.find_all('td')].index('5-Mar')\n",
    "daily_counts = [int(x.find_all('td')[-1].text) for x in soup.find('table').find_all('tr') if x.find_all('td')][:-1]\n",
    "cum_counts = np.cumsum(daily_counts)\n",
    "cum_counts = cum_counts[three_five_index:]\n",
    "to_fix = df_raw.loc[df_raw['state']=='MI', 'date'].apply(lambda x: datetime.strptime(str(x), '%Y%m%d')).sort_values().index\n",
    "df_raw.loc[to_fix[:len(cum_counts)], 'positive'] = cum_counts"
   ]
  },
  {
   "cell_type": "code",
   "execution_count": 70,
   "metadata": {},
   "outputs": [
    {
     "name": "stdout",
     "output_type": "stream",
     "text": [
      "Recovery data for AK,AR,DC,DE,GU,HI,IA,KY,MD,ME,MI,MN,MT,ND,NH,NJ,NM,NY,OK,RI,SD,TN,TX,VI,VT,WV,WY\n",
      "No recovery data for AL,AS,AZ,CA,CO,CT,FL,GA,ID,IL,IN,KS,LA,MA,MO,MP,MS,NC,NE,NV,OH,OR,PA,PR,SC,UT,VA,WA,WI\n"
     ]
    }
   ],
   "source": [
    "good = []\n",
    "bad = []\n",
    "for state in states:  # For each country\n",
    "    source = df_raw[df_raw['state']==state] # Only the given state\n",
    "    if source['recovered'].sum() > 0: # If we have data in the downloaded file for that state\n",
    "        df = pd.DataFrame(columns=['dates2', 'cum_cases', 'cum_deaths', 'cum_recover',\n",
    "                               'new_cases', 'new_deaths', 'new_recover', 'new_uninfected'])\n",
    "        df['dates2'] = source['date'].apply(lambda x: datetime.strftime(datetime.strptime(str(x), '%Y%m%d'), '%m/%d/%y')) # Convert date format\n",
    "        df['cum_cases'] = source['positive'].values\n",
    "        df['cum_deaths'] = source['death'].values\n",
    "        df['cum_recover'] = source['recovered'].values\n",
    "        df = df.set_index('dates2').fillna(0).astype(int)  # Fill NaN with 0 and convert to int\n",
    "        df = df.sort_index() # Sort by date ascending\n",
    "        df[['new_cases', 'new_deaths', 'new_recover']] = \\\n",
    "            df[['cum_cases', 'cum_deaths', 'cum_recover']].diff()\n",
    "        if df['new_cases'].max() >= 5:\n",
    "            df['new_uninfected'] = df['new_recover'] + df['new_deaths']\n",
    "            df = df.fillna(0).astype(int)\n",
    "            df.to_csv('data/covid_timeseries_US_%s.csv' % state)  # Overwrite old data\n",
    "            good.append(state)\n",
    "        else:\n",
    "            bad.append(state)\n",
    "    else:\n",
    "        bad.append(state)\n",
    "        \n",
    "print(\"Recovery data for %s\" % ','.join(good))\n",
    "print(\"No recovery data for %s\" % ','.join(bad))"
   ]
  },
  {
   "cell_type": "code",
   "execution_count": 71,
   "metadata": {},
   "outputs": [
    {
     "data": {
      "text/plain": [
       "(27, 29)"
      ]
     },
     "execution_count": 71,
     "metadata": {},
     "output_type": "execute_result"
    }
   ],
   "source": [
    "len(good), len(bad)"
   ]
  },
  {
   "cell_type": "code",
   "execution_count": null,
   "metadata": {},
   "outputs": [],
   "source": []
  }
 ],
 "metadata": {
  "kernelspec": {
   "display_name": "Python 3",
   "language": "python",
   "name": "python3"
  },
  "language_info": {
   "codemirror_mode": {
    "name": "ipython",
    "version": 3
   },
   "file_extension": ".py",
   "mimetype": "text/x-python",
   "name": "python",
   "nbconvert_exporter": "python",
   "pygments_lexer": "ipython3",
   "version": "3.7.4"
  }
 },
 "nbformat": 4,
 "nbformat_minor": 4
}
