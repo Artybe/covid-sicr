{
 "cells": [
  {
   "cell_type": "code",
   "execution_count": 30,
   "metadata": {},
   "outputs": [],
   "source": [
    "import json\n",
    "import pandas as pd # Pandas\n",
    "import pathlib # Built-in path manipulation library\n",
    "import requests\n",
    "from datetime import datetime"
   ]
  },
  {
   "cell_type": "code",
   "execution_count": 31,
   "metadata": {},
   "outputs": [],
   "source": [
    "url = \"https://raw.githubusercontent.com/COVID19Tracking/covid-tracking-data/master/data/states_daily_4pm_et.csv\"\n",
    "df_raw = pd.read_csv(url)"
   ]
  },
  {
   "cell_type": "code",
   "execution_count": 32,
   "metadata": {},
   "outputs": [],
   "source": [
    "states = df_raw['state'].unique()"
   ]
  },
  {
   "cell_type": "code",
   "execution_count": 33,
   "metadata": {},
   "outputs": [
    {
     "name": "stdout",
     "output_type": "stream",
     "text": [
      "Recovery data for AK,AR,DC,DE,GU,HI,IA,MD,ME,MI,MN,MT,ND,NH,NM,NY,OK,RI,SD,TN,TX,VI,VT,WY\n",
      "No recovery data for AL,AS,AZ,CA,CO,CT,FL,GA,ID,IL,IN,KS,KY,LA,MA,MO,MP,MS,NC,NE,NJ,NV,OH,OR,PA,PR,SC,UT,VA,WA,WI,WV\n"
     ]
    }
   ],
   "source": [
    "good = []\n",
    "bad = []\n",
    "for state in states:  # For each country\n",
    "    source = df_raw[df_raw['state']==state] # Only the given state\n",
    "    if source['recovered'].sum() > 0: # If we have data in the downloaded file for that state\n",
    "        df = pd.DataFrame(columns=['dates2', 'cum_cases', 'cum_deaths', 'cum_recover',\n",
    "                               'new_cases', 'new_deaths', 'new_recover', 'new_uninfected'])\n",
    "        df['dates2'] = source['date'].apply(lambda x: datetime.strftime(datetime.strptime(str(x), '%Y%m%d'), '%m/%d/%y')) # Convert date format\n",
    "        df['cum_cases'] = source['positive'].values\n",
    "        df['cum_deaths'] = source['death'].values\n",
    "        df['cum_recover'] = source['recovered'].values\n",
    "        df = df.set_index('dates2').fillna(0).astype(int)  # Fill NaN with 0 and convert to int\n",
    "        df = df.sort_index() # Sort by date ascending\n",
    "        df[['new_cases', 'new_deaths', 'new_recover']] = \\\n",
    "            df[['cum_cases', 'cum_deaths', 'cum_recover']].diff()\n",
    "        df['new_uninfected'] = df['new_recover'] + df['new_deaths']\n",
    "        df = df.fillna(0).astype(int)\n",
    "        df.to_csv('data/covid_timeseries_US_%s.csv' % state)  # Overwrite old data\n",
    "        good.append(state)\n",
    "    else:\n",
    "        bad.append(state)\n",
    "        \n",
    "print(\"Recovery data for %s\" % ','.join(good))\n",
    "print(\"No recovery data for %s\" % ','.join(bad))"
   ]
  },
  {
   "cell_type": "code",
   "execution_count": null,
   "metadata": {},
   "outputs": [],
   "source": []
  }
 ],
 "metadata": {
  "kernelspec": {
   "display_name": "Python 3",
   "language": "python",
   "name": "python3"
  },
  "language_info": {
   "codemirror_mode": {
    "name": "ipython",
    "version": 3
   },
   "file_extension": ".py",
   "mimetype": "text/x-python",
   "name": "python",
   "nbconvert_exporter": "python",
   "pygments_lexer": "ipython3",
   "version": "3.7.4"
  }
 },
 "nbformat": 4,
 "nbformat_minor": 4
}
