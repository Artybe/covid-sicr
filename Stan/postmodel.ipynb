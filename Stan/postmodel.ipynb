{
 "cells": [
  {
   "cell_type": "code",
   "execution_count": 1,
   "metadata": {},
   "outputs": [],
   "source": [
    "import arviz as az\n",
    "import pystan, pickle\n",
    "import os\n",
    "# os.environ['STAN_NUM_THREADS'] = \"4\"\n",
    "import pandas as pd\n",
    "import matplotlib.pyplot as plt\n",
    "import numpy as np\n",
    "# import networkx as nx\n",
    "import warnings\n",
    "warnings.filterwarnings(\"ignore\", category=DeprecationWarning)\n",
    "%matplotlib inline\n",
    "\n",
    "def simpleaxis(ax):\n",
    "    ax.spines['top'].set_visible(False)\n",
    "    ax.spines['bottom'].set_visible(False)\n",
    "    ax.spines['right'].set_visible(False)\n",
    "    ax.spines['left'].set_visible(False)\n",
    "\n",
    "a = 0.5"
   ]
  },
  {
   "cell_type": "markdown",
   "metadata": {},
   "source": [
    "# Load Data"
   ]
  },
  {
   "cell_type": "code",
   "execution_count": 2,
   "metadata": {},
   "outputs": [],
   "source": [
    "url_confirmed = \"https://raw.githubusercontent.com/CSSEGISandData/COVID-19/master/csse_covid_19_data/csse_covid_19_time_series/time_series_covid19_confirmed_global.csv\"\n",
    "url_deaths = \"https://raw.githubusercontent.com/CSSEGISandData/COVID-19/master/csse_covid_19_data/csse_covid_19_time_series/time_series_covid19_deaths_global.csv\"\n",
    "url_recovered = \"https://raw.githubusercontent.com/CSSEGISandData/COVID-19/master/csse_covid_19_data/csse_covid_19_time_series/time_series_covid19_recovered_global.csv\"\n",
    "\n",
    "dfc = pd.read_csv(url_confirmed)\n",
    "dfd = pd.read_csv(url_deaths)\n",
    "dfr = pd.read_csv(url_recovered)"
   ]
  },
  {
   "cell_type": "code",
   "execution_count": 3,
   "metadata": {},
   "outputs": [
    {
     "name": "stdout",
     "output_type": "stream",
     "text": [
      "    Province/State Country/Region      Lat     Long  1/22/20  1/23/20  \\\n",
      "186            NaN        Romania  45.9432  24.9668        0        0   \n",
      "\n",
      "     1/24/20  1/25/20  1/26/20  1/27/20  ...  4/18/20  4/19/20  4/20/20  \\\n",
      "186        0        0        0        0  ...     8418     8746     8936   \n",
      "\n",
      "     4/21/20  4/22/20  4/23/20  4/24/20  4/25/20  4/26/20  4/27/20  \n",
      "186     9242     9710    10096    10417    10635    11036    11339  \n",
      "\n",
      "[1 rows x 101 columns]\n"
     ]
    }
   ],
   "source": [
    "roi = \"Romania\"\n",
    "\n",
    "dates = dfc.columns[4:].values\n",
    "\n",
    "# dfc2 = dfc.loc[dfc['Country/Region']==roi]\n",
    "# dfd2 = dfd.loc[dfd['Country/Region']==roi]\n",
    "# dfr2 = dfr.loc[dfr['Country/Region']==roi]\n",
    "\n",
    "dfc2 = dfc.loc[dfc['Country/Region']==roi]\n",
    "dfd2 = dfd.loc[dfd['Country/Region']==roi]\n",
    "dfr2 = dfr.loc[dfr['Country/Region']==roi]\n",
    "\n",
    "\n",
    "print(dfc2)\n",
    "\n",
    "\n",
    "DF = df = pd.DataFrame(columns=['date',\n",
    "                                'cum_cases','cum_recover','cum_deaths',\n",
    "                               'new_cases','new_recover','new_deaths'])\n",
    "\n",
    "\n",
    "for i in range(len(dates)):\n",
    "#     print(dates[i])\n",
    "    DF.loc[i] = pd.Series({'date':dates[i],\n",
    "                         'cum_cases':dfc2[dates[i]].values[0],# - (dfr2[dates[i]].values[0] + dfd2[dates[i]].values[0]),\n",
    "                         'cum_recover':dfr2[dates[i]].values[0],\n",
    "                         'cum_deaths':dfd2[dates[i]].values[0]})\n",
    "\n",
    "DF[['new_cases', 'new_deaths', 'new_recover']] = \\\n",
    "            DF[['cum_cases', 'cum_deaths', 'cum_recover']].diff()\n",
    "\n",
    "# print(DF)\n"
   ]
  },
  {
   "cell_type": "code",
   "execution_count": 4,
   "metadata": {},
   "outputs": [
    {
     "name": "stdout",
     "output_type": "stream",
     "text": [
      "['2/25/20' 0 0 0 0 0 0]\n"
     ]
    },
    {
     "data": {
      "text/plain": [
       "<matplotlib.legend.Legend at 0x13108de90>"
      ]
     },
     "execution_count": 4,
     "metadata": {},
     "output_type": "execute_result"
    },
    {
     "data": {
      "image/png": "[encoded data removed]",
      "text/plain": [
       "<Figure size 432x288 with 2 Axes>"
      ]
     },
     "metadata": {
      "needs_background": "light"
     },
     "output_type": "display_data"
    }
   ],
   "source": [
    "# DF = pd.read_csv(\"../data/covidtimeseries_\"+roi+\".csv\")\n",
    "\n",
    "# pop = {}\n",
    "# pop['Italy'] = 60500000\n",
    "# pop['United Kingdom'] = 64400000\n",
    "# pop['France'] = 66990000\n",
    "# pop['Netherlands'] = 17000000\n",
    "\n",
    "mitigate = {}\n",
    "mitigate['Italy'] = '03/9/20' #approximate date\n",
    "mitigate['Netherlands'] = '03/12/20' #approximate date\n",
    "mitigate['US_NY'] = '03/20/20'\n",
    "mitigate['UnitedKingdom'] = '3/23/20'\n",
    "\n",
    "\n",
    "# t0 := where to start time series, index space\n",
    "t0 = np.where(DF[\"new_cases\"].values>=1)[0][0] - 1 #Stan starts one day back from this \n",
    "print(DF.iloc[t0].values)\n",
    "# tm := start of mitigation, index space\n",
    "tm = t0 + 10 #np.where(mitigate[roi]==DF['dates2'])[0][0]\n",
    "\n",
    "\n",
    "#plot the data with important time stamps (t0, tm)\n",
    "plt.subplot(1,2,1)\n",
    "plt.title('cumulatives')\n",
    "plt.plot(DF[\"cum_cases\"][t0:],'bo', label=\"cases\")\n",
    "plt.plot(DF[\"cum_recover\"][t0:],'go',label=\"recovered\")\n",
    "plt.plot(DF[\"cum_deaths\"][t0:],'ks',label=\"deaths\")\n",
    "\n",
    "plt.axvline(t0,color='k', linestyle=\"dashed\", label='t0')\n",
    "# plt.axvline(tm,color='b', linestyle=\"dashed\", label='mitigate')\n",
    "plt.legend()\n",
    "\n",
    "\n",
    "plt.subplot(1,2,2)\n",
    "plt.title('dailies')\n",
    "plt.plot(DF[\"new_cases\"][t0:],'bo', label=\"cases\")\n",
    "plt.plot(DF[\"new_recover\"][t0:],'go',label=\"recovered\")\n",
    "plt.plot(DF[\"new_deaths\"][t0:],'ks',label=\"deaths\")\n",
    "plt.axvline(t0,color='k', linestyle=\"dashed\", label='t0')\n",
    "# plt.axvline(tm,color='b', linestyle=\"dashed\", label='mitigate')\n",
    "plt.suptitle(roi)\n",
    "plt.legend()\n",
    "\n",
    "\n",
    "# print(\"t0 index assumed to be: day \"+str(t0))\n",
    "# print(\"t0 date: \"+DF['dates2'][t0])\n",
    "# print(\"tm index assumed to be: day \"+str(tm))\n",
    "# print(\"mitigation date: \"+DF['dates2'][tm])\n",
    "\n"
   ]
  },
  {
   "cell_type": "code",
   "execution_count": 5,
   "metadata": {},
   "outputs": [],
   "source": [
    "DF = DF.fillna(0)\n",
    "\n",
    "\n",
    "# t0 := where to start time series, index space\n",
    "t0 = np.where(DF[\"new_cases\"].values>=1)[0][0]\n",
    "\n",
    "# tm := start of mitigation, index space\n",
    "\n",
    "stan_data = {}\n",
    "stan_data['n_scale'] = 1000 #use this instead of population\n",
    "# stan_data['n_theta'] = 8\n",
    "stan_data['n_difeq'] = 5\n",
    "stan_data['n_ostates'] = 3\n",
    "stan_data['t0'] = t0-1 #to for ODE is day one, index before start of series\n",
    "stan_data['tm'] = t0 + 10\n",
    "stan_data['ts'] = np.arange(t0,len(DF['date']))\n",
    "stan_data['y'] = (DF[['new_cases','new_recover','new_deaths']].to_numpy()).astype(int)[t0:,:]\n",
    "stan_data['n_obs'] = len(DF['date']) - t0 \n",
    "\n",
    "\n"
   ]
  },
  {
   "cell_type": "code",
   "execution_count": 6,
   "metadata": {},
   "outputs": [],
   "source": [
    "from __init__ import extract_samples, make_histograms, make_lineplots, get_timing, plot_data_and_fits\n",
    "\n",
    "modelname = 'fulllinearmodel'\n",
    "modelpath = '.'\n",
    "fitpath = '/Users/aavattikutis/Documents/epidemicmodel/cccruns/fits/fit3/'\n",
    "samples = extract_samples(fitpath, modelpath, modelname, roi, 1)\n"
   ]
  },
  {
   "cell_type": "code",
   "execution_count": 7,
   "metadata": {},
   "outputs": [],
   "source": [
    "# [print(i) for i in samples.keys()]"
   ]
  },
  {
   "cell_type": "code",
   "execution_count": 8,
   "metadata": {},
   "outputs": [],
   "source": [
    "#compile model \n",
    "# stanproj = pystan.StanModel(file=\"fulllinearmodel_predict.stan\")#, verbose=True)\n",
    "# import pickle\n",
    "# with open(\"stanproj.pkl\", \"wb\") as f:\n",
    "#     pickle.dump(stanproj, f, protocol=-1)\n",
    "\n",
    "stanproj = pickle.load(open('stanproj.pkl', 'rb'))"
   ]
  },
  {
   "cell_type": "code",
   "execution_count": 9,
   "metadata": {},
   "outputs": [],
   "source": [
    "#setup resampler\n",
    "theta_ = ['f1','f2','sigmar','sigmad','sigmau','q','mbase','mlocation','extra_std','cbase','clocation']\n",
    "\n",
    "\n",
    "nobs = stan_data['n_obs']\n",
    "n = 100\n",
    "c = np.zeros((n,nobs))\n",
    "r = np.zeros((n,nobs))\n",
    "d = np.zeros((n,nobs))\n",
    "\n",
    "ind_ = np.arange(len(samples))\n",
    "np.random.shuffle(ind_)\n",
    "k = -1\n",
    "for i in ind_[:n]:\n",
    "    k += 1\n",
    "    init_ = {}\n",
    "    for theta in theta_:\n",
    "        init_[theta] = samples[theta][i]\n",
    "\n",
    "    predict = stanproj.sampling(data=stan_data,iter=1,init=[init_], chains=1, algorithm = \"Fixed_param\")\n",
    "\n",
    "    c[k,:] += predict.extract()['lambda'][0,:,0]\n",
    "    r[k,:] += predict.extract()['lambda'][0,:,1]\n",
    "    d[k,:] += predict.extract()['lambda'][0,:,2]\n",
    "    \n",
    "clb = np.zeros((nobs))\n",
    "rlb = np.zeros((nobs))\n",
    "dlb = np.zeros((nobs))\n",
    "\n",
    "cub = np.zeros((nobs))\n",
    "rub = np.zeros((nobs))\n",
    "dub = np.zeros((nobs))\n",
    "\n",
    "for i in range(nobs):\n",
    "    clb[i] = np.percentile(c[:,i],2.5)\n",
    "    cub[i] = np.percentile(c[:,i],97.5)\n",
    "    rlb[i] = np.percentile(r[:,i],2.5)\n",
    "    rub[i] = np.percentile(r[:,i],97.5)   \n",
    "    dlb[i] = np.percentile(d[:,i],2.5)\n",
    "    dub[i] = np.percentile(d[:,i],97.5)\n",
    "    \n",
    "# print(predict)\n"
   ]
  },
  {
   "cell_type": "code",
   "execution_count": 10,
   "metadata": {},
   "outputs": [
    {
     "data": {
      "text/plain": [
       "(0, 1000)"
      ]
     },
     "execution_count": 10,
     "metadata": {},
     "output_type": "execute_result"
    },
    {
     "data": {
      "image/png": "[encoded data removed]",
      "text/plain": [
       "<Figure size 720x720 with 1 Axes>"
      ]
     },
     "metadata": {
      "needs_background": "light"
     },
     "output_type": "display_data"
    }
   ],
   "source": [
    "f,ax = plt.subplots(1,1,figsize=(10,10))\n",
    "plt.title('dailies')\n",
    "plt.plot(DF[\"new_cases\"].values[t0:],'bo', label=\"cases\")\n",
    "plt.plot(DF[\"new_recover\"].values[t0:],'go',label=\"recovered\")\n",
    "plt.plot(DF[\"new_deaths\"].values[t0:],'ks',label=\"deaths\")\n",
    "\n",
    "plt.fill_between(range(nobs), clb, cub,color='b',label='95% credible C',alpha=a)\n",
    "plt.fill_between(range(nobs), rlb, rub,color='g',label='95% credible R',alpha=a)\n",
    "plt.fill_between(range(nobs), dlb, dub,color='k',label='95% credible D',alpha=a)\n",
    "\n",
    "indtfit = np.where(DF['date']=='4/15/20') - t0\n",
    "plt.axvline(indtfit)\n",
    "\n",
    "plt.ylim((0,1000))"
   ]
  },
  {
   "cell_type": "code",
   "execution_count": 11,
   "metadata": {},
   "outputs": [],
   "source": [
    "# plt.plot(DF[\"new_cases\"][t0:].values,'bo',ms=2, label=\"data new cases\")\n",
    "# plt.plot(DF[\"new_recover\"][t0:].values,'go',ms=2,label=\"data new recovered\")\n",
    "# plt.plot(DF[\"new_deaths\"][t0:].values,'ks',ms=2,label=\"data new deaths\")\n",
    "\n",
    "\n",
    "# x = np.shape(fit['fit']['u'])[1]\n",
    "# newC_lb = []\n",
    "# newC_ub = []\n",
    "# newR_lb = []\n",
    "# newR_ub = []\n",
    "# newD_lb = []\n",
    "# newD_ub = []\n",
    "# for i in range(x):\n",
    "#     newC_lb.append(np.percentile(fit['fit']['lambda'][:,i,0],2.5))\n",
    "#     newC_ub.append(np.percentile(fit['fit']['lambda'][:,i,0],97.5))\n",
    "#     newR_lb.append(np.percentile(fit['fit']['lambda'][:,i,1],2.5))\n",
    "#     newR_ub.append(np.percentile(fit['fit']['lambda'][:,i,1],97.5))\n",
    "#     newD_lb.append(np.percentile(fit['fit']['lambda'][:,i,2],2.5))\n",
    "#     newD_ub.append(np.percentile(fit['fit']['lambda'][:,i,2],97.5))\n",
    "    \n",
    "# plt.fill_between(range(x), newC_lb, newC_ub,color='b',label='95% credible new C',alpha=a)\n",
    "# plt.fill_between(range(x), newR_lb, newR_ub,color='g',label='95% credible new R',alpha=a)\n",
    "# plt.fill_between(range(x), newD_lb, newD_ub,color='k',label='95% credible new D',alpha=a)\n",
    "\n",
    "# ## plot mitigation\n",
    "\n",
    "# # try:\n",
    "# #     indm = np.where(DF['dates2']==mitigate[roi])[0][0]\n",
    "# #     plt.axvline(indm-t0, color=\"k\", label='stay-at-home')\n",
    "# #     plt.axvline(np.median(fit['fit']['theta'][:,7]), linestyle=\"dashed\", color=\"k\", label='mlocation')\n",
    "# # except:\n",
    "# #     print('not in')\n",
    "\n",
    "# plt.ylabel('people')\n",
    "# plt.xlabel(r'days since confirmed$>=$10')\n",
    "# plt.title(roi)\n",
    "# plt.legend(loc=2)\n",
    "# simpleaxis(plt.gca())\n",
    "\n"
   ]
  },
  {
   "cell_type": "code",
   "execution_count": 12,
   "metadata": {},
   "outputs": [],
   "source": [
    "\n",
    "# x = np.shape(fit['fit']['u'])[1]\n",
    "# NI_lb = []\n",
    "# NI_ub = []\n",
    "# NC_lb = []\n",
    "# NC_ub = []\n",
    "# NR_lb = []\n",
    "# NR_ub = []\n",
    "# ND_lb = []\n",
    "# ND_ub = []\n",
    "# for i in range(x):\n",
    "#     NI_lb.append(np.percentile(fit['fit']['u'][:,i,2],2.5))\n",
    "#     NI_ub.append(np.percentile(fit['fit']['u'][:,i,2],97.5))\n",
    "#     NC_lb.append(np.percentile(fit['fit']['u'][:,i,3],2.5))\n",
    "#     NC_ub.append(np.percentile(fit['fit']['u'][:,i,3],97.5))\n",
    "#     NR_lb.append(np.percentile(fit['fit']['u'][:,i,4],2.5))\n",
    "#     NR_ub.append(np.percentile(fit['fit']['u'][:,i,4],97.5))\n",
    "#     ND_lb.append(np.percentile(fit['fit']['u'][:,i,5],2.5))\n",
    "#     ND_ub.append(np.percentile(fit['fit']['u'][:,i,5],97.5))\n",
    "    \n",
    "# plt.fill_between(range(x), NI_lb, NI_ub,color='r',label='NI',alpha=a)\n",
    "# plt.fill_between(range(x), NC_lb, NC_ub,color='b',label='NC',alpha=a)\n",
    "# plt.fill_between(range(x), NR_lb, NR_ub,color='g',label='NR',alpha=a)\n",
    "# plt.fill_between(range(x), ND_lb, ND_ub,color='k',label='ND',alpha=a)\n",
    "# plt.ylabel('nondimensionalized')\n",
    "# plt.xlabel(r'days since confirmed$>=$10')\n",
    "# plt.title(roi)\n",
    "# plt.legend(title='95% credible interval',loc=2)\n",
    "# simpleaxis(plt.gca())\n",
    "# # plt.ylim((0,0.5))"
   ]
  },
  {
   "cell_type": "code",
   "execution_count": null,
   "metadata": {},
   "outputs": [],
   "source": []
  }
 ],
 "metadata": {
  "kernelspec": {
   "display_name": "Python 3",
   "language": "python",
   "name": "python3"
  },
  "language_info": {
   "codemirror_mode": {
    "name": "ipython",
    "version": 3
   },
   "file_extension": ".py",
   "mimetype": "text/x-python",
   "name": "python",
   "nbconvert_exporter": "python",
   "pygments_lexer": "ipython3",
   "version": "3.7.4"
  }
 },
 "nbformat": 4,
 "nbformat_minor": 2
}
