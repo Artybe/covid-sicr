{
 "cells": [
  {
   "cell_type": "code",
   "execution_count": 1,
   "metadata": {},
   "outputs": [],
   "source": [
    "import arviz as az\n",
    "import pystan, pickle\n",
    "import os\n",
    "# os.environ['STAN_NUM_THREADS'] = \"4\"\n",
    "import pandas as pd\n",
    "import matplotlib.pyplot as plt\n",
    "import numpy as np\n",
    "# import networkx as nx\n",
    "import warnings\n",
    "warnings.filterwarnings(\"ignore\", category=DeprecationWarning)\n",
    "# %matplotlib inline"
   ]
  },
  {
   "cell_type": "code",
   "execution_count": 3,
   "metadata": {},
   "outputs": [],
   "source": [
    "NY = pickle.load(open(\"./fits/model_fitUS_NY.pkl\", 'rb'))"
   ]
  },
  {
   "cell_type": "code",
   "execution_count": 28,
   "metadata": {},
   "outputs": [
    {
     "name": "stderr",
     "output_type": "stream",
     "text": [
      "WARNING:pystan:Truncated summary with the 'fit.__repr__' method. For the full summary use 'print(fit)'\n"
     ]
    },
    {
     "name": "stdout",
     "output_type": "stream",
     "text": [
      "{'model': <pystan.model.StanModel object at 0x107ce18d0>, 'fit': \n",
      "Warning: Shown data is truncated to 100 parameters\n",
      "For the full summary use 'print(fit)'\n",
      "\n",
      "Inference for Stan model: anon_model_39dfb0158a05fc823b35e926eb435920.\n",
      "4 chains, each with iter=5000; warmup=1000; thin=50; \n",
      "post-warmup draws per chain=80, total post-warmup draws=320.\n",
      "\n",
      "            mean se_mean     sd   2.5%    25%    50%    75%  97.5%  n_eff   Rhat\n",
      "theta[1]    4.57    2.96   4.23   1.17    1.2   2.72   7.38  12.85      2   15.1\n",
      "theta[2]    3.65    2.69   3.85   0.07   0.95   1.79   6.17  11.19      2  14.05\n",
      "theta[3]    0.01  2.9e-4 4.2e-4   0.01   0.01   0.01   0.01   0.01      2   6.93\n",
      "theta[4]  5.5e-3  1.1e-4 1.7e-4 5.2e-3 5.4e-3 5.6e-3 5.7e-3 5.8e-3      2   4.67\n",
      "theta[5]  6.2e-3  6.0e-3 9.0e-3 2.3e-6 3.6e-5 6.8e-4 4.3e-3   0.02      2   3.93\n",
      "theta[6]    0.27    0.08   0.11   0.08   0.15   0.33   0.36   0.37      2   9.59\n",
      "theta[7]    0.02  5.0e-4 7.6e-4   0.02   0.02   0.02   0.02   0.02      2   5.47\n",
      "theta[8]  486.22    7.88  11.19 471.98 478.05 484.13 493.84 505.51      2  18.09\n",
      "theta[9]    0.09  1.0e-3 1.5e-3   0.09   0.09   0.09   0.09   0.09      2   7.06\n",
      "theta[10]  33.04   38.04  68.25   0.09   0.09   0.12   0.87 211.17      3   3.46\n",
      "theta[11]  60.99   63.49 107.36   6.12   6.34   6.97  12.49 341.94      3   3.77\n",
      "theta[12]  99.58  106.76 153.82   0.03   0.13   19.0 228.91 357.95      2   5.63\n",
      "u[1,1]    1.2e-3  1.2e-3 1.7e-3 1.0e-6 3.9e-6 2.7e-4 2.7e-3 4.1e-3      2   5.91\n",
      "u[2,1]    1.4e-3  1.4e-3 2.0e-3 2.9e-6 1.0e-5 3.6e-4 3.1e-3 4.7e-3      2   6.15\n",
      "u[3,1]    1.6e-3  1.5e-3 2.2e-3 7.2e-6 2.3e-5 4.9e-4 3.5e-3 5.3e-3      2   6.34\n",
      "u[4,1]    1.8e-3  1.7e-3 2.5e-3 1.6e-5 5.0e-5 6.6e-4 4.0e-3 5.9e-3      2   6.47\n",
      "u[5,1]    2.1e-3  1.9e-3 2.7e-3 3.2e-5 9.8e-5 8.9e-4 4.6e-3 6.7e-3      2   6.54\n",
      "u[6,1]    2.5e-3  2.1e-3 3.0e-3 6.0e-5 1.8e-4 1.2e-3 5.2e-3 7.5e-3      2   6.54\n",
      "u[7,1]    2.9e-3  2.3e-3 3.2e-3 1.0e-4 3.1e-4 1.7e-3 5.9e-3 8.3e-3      2   6.46\n",
      "u[8,1]    3.5e-3  2.4e-3 3.5e-3 1.7e-4 5.2e-4 2.3e-3 6.6e-3 9.3e-3      2   6.27\n",
      "u[9,1]    4.2e-3  2.6e-3 3.8e-3 2.6e-4 8.2e-4 2.7e-3 7.4e-3   0.01      2   5.99\n",
      "u[10,1]   5.1e-3  2.9e-3 4.2e-3 3.9e-4 1.2e-3 3.1e-3 8.7e-3   0.01      2   5.65\n",
      "u[11,1]   6.2e-3  3.2e-3 4.7e-3 5.6e-4 1.8e-3 3.6e-3   0.01   0.01      2   5.33\n",
      "u[12,1]   7.6e-3  3.8e-3 5.5e-3 7.7e-4 2.4e-3 4.6e-3   0.01   0.01      2   5.11\n",
      "u[13,1]   9.2e-3  4.6e-3 6.6e-3 1.0e-3 2.8e-3 6.3e-3   0.02   0.02      2   5.01\n",
      "u[14,1]     0.01  5.6e-3 8.2e-3 1.3e-3 3.3e-3 7.8e-3   0.02   0.02      2   5.02\n",
      "u[15,1]     0.01  7.0e-3   0.01 1.7e-3 3.8e-3 9.4e-3   0.02   0.03      2   5.08\n",
      "u[16,1]     0.02  8.5e-3   0.01 2.1e-3 4.4e-3   0.01   0.02   0.04      2   5.18\n",
      "u[17,1]     0.02    0.01   0.01 2.5e-3 5.1e-3   0.01   0.02   0.04      2   5.28\n",
      "u[18,1]     0.02    0.01   0.02 3.0e-3 5.8e-3   0.02   0.03   0.05      2    5.4\n",
      "u[19,1]     0.02    0.01   0.02 3.5e-3 6.5e-3   0.02   0.03   0.06      2   5.51\n",
      "u[20,1]     0.03    0.01   0.02 4.0e-3 7.3e-3   0.02   0.03   0.06      2   5.63\n",
      "u[21,1]     0.03    0.02   0.02 4.5e-3 8.1e-3   0.02   0.04   0.07      2   5.74\n",
      "u[22,1]     0.03    0.02   0.02 5.0e-3 9.0e-3   0.02   0.04   0.07      2   5.85\n",
      "u[23,1]     0.03    0.02   0.03 5.5e-3 9.8e-3   0.03   0.04   0.07      2   5.94\n",
      "u[24,1]     0.03    0.02   0.03 5.9e-3   0.01   0.03   0.05   0.07      2   6.01\n",
      "u[25,1]     0.04    0.02   0.03 6.3e-3   0.01   0.03   0.05   0.08      2   6.04\n",
      "u[26,1]     0.04    0.02   0.03 6.7e-3   0.01   0.03   0.06   0.08      2   6.04\n",
      "u[27,1]     0.04    0.02   0.03 7.0e-3   0.01   0.03   0.06   0.07      2   6.01\n",
      "u[28,1]     0.04    0.02   0.03 7.3e-3   0.01   0.04   0.07   0.07      2   5.95\n",
      "u[29,1]     0.04    0.02   0.03 7.5e-3   0.02   0.04   0.07   0.08      2    5.9\n",
      "u[30,1]     0.05    0.02   0.03 7.6e-3   0.02   0.04   0.08   0.09      2   5.85\n",
      "u[31,1]     0.05    0.02   0.03 7.7e-3   0.02   0.04   0.08    0.1      2   5.82\n",
      "u[32,1]     0.05    0.03   0.04 7.7e-3   0.02   0.04   0.09   0.11      2   5.81\n",
      "u[33,1]     0.05    0.03   0.04 7.6e-3   0.02   0.04   0.09   0.12      2   5.82\n",
      "u[34,1]     0.06    0.03   0.05 7.5e-3   0.02   0.04    0.1   0.13      2   5.85\n",
      "u[35,1]     0.06    0.04   0.05 7.4e-3   0.02   0.04   0.11   0.14      2   5.88\n",
      "u[36,1]     0.07    0.04   0.06 7.2e-3   0.02   0.04   0.11   0.16      2   5.91\n",
      "u[1,2]    1.5e-3  1.1e-3 1.5e-3 1.6e-4 1.6e-4 9.6e-4 3.2e-3 3.9e-3      2  26.52\n",
      "u[2,2]    3.1e-3  2.3e-3 3.3e-3 1.6e-4 1.8e-4 2.0e-3 6.9e-3 8.1e-3      2  28.58\n",
      "u[3,2]    5.0e-3  3.7e-3 5.2e-3 1.7e-4 2.2e-4 3.4e-3   0.01   0.01      2  30.89\n",
      "u[4,2]    7.2e-3  5.3e-3 7.5e-3 2.1e-4 3.2e-4 5.2e-3   0.02   0.02      2  33.51\n",
      "u[5,2]    9.9e-3  7.0e-3   0.01 2.9e-4 5.3e-4 7.5e-3   0.02   0.02      2  36.45\n",
      "u[6,2]      0.01  9.0e-3   0.01 4.6e-4 9.5e-4   0.01   0.03   0.03      2  39.67\n",
      "u[7,2]      0.02    0.01   0.02 8.3e-4 1.7e-3   0.01   0.03   0.04      2  43.07\n",
      "u[8,2]      0.02    0.01   0.02 1.5e-3 3.0e-3   0.02   0.04   0.05      2  46.34\n",
      "u[9,2]      0.03    0.02   0.02 2.8e-3 5.2e-3   0.02   0.05   0.06      2  48.97\n",
      "u[10,2]     0.03    0.02   0.03 4.9e-3 8.6e-3   0.03   0.06   0.07      2  50.35\n",
      "u[11,2]     0.04    0.02   0.03 8.5e-3   0.01   0.04   0.07   0.08      2  50.09\n",
      "u[12,2]     0.05    0.02   0.03   0.01   0.02   0.05   0.09   0.09      2  48.35\n",
      "u[13,2]     0.06    0.02   0.03   0.02   0.03   0.06    0.1    0.1      2  45.74\n",
      "u[14,2]     0.08    0.03   0.04   0.03   0.04   0.08   0.12   0.12      2  42.92\n",
      "u[15,2]     0.09    0.03   0.04   0.05   0.06    0.1   0.13   0.14      2  40.28\n",
      "u[16,2]     0.12    0.03   0.04   0.07   0.08   0.12   0.15   0.15      2  37.82\n",
      "u[17,2]     0.14    0.02   0.03    0.1   0.11   0.14   0.17   0.17      2   35.0\n",
      "u[18,2]     0.17    0.02   0.03   0.14   0.14   0.17    0.2    0.2      2  30.49\n",
      "u[19,2]      0.2    0.02   0.02   0.18   0.18    0.2   0.23   0.23      2  22.75\n",
      "u[20,2]     0.24  9.8e-3   0.01   0.23   0.23   0.24   0.26   0.26      2  12.87\n",
      "u[21,2]     0.28  5.2e-3 7.6e-3   0.27   0.28   0.28   0.29    0.3      2   5.77\n",
      "u[22,2]     0.33  8.3e-3   0.01   0.31   0.32   0.33   0.34   0.35      2   7.51\n",
      "u[23,2]     0.38    0.02   0.02   0.35   0.36   0.38    0.4   0.41      2  12.07\n",
      "u[24,2]     0.44    0.02   0.03   0.39    0.4   0.44   0.46   0.49      2  16.32\n",
      "u[25,2]      0.5    0.03   0.05   0.43   0.45   0.49   0.53   0.56      2  20.28\n",
      "u[26,2]     0.56    0.04   0.06   0.48    0.5   0.56   0.61   0.63      2  24.02\n",
      "u[27,2]     0.62    0.05   0.07   0.54   0.56   0.62   0.68   0.71      2   27.3\n",
      "u[28,2]     0.69    0.05   0.07    0.6   0.62   0.69   0.76   0.78      2  29.56\n",
      "u[29,2]     0.77    0.05   0.08   0.67   0.69   0.77   0.84   0.86      2   30.2\n",
      "u[30,2]     0.84    0.06   0.08   0.74   0.76   0.84   0.92   0.94      2  29.08\n",
      "u[31,2]     0.92    0.05   0.08   0.82   0.84   0.92    1.0   1.01      2  26.58\n",
      "u[32,2]      1.0    0.05   0.07   0.91   0.93   1.01   1.07   1.09      2  23.12\n",
      "u[33,2]     1.09    0.04   0.06   1.01   1.03   1.09   1.15   1.16      2  18.89\n",
      "u[34,2]     1.18    0.03   0.04   1.12   1.13   1.18   1.22   1.24      2  13.72\n",
      "u[35,2]     1.27    0.02   0.03   1.24   1.25   1.27   1.29   1.31      2   7.42\n",
      "u[36,2]     1.37  8.2e-3   0.01   1.35   1.36   1.37   1.38   1.39      2   3.39\n",
      "u[1,3]    2.6e-3  2.3e-3 3.3e-3 8.0e-6 1.1e-5 1.2e-3 6.1e-3 8.1e-3      2   9.07\n",
      "u[2,3]    4.6e-3  3.8e-3 5.5e-3 3.1e-5 3.9e-5 2.5e-3   0.01   0.01      2  11.55\n",
      "u[3,3]    6.9e-3  5.5e-3 7.9e-3 9.2e-5 1.1e-4 4.2e-3   0.02   0.02      2  13.53\n",
      "u[4,3]    9.7e-3  7.5e-3   0.01 2.3e-4 2.6e-4 6.4e-3   0.02   0.03      2  15.23\n",
      "u[5,3]      0.01  9.6e-3   0.01 5.3e-4 5.7e-4 9.2e-3   0.03   0.03      2  16.75\n",
      "u[6,3]      0.02    0.01   0.02 1.1e-3 1.2e-3   0.01   0.04   0.04      2  18.13\n",
      "u[7,3]      0.02    0.01   0.02 2.1e-3 2.2e-3   0.02   0.05   0.05      2  19.35\n",
      "u[8,3]      0.03    0.02   0.02 3.8e-3 4.0e-3   0.02   0.06   0.06      2  20.35\n",
      "u[9,3]      0.04    0.02   0.03 6.5e-3 6.9e-3   0.03   0.07   0.07      2  21.03\n",
      "u[10,3]     0.04    0.02   0.03   0.01   0.01   0.04   0.08   0.09      2  21.22\n",
      "u[11,3]     0.05    0.03   0.04   0.02   0.02   0.05    0.1    0.1      2  20.72\n",
      "u[12,3]     0.07    0.03   0.04   0.03   0.03   0.07   0.11   0.12      2  19.36\n",
      "u[13,3]     0.08    0.03   0.04   0.04   0.04   0.08   0.13   0.14      2  17.12\n",
      "u[14,3]      0.1    0.03   0.04   0.05   0.05   0.11   0.15   0.16      2  14.29\n",
      "u[15,3]     0.13    0.03   0.04   0.07   0.08   0.14   0.18   0.18      2  11.34\n",
      "lp__      -1.7e4  5548.0 7872.5 -2.8e4 -2.6e4 -1.6e4 -1.0e4  -9070      2  47.16\n",
      "\n",
      "Samples were drawn using NUTS at Fri Apr 10 20:22:04 2020.\n",
      "For each parameter, n_eff is a crude measure of effective sample size,\n",
      "and Rhat is the potential scale reduction factor on split chains (at \n",
      "convergence, Rhat=1).}\n"
     ]
    },
    {
     "data": {
      "text/plain": [
       "[<matplotlib.lines.Line2D at 0x12e4355d0>]"
      ]
     },
     "execution_count": 28,
     "metadata": {},
     "output_type": "execute_result"
    },
    {
     "data": {
      "image/png": "[encoded data removed]",
      "text/plain": [
       "<Figure size 432x288 with 1 Axes>"
      ]
     },
     "metadata": {
      "needs_background": "light"
     },
     "output_type": "display_data"
    }
   ],
   "source": [
    "print(NY)\n",
    "plt.plot(np.median(NY['fit']['lambda'][:,:,0],0))\n",
    "plt.plot(np.median(NY['fit']['lambda'][:,:,1],0))\n",
    "plt.plot(np.median(NY['fit']['lambda'][:,:,2],0))\n",
    "\n"
   ]
  },
  {
   "cell_type": "code",
   "execution_count": null,
   "metadata": {},
   "outputs": [],
   "source": []
  }
 ],
 "metadata": {
  "kernelspec": {
   "display_name": "Python 3",
   "language": "python",
   "name": "python3"
  },
  "language_info": {
   "codemirror_mode": {
    "name": "ipython",
    "version": 3
   },
   "file_extension": ".py",
   "mimetype": "text/x-python",
   "name": "python",
   "nbconvert_exporter": "python",
   "pygments_lexer": "ipython3",
   "version": "3.7.4"
  }
 },
 "nbformat": 4,
 "nbformat_minor": 2
}
