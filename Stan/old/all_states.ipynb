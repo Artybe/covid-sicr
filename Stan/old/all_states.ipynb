{
 "cells": [
  {
   "cell_type": "code",
   "execution_count": 1,
   "metadata": {},
   "outputs": [],
   "source": [
    "from multiprocessing import Pool\n",
    "import numpy as np\n",
    "import os\n",
    "import pathlib\n",
    "import pickle\n",
    "import warnings\n",
    "warnings.simplefilter(action='ignore', category=FutureWarning)"
   ]
  },
  {
   "cell_type": "code",
   "execution_count": 2,
   "metadata": {},
   "outputs": [],
   "source": [
    "# Generate list of countries or states currently in the repository (ours, not JHU's)\n",
    "states = [x.name.split('.')[0].split('_')[-1]\n",
    "                    for x in pathlib.Path('../data').iterdir()\n",
    "                    if 'covid_timeseries_US_' in str(x)]\n",
    "os.makedirs('fits', exist_ok=True)"
   ]
  },
  {
   "cell_type": "code",
   "execution_count": 3,
   "metadata": {},
   "outputs": [],
   "source": [
    "from __init__ import load_or_compile_stan_model\n",
    "from MBS_epidemic_ccclinearrd_fullinearmodel import go"
   ]
  },
  {
   "cell_type": "code",
   "execution_count": 4,
   "metadata": {},
   "outputs": [
    {
     "name": "stdout",
     "output_type": "stream",
     "text": [
      "Loading from cache...\n",
      "CPU times: user 22.8 ms, sys: 62.2 ms, total: 85 ms\n",
      "Wall time: 82.1 ms\n"
     ]
    }
   ],
   "source": [
    "%time sm = load_or_compile_stan_model('MBS_epidemic_ccclinearrd_fullinearmodel', force_recompile=False)"
   ]
  },
  {
   "cell_type": "code",
   "execution_count": 5,
   "metadata": {},
   "outputs": [],
   "source": [
    "def run(sm, state):\n",
    "    max_iter=100\n",
    "    roi = 'US_%s' % state\n",
    "    i = 0\n",
    "    while i<max_iter:\n",
    "        try:\n",
    "            go(sm, roi)\n",
    "        except RuntimeError:\n",
    "            i+=1\n",
    "        else:\n",
    "            return \"%s succeeded on iteration %d\" % (state, i)\n",
    "    return \"%s failed after %d iterations\" % (state, max_iter)"
   ]
  },
  {
   "cell_type": "code",
   "execution_count": null,
   "metadata": {},
   "outputs": [],
   "source": [
    "pool = Pool(processes=20)\n",
    "results = [pool.apply_async(run, [sm, state]) for state in states]\n",
    "answers = [result.get() for result in results]"
   ]
  },
  {
   "cell_type": "code",
   "execution_count": null,
   "metadata": {},
   "outputs": [],
   "source": [
    "answers"
   ]
  },
  {
   "cell_type": "code",
   "execution_count": null,
   "metadata": {},
   "outputs": [],
   "source": []
  }
 ],
 "metadata": {
  "kernelspec": {
   "display_name": "Python 3",
   "language": "python",
   "name": "python3"
  },
  "language_info": {
   "codemirror_mode": {
    "name": "ipython",
    "version": 3
   },
   "file_extension": ".py",
   "mimetype": "text/x-python",
   "name": "python",
   "nbconvert_exporter": "python",
   "pygments_lexer": "ipython3",
   "version": "3.7.4"
  }
 },
 "nbformat": 4,
 "nbformat_minor": 4
}
