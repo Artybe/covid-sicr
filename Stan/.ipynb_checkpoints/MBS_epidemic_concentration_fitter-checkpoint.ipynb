{
 "cells": [
  {
   "cell_type": "code",
   "execution_count": 1,
   "metadata": {
    "cellView": "both",
    "colab": {
     "base_uri": "https://localhost:8080/",
     "height": 309
    },
    "colab_type": "code",
    "id": "AKP2Vok31tsE",
    "outputId": "f268f545-a908-4e75-f957-dad08b72c277"
   },
   "outputs": [],
   "source": [
    "#@title Install arviz\n",
    "# !pip3 install arviz"
   ]
  },
  {
   "cell_type": "code",
   "execution_count": 2,
   "metadata": {
    "colab": {},
    "colab_type": "code",
    "id": "a0disJ2Uy-Bx"
   },
   "outputs": [],
   "source": [
    "import arviz as az\n",
    "import pystan\n",
    "import os\n",
    "# os.environ['STAN_NUM_THREADS'] = \"4\"\n",
    "import pandas as pd\n",
    "import matplotlib.pyplot as plt\n",
    "import numpy as np\n",
    "import networkx as nx\n",
    "import warnings\n",
    "warnings.filterwarnings(\"ignore\", category=DeprecationWarning)\n",
    "%matplotlib inline"
   ]
  },
  {
   "cell_type": "markdown",
   "metadata": {
    "colab_type": "text",
    "id": "YT3IVNpzrBoM"
   },
   "source": [
    "## Select model"
   ]
  },
  {
   "cell_type": "code",
   "execution_count": 3,
   "metadata": {
    "colab": {},
    "colab_type": "code",
    "id": "-UJBadMvq8aM",
    "scrolled": true
   },
   "outputs": [
    {
     "name": "stdout",
     "output_type": "stream",
     "text": [
      "\n",
      "        About: \n",
      "\n",
      "        SICRDq model \n",
      "\n",
      "        Some unknown I and known C, both go to recovered and death \n",
      "\n",
      "        I and C have same leak to r and d but different to total infected Z\n",
      "        \n",
      "S: susceptible\n",
      "I: infected\n",
      "C: identified cases\n",
      "R: recovered\n",
      "D: dead\n"
     ]
    },
    {
     "name": "stderr",
     "output_type": "stream",
     "text": [
      "/usr/local/lib/python3.7/site-packages/networkx/drawing/nx_pylab.py:579: MatplotlibDeprecationWarning: \n",
      "The iterable function was deprecated in Matplotlib 3.1 and will be removed in 3.3. Use np.iterable instead.\n",
      "  if not cb.iterable(width):\n",
      "/usr/local/lib/python3.7/site-packages/networkx/drawing/nx_pylab.py:676: MatplotlibDeprecationWarning: \n",
      "The iterable function was deprecated in Matplotlib 3.1 and will be removed in 3.3. Use np.iterable instead.\n",
      "  if cb.iterable(node_size):  # many node sizes\n"
     ]
    },
    {
     "data": {
      "image/png": "[encoded data removed]",
      "text/plain": [
       "<Figure size 432x288 with 1 Axes>"
      ]
     },
     "metadata": {},
     "output_type": "display_data"
    }
   ],
   "source": [
    "import MBS_epidemic_concentration_models as models\n",
    "model = models.model_sicrq()\n",
    "model.plotnetwork()"
   ]
  },
  {
   "cell_type": "markdown",
   "metadata": {},
   "source": [
    "## Compile"
   ]
  },
  {
   "cell_type": "code",
   "execution_count": 4,
   "metadata": {},
   "outputs": [
    {
     "name": "stderr",
     "output_type": "stream",
     "text": [
      "INFO:pystan:COMPILING THE C++ CODE FOR MODEL anon_model_c82afb499fb468594fdf6679402f5aa6 NOW.\n"
     ]
    }
   ],
   "source": [
    "stanrunmodel = pystan.StanModel(model_code=model.stan)"
   ]
  },
  {
   "cell_type": "markdown",
   "metadata": {
    "colab_type": "text",
    "id": "qn5Cei_mLN0P"
   },
   "source": [
    "# Load data from JHU\n",
    "\n"
   ]
  },
  {
   "cell_type": "code",
   "execution_count": 5,
   "metadata": {
    "colab": {},
    "colab_type": "code",
    "id": "ofuI7UGsLNd7"
   },
   "outputs": [],
   "source": [
    "url_confirmed = \"https://raw.githubusercontent.com/CSSEGISandData/COVID-19/master/csse_covid_19_data/csse_covid_19_time_series/time_series_covid19_confirmed_global.csv\"\n",
    "url_deaths = \"https://raw.githubusercontent.com/CSSEGISandData/COVID-19/master/csse_covid_19_data/csse_covid_19_time_series/time_series_covid19_deaths_global.csv\"\n",
    "url_recovered = \"https://raw.githubusercontent.com/CSSEGISandData/COVID-19/master/csse_covid_19_data/csse_covid_19_time_series/time_series_covid19_recovered_global.csv\"\n",
    "\n",
    "dfc = pd.read_csv(url_confirmed)\n",
    "dfd = pd.read_csv(url_deaths)\n",
    "dfr = pd.read_csv(url_recovered)\n",
    "\n",
    "\n"
   ]
  },
  {
   "cell_type": "markdown",
   "metadata": {
    "colab_type": "text",
    "id": "JQDsWrTVteCu"
   },
   "source": [
    "## Make JHU ROI DF"
   ]
  },
  {
   "cell_type": "markdown",
   "metadata": {},
   "source": [
    "### Enter country "
   ]
  },
  {
   "cell_type": "code",
   "execution_count": 6,
   "metadata": {},
   "outputs": [],
   "source": [
    "#Austria,Belgium,Denmark,France,Germany,Italy,Norway,Spain,Sweden,Switzerland,United Kingdom\n",
    "roi = \"Italy\""
   ]
  },
  {
   "cell_type": "code",
   "execution_count": 7,
   "metadata": {
    "colab": {},
    "colab_type": "code",
    "id": "XDoHvSi-NQRQ"
   },
   "outputs": [
    {
     "name": "stdout",
     "output_type": "stream",
     "text": [
      "t0 assumed to be: day 29\n"
     ]
    },
    {
     "data": {
      "text/plain": [
       "<matplotlib.legend.Legend at 0x1383d7150>"
      ]
     },
     "execution_count": 7,
     "metadata": {},
     "output_type": "execute_result"
    },
    {
     "data": {
      "image/png": "[encoded data removed]",
      "text/plain": [
       "<Figure size 432x288 with 1 Axes>"
      ]
     },
     "metadata": {
      "needs_background": "light"
     },
     "output_type": "display_data"
    }
   ],
   "source": [
    "dfc2 = dfc.loc[(dfc['Country/Region']==roi)&(pd.isnull(dfc['Province/State']))]\n",
    "dfd2 = dfd.loc[(dfd['Country/Region']==roi)&(pd.isnull(dfd['Province/State']))]\n",
    "dfr2 = dfr.loc[(dfr['Country/Region']==roi)&(pd.isnull(dfr['Province/State']))]\n",
    "\n",
    "\n",
    "DF = df = pd.DataFrame(columns=['date','cases','recovered','deaths'])\n",
    "\n",
    "dates = dfc.columns[4:].values\n",
    "\n",
    "for i in range(len(dates)):\n",
    "  DF.loc[i] = pd.Series({'date':dates[i],\n",
    "                         'cases':dfc2[dates[i]].values[0] - (dfr2[dates[i]].values[0] + dfd2[dates[i]].values[0]),\n",
    "                         'recovered':dfr2[dates[i]].values[0],\n",
    "                         'deaths':dfd2[dates[i]].values[0]})\n",
    "\n",
    "\n",
    "pop = {}\n",
    "pop['Italy'] = 60500000\n",
    "pop['United Kingdom'] = 64400000\n",
    "pop['France'] = 66990000\n",
    "\n",
    "t0 = np.where(DF[\"cases\"].values>5)[0][0] - 1# estimated day of first exposure? Need to make this a parameter\n",
    "model.stan_data['t0'] = t0-1\n",
    "print(\"t0 assumed to be: day \"+str(t0))\n",
    "plt.plot(DF[\"cases\"],'bo', label=\"cases\")\n",
    "plt.plot(DF[\"recovered\"],'go',label=\"recovered\")\n",
    "plt.plot(DF[\"deaths\"],'ks',label=\"deaths\")\n",
    "\n",
    "plt.axvline(model.stan_data['t0'],color='k', linestyle=\"dashed\")\n",
    "plt.legend()\n"
   ]
  },
  {
   "cell_type": "markdown",
   "metadata": {
    "colab_type": "text",
    "id": "gLSieVFFtjOb"
   },
   "source": [
    "## Format JHU ROI data for Stan"
   ]
  },
  {
   "cell_type": "code",
   "execution_count": 8,
   "metadata": {
    "colab": {
     "base_uri": "https://localhost:8080/",
     "height": 299
    },
    "colab_type": "code",
    "id": "iG4K7TG6NTJI",
    "outputId": "12052154-8907-4d79-d85a-7823584d3aca",
    "scrolled": true
   },
   "outputs": [],
   "source": [
    "#truncate time series from t0 on (initial is t0-1)\n",
    "model.stan_data['ts'] = np.arange(t0,len(dates))  \n",
    "model.stan_data['y'] = (DF[['cases','recovered','deaths']].to_numpy()).astype(int)[t0:,:]\n",
    "model.stan_data['n_obs'] = len(dates) - t0"
   ]
  },
  {
   "cell_type": "markdown",
   "metadata": {},
   "source": [
    "### Enter population manually"
   ]
  },
  {
   "cell_type": "code",
   "execution_count": 9,
   "metadata": {},
   "outputs": [],
   "source": [
    "model.stan_data['n_pop'] = pop[roi] \n",
    "model.stan_data['n_scale'] = 10000000\n"
   ]
  },
  {
   "cell_type": "markdown",
   "metadata": {},
   "source": [
    "### Print data for Stan "
   ]
  },
  {
   "cell_type": "code",
   "execution_count": 10,
   "metadata": {},
   "outputs": [
    {
     "name": "stdout",
     "output_type": "stream",
     "text": [
      "{'n_theta': 6, 'n_difeq': 5, 'n_ostates': 3, 't0': 28, 'ts': array([29, 30, 31, 32, 33, 34, 35, 36, 37, 38, 39, 40, 41, 42, 43, 44, 45,\n",
      "       46, 47, 48, 49, 50, 51, 52, 53, 54, 55, 56, 57, 58, 59, 60, 61, 62,\n",
      "       63, 64, 65, 66, 67, 68, 69, 70, 71, 72, 73, 74, 75]), 'y': array([[    3,     0,     0],\n",
      "       [   19,     0,     1],\n",
      "       [   59,     1,     2],\n",
      "       [  150,     2,     3],\n",
      "       [  221,     1,     7],\n",
      "       [  311,     1,    10],\n",
      "       [  438,     3,    12],\n",
      "       [  593,    45,    17],\n",
      "       [  821,    46,    21],\n",
      "       [ 1053,    46,    29],\n",
      "       [ 1577,    83,    34],\n",
      "       [ 1835,   149,    52],\n",
      "       [ 2263,   160,    79],\n",
      "       [ 2706,   276,   107],\n",
      "       [ 3296,   414,   148],\n",
      "       [ 3916,   523,   197],\n",
      "       [ 5061,   589,   233],\n",
      "       [ 6387,   622,   366],\n",
      "       [ 7985,   724,   463],\n",
      "       [ 8794,   724,   631],\n",
      "       [10590,  1045,   827],\n",
      "       [10590,  1045,   827],\n",
      "       [14955,  1439,  1266],\n",
      "       [17750,  1966,  1441],\n",
      "       [20603,  2335,  1809],\n",
      "       [23073,  2749,  2158],\n",
      "       [26062,  2941,  2503],\n",
      "       [28710,  4025,  2978],\n",
      "       [33190,  4440,  3405],\n",
      "       [38549,  4440,  4032],\n",
      "       [42681,  6072,  4825],\n",
      "       [46638,  7024,  5476],\n",
      "       [50826,  7024,  6077],\n",
      "       [54030,  8326,  6820],\n",
      "       [57521,  9362,  7503],\n",
      "       [62013, 10361,  8215],\n",
      "       [66414, 10950,  9134],\n",
      "       [70065, 12384, 10023],\n",
      "       [73880, 13030, 10779],\n",
      "       [75528, 14620, 11591],\n",
      "       [77635, 15729, 12428],\n",
      "       [80572, 16847, 13155],\n",
      "       [83049, 18278, 13915],\n",
      "       [85388, 19758, 14681],\n",
      "       [88274, 20996, 15362],\n",
      "       [91246, 21815, 15887],\n",
      "       [93187, 22837, 16523]]), 'n_obs': 47, 'n_pop': 60500000, 'n_scale': 10000000}\n"
     ]
    }
   ],
   "source": [
    "print(model.stan_data)"
   ]
  },
  {
   "cell_type": "markdown",
   "metadata": {},
   "source": [
    "# Load England School 1978 Influenza data "
   ]
  },
  {
   "cell_type": "code",
   "execution_count": 11,
   "metadata": {},
   "outputs": [],
   "source": [
    "# #England 1978 influenza\n",
    "# cases = [0,8,26,76,225,298,258,233,189,128,150,85,14,4]\n",
    "# recovered = [0,0,0,0,9,17,105,162,176,166,150,85,47,20]\n",
    "# plt.plot(cases,'bo', label=\"cases\")\n",
    "# plt.plot(recovered,'go',label=\"recovered\")\n",
    "# pop = 763\n",
    "# model.stan_data['t0'] = 0\n",
    "# #truncate time series from t0 on (initial is t0-1)\n",
    "# model.stan_data['n_pop'] = pop \n",
    "# model.stan_data['ts'] = np.arange(1,len(cases)+1)  \n",
    "# Y = np.hstack([np.c_[cases],np.c_[recovered],np.zeros((len(cases),1))]).astype(int)\n",
    "# model.stan_data['y'] = Y\n",
    "# model.stan_data['n_obs'] = len(cases)\n",
    "\n",
    "# plt.plot(cases,'bo', label=\"cases\")\n",
    "# plt.plot(recovered,'go',label=\"recovered\")\n",
    "\n",
    "# plt.legend()"
   ]
  },
  {
   "cell_type": "markdown",
   "metadata": {
    "colab_type": "text",
    "id": "GDWmF_KQ2Hg3"
   },
   "source": [
    "# Run Stan "
   ]
  },
  {
   "cell_type": "markdown",
   "metadata": {},
   "source": [
    "## Initialize parameters"
   ]
  },
  {
   "cell_type": "code",
   "execution_count": 12,
   "metadata": {
    "colab": {},
    "colab_type": "code",
    "id": "oImIcxX9Lull"
   },
   "outputs": [],
   "source": [
    "# Feed in some feasible initial values to start from\n",
    "\n",
    "# init_par = [{'theta':[0.25,0.01,0.01,0.05,.02],'S0':0.5}] \n",
    "\n",
    "\n",
    "if model.name in [\"sir1\",\"sir2\"]:\n",
    "    def init_fun():\n",
    "        x = {'theta':\n",
    "             [0.5*np.random.uniform()]+\n",
    "             [0.1*np.random.uniform()]\n",
    "            }\n",
    "        return x\n",
    "\n",
    "if model.name in [\"sicu\"]:\n",
    "    def init_fun():\n",
    "        x = {'theta':\n",
    "             [0.1*np.random.uniform()]+\n",
    "             [0.1*np.random.uniform()]+\n",
    "             [0.5*np.random.uniform()]+\n",
    "             [0.1*np.random.uniform()]\n",
    "            }\n",
    "        return x\n",
    "    \n",
    "if model.name in [\"sicuq\",\"sicuf\"]:\n",
    "    def init_fun():\n",
    "        x = {'theta':\n",
    "             [0.1*np.random.uniform()]+\n",
    "             [0.1*np.random.uniform()]+\n",
    "             [0.5*np.random.uniform()]+\n",
    "             [0.1*np.random.uniform()]+\n",
    "             [0.1*np.random.uniform()]\n",
    "            }\n",
    "        return x\n",
    "    \n",
    "# if model.name in [\"sicrq\"]:\n",
    "#     def init_fun():\n",
    "#         x = {'theta':\n",
    "#              [10*0.1*np.random.uniform()]+\n",
    "#              [10*0.1*np.random.uniform()]+\n",
    "#              [10*0.1*np.random.uniform()]+\n",
    "#              [10*0.1*np.random.uniform()]+\n",
    "#              [10*0.5*np.random.uniform()]+\n",
    "#              [10*0.1*np.random.uniform()]}\n",
    "#         return x\n",
    "\n",
    "# lognormal(log(0.1),10)\n",
    "if model.name in [\"sicrq\"]:\n",
    "    def init_fun():\n",
    "        x = {'theta':\n",
    "             [np.random.lognormal(np.log(0.1),10)]+\n",
    "             [np.random.lognormal(np.log(0.1),10)]+\n",
    "             [np.random.lognormal(np.log(0.1),10)]+\n",
    "             [np.random.lognormal(np.log(0.1),10)]+\n",
    "             [np.random.lognormal(np.log(0.25),10)]+\n",
    "             [np.random.lognormal(np.log(0.1),10)]}\n",
    "        return x"
   ]
  },
  {
   "cell_type": "markdown",
   "metadata": {},
   "source": [
    "## Fit Stan "
   ]
  },
  {
   "cell_type": "code",
   "execution_count": 13,
   "metadata": {
    "colab": {
     "base_uri": "https://localhost:8080/",
     "height": 429
    },
    "colab_type": "code",
    "id": "3rtwA8puqVrv",
    "outputId": "061a2610-4f20-4cb2-c8fd-10d97d845fbe"
   },
   "outputs": [
    {
     "name": "stderr",
     "output_type": "stream",
     "text": [
      "WARNING:pystan:n_eff / iter below 0.001 indicates that the effective sample size has likely been overestimated\n",
      "WARNING:pystan:Rhat above 1.1 or below 0.9 indicates that the chains very likely have not mixed\n",
      "WARNING:pystan:16 of 320 iterations ended with a divergence (5 %).\n",
      "WARNING:pystan:Try running with adapt_delta larger than 0.95 to remove the divergences.\n",
      "WARNING:pystan:51 of 320 iterations saturated the maximum tree depth of 10 (15.9 %)\n",
      "WARNING:pystan:Run again with max_treedepth larger than 10 to avoid saturation\n"
     ]
    }
   ],
   "source": [
    "n_chains=4\n",
    "n_warmups=1000\n",
    "n_iter=5000\n",
    "n_thin=50\n",
    "\n",
    "control = {'adapt_delta':0.95}\n",
    "fit = stanrunmodel.sampling(data = model.stan_data,init = init_fun,control=control, chains = n_chains, warmup = n_warmups, iter = n_iter, thin=n_thin, seed=13219)\n",
    "\n"
   ]
  },
  {
   "cell_type": "code",
   "execution_count": 18,
   "metadata": {
    "colab": {},
    "colab_type": "code",
    "id": "2jXKxrCf3Vj2"
   },
   "outputs": [
    {
     "name": "stdout",
     "output_type": "stream",
     "text": [
      "Inference for Stan model: anon_model_c82afb499fb468594fdf6679402f5aa6.\n",
      "4 chains, each with iter=5000; warmup=1000; thin=50; \n",
      "post-warmup draws per chain=80, total post-warmup draws=320.\n",
      "\n",
      "                  mean se_mean     sd   2.5%    25%    50%    75%  97.5%  n_eff   Rhat\n",
      "theta[1]        9.1e-4  1.2e-7 2.3e-6 9.1e-4 9.1e-4 9.1e-4 9.2e-4 9.2e-4    345    1.0\n",
      "theta[2]          0.02  2.5e-6 4.1e-5   0.02   0.02   0.02   0.02   0.02    270    1.0\n",
      "theta[3]          0.01  1.7e-6 3.1e-5   0.01   0.01   0.01   0.01   0.01    328    1.0\n",
      "theta[4]        2.3e-3  1.2e-3   0.027.0e-2653.3e-1117.7e-561.9e-21 3.3e-3    331    1.0\n",
      "theta[5]          0.25  3.2e-5 5.2e-4   0.24   0.25   0.25   0.25   0.25    271    1.0\n",
      "theta[6]         3.9e4   19.21 324.74  3.9e4  3.9e4  3.9e4  3.9e4  4.0e4    286    1.0\n",
      "u[1,1]          4.3e-6  2.0e-9 3.5e-8 4.2e-6 4.3e-6 4.3e-6 4.3e-6 4.4e-6    294    1.0\n",
      "u[2,1]          9.1e-6  4.3e-9 7.4e-8 9.0e-6 9.1e-6 9.1e-6 9.2e-6 9.3e-6    293    1.0\n",
      "u[3,1]          1.5e-5  7.0e-9 1.2e-7 1.5e-5 1.5e-5 1.5e-5 1.5e-5 1.5e-5    293    1.0\n",
      "u[4,1]          2.2e-5 10.0e-9 1.7e-7 2.2e-5 2.2e-5 2.2e-5 2.2e-5 2.2e-5    293    1.0\n",
      "u[5,1]          3.1e-5  1.3e-8 2.3e-7 3.0e-5 3.1e-5 3.1e-5 3.1e-5 3.1e-5    292    1.0\n",
      "u[6,1]          4.2e-5  1.7e-8 2.9e-7 4.1e-5 4.1e-5 4.2e-5 4.2e-5 4.2e-5    292    1.0\n",
      "u[7,1]          5.5e-5  2.2e-8 3.7e-7 5.4e-5 5.4e-5 5.5e-5 5.5e-5 5.5e-5    291    1.0\n",
      "u[8,1]          7.1e-5  2.6e-8 4.5e-7 7.0e-5 7.0e-5 7.1e-5 7.1e-5 7.2e-5    291    1.0\n",
      "u[9,1]          9.0e-5  3.2e-8 5.4e-7 8.9e-5 9.0e-5 9.0e-5 9.1e-5 9.1e-5    290    1.0\n",
      "u[10,1]         1.1e-4  3.8e-8 6.4e-7 1.1e-4 1.1e-4 1.1e-4 1.1e-4 1.2e-4    290    1.0\n",
      "u[11,1]         1.4e-4  4.4e-8 7.6e-7 1.4e-4 1.4e-4 1.4e-4 1.4e-4 1.5e-4    292   1.01\n",
      "u[12,1]         1.8e-4  5.1e-8 8.8e-7 1.8e-4 1.8e-4 1.8e-4 1.8e-4 1.8e-4    294   1.01\n",
      "u[13,1]         2.2e-4  5.8e-8 1.0e-6 2.2e-4 2.2e-4 2.2e-4 2.2e-4 2.3e-4    296   1.01\n",
      "u[14,1]         2.8e-4  6.6e-8 1.1e-6 2.7e-4 2.8e-4 2.8e-4 2.8e-4 2.8e-4    299   1.01\n",
      "u[15,1]         3.4e-4  7.4e-8 1.3e-6 3.4e-4 3.4e-4 3.4e-4 3.4e-4 3.4e-4    301   1.01\n",
      "u[16,1]         4.2e-4  8.5e-8 1.4e-6 4.2e-4 4.2e-4 4.2e-4 4.2e-4 4.2e-4    290   1.01\n",
      "u[17,1]         5.1e-4  9.5e-8 1.6e-6 5.1e-4 5.1e-4 5.1e-4 5.1e-4 5.2e-4    287   1.01\n",
      "u[18,1]         6.2e-4  1.0e-7 1.8e-6 6.2e-4 6.2e-4 6.2e-4 6.3e-4 6.3e-4    292   1.01\n",
      "u[19,1]         7.6e-4  1.1e-7 2.0e-6 7.5e-4 7.6e-4 7.6e-4 7.6e-4 7.6e-4    310   1.01\n",
      "u[20,1]         9.1e-4  1.3e-7 2.2e-6 9.1e-4 9.1e-4 9.1e-4 9.1e-4 9.1e-4    302   1.01\n",
      "u[21,1]         1.1e-3  1.4e-7 2.4e-6 1.1e-3 1.1e-3 1.1e-3 1.1e-3 1.1e-3    292    1.0\n",
      "u[22,1]         1.3e-3  1.6e-7 2.7e-6 1.3e-3 1.3e-3 1.3e-3 1.3e-3 1.3e-3    282    1.0\n",
      "u[23,1]         1.5e-3  1.8e-7 3.0e-6 1.5e-3 1.5e-3 1.5e-3 1.5e-3 1.5e-3    275    1.0\n",
      "u[24,1]         1.8e-3  2.1e-7 3.4e-6 1.8e-3 1.8e-3 1.8e-3 1.8e-3 1.8e-3    270    1.0\n",
      "u[25,1]         2.1e-3  2.3e-7 3.8e-6 2.1e-3 2.1e-3 2.1e-3 2.1e-3 2.1e-3    267    1.0\n",
      "u[26,1]         2.4e-3  2.5e-7 4.1e-6 2.4e-3 2.4e-3 2.4e-3 2.4e-3 2.4e-3    264    1.0\n",
      "u[27,1]         2.7e-3  2.8e-7 4.5e-6 2.7e-3 2.7e-3 2.7e-3 2.7e-3 2.7e-3    263    1.0\n",
      "u[28,1]         3.1e-3  3.0e-7 4.8e-6 3.1e-3 3.1e-3 3.1e-3 3.1e-3 3.1e-3    262    1.0\n",
      "u[29,1]         3.5e-3  3.1e-7 5.0e-6 3.4e-3 3.5e-3 3.5e-3 3.5e-3 3.5e-3    261    1.0\n",
      "u[30,1]         3.8e-3  3.2e-7 5.2e-6 3.8e-3 3.8e-3 3.8e-3 3.8e-3 3.8e-3    260    1.0\n",
      "u[31,1]         4.2e-3  3.3e-7 5.3e-6 4.2e-3 4.2e-3 4.2e-3 4.2e-3 4.2e-3    259    1.0\n",
      "u[32,1]         4.6e-3  3.3e-7 5.4e-6 4.6e-3 4.6e-3 4.6e-3 4.6e-3 4.6e-3    259    1.0\n",
      "u[33,1]         5.0e-3  3.3e-7 5.4e-6 5.0e-3 5.0e-3 5.0e-3 5.0e-3 5.0e-3    260    1.0\n",
      "u[34,1]         5.4e-3  3.3e-7 5.4e-6 5.4e-3 5.4e-3 5.4e-3 5.4e-3 5.4e-3    263    1.0\n",
      "u[35,1]         5.8e-3  3.3e-7 5.4e-6 5.8e-3 5.8e-3 5.8e-3 5.8e-3 5.8e-3    268    1.0\n",
      "u[36,1]         6.2e-3  3.3e-7 5.5e-6 6.1e-3 6.2e-3 6.2e-3 6.2e-3 6.2e-3    276   0.99\n",
      "u[37,1]         6.5e-3  3.4e-7 5.7e-6 6.5e-3 6.5e-3 6.5e-3 6.5e-3 6.5e-3    287   0.99\n",
      "u[38,1]         6.9e-3  3.5e-7 6.0e-6 6.9e-3 6.9e-3 6.9e-3 6.9e-3 6.9e-3    301   0.99\n",
      "u[39,1]         7.2e-3  3.6e-7 6.4e-6 7.2e-3 7.2e-3 7.2e-3 7.2e-3 7.2e-3    315   0.99\n",
      "u[40,1]         7.5e-3  3.9e-7 7.0e-6 7.5e-3 7.5e-3 7.5e-3 7.5e-3 7.5e-3    328   0.99\n",
      "u[41,1]         7.8e-3  4.1e-7 7.6e-6 7.8e-3 7.8e-3 7.8e-3 7.8e-3 7.8e-3    339   0.99\n",
      "u[42,1]         8.1e-3  4.5e-7 8.3e-6 8.1e-3 8.1e-3 8.1e-3 8.1e-3 8.1e-3    348    1.0\n",
      "u[43,1]         8.3e-3  4.8e-7 9.1e-6 8.3e-3 8.3e-3 8.3e-3 8.3e-3 8.3e-3    355    1.0\n",
      "u[44,1]         8.6e-3  5.2e-7 9.9e-6 8.5e-3 8.6e-3 8.6e-3 8.6e-3 8.6e-3    360    1.0\n",
      "u[45,1]         8.8e-3  5.6e-7 1.1e-5 8.8e-3 8.8e-3 8.8e-3 8.8e-3 8.8e-3    363    1.0\n",
      "u[46,1]         9.0e-3  6.0e-7 1.2e-5 9.0e-3 9.0e-3 9.0e-3 9.0e-3 9.0e-3    365    1.0\n",
      "u[47,1]         9.2e-3  6.4e-7 1.2e-5 9.1e-3 9.2e-3 9.2e-3 9.2e-3 9.2e-3    367    1.0\n",
      "u[1,2]          3.9e-8 1.7e-113.0e-10 3.9e-8 3.9e-8 3.9e-8 3.9e-8 4.0e-8    315   1.01\n",
      "u[2,2]          1.6e-7 7.1e-11 1.3e-9 1.5e-7 1.5e-7 1.6e-7 1.6e-7 1.6e-7    314   1.01\n",
      "u[3,2]          3.6e-7 1.7e-10 3.0e-9 3.6e-7 3.6e-7 3.6e-7 3.7e-7 3.7e-7    314   1.01\n",
      "u[4,2]          6.9e-7 3.1e-10 5.5e-9 6.8e-7 6.8e-7 6.9e-7 6.9e-7 7.0e-7    314   1.01\n",
      "u[5,2]          1.1e-6 5.1e-10 9.0e-9 1.1e-6 1.1e-6 1.1e-6 1.2e-6 1.2e-6    314   1.01\n",
      "u[6,2]          1.8e-6 7.7e-10 1.4e-8 1.8e-6 1.8e-6 1.8e-6 1.8e-6 1.8e-6    315   1.01\n",
      "u[7,2]          2.6e-6  1.1e-9 1.9e-8 2.6e-6 2.6e-6 2.6e-6 2.6e-6 2.7e-6    315   1.01\n",
      "u[8,2]          3.7e-6  1.5e-9 2.7e-8 3.7e-6 3.7e-6 3.7e-6 3.7e-6 3.8e-6    316   1.01\n",
      "u[9,2]          5.1e-6  2.0e-9 3.5e-8 5.0e-6 5.1e-6 5.1e-6 5.1e-6 5.2e-6    317   1.01\n",
      "u[10,2]         6.9e-6  2.6e-9 4.6e-8 6.8e-6 6.9e-6 6.9e-6 6.9e-6 7.0e-6    318   1.01\n",
      "u[11,2]         9.1e-6  3.2e-9 5.8e-8 9.0e-6 9.1e-6 9.1e-6 9.2e-6 9.3e-6    319   1.01\n",
      "u[12,2]         1.2e-5  4.0e-9 7.2e-8 1.2e-5 1.2e-5 1.2e-5 1.2e-5 1.2e-5    320   1.01\n",
      "u[13,2]         1.5e-5  4.9e-9 8.8e-8 1.5e-5 1.5e-5 1.5e-5 1.6e-5 1.6e-5    322   1.01\n",
      "u[14,2]         2.0e-5  5.9e-9 1.1e-7 2.0e-5 2.0e-5 2.0e-5 2.0e-5 2.0e-5    324   1.01\n",
      "u[15,2]         2.5e-5  7.1e-9 1.3e-7 2.5e-5 2.5e-5 2.5e-5 2.5e-5 2.6e-5    326   1.01\n",
      "u[16,2]         3.2e-5  8.3e-9 1.5e-7 3.2e-5 3.2e-5 3.2e-5 3.2e-5 3.2e-5    329   1.01\n",
      "u[17,2]         4.0e-5  9.7e-9 1.8e-7 4.0e-5 4.0e-5 4.0e-5 4.0e-5 4.0e-5    332   1.01\n",
      "u[18,2]         5.0e-5  1.1e-8 2.1e-7 5.0e-5 5.0e-5 5.0e-5 5.0e-5 5.0e-5    335   1.01\n",
      "u[19,2]         6.2e-5  1.3e-8 2.4e-7 6.2e-5 6.2e-5 6.2e-5 6.2e-5 6.3e-5    336   1.01\n",
      "u[20,2]         7.7e-5  1.5e-8 2.7e-7 7.6e-5 7.6e-5 7.7e-5 7.7e-5 7.7e-5    335   1.02\n",
      "u[21,2]         9.4e-5  1.7e-8 3.1e-7 9.3e-5 9.4e-5 9.4e-5 9.4e-5 9.5e-5    330   1.02\n",
      "u[22,2]         1.1e-4  1.9e-8 3.5e-7 1.1e-4 1.1e-4 1.1e-4 1.2e-4 1.2e-4    325   1.02\n",
      "u[23,2]         1.4e-4  2.2e-8 3.9e-7 1.4e-4 1.4e-4 1.4e-4 1.4e-4 1.4e-4    319   1.02\n",
      "u[24,2]         1.7e-4  2.5e-8 4.5e-7 1.7e-4 1.7e-4 1.7e-4 1.7e-4 1.7e-4    314   1.02\n",
      "u[25,2]         2.0e-4  2.9e-8 5.1e-7 2.0e-4 2.0e-4 2.0e-4 2.0e-4 2.0e-4    310   1.02\n",
      "u[26,2]         2.4e-4  3.3e-8 5.8e-7 2.4e-4 2.4e-4 2.4e-4 2.4e-4 2.4e-4    306   1.02\n",
      "u[27,2]         2.9e-4  3.8e-8 6.6e-7 2.8e-4 2.9e-4 2.9e-4 2.9e-4 2.9e-4    299   1.02\n",
      "u[28,2]         3.4e-4  4.4e-8 7.6e-7 3.4e-4 3.4e-4 3.4e-4 3.4e-4 3.4e-4    293   1.02\n",
      "u[29,2]         3.9e-4  5.1e-8 8.7e-7 3.9e-4 3.9e-4 3.9e-4 3.9e-4 4.0e-4    287   1.02\n",
      "u[30,2]         4.6e-4  5.9e-8 9.9e-7 4.6e-4 4.6e-4 4.6e-4 4.6e-4 4.6e-4    282   1.02\n",
      "u[31,2]         5.3e-4  6.8e-8 1.1e-6 5.3e-4 5.3e-4 5.3e-4 5.3e-4 5.3e-4    279   1.02\n",
      "u[32,2]         6.1e-4  7.8e-8 1.3e-6 6.0e-4 6.0e-4 6.1e-4 6.1e-4 6.1e-4    277   1.02\n",
      "u[33,2]         6.9e-4  8.8e-8 1.5e-6 6.9e-4 6.9e-4 6.9e-4 6.9e-4 6.9e-4    275   1.02\n",
      "u[34,2]         7.8e-4 10.0e-8 1.6e-6 7.8e-4 7.8e-4 7.8e-4 7.8e-4 7.8e-4    275   1.02\n",
      "u[35,2]         8.8e-4  1.1e-7 1.9e-6 8.8e-4 8.8e-4 8.8e-4 8.8e-4 8.8e-4    275   1.02\n",
      "u[36,2]         9.8e-4  1.2e-7 2.1e-6 9.8e-4 9.8e-4 9.8e-4 9.9e-4 9.9e-4    276   1.01\n",
      "u[37,2]         1.1e-3  1.4e-7 2.3e-6 1.1e-3 1.1e-3 1.1e-3 1.1e-3 1.1e-3    277   1.01\n",
      "u[38,2]         1.2e-3  1.5e-7 2.5e-6 1.2e-3 1.2e-3 1.2e-3 1.2e-3 1.2e-3    278   1.01\n",
      "u[39,2]         1.3e-3  1.7e-7 2.8e-6 1.3e-3 1.3e-3 1.3e-3 1.3e-3 1.3e-3    279   1.01\n",
      "u[40,2]         1.5e-3  1.8e-7 3.1e-6 1.5e-3 1.5e-3 1.5e-3 1.5e-3 1.5e-3    286   1.01\n",
      "u[41,2]         1.6e-3  2.0e-7 3.4e-6 1.6e-3 1.6e-3 1.6e-3 1.6e-3 1.6e-3    296   1.01\n",
      "u[42,2]         1.7e-3  2.1e-7 3.7e-6 1.7e-3 1.7e-3 1.7e-3 1.7e-3 1.7e-3    299   1.01\n",
      "u[43,2]         1.9e-3  2.3e-7 4.0e-6 1.9e-3 1.9e-3 1.9e-3 1.9e-3 1.9e-3    301   1.01\n",
      "u[44,2]         2.0e-3  2.5e-7 4.3e-6 2.0e-3 2.0e-3 2.0e-3 2.0e-3 2.0e-3    302   1.01\n",
      "u[45,2]         2.2e-3  2.7e-7 4.7e-6 2.2e-3 2.2e-3 2.2e-3 2.2e-3 2.2e-3    303   1.01\n",
      "u[46,2]         2.3e-3  2.9e-7 5.0e-6 2.3e-3 2.3e-3 2.3e-3 2.3e-3 2.3e-3    304   1.01\n",
      "u[47,2]         2.5e-3  3.1e-7 5.4e-6 2.5e-3 2.5e-3 2.5e-3 2.5e-3 2.5e-3    306   1.01\n",
      "u[1,3]          3.0e-8 1.3e-112.4e-10 3.0e-8 3.0e-8 3.0e-8 3.0e-8 3.1e-8    342    1.0\n",
      "u[2,3]          1.2e-7 5.4e-11 1.0e-9 1.2e-7 1.2e-7 1.2e-7 1.2e-7 1.2e-7    343    1.0\n",
      "u[3,3]          2.8e-7 1.3e-10 2.4e-9 2.8e-7 2.8e-7 2.8e-7 2.8e-7 2.9e-7    343    1.0\n",
      "u[4,3]          5.3e-7 2.4e-10 4.4e-9 5.2e-7 5.3e-7 5.3e-7 5.3e-7 5.4e-7    343    1.0\n",
      "u[5,3]          8.9e-7 3.9e-10 7.2e-9 8.8e-7 8.8e-7 8.9e-7 8.9e-7 9.0e-7    343    1.0\n",
      "u[6,3]          1.4e-6 5.9e-10 1.1e-8 1.4e-6 1.4e-6 1.4e-6 1.4e-6 1.4e-6    343    1.0\n",
      "u[7,3]          2.0e-6 8.5e-10 1.6e-8 2.0e-6 2.0e-6 2.0e-6 2.0e-6 2.1e-6    342    1.0\n",
      "u[8,3]          2.9e-6  1.2e-9 2.1e-8 2.8e-6 2.9e-6 2.9e-6 2.9e-6 2.9e-6    342    1.0\n",
      "u[9,3]          4.0e-6  1.5e-9 2.9e-8 3.9e-6 3.9e-6 4.0e-6 4.0e-6 4.0e-6    341    1.0\n",
      "u[10,3]         5.3e-6  2.0e-9 3.7e-8 5.3e-6 5.3e-6 5.3e-6 5.4e-6 5.4e-6    340    1.0\n",
      "u[11,3]         7.1e-6  2.6e-9 4.7e-8 7.0e-6 7.0e-6 7.1e-6 7.1e-6 7.2e-6    339    1.0\n",
      "u[12,3]         9.3e-6  3.2e-9 5.9e-8 9.2e-6 9.2e-6 9.3e-6 9.3e-6 9.4e-6    338    1.0\n",
      "u[13,3]         1.2e-5  4.0e-9 7.3e-8 1.2e-5 1.2e-5 1.2e-5 1.2e-5 1.2e-5    337    1.0\n",
      "u[14,3]         1.5e-5  4.8e-9 8.8e-8 1.5e-5 1.5e-5 1.5e-5 1.5e-5 1.6e-5    335    1.0\n",
      "u[15,3]         2.0e-5  5.8e-9 1.1e-7 1.9e-5 1.9e-5 2.0e-5 2.0e-5 2.0e-5    333    1.0\n",
      "u[16,3]         2.5e-5  6.9e-9 1.3e-7 2.4e-5 2.5e-5 2.5e-5 2.5e-5 2.5e-5    331    1.0\n",
      "u[17,3]         3.1e-5  8.2e-9 1.5e-7 3.1e-5 3.1e-5 3.1e-5 3.1e-5 3.1e-5    329    1.0\n",
      "u[18,3]         3.9e-5  9.6e-9 1.7e-7 3.8e-5 3.9e-5 3.9e-5 3.9e-5 3.9e-5    326    1.0\n",
      "u[19,3]         4.8e-5  1.1e-8 2.0e-7 4.8e-5 4.8e-5 4.8e-5 4.8e-5 4.8e-5    323    1.0\n",
      "u[20,3]         5.9e-5  1.3e-8 2.3e-7 5.9e-5 5.9e-5 5.9e-5 5.9e-5 6.0e-5    320    1.0\n",
      "u[21,3]         7.3e-5  1.5e-8 2.7e-7 7.2e-5 7.3e-5 7.3e-5 7.3e-5 7.3e-5    316    1.0\n",
      "u[22,3]         8.9e-5  1.7e-8 3.1e-7 8.8e-5 8.9e-5 8.9e-5 8.9e-5 9.0e-5    313    1.0\n",
      "u[23,3]         1.1e-4  2.0e-8 3.5e-7 1.1e-4 1.1e-4 1.1e-4 1.1e-4 1.1e-4    310    1.0\n",
      "u[24,3]         1.3e-4  2.3e-8 4.0e-7 1.3e-4 1.3e-4 1.3e-4 1.3e-4 1.3e-4    308    1.0\n",
      "u[25,3]         1.6e-4  2.6e-8 4.5e-7 1.6e-4 1.6e-4 1.6e-4 1.6e-4 1.6e-4    306    1.0\n",
      "u[26,3]         1.9e-4  3.0e-8 5.2e-7 1.9e-4 1.9e-4 1.9e-4 1.9e-4 1.9e-4    305    1.0\n",
      "u[27,3]         2.2e-4  3.4e-8 5.9e-7 2.2e-4 2.2e-4 2.2e-4 2.2e-4 2.2e-4    304    1.0\n",
      "u[28,3]         2.6e-4  3.8e-8 6.7e-7 2.6e-4 2.6e-4 2.6e-4 2.6e-4 2.6e-4    305    1.0\n",
      "u[29,3]         3.0e-4  4.4e-8 7.6e-7 3.0e-4 3.0e-4 3.0e-4 3.1e-4 3.1e-4    306    1.0\n",
      "u[30,3]         3.5e-4  4.9e-8 8.6e-7 3.5e-4 3.5e-4 3.5e-4 3.5e-4 3.6e-4    308    1.0\n",
      "u[31,3]         4.1e-4  5.5e-8 9.8e-7 4.1e-4 4.1e-4 4.1e-4 4.1e-4 4.1e-4    310    1.0\n",
      "u[32,3]         4.7e-4  6.2e-8 1.1e-6 4.7e-4 4.7e-4 4.7e-4 4.7e-4 4.7e-4    312    1.0\n",
      "u[33,3]         5.3e-4  7.0e-8 1.2e-6 5.3e-4 5.3e-4 5.3e-4 5.3e-4 5.4e-4    315    1.0\n",
      "u[34,3]         6.0e-4  7.8e-8 1.4e-6 6.0e-4 6.0e-4 6.0e-4 6.1e-4 6.1e-4    317    1.0\n",
      "u[35,3]         6.8e-4  8.6e-8 1.5e-6 6.8e-4 6.8e-4 6.8e-4 6.8e-4 6.8e-4    319    1.0\n",
      "u[36,3]         7.6e-4  9.5e-8 1.7e-6 7.6e-4 7.6e-4 7.6e-4 7.6e-4 7.6e-4    321    1.0\n",
      "u[37,3]         8.5e-4  1.0e-7 1.9e-6 8.4e-4 8.5e-4 8.5e-4 8.5e-4 8.5e-4    323    1.0\n",
      "u[38,3]         9.4e-4  1.1e-7 2.1e-6 9.3e-4 9.4e-4 9.4e-4 9.4e-4 9.4e-4    324    1.0\n",
      "u[39,3]         1.0e-3  1.3e-7 2.3e-6 1.0e-3 1.0e-3 1.0e-3 1.0e-3 1.0e-3    326    1.0\n",
      "u[40,3]         1.1e-3  1.4e-7 2.5e-6 1.1e-3 1.1e-3 1.1e-3 1.1e-3 1.1e-3    327    1.0\n",
      "u[41,3]         1.2e-3  1.5e-7 2.7e-6 1.2e-3 1.2e-3 1.2e-3 1.2e-3 1.2e-3    327    1.0\n",
      "u[42,3]         1.3e-3  1.6e-7 2.9e-6 1.3e-3 1.3e-3 1.3e-3 1.3e-3 1.3e-3    328    1.0\n",
      "u[43,3]         1.5e-3  1.7e-7 3.2e-6 1.4e-3 1.5e-3 1.5e-3 1.5e-3 1.5e-3    328    1.0\n",
      "u[44,3]         1.6e-3  1.9e-7 3.4e-6 1.6e-3 1.6e-3 1.6e-3 1.6e-3 1.6e-3    329    1.0\n",
      "u[45,3]         1.7e-3  2.0e-7 3.7e-6 1.7e-3 1.7e-3 1.7e-3 1.7e-3 1.7e-3    329    1.0\n",
      "u[46,3]         1.8e-3  2.2e-7 3.9e-6 1.8e-3 1.8e-3 1.8e-3 1.8e-3 1.8e-3    329    1.0\n",
      "u[47,3]         1.9e-3  2.3e-7 4.2e-6 1.9e-3 1.9e-3 1.9e-3 1.9e-3 1.9e-3    329    1.0\n",
      "u[1,4]          4.9e-3  2.2e-6 3.8e-5 4.9e-3 4.9e-3 4.9e-3 5.0e-3 5.0e-3    286    1.0\n",
      "u[2,4]          6.1e-3  2.6e-6 4.4e-5 6.0e-3 6.1e-3 6.1e-3 6.2e-3 6.2e-3    287    1.0\n",
      "u[3,4]          7.6e-3  3.0e-6 5.2e-5 7.5e-3 7.5e-3 7.6e-3 7.6e-3 7.7e-3    288    1.0\n",
      "u[4,4]          9.4e-3  3.5e-6 6.0e-5 9.3e-3 9.3e-3 9.4e-3 9.4e-3 9.5e-3    289    1.0\n",
      "u[5,4]            0.01  4.1e-6 7.0e-5   0.01   0.01   0.01   0.01   0.01    291    1.0\n",
      "u[6,4]            0.01  4.9e-6 8.1e-5   0.01   0.01   0.01   0.01   0.01    278    1.0\n",
      "u[7,4]            0.02  5.8e-6 9.4e-5   0.02   0.02   0.02   0.02   0.02    265    1.0\n",
      "u[8,4]            0.02  6.5e-6 1.1e-4   0.02   0.02   0.02   0.02   0.02    282    1.0\n",
      "u[9,4]            0.03  7.0e-6 1.3e-4   0.03   0.03   0.03   0.03   0.03    332    1.0\n",
      "u[10,4]           0.03  8.2e-6 1.5e-4   0.03   0.03   0.03   0.03   0.03    328    1.0\n",
      "u[11,4]           0.04  9.7e-6 1.7e-4   0.04   0.04   0.04   0.04   0.04    324    1.0\n",
      "u[12,4]           0.05  1.2e-5 2.1e-4   0.05   0.05   0.05   0.05   0.05    319    1.0\n",
      "u[13,4]           0.06  1.4e-5 2.5e-4   0.06   0.06   0.06   0.06   0.06    314    1.0\n",
      "u[14,4]           0.07  1.7e-5 3.0e-4   0.07   0.07   0.07   0.07   0.07    310    1.0\n",
      "u[15,4]           0.09  2.1e-5 3.6e-4   0.09   0.09   0.09   0.09   0.09    305    1.0\n",
      "u[16,4]           0.11  2.5e-5 4.4e-4   0.11   0.11   0.11   0.11   0.11    302    1.0\n",
      "u[17,4]           0.13  3.1e-5 5.3e-4   0.13   0.13   0.13   0.13   0.13    299    1.0\n",
      "u[18,4]           0.15  3.7e-5 6.4e-4   0.15   0.15   0.15   0.15   0.16    297    1.0\n",
      "u[19,4]           0.18  4.4e-5 7.6e-4   0.18   0.18   0.18   0.18   0.18    296    1.0\n",
      "u[20,4]           0.21  5.2e-5 9.0e-4   0.21   0.21   0.21   0.21   0.21    296    1.0\n",
      "u[21,4]           0.25  6.1e-5 1.0e-3   0.24   0.25   0.25   0.25   0.25    296    1.0\n",
      "u[22,4]           0.28  6.9e-5 1.2e-3   0.28   0.28   0.28   0.28   0.29    296    1.0\n",
      "u[23,4]           0.32  7.7e-5 1.3e-3   0.32   0.32   0.32   0.32   0.32    297    1.0\n",
      "u[24,4]           0.36  8.3e-5 1.4e-3   0.36   0.36   0.36   0.36   0.36    298    1.0\n",
      "u[25,4]            0.4  8.8e-5 1.5e-3    0.4    0.4    0.4    0.4    0.4    299    1.0\n",
      "u[26,4]           0.44  9.0e-5 1.6e-3   0.43   0.44   0.44   0.44   0.44    300    1.0\n",
      "u[27,4]           0.47  9.0e-5 1.6e-3   0.47   0.47   0.47   0.47   0.48    301    1.0\n",
      "u[28,4]            0.5  8.8e-5 1.5e-3    0.5    0.5    0.5    0.5   0.51    303    1.0\n",
      "u[29,4]           0.53  8.4e-5 1.5e-3   0.53   0.53   0.53   0.53   0.53    304    1.0\n",
      "u[30,4]           0.56  7.9e-5 1.4e-3   0.55   0.55   0.56   0.56   0.56    306    1.0\n",
      "u[31,4]           0.57  7.2e-5 1.3e-3   0.57   0.57   0.57   0.58   0.58    308    1.0\n",
      "u[32,4]           0.59  6.4e-5 1.1e-3   0.59   0.59   0.59   0.59   0.59    311    1.0\n",
      "u[33,4]            0.6  5.6e-510.0e-4    0.6    0.6    0.6    0.6    0.6    313    1.0\n",
      "u[34,4]           0.61  5.0e-5 8.7e-4    0.6   0.61   0.61   0.61   0.61    309    1.0\n",
      "u[35,4]           0.61  4.3e-5 7.5e-4   0.61   0.61   0.61   0.61   0.61    304    1.0\n",
      "u[36,4]           0.61  3.8e-5 6.5e-4   0.61   0.61   0.61   0.61   0.61    297    1.0\n",
      "u[37,4]           0.61  3.3e-5 5.6e-4    0.6   0.61   0.61   0.61   0.61    291    1.0\n",
      "u[38,4]            0.6  2.9e-5 4.9e-4    0.6    0.6    0.6    0.6    0.6    285    1.0\n",
      "u[39,4]           0.59  2.7e-5 4.5e-4   0.59   0.59   0.59   0.59   0.59    283    1.0\n",
      "u[40,4]           0.58  2.5e-5 4.3e-4   0.58   0.58   0.58   0.59   0.59    285    1.0\n",
      "u[41,4]           0.58  2.5e-5 4.3e-4   0.57   0.57   0.58   0.58   0.58    291   1.01\n",
      "u[42,4]           0.56  2.5e-5 4.3e-4   0.56   0.56   0.56   0.56   0.57    289   1.01\n",
      "u[43,4]           0.55  2.7e-5 4.5e-4   0.55   0.55   0.55   0.55   0.55    283   1.01\n",
      "u[44,4]           0.54  2.8e-5 4.6e-4   0.54   0.54   0.54   0.54   0.54    277   1.01\n",
      "u[45,4]           0.53  3.0e-5 4.8e-4   0.53   0.53   0.53   0.53   0.53    266   1.01\n",
      "u[46,4]           0.52  3.1e-5 5.0e-4   0.51   0.52   0.52   0.52   0.52    260   1.01\n",
      "u[47,4]            0.5  3.2e-5 5.2e-4    0.5    0.5    0.5    0.5    0.5    255   1.01\n",
      "u[1,5]             1.0  3.8e-7 6.6e-6    1.0    1.0    1.0    1.0    1.0    302    1.0\n",
      "u[2,5]             1.0  8.3e-7 1.4e-5    1.0    1.0    1.0    1.0    1.0    300    1.0\n",
      "u[3,5]             1.0  1.4e-6 2.3e-5    1.0    1.0    1.0    1.0    1.0    294    1.0\n",
      "u[4,5]            0.99  2.0e-6 3.4e-5   0.99   0.99   0.99   0.99   0.99    286    1.0\n",
      "u[5,5]            0.99  2.7e-6 4.6e-5   0.99   0.99   0.99   0.99   0.99    280    1.0\n",
      "u[6,5]            0.99  3.5e-6 6.0e-5   0.99   0.99   0.99   0.99   0.99    283    1.0\n",
      "u[7,5]            0.98  4.4e-6 7.6e-5   0.98   0.98   0.98   0.98   0.98    293    1.0\n",
      "u[8,5]            0.98  5.2e-6 9.4e-5   0.98   0.98   0.98   0.98   0.98    333    1.0\n",
      "u[9,5]            0.97  6.4e-6 1.2e-4   0.97   0.97   0.97   0.97   0.97    333    1.0\n",
      "u[10,5]           0.97  7.9e-6 1.4e-4   0.97   0.97   0.97   0.97   0.97    330    1.0\n",
      "u[11,5]           0.96  9.6e-6 1.7e-4   0.96   0.96   0.96   0.96   0.96    326    1.0\n",
      "u[12,5]           0.95  1.2e-5 2.1e-4   0.95   0.95   0.95   0.95   0.95    321    1.0\n",
      "u[13,5]           0.93  1.5e-5 2.6e-4   0.93   0.93   0.93   0.93   0.94    316    1.0\n",
      "u[14,5]           0.92  1.8e-5 3.2e-4   0.92   0.92   0.92   0.92   0.92    312    1.0\n",
      "u[15,5]            0.9  2.2e-5 3.9e-4    0.9    0.9    0.9    0.9    0.9    307    1.0\n",
      "u[16,5]           0.88  2.7e-5 4.7e-4   0.88   0.88   0.88   0.88   0.88    304    1.0\n",
      "u[17,5]           0.85  3.3e-5 5.8e-4   0.85   0.85   0.85   0.85   0.86    301    1.0\n",
      "u[18,5]           0.83  4.1e-5 7.0e-4   0.82   0.82   0.83   0.83   0.83    298    1.0\n",
      "u[19,5]           0.79  4.9e-5 8.4e-4   0.79   0.79   0.79   0.79   0.79    297    1.0\n",
      "u[20,5]           0.75  5.8e-510.0e-4   0.75   0.75   0.75   0.76   0.76    296    1.0\n",
      "u[21,5]           0.71  6.8e-5 1.2e-3   0.71   0.71   0.71   0.71   0.72    296    1.0\n",
      "u[22,5]           0.67  7.8e-5 1.3e-3   0.67   0.67   0.67   0.67   0.67    296    1.0\n",
      "u[23,5]           0.62  8.7e-5 1.5e-3   0.62   0.62   0.62   0.62   0.62    296    1.0\n",
      "u[24,5]           0.57  9.6e-5 1.6e-3   0.57   0.57   0.57   0.57   0.57    296    1.0\n",
      "u[25,5]           0.52  1.0e-4 1.8e-3   0.52   0.52   0.52   0.52   0.52    297    1.0\n",
      "u[26,5]           0.47  1.1e-4 1.8e-3   0.46   0.47   0.47   0.47   0.47    297    1.0\n",
      "u[27,5]           0.42  1.1e-4 1.9e-3   0.42   0.42   0.42   0.42   0.42    298    1.0\n",
      "u[28,5]           0.37  1.1e-4 1.9e-3   0.37   0.37   0.37   0.37   0.38    299    1.0\n",
      "u[29,5]           0.33  1.1e-4 1.9e-3   0.32   0.33   0.33   0.33   0.33    300    1.0\n",
      "u[30,5]           0.29  1.0e-4 1.8e-3   0.28   0.28   0.29   0.29   0.29    300    1.0\n",
      "u[31,5]           0.25  9.9e-5 1.7e-3   0.25   0.25   0.25   0.25   0.25    301    1.0\n",
      "u[32,5]           0.22  9.2e-5 1.6e-3   0.21   0.21   0.22   0.22   0.22    302    1.0\n",
      "u[33,5]           0.19  8.5e-5 1.5e-3   0.18   0.19   0.19   0.19   0.19    303    1.0\n",
      "u[34,5]           0.16  7.8e-5 1.4e-3   0.16   0.16   0.16   0.16   0.16    304    1.0\n",
      "u[35,5]           0.14  7.1e-5 1.2e-3   0.14   0.14   0.14   0.14   0.14    304    1.0\n",
      "u[36,5]           0.12  6.4e-5 1.1e-3   0.12   0.12   0.12   0.12   0.12    305    1.0\n",
      "u[37,5]            0.1  5.7e-5 1.0e-3    0.1    0.1    0.1    0.1    0.1    306    1.0\n",
      "u[38,5]           0.09  5.1e-5 9.0e-4   0.09   0.09   0.09   0.09   0.09    307    1.0\n",
      "u[39,5]           0.08  4.6e-5 8.0e-4   0.07   0.08   0.08   0.08   0.08    307    1.0\n",
      "u[40,5]           0.07  4.1e-5 7.2e-4   0.06   0.07   0.07   0.07   0.07    308    1.0\n",
      "u[41,5]           0.06  3.6e-5 6.4e-4   0.06   0.06   0.06   0.06   0.06    309    1.0\n",
      "u[42,5]           0.05  3.2e-5 5.7e-4   0.05   0.05   0.05   0.05   0.05    309    1.0\n",
      "u[43,5]           0.04  2.9e-5 5.1e-4   0.04   0.04   0.04   0.04   0.04    310    1.0\n",
      "u[44,5]           0.04  2.6e-5 4.5e-4   0.04   0.04   0.04   0.04   0.04    311    1.0\n",
      "u[45,5]           0.03  2.3e-5 4.1e-4   0.03   0.03   0.03   0.03   0.03    311    1.0\n",
      "u[46,5]           0.03  2.1e-5 3.6e-4   0.03   0.03   0.03   0.03   0.03    312    1.0\n",
      "u[47,5]           0.03  1.8e-5 3.3e-4   0.03   0.03   0.03   0.03   0.03    313    1.0\n",
      "u_init[1]       3.0e-7 3.7e-235.3e-23  3e-07  3e-07  3e-07  3e-07  3e-07      2   0.99\n",
      "u_init[2]          0.0     nan    0.0    0.0    0.0    0.0    0.0    0.0    nan    nan\n",
      "u_init[3]          0.0     nan    0.0    0.0    0.0    0.0    0.0    0.0    nan    nan\n",
      "u_init[4]       4.0e-3  1.9e-6 3.2e-5 3.9e-3 4.0e-3 4.0e-3 4.0e-3 4.1e-3    286    1.0\n",
      "u_init[5]          1.0  1.9e-8 3.4e-7    1.0    1.0    1.0    1.0    1.0    323    1.0\n",
      "R_0                7.7  1.2e-3   0.02   7.66   7.69    7.7   7.71   7.74    301    1.0\n",
      "ll_lambda[1,1]   42.99    0.02   0.35   42.3  42.76  42.99   43.2  43.69    294    1.0\n",
      "ll_lambda[2,1]   91.31    0.04   0.74  89.83  90.83  91.32  91.75  92.81    293    1.0\n",
      "ll_lambda[3,1]  149.97    0.07    1.2 147.59 149.18 149.98 150.68 152.38    293    1.0\n",
      "ll_lambda[4,1]  221.42     0.1   1.71  218.0 220.27 221.41 222.47 224.88    293    1.0\n",
      "ll_lambda[5,1]  308.68    0.13   2.29 304.05 307.14  308.7 310.12 313.34    292    1.0\n",
      "ll_lambda[6,1]  415.48    0.17   2.94 409.48 413.47 415.51 417.32  421.5    292    1.0\n",
      "ll_lambda[7,1]  546.33    0.22   3.68 538.79  543.8 546.33 548.64  553.9    291    1.0\n",
      "ll_lambda[8,1]  706.73    0.26   4.51 697.42 703.55 706.73  709.6 716.05    291    1.0\n",
      "ll_lambda[9,1]  903.41    0.32   5.43 892.21 899.71 903.45 906.75 914.67    290    1.0\n",
      "ll_lambda[10,1] 1144.4    0.38   6.44 1131.3 1140.0 1144.3 1148.6 1157.8    290    1.0\n",
      "ll_lambda[11,1] 1439.3    0.44   7.55 1424.1 1434.3 1439.2 1444.2 1455.1    292   1.01\n",
      "ll_lambda[12,1] 1799.8    0.51   8.75 1781.9 1794.0 1799.7 1805.6 1818.3    294   1.01\n",
      "ll_lambda[13,1] 2239.4    0.58  10.04 2218.6 2232.6 2239.4 2246.0 2260.3    296   1.01\n",
      "ll_lambda[14,1] 2773.6    0.66  11.41 2749.9 2766.4 2773.7 2781.5 2796.9    299   1.01\n",
      "ll_lambda[15,1] 3420.7    0.74  12.86 3393.7 3412.5 3421.1 3429.7 3446.6    301   1.01\n",
      "ll_lambda[16,1] 4200.7    0.85  14.39 4170.0 4191.4 4200.9 4210.6 4229.4    290   1.01\n",
      "ll_lambda[17,1] 5135.9    0.95  16.01 5101.1 5125.6 5135.7 5146.3 5167.2    287   1.01\n",
      "ll_lambda[18,1] 6249.7    1.04  17.75 6212.0 6238.7 6249.4 6262.0 6283.3    292   1.01\n",
      "ll_lambda[19,1] 7566.3    1.12  19.66 7526.5 7553.9 7566.7 7580.6 7602.3    310   1.01\n",
      "ll_lambda[20,1] 9108.9    1.26  21.82 9063.2 9095.0 9109.5 9124.0 9149.1    302   1.01\n",
      "ll_lambda[21,1]  1.1e4    1.42   24.3  1.1e4  1.1e4  1.1e4  1.1e4  1.1e4    292    1.0\n",
      "ll_lambda[22,1]  1.3e4    1.62  27.15  1.3e4  1.3e4  1.3e4  1.3e4  1.3e4    282    1.0\n",
      "ll_lambda[23,1]  1.5e4    1.83   30.4  1.5e4  1.5e4  1.5e4  1.5e4  1.5e4    275    1.0\n",
      "ll_lambda[24,1]  1.8e4    2.07  33.96  1.8e4  1.8e4  1.8e4  1.8e4  1.8e4    270    1.0\n",
      "ll_lambda[25,1]  2.1e4    2.31  37.71  2.1e4  2.1e4  2.1e4  2.1e4  2.1e4    267    1.0\n",
      "ll_lambda[26,1]  2.4e4    2.55  41.45  2.4e4  2.4e4  2.4e4  2.4e4  2.4e4    264    1.0\n",
      "ll_lambda[27,1]  2.7e4    2.77  44.95  2.7e4  2.7e4  2.7e4  2.7e4  2.7e4    263    1.0\n",
      "ll_lambda[28,1]  3.1e4    2.96  47.98  3.1e4  3.1e4  3.1e4  3.1e4  3.1e4    262    1.0\n",
      "ll_lambda[29,1]  3.5e4    3.12   50.4  3.4e4  3.5e4  3.5e4  3.5e4  3.5e4    261    1.0\n",
      "ll_lambda[30,1]  3.8e4    3.23   52.1  3.8e4  3.8e4  3.8e4  3.8e4  3.8e4    260    1.0\n",
      "ll_lambda[31,1]  4.2e4     3.3   53.1  4.2e4  4.2e4  4.2e4  4.2e4  4.2e4    259    1.0\n",
      "ll_lambda[32,1]  4.6e4    3.32   53.5  4.6e4  4.6e4  4.6e4  4.6e4  4.6e4    259    1.0\n",
      "ll_lambda[33,1]  5.0e4    3.32  53.54  5.0e4  5.0e4  5.0e4  5.0e4  5.0e4    260    1.0\n",
      "ll_lambda[34,1]  5.4e4     3.3  53.52  5.4e4  5.4e4  5.4e4  5.4e4  5.4e4    263    1.0\n",
      "ll_lambda[35,1]  5.8e4    3.29  53.82  5.8e4  5.8e4  5.8e4  5.8e4  5.8e4    268    1.0\n",
      "ll_lambda[36,1]  6.2e4     3.3  54.82  6.1e4  6.2e4  6.2e4  6.2e4  6.2e4    276   0.99\n",
      "ll_lambda[37,1]  6.5e4    3.35  56.83  6.5e4  6.5e4  6.5e4  6.5e4  6.5e4    287   0.99\n",
      "ll_lambda[38,1]  6.9e4    3.46  60.03  6.9e4  6.9e4  6.9e4  6.9e4  6.9e4    301   0.99\n",
      "ll_lambda[39,1]  7.2e4    3.63  64.42  7.2e4  7.2e4  7.2e4  7.2e4  7.2e4    315   0.99\n",
      "ll_lambda[40,1]  7.5e4    3.86  69.91  7.5e4  7.5e4  7.5e4  7.5e4  7.5e4    328   0.99\n",
      "ll_lambda[41,1]  7.8e4    4.14   76.3  7.8e4  7.8e4  7.8e4  7.8e4  7.8e4    339   0.99\n",
      "ll_lambda[42,1]  8.1e4    4.47  83.39  8.1e4  8.1e4  8.1e4  8.1e4  8.1e4    348    1.0\n",
      "ll_lambda[43,1]  8.3e4    4.83  90.98  8.3e4  8.3e4  8.3e4  8.3e4  8.3e4    355    1.0\n",
      "ll_lambda[44,1]  8.6e4    5.22  98.89  8.5e4  8.6e4  8.6e4  8.6e4  8.6e4    360    1.0\n",
      "ll_lambda[45,1]  8.8e4    5.62 106.97  8.8e4  8.8e4  8.8e4  8.8e4  8.8e4    363    1.0\n",
      "ll_lambda[46,1]  9.0e4    6.02 115.11  9.0e4  9.0e4  9.0e4  9.0e4  9.0e4    365    1.0\n",
      "ll_lambda[47,1]  9.2e4    6.43  123.2  9.1e4  9.2e4  9.2e4  9.2e4  9.2e4    367    1.0\n",
      "ll_lambda[1,2]    0.39  1.7e-4 3.0e-3   0.39   0.39   0.39   0.39    0.4    315   1.01\n",
      "ll_lambda[2,2]    1.55  7.1e-4   0.01   1.53   1.54   1.55   1.56   1.58    314   1.01\n",
      "ll_lambda[3,2]    3.65  1.7e-3   0.03   3.59   3.63   3.65   3.67   3.71    314   1.01\n",
      "ll_lambda[4,2]    6.88  3.1e-3   0.05   6.77   6.84   6.87   6.91   6.99    314   1.01\n",
      "ll_lambda[5,2]   11.49  5.1e-3   0.09  11.31  11.42  11.48  11.55  11.67    314   1.01\n",
      "ll_lambda[6,2]   17.79  7.7e-3   0.14  17.52  17.69  17.79  17.88  18.07    315   1.01\n",
      "ll_lambda[7,2]   26.17    0.01   0.19  25.78  26.03  26.16  26.29  26.56    315   1.01\n",
      "ll_lambda[8,2]   37.08    0.01   0.27  36.55  36.89  37.07  37.26  37.62    316   1.01\n",
      "ll_lambda[9,2]   51.11    0.02   0.35   50.4  50.86   51.1  51.33  51.82    317   1.01\n",
      "ll_lambda[10,2]  68.95    0.03   0.46  68.03  68.63  68.94  69.24  69.89    318   1.01\n",
      "ll_lambda[11,2]  91.47    0.03   0.58  90.29  91.06  91.44  91.83  92.66    319   1.01\n",
      "ll_lambda[12,2]  119.7    0.04   0.72 118.23  119.2 119.68 120.15  121.2    320   1.01\n",
      "ll_lambda[13,2] 154.91    0.05   0.88 153.08 154.29 154.89 155.46 156.77    322   1.01\n",
      "ll_lambda[14,2] 198.61    0.06   1.07 196.39 197.88 198.61 199.26 200.89    324   1.01\n",
      "ll_lambda[15,2] 252.63    0.07   1.28 249.94 251.72  252.6 253.44 255.38    326   1.01\n",
      "ll_lambda[16,2] 319.09    0.08   1.51 315.91 318.06 319.07 320.11 322.38    329   1.01\n",
      "ll_lambda[17,2] 400.53     0.1   1.77 396.86  399.3 400.54 401.72 404.43    332   1.01\n",
      "ll_lambda[18,2] 499.85    0.11   2.05  495.7 498.45 499.86 501.21 504.43    335   1.01\n",
      "ll_lambda[19,2]  620.4    0.13   2.36 615.77 618.83 620.38 621.96 625.71    336   1.01\n",
      "ll_lambda[20,2] 765.93    0.15    2.7 760.65 764.14 765.85 767.77 772.03    335   1.02\n",
      "ll_lambda[21,2] 940.59    0.17   3.07  934.7 938.54 940.52 942.66 947.39    330   1.02\n",
      "ll_lambda[22,2] 1148.8    0.19   3.48 1142.3 1146.4 1148.8 1151.2 1156.4    325   1.02\n",
      "ll_lambda[23,2] 1395.4    0.22   3.94 1387.9 1392.7 1395.4 1398.1 1403.5    319   1.02\n",
      "ll_lambda[24,2] 1685.1    0.25   4.47 1676.9 1682.0 1685.1 1688.2 1694.1    314   1.02\n",
      "ll_lambda[25,2] 2022.8    0.29   5.08 2013.2 2019.2 2022.8 2026.3 2033.0    310   1.02\n",
      "ll_lambda[26,2] 2413.1    0.33   5.79 2401.8 2409.2 2413.2 2417.0 2424.8    306   1.02\n",
      "ll_lambda[27,2] 2860.2    0.38   6.62 2847.6 2855.8 2860.4 2864.7 2873.3    299   1.02\n",
      "ll_lambda[28,2] 3368.0    0.44   7.58 3353.5 3362.7 3368.1 3373.2 3382.9    293   1.02\n",
      "ll_lambda[29,2] 3939.5    0.51   8.68 3923.0 3933.2 3939.5 3945.4 3956.1    287   1.02\n",
      "ll_lambda[30,2] 4577.3    0.59   9.93 4558.1 4569.6 4577.3 4584.1 4595.8    282   1.02\n",
      "ll_lambda[31,2] 5282.9    0.68  11.34 5260.7 5274.1 5283.4 5290.8 5304.4    279   1.02\n",
      "ll_lambda[32,2] 6057.4    0.78  12.91 6031.5 6047.5 6058.0 6066.3 6081.8    277   1.02\n",
      "ll_lambda[33,2] 6900.8    0.88  14.62 6870.8 6890.6 6901.7 6911.2 6928.6    275   1.02\n",
      "ll_lambda[34,2] 7812.9     1.0   16.5 7778.5 7801.3 7813.6 7823.8 7844.4    275   1.02\n",
      "ll_lambda[35,2] 8792.3    1.12  18.52 8753.8 8779.4 8793.3 8804.5 8828.2    275   1.02\n",
      "ll_lambda[36,2] 9837.6    1.25   20.7 9795.1 9823.2 9838.8 9851.5 9878.3    276   1.01\n",
      "ll_lambda[37,2]  1.1e4    1.38  23.02  1.1e4  1.1e4  1.1e4  1.1e4  1.1e4    277   1.01\n",
      "ll_lambda[38,2]  1.2e4    1.53  25.49  1.2e4  1.2e4  1.2e4  1.2e4  1.2e4    278   1.01\n",
      "ll_lambda[39,2]  1.3e4    1.68  28.11  1.3e4  1.3e4  1.3e4  1.3e4  1.3e4    279   1.01\n",
      "ll_lambda[40,2]  1.5e4    1.82  30.87  1.5e4  1.5e4  1.5e4  1.5e4  1.5e4    286   1.01\n",
      "ll_lambda[41,2]  1.6e4    1.96  33.77  1.6e4  1.6e4  1.6e4  1.6e4  1.6e4    296   1.01\n",
      "ll_lambda[42,2]  1.7e4    2.13  36.81  1.7e4  1.7e4  1.7e4  1.7e4  1.7e4    299   1.01\n",
      "ll_lambda[43,2]  1.9e4    2.31  39.97  1.9e4  1.9e4  1.9e4  1.9e4  1.9e4    301   1.01\n",
      "ll_lambda[44,2]  2.0e4    2.49  43.27  2.0e4  2.0e4  2.0e4  2.0e4  2.0e4    302   1.01\n",
      "ll_lambda[45,2]  2.2e4    2.68  46.69  2.2e4  2.2e4  2.2e4  2.2e4  2.2e4    303   1.01\n",
      "ll_lambda[46,2]  2.3e4    2.88  50.22  2.3e4  2.3e4  2.3e4  2.3e4  2.3e4    304   1.01\n",
      "ll_lambda[47,2]  2.5e4    3.08  53.87  2.5e4  2.5e4  2.5e4  2.5e4  2.5e4    306   1.01\n",
      "ll_lambda[1,3]     0.3  1.3e-4 2.4e-3    0.3    0.3    0.3    0.3   0.31    342    1.0\n",
      "ll_lambda[2,3]     1.2  5.4e-4   0.01   1.18    1.2    1.2   1.21   1.22    343    1.0\n",
      "ll_lambda[3,3]    2.82  1.3e-3   0.02   2.78   2.81   2.82   2.84   2.87    343    1.0\n",
      "ll_lambda[4,3]    5.32  2.4e-3   0.04   5.24   5.29   5.32   5.35   5.41    343    1.0\n",
      "ll_lambda[5,3]    8.89  3.9e-3   0.07   8.76   8.84   8.89   8.93   9.04    343    1.0\n",
      "ll_lambda[6,3]   13.77  5.9e-3   0.11  13.57   13.7  13.77  13.84   14.0    343    1.0\n",
      "ll_lambda[7,3]   20.25  8.5e-3   0.16  19.96  20.15  20.26  20.35  20.57    342    1.0\n",
      "ll_lambda[8,3]    28.7    0.01   0.21   28.3  28.55  28.71  28.83  29.14    342    1.0\n",
      "ll_lambda[9,3]   39.56    0.02   0.29  39.02  39.36  39.57  39.73  40.14    341    1.0\n",
      "ll_lambda[10,3]  53.37    0.02   0.37  52.67  53.12  53.38  53.59  54.12    340    1.0\n",
      "ll_lambda[11,3]  70.79    0.03   0.47   69.9  70.48  70.82  71.08  71.74    339    1.0\n",
      "ll_lambda[12,3]  92.65    0.03   0.59  91.52  92.26  92.67   93.0  93.82    338    1.0\n",
      "ll_lambda[13,3]  119.9    0.04   0.73 118.49 119.43 119.89 120.33 121.35    337    1.0\n",
      "ll_lambda[14,3] 153.72    0.05   0.88 151.98 153.16 153.71 154.25 155.48    335    1.0\n",
      "ll_lambda[15,3] 195.53    0.06   1.06 193.37 194.84 195.53 196.14 197.67    333    1.0\n",
      "ll_lambda[16,3] 246.97    0.07   1.26 244.33 246.14  247.0  247.7 249.54    331    1.0\n",
      "ll_lambda[17,3]  310.0    0.08   1.49 306.82 309.02 310.06 310.87 313.05    329    1.0\n",
      "ll_lambda[18,3] 386.87     0.1   1.74 383.18 385.74 386.92 387.87 390.46    326    1.0\n",
      "ll_lambda[19,3] 480.17    0.11   2.02 475.91 478.91 480.27 481.38 484.38    323    1.0\n",
      "ll_lambda[20,3] 592.81    0.13   2.33 587.87 591.39 592.91  594.2 597.62    320    1.0\n",
      "ll_lambda[21,3] 727.99    0.15   2.67 722.29 726.38  728.1 729.68 733.36    316    1.0\n",
      "ll_lambda[22,3] 889.17    0.17   3.06 882.49 887.44 889.27 891.09 895.21    313    1.0\n",
      "ll_lambda[23,3] 1080.0     0.2   3.49 1072.2 1078.0 1079.9 1082.2 1087.0    310    1.0\n",
      "ll_lambda[24,3] 1304.2    0.23   3.97 1295.4 1301.9 1304.2 1306.8 1312.3    308    1.0\n",
      "ll_lambda[25,3] 1565.6    0.26   4.53 1555.7 1562.9 1565.5 1568.5 1574.7    306    1.0\n",
      "ll_lambda[26,3] 1867.6     0.3   5.16 1857.0 1864.6 1867.7 1871.1 1878.0    305    1.0\n",
      "ll_lambda[27,3] 2213.7    0.34   5.88 2201.6 2210.1 2213.7 2217.7 2225.6    304    1.0\n",
      "ll_lambda[28,3] 2606.7    0.38    6.7 2592.6 2602.7 2606.4 2611.4 2620.3    305    1.0\n",
      "ll_lambda[29,3] 3049.1    0.44   7.62 3032.8 3044.5 3048.7 3054.5 3064.9    306    1.0\n",
      "ll_lambda[30,3] 3542.7    0.49   8.64 3524.1 3537.3 3542.0 3548.8 3560.6    308    1.0\n",
      "ll_lambda[31,3] 4088.8    0.55   9.77 4067.9 4082.7 4088.1 4095.5 4109.4    310    1.0\n",
      "ll_lambda[32,3] 4688.2    0.62  11.01 4664.9 4681.1 4687.4 4695.7 4711.4    312    1.0\n",
      "ll_lambda[33,3] 5341.1     0.7  12.35 5314.9 5332.9 5340.4 5349.5 5367.2    315    1.0\n",
      "ll_lambda[34,3] 6046.9    0.78  13.81 6018.4 6037.6 6045.9 6056.4 6076.3    317    1.0\n",
      "ll_lambda[35,3] 6805.0    0.86  15.37 6774.0 6794.7 6803.7 6815.2 6837.7    319    1.0\n",
      "ll_lambda[36,3] 7614.1    0.95  17.03 7580.0 7602.5 7612.8 7625.4 7649.6    321    1.0\n",
      "ll_lambda[37,3] 8472.5    1.05  18.81 8435.1 8459.7 8471.5 8485.1 8511.5    323    1.0\n",
      "ll_lambda[38,3] 9378.5    1.15  20.68 9337.5 9364.7 9377.9 9392.3 9421.5    324    1.0\n",
      "ll_lambda[39,3]  1.0e4    1.26  22.67  1.0e4  1.0e4  1.0e4  1.0e4  1.0e4    326    1.0\n",
      "ll_lambda[40,3]  1.1e4    1.37  24.76  1.1e4  1.1e4  1.1e4  1.1e4  1.1e4    327    1.0\n",
      "ll_lambda[41,3]  1.2e4    1.49  26.95  1.2e4  1.2e4  1.2e4  1.2e4  1.2e4    327    1.0\n",
      "ll_lambda[42,3]  1.3e4    1.62  29.26  1.3e4  1.3e4  1.3e4  1.3e4  1.3e4    328    1.0\n",
      "ll_lambda[43,3]  1.5e4    1.75  31.66  1.4e4  1.5e4  1.5e4  1.5e4  1.5e4    328    1.0\n",
      "ll_lambda[44,3]  1.6e4    1.88  34.17  1.6e4  1.6e4  1.6e4  1.6e4  1.6e4    329    1.0\n",
      "ll_lambda[45,3]  1.7e4    2.03  36.77  1.7e4  1.7e4  1.7e4  1.7e4  1.7e4    329    1.0\n",
      "ll_lambda[46,3]  1.8e4    2.18  39.47  1.8e4  1.8e4  1.8e4  1.8e4  1.8e4    329    1.0\n",
      "ll_lambda[47,3]  1.9e4    2.33  42.26  1.9e4  1.9e4  1.9e4  1.9e4  1.9e4    329    1.0\n",
      "ll_[1]          -34.19    0.02   0.33 -34.86 -34.39 -34.19 -33.98 -33.54    295    1.0\n",
      "ll_[2]          -47.45    0.04    0.6 -48.67 -47.81 -47.46 -47.06 -46.26    294    1.0\n",
      "ll_[3]          -42.68    0.04   0.75 -44.21 -43.13 -42.69 -42.19 -41.19    295    1.0\n",
      "ll_[4]          -22.25    0.04   0.61 -23.49 -22.62 -22.24 -21.85 -21.05    297    1.0\n",
      "ll_[5]          -28.62    0.04   0.74 -30.17 -29.09 -28.62 -28.13 -27.13    297    1.0\n",
      "ll_[6]          -35.76    0.05   0.89 -37.62 -36.31 -35.76 -35.17 -33.95    299    1.0\n",
      "ll_[7]           -37.8    0.05   0.95 -39.81 -38.38 -37.83 -37.18 -35.87    302    1.0\n",
      "ll_[8]          -22.56    0.04   0.76 -24.14 -23.04 -22.55 -22.04 -21.11    300    1.0\n",
      "ll_[9]          -18.97    0.04   0.66 -20.37 -19.37 -18.97 -18.53 -17.72    316    1.0\n",
      "ll_[10]         -24.62    0.05   0.82 -26.39 -25.12 -24.62 -24.08 -23.01    322    1.0\n",
      "ll_[11]         -29.08    0.03   0.46 -30.14 -29.38 -29.07 -28.76 -28.19    250   1.01\n",
      "ll_[12]          -25.3  9.0e-3   0.15 -25.62 -25.38 -25.29 -25.18 -25.05    264   1.01\n",
      "ll_[13]         -19.52  8.3e-3   0.14 -19.85 -19.59  -19.5 -19.41 -19.27    301    1.0\n",
      "ll_[14]          -34.1    0.02   0.26 -34.63 -34.27  -34.1 -33.94  -33.6    279    1.0\n",
      "ll_[15]         -64.09    0.03   0.42  -64.9 -64.38  -64.1 -63.79 -63.27    265   1.01\n",
      "ll_[16]         -82.52    0.04   0.68  -83.8 -82.99 -82.52  -82.1 -81.15    270    1.0\n",
      "ll_[17]         -62.66    0.03    0.5 -63.64 -63.01 -62.67 -62.29 -61.63    274   1.01\n",
      "ll_[18]         -29.25    0.04   0.75 -30.91 -29.76 -29.21 -28.72 -27.74    306   1.01\n",
      "ll_[19]         -33.54    0.07   1.32 -36.26 -34.42 -33.46 -32.66  -30.9    313   1.01\n",
      "ll_[20]         -21.73    0.04   0.75 -23.22  -22.2 -21.75  -21.2 -20.37    281   1.01\n",
      "ll_[21]         -30.71    0.03   0.58 -31.81  -31.1 -30.71 -30.32 -29.63    273    1.0\n",
      "ll_[22]         -251.1    0.31   5.22 -261.4 -254.9 -251.1 -247.8 -240.8    286   1.01\n",
      "ll_[23]         -34.13    0.04   0.65 -35.34 -34.57 -34.11 -33.66 -32.81    289   0.99\n",
      "ll_[24]         -44.77    0.05   0.91 -46.56 -45.42 -44.71 -44.18 -42.87    312   1.01\n",
      "ll_[25]         -56.95    0.06   1.14 -59.09 -57.77 -56.98 -56.24  -54.8    309   1.01\n",
      "ll_[26]         -73.71    0.09    1.5 -76.48 -74.75 -73.72 -72.69 -70.91    281    1.0\n",
      "ll_[27]          -61.6    0.11   1.83 -65.44 -62.81 -61.74 -60.33 -57.92    269    1.0\n",
      "ll_[28]         -175.4     0.2   3.18 -181.3 -177.4 -175.6 -173.2 -169.0    266    1.0\n",
      "ll_[29]          -93.5    0.12   2.03 -97.51 -94.93 -93.49 -92.15 -89.62    271    1.0\n",
      "ll_[30]         -51.23    0.07   1.28 -53.94 -52.04 -51.21 -50.32  -48.8    298    1.0\n",
      "ll_[31]         -137.3    0.16   2.72 -142.5 -139.0 -137.4 -135.5 -131.4    301   1.02\n",
      "ll_[32]         -154.7    0.17    3.0 -160.6 -156.7 -154.8 -152.7 -148.5    306   1.02\n",
      "ll_[33]         -70.83    0.12   2.02 -74.98 -72.09  -70.8 -69.48  -66.7    296   1.01\n",
      "ll_[34]         -81.13    0.12   2.07  -85.2 -82.52 -81.28 -79.79 -76.79    317   1.01\n",
      "ll_[35]         -71.15    0.11   1.93 -74.75 -72.55 -71.23 -69.81 -67.17    318   1.01\n",
      "ll_[36]         -55.71     0.1   1.82 -59.12 -57.01 -55.76 -54.59 -51.94    322   1.01\n",
      "ll_[37]         -54.53    0.11   1.93  -58.4 -55.79 -54.46 -53.22 -50.91    294    1.0\n",
      "ll_[38]         -57.66    0.12   2.07 -61.54 -58.94 -57.56 -56.36  -53.5    315    1.0\n",
      "ll_[39]          -58.7    0.13   2.22 -62.69 -60.52 -58.51 -57.06 -54.69    282    1.0\n",
      "ll_[40]         -22.98    0.05   0.79 -24.54 -23.57 -22.91 -22.43 -21.52    302    1.0\n",
      "ll_[41]         -20.56    0.03   0.61  -21.9 -20.91 -20.52 -20.11 -19.52    366    1.0\n",
      "ll_[42]         -28.67    0.07   1.24 -31.26 -29.45 -28.62 -27.69 -26.46    335   1.01\n",
      "ll_[43]         -39.28    0.09   1.76  -43.1 -40.32  -39.2 -38.15 -36.24    354    1.0\n",
      "ll_[44]         -58.06    0.13   2.47 -63.51  -59.5 -57.95 -56.49 -53.52    350    1.0\n",
      "ll_[45]         -102.9     0.2   3.62 -110.7 -104.9 -102.6 -100.5  -96.2    341    1.0\n",
      "ll_[46]         -217.5    0.32   5.77 -230.2 -221.1 -217.0 -213.6 -207.0    319    1.0\n",
      "ll_[47]         -330.6    0.42   7.48 -346.7 -335.7 -330.2 -325.5 -317.3    323    1.0\n",
      "ll_sigma          0.03  3.3e-6 5.5e-5   0.03   0.03   0.03   0.03   0.03    283    1.0\n",
      "ll_beta           0.25  3.2e-5 5.2e-4   0.24   0.25   0.25   0.25   0.25    271    1.0\n",
      "lp__             -3152     0.1   1.58  -3156  -3153  -3151  -3151  -3150    272   0.99\n",
      "\n",
      "Samples were drawn using NUTS at Tue Apr  7 12:55:16 2020.\n",
      "For each parameter, n_eff is a crude measure of effective sample size,\n",
      "and Rhat is the potential scale reduction factor on split chains (at \n",
      "convergence, Rhat=1).\n"
     ]
    }
   ],
   "source": [
    "print(fit)"
   ]
  },
  {
   "cell_type": "code",
   "execution_count": 19,
   "metadata": {},
   "outputs": [
    {
     "data": {
      "text/plain": [
       "array([<matplotlib.axes._subplots.AxesSubplot object at 0x138623a50>,\n",
       "       <matplotlib.axes._subplots.AxesSubplot object at 0x1384e0e10>,\n",
       "       <matplotlib.axes._subplots.AxesSubplot object at 0x13854c610>,\n",
       "       <matplotlib.axes._subplots.AxesSubplot object at 0x1385fd8d0>,\n",
       "       <matplotlib.axes._subplots.AxesSubplot object at 0x138564d10>,\n",
       "       <matplotlib.axes._subplots.AxesSubplot object at 0x1385dc610>,\n",
       "       <matplotlib.axes._subplots.AxesSubplot object at 0x138eeed90>],\n",
       "      dtype=object)"
      ]
     },
     "execution_count": 19,
     "metadata": {},
     "output_type": "execute_result"
    },
    {
     "data": {
      "image/png": "[encoded data removed]",
      "text/plain": [
       "<Figure size 1490.4x993.6 with 9 Axes>"
      ]
     },
     "metadata": {
      "needs_background": "light"
     },
     "output_type": "display_data"
    }
   ],
   "source": [
    "#https://arviz-devs.github.io/arviz/generated/arviz.plot_density\n",
    "az.plot_density(fit,group='posterior',var_names=[\"theta\",\"R_0\"])"
   ]
  },
  {
   "cell_type": "code",
   "execution_count": 20,
   "metadata": {},
   "outputs": [
    {
     "data": {
      "text/plain": [
       "(0, 100000)"
      ]
     },
     "execution_count": 20,
     "metadata": {},
     "output_type": "execute_result"
    },
    {
     "data": {
      "image/png": "[encoded data removed]",
      "text/plain": [
       "<Figure size 432x288 with 1 Axes>"
      ]
     },
     "metadata": {
      "needs_background": "light"
     },
     "output_type": "display_data"
    }
   ],
   "source": [
    "ms=2 \n",
    "x = range(len(fit.extract()['u'][-1,:,0]))\n",
    "\n",
    "if model.name in [\"sir1\",\"sir2\"]:\n",
    "    plt.plot(x,DF[\"cases\"][t0:],'bo', label=\"cases\",ms=ms)\n",
    "    plt.plot(x,DF[\"recovered\"][t0:] + DF[\"deaths\"][t0:],'o',color='orange',label=\"unknown\",ms=ms)\n",
    "    labels = [\"S\",\"I\",\"U\",\"Z\"]\n",
    "    c_ = [\"g\",\"b\",\"orange\",\"r\"]\n",
    "    Sind = 0\n",
    "    n = 3\n",
    "\n",
    "if model.name in [\"sicu\",\"sicuf\",\"sicuq\"]:\n",
    "    plt.plot(x,DF[\"cases\"][t0:],'bo', label=\"cases\",ms=ms)\n",
    "    plt.plot(x,DF[\"recovered\"][t0:] + DF[\"deaths\"][t0:],'o',color='orange',label=\"unknown\",ms=ms)\n",
    "    labels = ['C','U','I','S','Z']\n",
    "    c_ = ['b','orange','r','g','m']\n",
    "    n = 4\n",
    "\n",
    "if model.name in [\"sicrq\"]:\n",
    "    plt.plot(x,DF[\"cases\"][t0:],'bo', label=\"cases\",ms=ms)\n",
    "    plt.plot(x,DF[\"recovered\"][t0:],'o',color='orange',label=\"unknown\",ms=ms)\n",
    "    plt.plot(x,DF[\"deaths\"][t0:],'x',color='k',label=\"unknown\",ms=ms)\n",
    "    labels = ['C','R','D','I','S','Z']\n",
    "    c_ = ['b','orange','k','r','g','m']\n",
    "    n = 5   \n",
    "    Sind=4\n",
    "    \n",
    "lw=4\n",
    "a = 0.5\n",
    "for i in range(n):\n",
    "    plt.plot(model.stan_data['n_scale']*fit.extract()['u'][-1,:,i],label=labels[i],lw=lw,alpha=a,color=c_[i])\n",
    "plt.plot(model.stan_data['n_scale']*(1-fit.extract()['u'][-1,:,Sind]),label=labels[-1],lw=lw,alpha=a,color=c_[-1])\n",
    "plt.legend()\n",
    "plt.ylim((0,100000))\n",
    "\n",
    "# labels = ['C','D','R','I','S','Z']\n",
    "# lw=4\n",
    "# a = 0.5\n",
    "# for i in range(5):\n",
    "#     plt.plot(model.stan_data['n_scale']*fit.extract()['u'][-1,:,i],label=labels[i],lw=lw,alpha=a)\n",
    "# plt.plot(model.stan_data['n_scale']*(1-fit.extract()['u'][-1,:,4]),label=labels[-1],lw=lw,alpha=a)\n",
    "# plt.legend()\n",
    "# plt.ylim((0,100000))\n",
    "\n",
    "# # plt.subplot(1,2,2)\n",
    "# # tot = DF[\"cases\"][-1:] + DF[\"recovered\"][-1:] + DF[\"deaths\"][-1:]\n",
    "\n",
    "# # plt.axvline(model.stan_data['t0'],color='k', linestyle=\"dashed\")\n",
    "# plt.legend()\n",
    "# plt.title(roi)\n",
    "# plt.figure()\n",
    "# # plt.plot(fit.extract()['lp__'])\n",
    "# az.plot_density(fit,group='posterior',var_names=[\"theta\",\"R_0\"])\n",
    "\n"
   ]
  },
  {
   "cell_type": "code",
   "execution_count": 17,
   "metadata": {},
   "outputs": [],
   "source": [
    "# az.plot_pair(fit,var_names=[\"theta\"], divergences=True)"
   ]
  },
  {
   "cell_type": "code",
   "execution_count": null,
   "metadata": {},
   "outputs": [],
   "source": []
  }
 ],
 "metadata": {
  "colab": {
   "collapsed_sections": [],
   "name": "MBS_SIRmodeling_version2.ipynb",
   "provenance": []
  },
  "kernelspec": {
   "display_name": "Python 3",
   "language": "python",
   "name": "python3"
  },
  "language_info": {
   "codemirror_mode": {
    "name": "ipython",
    "version": 3
   },
   "file_extension": ".py",
   "mimetype": "text/x-python",
   "name": "python",
   "nbconvert_exporter": "python",
   "pygments_lexer": "ipython3",
   "version": "3.7.4"
  }
 },
 "nbformat": 4,
 "nbformat_minor": 1
}
