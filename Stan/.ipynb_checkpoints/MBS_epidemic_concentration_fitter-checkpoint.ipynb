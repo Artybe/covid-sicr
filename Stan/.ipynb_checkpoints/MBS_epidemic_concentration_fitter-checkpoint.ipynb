{
 "cells": [
  {
   "cell_type": "code",
   "execution_count": 1,
   "metadata": {
    "cellView": "both",
    "colab": {
     "base_uri": "https://localhost:8080/",
     "height": 309
    },
    "colab_type": "code",
    "id": "AKP2Vok31tsE",
    "outputId": "f268f545-a908-4e75-f957-dad08b72c277"
   },
   "outputs": [],
   "source": [
    "#@title Install arviz\n",
    "# !pip3 install arviz"
   ]
  },
  {
   "cell_type": "code",
   "execution_count": 2,
   "metadata": {
    "colab": {},
    "colab_type": "code",
    "id": "a0disJ2Uy-Bx"
   },
   "outputs": [],
   "source": [
    "import arviz as az\n",
    "import pystan\n",
    "import os\n",
    "# os.environ['STAN_NUM_THREADS'] = \"4\"\n",
    "import pandas as pd\n",
    "import matplotlib.pyplot as plt\n",
    "import numpy as np\n",
    "import networkx as nx\n",
    "import warnings\n",
    "warnings.filterwarnings(\"ignore\", category=DeprecationWarning)\n",
    "%matplotlib inline"
   ]
  },
  {
   "cell_type": "markdown",
   "metadata": {
    "colab_type": "text",
    "id": "YT3IVNpzrBoM"
   },
   "source": [
    "## Select model"
   ]
  },
  {
   "cell_type": "code",
   "execution_count": 3,
   "metadata": {
    "colab": {},
    "colab_type": "code",
    "id": "-UJBadMvq8aM"
   },
   "outputs": [
    {
     "name": "stdout",
     "output_type": "stream",
     "text": [
      "\n",
      "        About: \n",
      "\n",
      "        SICRDq model \n",
      "\n",
      "        Some unknown I and known C, both go to recovered and death \n",
      "\n",
      "        I and C have same leak to r and d but different to total infected Z\n",
      "        \n",
      "S: susceptible\n",
      "I: infected\n",
      "C: identified cases\n",
      "R: recovered\n",
      "D: dead\n"
     ]
    },
    {
     "name": "stderr",
     "output_type": "stream",
     "text": [
      "/usr/local/lib/python3.7/site-packages/networkx/drawing/nx_pylab.py:579: MatplotlibDeprecationWarning: \n",
      "The iterable function was deprecated in Matplotlib 3.1 and will be removed in 3.3. Use np.iterable instead.\n",
      "  if not cb.iterable(width):\n",
      "/usr/local/lib/python3.7/site-packages/networkx/drawing/nx_pylab.py:676: MatplotlibDeprecationWarning: \n",
      "The iterable function was deprecated in Matplotlib 3.1 and will be removed in 3.3. Use np.iterable instead.\n",
      "  if cb.iterable(node_size):  # many node sizes\n"
     ]
    },
    {
     "data": {
      "image/png": "[encoded data removed]",
      "text/plain": [
       "<Figure size 432x288 with 1 Axes>"
      ]
     },
     "metadata": {},
     "output_type": "display_data"
    }
   ],
   "source": [
    "import MBS_epidemic_concentration_models as models\n",
    "model = models.model2new()\n",
    "model.plotnetwork()"
   ]
  },
  {
   "cell_type": "markdown",
   "metadata": {},
   "source": [
    "## Compile"
   ]
  },
  {
   "cell_type": "code",
   "execution_count": null,
   "metadata": {},
   "outputs": [
    {
     "name": "stderr",
     "output_type": "stream",
     "text": [
      "INFO:pystan:COMPILING THE C++ CODE FOR MODEL anon_model_74d1d6bfc5a07719c5bf80db04e9379d NOW.\n"
     ]
    }
   ],
   "source": [
    "stanrunmodel = pystan.StanModel(model_code=model.stan)"
   ]
  },
  {
   "cell_type": "markdown",
   "metadata": {
    "colab_type": "text",
    "id": "qn5Cei_mLN0P"
   },
   "source": [
    "# Load data from JHU\n",
    "\n"
   ]
  },
  {
   "cell_type": "code",
   "execution_count": null,
   "metadata": {
    "colab": {},
    "colab_type": "code",
    "id": "ofuI7UGsLNd7"
   },
   "outputs": [],
   "source": [
    "url_confirmed = \"https://raw.githubusercontent.com/CSSEGISandData/COVID-19/master/csse_covid_19_data/csse_covid_19_time_series/time_series_covid19_confirmed_global.csv\"\n",
    "url_deaths = \"https://raw.githubusercontent.com/CSSEGISandData/COVID-19/master/csse_covid_19_data/csse_covid_19_time_series/time_series_covid19_deaths_global.csv\"\n",
    "url_recovered = \"https://raw.githubusercontent.com/CSSEGISandData/COVID-19/master/csse_covid_19_data/csse_covid_19_time_series/time_series_covid19_recovered_global.csv\"\n",
    "\n",
    "dfc = pd.read_csv(url_confirmed)\n",
    "dfd = pd.read_csv(url_deaths)\n",
    "dfr = pd.read_csv(url_recovered)\n",
    "\n",
    "\n"
   ]
  },
  {
   "cell_type": "markdown",
   "metadata": {
    "colab_type": "text",
    "id": "JQDsWrTVteCu"
   },
   "source": [
    "## Make JHU ROI DF"
   ]
  },
  {
   "cell_type": "markdown",
   "metadata": {},
   "source": [
    "### Enter country "
   ]
  },
  {
   "cell_type": "code",
   "execution_count": null,
   "metadata": {},
   "outputs": [],
   "source": [
    "#Austria,Belgium,Denmark,France,Germany,Italy,Norway,Spain,Sweden,Switzerland,United Kingdom\n",
    "roi = \"Italy\""
   ]
  },
  {
   "cell_type": "code",
   "execution_count": null,
   "metadata": {
    "colab": {},
    "colab_type": "code",
    "id": "XDoHvSi-NQRQ"
   },
   "outputs": [],
   "source": [
    "dfc2 = dfc.loc[(dfc['Country/Region']==roi)&(pd.isnull(dfc['Province/State']))]\n",
    "dfd2 = dfd.loc[(dfd['Country/Region']==roi)&(pd.isnull(dfd['Province/State']))]\n",
    "dfr2 = dfr.loc[(dfr['Country/Region']==roi)&(pd.isnull(dfr['Province/State']))]\n",
    "\n",
    "\n",
    "DF = df = pd.DataFrame(columns=['date','cases','recovered','deaths'])\n",
    "\n",
    "dates = dfc.columns[4:].values\n",
    "\n",
    "for i in range(len(dates)):\n",
    "  DF.loc[i] = pd.Series({'date':dates[i],\n",
    "                         'cases':dfc2[dates[i]].values[0] - (dfr2[dates[i]].values[0] + dfd2[dates[i]].values[0]),\n",
    "                         'recovered':dfr2[dates[i]].values[0],\n",
    "                         'deaths':dfd2[dates[i]].values[0]})\n",
    "\n",
    "\n",
    "pop = {}\n",
    "pop['Italy'] = 60500000\n",
    "pop['United Kingdom'] = 6440000\n",
    "\n",
    "t0 = np.where(DF[\"cases\"].values>5)[0][0] - 1# estimated day of first exposure? Need to make this a parameter\n",
    "model.stan_data['t0'] = t0-1\n",
    "print(\"t0 assumed to be: day \"+str(t0))\n",
    "plt.plot(DF[\"cases\"],'bo', label=\"cases\")\n",
    "plt.plot(DF[\"recovered\"],'go',label=\"recovered\")\n",
    "plt.plot(DF[\"deaths\"],'ks',label=\"deaths\")\n",
    "\n",
    "plt.axvline(model.stan_data['t0'],color='k', linestyle=\"dashed\")\n",
    "plt.legend()\n"
   ]
  },
  {
   "cell_type": "markdown",
   "metadata": {
    "colab_type": "text",
    "id": "gLSieVFFtjOb"
   },
   "source": [
    "## Format JHU ROI data for Stan"
   ]
  },
  {
   "cell_type": "code",
   "execution_count": null,
   "metadata": {
    "colab": {
     "base_uri": "https://localhost:8080/",
     "height": 299
    },
    "colab_type": "code",
    "id": "iG4K7TG6NTJI",
    "outputId": "12052154-8907-4d79-d85a-7823584d3aca",
    "scrolled": true
   },
   "outputs": [],
   "source": [
    "#truncate time series from t0 on (initial is t0-1)\n",
    "model.stan_data['ts'] = np.arange(t0,len(dates))  \n",
    "model.stan_data['y'] = (DF[['cases','recovered','deaths']].to_numpy()).astype(int)[t0:,:]\n",
    "model.stan_data['n_obs'] = len(dates) - t0"
   ]
  },
  {
   "cell_type": "markdown",
   "metadata": {},
   "source": [
    "### Enter population manually"
   ]
  },
  {
   "cell_type": "code",
   "execution_count": null,
   "metadata": {},
   "outputs": [],
   "source": [
    "model.stan_data['n_pop'] = pop[roi] \n",
    "model.stan_data['n_scale'] = 10000000\n"
   ]
  },
  {
   "cell_type": "markdown",
   "metadata": {},
   "source": [
    "### Print data for Stan "
   ]
  },
  {
   "cell_type": "code",
   "execution_count": null,
   "metadata": {},
   "outputs": [],
   "source": [
    "print(model.stan_data)"
   ]
  },
  {
   "cell_type": "markdown",
   "metadata": {},
   "source": [
    "# Load England School 1978 Influenza data "
   ]
  },
  {
   "cell_type": "code",
   "execution_count": null,
   "metadata": {},
   "outputs": [],
   "source": [
    "# #England 1978 influenza\n",
    "# cases = [0,8,26,76,225,298,258,233,189,128,150,85,14,4]\n",
    "# recovered = [0,0,0,0,9,17,105,162,176,166,150,85,47,20]\n",
    "# plt.plot(cases,'bo', label=\"cases\")\n",
    "# plt.plot(recovered,'go',label=\"recovered\")\n",
    "# pop = 763\n",
    "# model.stan_data['t0'] = 0\n",
    "# #truncate time series from t0 on (initial is t0-1)\n",
    "# model.stan_data['n_pop'] = pop \n",
    "# model.stan_data['ts'] = np.arange(1,len(cases)+1)  \n",
    "# Y = np.hstack([np.c_[cases],np.c_[recovered],np.zeros((len(cases),1))]).astype(int)\n",
    "# model.stan_data['y'] = Y\n",
    "# model.stan_data['n_obs'] = len(cases)\n",
    "\n",
    "# plt.plot(cases,'bo', label=\"cases\")\n",
    "# plt.plot(recovered,'go',label=\"recovered\")\n",
    "\n",
    "# plt.legend()"
   ]
  },
  {
   "cell_type": "markdown",
   "metadata": {
    "colab_type": "text",
    "id": "GDWmF_KQ2Hg3"
   },
   "source": [
    "# Run Stan "
   ]
  },
  {
   "cell_type": "markdown",
   "metadata": {},
   "source": [
    "## Initialize parameters"
   ]
  },
  {
   "cell_type": "code",
   "execution_count": null,
   "metadata": {
    "colab": {},
    "colab_type": "code",
    "id": "oImIcxX9Lull"
   },
   "outputs": [],
   "source": [
    "# Feed in some feasible initial values to start from\n",
    "\n",
    "# init_par = [{'theta':[0.25,0.01,0.01,0.05,.02],'S0':0.5}] \n",
    "\n",
    "if model.stan_data['n_theta'] == 2:\n",
    "    def init_fun():\n",
    "        x = {'theta':[np.random.uniform(0,5),np.random.uniform(0.2,0.4)],\n",
    "              'S0':np.random.uniform()}\n",
    "        return x\n",
    "else:\n",
    "    def init_fun():\n",
    "        x = {'theta':[0.1*np.random.uniform()]+\n",
    "             [0.1*np.random.uniform()]+\n",
    "             [0.1*np.random.uniform()]+\n",
    "             [0.1*np.random.uniform()]+\n",
    "             [0.5*np.random.uniform()]+\n",
    "             [0.1*np.random.uniform()],\n",
    "#              [model.stan_data['n_scale']],\n",
    "              'S0':1*np.random.uniform()}\n",
    "#         x = {'theta':[np.random.uniform(), np.random.uniform(),\n",
    "#                       np.random.uniform(),np.random.uniform(),np.random.uniform()],\n",
    "#               'S0':1*np.random.uniform()}\n",
    "        return x"
   ]
  },
  {
   "cell_type": "markdown",
   "metadata": {},
   "source": [
    "## Fit Stan "
   ]
  },
  {
   "cell_type": "code",
   "execution_count": null,
   "metadata": {
    "colab": {
     "base_uri": "https://localhost:8080/",
     "height": 429
    },
    "colab_type": "code",
    "id": "3rtwA8puqVrv",
    "outputId": "061a2610-4f20-4cb2-c8fd-10d97d845fbe"
   },
   "outputs": [],
   "source": [
    "n_chains=4\n",
    "n_warmups=500\n",
    "n_iter=1000\n",
    "n_thin=10\n",
    "\n",
    "control = {'adapt_delta':0.9}\n",
    "fit = stanrunmodel.sampling(data = model.stan_data,init = init_fun,control=control, chains = n_chains, warmup = n_warmups, iter = n_iter, thin=n_thin, seed=13219)\n",
    "\n"
   ]
  },
  {
   "cell_type": "code",
   "execution_count": null,
   "metadata": {
    "colab": {},
    "colab_type": "code",
    "id": "2jXKxrCf3Vj2"
   },
   "outputs": [],
   "source": [
    "print(fit)"
   ]
  },
  {
   "cell_type": "code",
   "execution_count": null,
   "metadata": {},
   "outputs": [],
   "source": [
    "#https://arviz-devs.github.io/arviz/generated/arviz.plot_density\n",
    "az.plot_density(fit,group='posterior',var_names=[\"theta\",\"R_0\"])"
   ]
  },
  {
   "cell_type": "code",
   "execution_count": null,
   "metadata": {},
   "outputs": [],
   "source": [
    "# dir(fit)\n",
    "# stan_data = az.from_pystan(\n",
    "#     posterior=fit,\n",
    "#     posterior_predictive='y_hat',\n",
    "#     observed_data=\"y[1,1]\")\n",
    "\n",
    "# print(stan_data)\n",
    "# # az.plot_ppc(stan_data)\n",
    "\n",
    "print(np.shape(fit.extract()['u']))\n",
    "# plt.plot(np.mean(fit.extract()['y_hat'][:,:,1],0),'r', label=r'$\\hat{I}$')\n",
    "# plt.plot(np.mean(fit.extract()['y_hat'][:,:,2],0),'b', label=r'$\\hat{R}$')\n",
    "# plt.legend()\n",
    "# plt.ylabel('fraction')\n",
    "# plt.xlabel('days')\n",
    "# # plt.plot(model.stan_data['y'][:,0],'bo', label=\"cases\")\n",
    "# # plt.plot(model.stan_data['y'][:,1],'go',label=\"recovered\")\n",
    "\n",
    "# plt.plot(fit.extract()['u'][-1,:,4],'r', label=r'$\\hat{I}$')\n",
    "# plt.plot(fit.extract()['u'][-1,:,2],'b', label=r'$\\hat{R}$')\n",
    "# plt.legend()\n",
    "# plt.ylabel('fraction')\n",
    "# plt.xlabel('days')\n",
    "# plt.plot(model.stan_data['y'][:,0],'bo', label=\"cases\")\n",
    "# plt.plot(model.stan_data['y'][:,1],'go',label=\"recovered\")\n",
    "# plt.subplot(1,2,1)\n",
    "ms=2 \n",
    "x = range(len(fit.extract()['u'][-1,:,0]))\n",
    "plt.plot(x,DF[\"cases\"][t0:],'bo', label=\"cases\",ms=ms)\n",
    "plt.plot(x,DF[\"recovered\"][t0:],'go',label=\"recovered\",ms=ms)\n",
    "plt.plot(x,DF[\"deaths\"][t0:],'s',label=\"deaths\",color='orange',ms=ms)\n",
    "\n",
    "labels = ['C','D','R','I','S','Z']\n",
    "lw=4\n",
    "a = 0.5\n",
    "for i in range(5):\n",
    "    plt.plot(model.stan_data['n_scale']*fit.extract()['u'][-1,:,i],label=labels[i],lw=lw,alpha=a)\n",
    "plt.plot(model.stan_data['n_scale']*(1-fit.extract()['u'][-1,:,4]),label=labels[-1],lw=lw,alpha=a)\n",
    "plt.legend()\n",
    "plt.ylim((0,100000))\n",
    "\n",
    "# plt.subplot(1,2,2)\n",
    "# tot = DF[\"cases\"][-1:] + DF[\"recovered\"][-1:] + DF[\"deaths\"][-1:]\n",
    "\n",
    "# plt.axvline(model.stan_data['t0'],color='k', linestyle=\"dashed\")\n",
    "plt.legend()\n",
    "plt.title(roi)\n",
    "plt.figure()\n",
    "# plt.plot(fit.extract()['lp__'])\n",
    "az.plot_density(fit,group='posterior',var_names=[\"theta\",\"R_0\"])\n",
    "\n"
   ]
  },
  {
   "cell_type": "code",
   "execution_count": null,
   "metadata": {},
   "outputs": [],
   "source": []
  }
 ],
 "metadata": {
  "colab": {
   "collapsed_sections": [],
   "name": "MBS_SIRmodeling_version2.ipynb",
   "provenance": []
  },
  "kernelspec": {
   "display_name": "Python 3",
   "language": "python",
   "name": "python3"
  },
  "language_info": {
   "codemirror_mode": {
    "name": "ipython",
    "version": 3
   },
   "file_extension": ".py",
   "mimetype": "text/x-python",
   "name": "python",
   "nbconvert_exporter": "python",
   "pygments_lexer": "ipython3",
   "version": "3.7.4"
  }
 },
 "nbformat": 4,
 "nbformat_minor": 1
}
