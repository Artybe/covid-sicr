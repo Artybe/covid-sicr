{
 "cells": [
  {
   "cell_type": "code",
   "execution_count": 1,
   "metadata": {
    "cellView": "both",
    "colab": {
     "base_uri": "https://localhost:8080/",
     "height": 309
    },
    "colab_type": "code",
    "id": "AKP2Vok31tsE",
    "outputId": "f268f545-a908-4e75-f957-dad08b72c277"
   },
   "outputs": [],
   "source": [
    "#@title Install arviz\n",
    "# !pip3 install arviz"
   ]
  },
  {
   "cell_type": "code",
   "execution_count": 2,
   "metadata": {
    "colab": {},
    "colab_type": "code",
    "id": "a0disJ2Uy-Bx"
   },
   "outputs": [],
   "source": [
    "import arviz as az\n",
    "import pystan\n",
    "import pandas as pd\n",
    "import matplotlib.pyplot as plt\n",
    "import numpy as np\n",
    "import networkx as nx\n",
    "import warnings\n",
    "warnings.filterwarnings(\"ignore\", category=DeprecationWarning)\n",
    "%matplotlib inline"
   ]
  },
  {
   "cell_type": "markdown",
   "metadata": {
    "colab_type": "text",
    "id": "YT3IVNpzrBoM"
   },
   "source": [
    "## Select and compile model"
   ]
  },
  {
   "cell_type": "code",
   "execution_count": 3,
   "metadata": {
    "colab": {},
    "colab_type": "code",
    "id": "-UJBadMvq8aM"
   },
   "outputs": [
    {
     "name": "stdout",
     "output_type": "stream",
     "text": [
      "\n",
      "        About: \n",
      "\n",
      "        SIR model - expects I,R,D; sums R and D columns \n",
      "\n",
      "        fits I and RD\n",
      "        \n",
      "S: susceptible\n",
      "I: infected\n",
      "RD: recovered_dead\n"
     ]
    },
    {
     "name": "stderr",
     "output_type": "stream",
     "text": [
      "/usr/local/lib/python3.7/site-packages/networkx/drawing/nx_pylab.py:579: MatplotlibDeprecationWarning: \n",
      "The iterable function was deprecated in Matplotlib 3.1 and will be removed in 3.3. Use np.iterable instead.\n",
      "  if not cb.iterable(width):\n",
      "/usr/local/lib/python3.7/site-packages/networkx/drawing/nx_pylab.py:676: MatplotlibDeprecationWarning: \n",
      "The iterable function was deprecated in Matplotlib 3.1 and will be removed in 3.3. Use np.iterable instead.\n",
      "  if cb.iterable(node_size):  # many node sizes\n"
     ]
    },
    {
     "data": {
      "image/png": "[encoded data removed]",
      "text/plain": [
       "<Figure size 432x288 with 1 Axes>"
      ]
     },
     "metadata": {},
     "output_type": "display_data"
    }
   ],
   "source": [
    "import MBS_epidemic_concentration_models as models\n",
    "model = models.model1a()\n",
    "model.plotnetwork()"
   ]
  },
  {
   "cell_type": "code",
   "execution_count": 4,
   "metadata": {},
   "outputs": [
    {
     "name": "stderr",
     "output_type": "stream",
     "text": [
      "INFO:pystan:COMPILING THE C++ CODE FOR MODEL anon_model_3546012605c544f2fa3caecba882fb18 NOW.\n"
     ]
    }
   ],
   "source": [
    "stanrunmodel = pystan.StanModel(model_code=model.stan)"
   ]
  },
  {
   "cell_type": "code",
   "execution_count": 5,
   "metadata": {},
   "outputs": [],
   "source": [
    "#this needs to match the model code used\n",
    "# stan_data = {\n",
    "# 'n_theta':5,\n",
    "# 'n_difeq':5,\n",
    "# 'n_ostates':3\n",
    "# }\n",
    "\n",
    "\n",
    "\n",
    "\n"
   ]
  },
  {
   "cell_type": "markdown",
   "metadata": {
    "colab_type": "text",
    "id": "qn5Cei_mLN0P"
   },
   "source": [
    "# Load data from JHU\n",
    "\n"
   ]
  },
  {
   "cell_type": "code",
   "execution_count": 6,
   "metadata": {
    "colab": {},
    "colab_type": "code",
    "id": "ofuI7UGsLNd7"
   },
   "outputs": [],
   "source": [
    "url_confirmed = \"https://raw.githubusercontent.com/CSSEGISandData/COVID-19/master/csse_covid_19_data/csse_covid_19_time_series/time_series_covid19_confirmed_global.csv\"\n",
    "url_deaths = \"https://raw.githubusercontent.com/CSSEGISandData/COVID-19/master/csse_covid_19_data/csse_covid_19_time_series/time_series_covid19_deaths_global.csv\"\n",
    "url_recovered = \"https://raw.githubusercontent.com/CSSEGISandData/COVID-19/master/csse_covid_19_data/csse_covid_19_time_series/time_series_covid19_recovered_global.csv\"\n",
    "\n",
    "dfc = pd.read_csv(url_confirmed)\n",
    "dfd = pd.read_csv(url_deaths)\n",
    "dfr = pd.read_csv(url_recovered)\n",
    "\n",
    "\n"
   ]
  },
  {
   "cell_type": "markdown",
   "metadata": {
    "colab_type": "text",
    "id": "JQDsWrTVteCu"
   },
   "source": [
    "## Make JHU ROI DF"
   ]
  },
  {
   "cell_type": "markdown",
   "metadata": {},
   "source": [
    "### Enter country "
   ]
  },
  {
   "cell_type": "code",
   "execution_count": 18,
   "metadata": {},
   "outputs": [],
   "source": [
    "roi = \"Italy\""
   ]
  },
  {
   "cell_type": "code",
   "execution_count": 19,
   "metadata": {
    "colab": {},
    "colab_type": "code",
    "id": "XDoHvSi-NQRQ"
   },
   "outputs": [
    {
     "name": "stdout",
     "output_type": "stream",
     "text": [
      "t0 assumed to be: day 9\n"
     ]
    },
    {
     "data": {
      "text/plain": [
       "<matplotlib.legend.Legend at 0x134becf90>"
      ]
     },
     "execution_count": 19,
     "metadata": {},
     "output_type": "execute_result"
    },
    {
     "data": {
      "image/png": "[encoded data removed]",
      "text/plain": [
       "<Figure size 432x288 with 1 Axes>"
      ]
     },
     "metadata": {
      "needs_background": "light"
     },
     "output_type": "display_data"
    }
   ],
   "source": [
    "dfc2 = dfc.loc[dfc['Country/Region']==roi]\n",
    "dfd2 = dfd.loc[dfd['Country/Region']==roi]\n",
    "dfr2 = dfr.loc[dfr['Country/Region']==roi]\n",
    "\n",
    "\n",
    "DF = df = pd.DataFrame(columns=['date','cases','recovered','deaths'])\n",
    "\n",
    "dates = dfc.columns[4:].values\n",
    "\n",
    "for i in range(len(dates)):\n",
    "  DF.loc[i] = pd.Series({'date':dates[i],\n",
    "                         'cases':dfc2[dates[i]].values[0] - (dfr2[dates[i]].values[0] + dfd2[dates[i]].values[0]),\n",
    "                         'recovered':dfr2[dates[i]].values[0],\n",
    "                         'deaths':dfd2[dates[i]].values[0]})\n",
    "\n",
    "\n",
    "pop = {}\n",
    "pop['Italy'] = 60500000\n",
    "pop['United Kingdom'] = 6440000\n",
    "\n",
    "t0 = np.where(DF[\"cases\"].values>=1)[0][0]# estimated day of first exposure? Need to make this a parameter\n",
    "model.stan_data['t0'] = t0-1\n",
    "print(\"t0 assumed to be: day \"+str(t0))\n",
    "plt.plot(DF[\"cases\"],'bo', label=\"cases\")\n",
    "plt.plot(DF[\"recovered\"],'go',label=\"recovered\")\n",
    "plt.plot(DF[\"deaths\"],'ks',label=\"deaths\")\n",
    "\n",
    "plt.axvline(model.stan_data['t0'],color='k', linestyle=\"dashed\")\n",
    "plt.legend()\n"
   ]
  },
  {
   "cell_type": "markdown",
   "metadata": {
    "colab_type": "text",
    "id": "gLSieVFFtjOb"
   },
   "source": [
    "## Format JHU ROI data for Stan"
   ]
  },
  {
   "cell_type": "code",
   "execution_count": 20,
   "metadata": {
    "colab": {
     "base_uri": "https://localhost:8080/",
     "height": 299
    },
    "colab_type": "code",
    "id": "iG4K7TG6NTJI",
    "outputId": "12052154-8907-4d79-d85a-7823584d3aca",
    "scrolled": true
   },
   "outputs": [],
   "source": [
    "#truncate time series from t0 on (initial is t0-1)\n",
    "model.stan_data['ts'] = np.arange(t0,len(dates))  \n",
    "model.stan_data['y'] = (DF[['cases','recovered','deaths']].to_numpy()).astype(int)[t0:,:]\n",
    "model.stan_data['n_obs'] = len(dates) - t0"
   ]
  },
  {
   "cell_type": "markdown",
   "metadata": {},
   "source": [
    "### Enter population manually"
   ]
  },
  {
   "cell_type": "code",
   "execution_count": 21,
   "metadata": {},
   "outputs": [],
   "source": [
    "model.stan_data['n_pop'] = 10000#pop[roi] "
   ]
  },
  {
   "cell_type": "markdown",
   "metadata": {},
   "source": [
    "### Print data for Stan "
   ]
  },
  {
   "cell_type": "code",
   "execution_count": 22,
   "metadata": {},
   "outputs": [
    {
     "name": "stdout",
     "output_type": "stream",
     "text": [
      "{'n_theta': 2, 'n_difeq': 3, 'n_ostates': 3, 't0': 8, 'ts': array([ 9, 10, 11, 12, 13, 14, 15, 16, 17, 18, 19, 20, 21, 22, 23, 24, 25,\n",
      "       26, 27, 28, 29, 30, 31, 32, 33, 34, 35, 36, 37, 38, 39, 40, 41, 42,\n",
      "       43, 44, 45, 46, 47, 48, 49, 50, 51, 52, 53, 54, 55, 56, 57, 58, 59,\n",
      "       60, 61, 62, 63, 64, 65, 66, 67, 68, 69, 70, 71]), 'y': array([[    2,     0,     0],\n",
      "       [    2,     0,     0],\n",
      "       [    2,     0,     0],\n",
      "       [    2,     0,     0],\n",
      "       [    2,     0,     0],\n",
      "       [    2,     0,     0],\n",
      "       [    2,     0,     0],\n",
      "       [    3,     0,     0],\n",
      "       [    3,     0,     0],\n",
      "       [    3,     0,     0],\n",
      "       [    3,     0,     0],\n",
      "       [    3,     0,     0],\n",
      "       [    3,     0,     0],\n",
      "       [    3,     0,     0],\n",
      "       [    3,     0,     0],\n",
      "       [    3,     0,     0],\n",
      "       [    3,     0,     0],\n",
      "       [    3,     0,     0],\n",
      "       [    3,     0,     0],\n",
      "       [    3,     0,     0],\n",
      "       [    3,     0,     0],\n",
      "       [   19,     0,     1],\n",
      "       [   59,     1,     2],\n",
      "       [  150,     2,     3],\n",
      "       [  221,     1,     7],\n",
      "       [  311,     1,    10],\n",
      "       [  438,     3,    12],\n",
      "       [  593,    45,    17],\n",
      "       [  821,    46,    21],\n",
      "       [ 1053,    46,    29],\n",
      "       [ 1577,    83,    34],\n",
      "       [ 1835,   149,    52],\n",
      "       [ 2263,   160,    79],\n",
      "       [ 2706,   276,   107],\n",
      "       [ 3296,   414,   148],\n",
      "       [ 3916,   523,   197],\n",
      "       [ 5061,   589,   233],\n",
      "       [ 6387,   622,   366],\n",
      "       [ 7985,   724,   463],\n",
      "       [ 8794,   724,   631],\n",
      "       [10590,  1045,   827],\n",
      "       [10590,  1045,   827],\n",
      "       [14955,  1439,  1266],\n",
      "       [17750,  1966,  1441],\n",
      "       [20603,  2335,  1809],\n",
      "       [23073,  2749,  2158],\n",
      "       [26062,  2941,  2503],\n",
      "       [28710,  4025,  2978],\n",
      "       [33190,  4440,  3405],\n",
      "       [38549,  4440,  4032],\n",
      "       [42681,  6072,  4825],\n",
      "       [46638,  7024,  5476],\n",
      "       [50826,  7024,  6077],\n",
      "       [54030,  8326,  6820],\n",
      "       [57521,  9362,  7503],\n",
      "       [62013, 10361,  8215],\n",
      "       [66414, 10950,  9134],\n",
      "       [70065, 12384, 10023],\n",
      "       [73880, 13030, 10779],\n",
      "       [75528, 14620, 11591],\n",
      "       [77635, 15729, 12428],\n",
      "       [80572, 16847, 13155],\n",
      "       [83049, 18278, 13915]]), 'n_obs': 63, 'n_pop': 100000}\n"
     ]
    }
   ],
   "source": [
    "print(model.stan_data)"
   ]
  },
  {
   "cell_type": "markdown",
   "metadata": {},
   "source": [
    "# Load England School 1978 Influenza data "
   ]
  },
  {
   "cell_type": "code",
   "execution_count": 12,
   "metadata": {},
   "outputs": [],
   "source": [
    "# #England 1978 influenza\n",
    "# cases = [0,8,26,76,225,298,258,233,189,128,150,85,14,4]\n",
    "# recovered = [0,0,0,0,9,17,105,162,176,166,150,85,47,20]\n",
    "# plt.plot(cases,'bo', label=\"cases\")\n",
    "# plt.plot(recovered,'go',label=\"recovered\")\n",
    "# pop = 763\n",
    "# model.stan_data['t0'] = 0\n",
    "# #truncate time series from t0 on (initial is t0-1)\n",
    "# model.stan_data['n_pop'] = pop \n",
    "# model.stan_data['ts'] = np.arange(1,len(cases)+1)  \n",
    "# Y = np.hstack([np.c_[cases],np.c_[recovered],np.zeros((len(cases),1))]).astype(int)\n",
    "# model.stan_data['y'] = Y\n",
    "# model.stan_data['n_obs'] = len(cases)\n",
    "\n",
    "# plt.plot(cases,'bo', label=\"cases\")\n",
    "# plt.plot(recovered,'go',label=\"recovered\")\n",
    "\n",
    "# plt.legend()"
   ]
  },
  {
   "cell_type": "markdown",
   "metadata": {
    "colab_type": "text",
    "id": "GDWmF_KQ2Hg3"
   },
   "source": [
    "# Run Stan "
   ]
  },
  {
   "cell_type": "markdown",
   "metadata": {},
   "source": [
    "## Initialize parameters"
   ]
  },
  {
   "cell_type": "code",
   "execution_count": 23,
   "metadata": {
    "colab": {},
    "colab_type": "code",
    "id": "oImIcxX9Lull"
   },
   "outputs": [],
   "source": [
    "# Feed in some feasible initial values to start from\n",
    "\n",
    "# init_par = [{'theta':[0.25,0.01,0.01,0.05,.02],'S0':0.5}] \n",
    "\n",
    "\n",
    "def init_1():\n",
    "    x = {'theta':[np.random.uniform(0,5),np.random.uniform(0.2,0.4)],\n",
    "          'S0':np.random.uniform()}\n",
    "    return x\n",
    "\n",
    "# init_par = [{'theta':[2.5,0.3],'S0':0.9}] \n"
   ]
  },
  {
   "cell_type": "markdown",
   "metadata": {},
   "source": [
    "## Fit Stan "
   ]
  },
  {
   "cell_type": "code",
   "execution_count": 30,
   "metadata": {
    "colab": {
     "base_uri": "https://localhost:8080/",
     "height": 429
    },
    "colab_type": "code",
    "id": "3rtwA8puqVrv",
    "outputId": "061a2610-4f20-4cb2-c8fd-10d97d845fbe"
   },
   "outputs": [
    {
     "name": "stderr",
     "output_type": "stream",
     "text": [
      "WARNING:pystan:n_eff / iter below 0.001 indicates that the effective sample size has likely been overestimated\n",
      "WARNING:pystan:Rhat above 1.1 or below 0.9 indicates that the chains very likely have not mixed\n"
     ]
    }
   ],
   "source": [
    "n_chains=3\n",
    "n_warmups=500\n",
    "n_iter=5000\n",
    "n_thin=50\n",
    "\n",
    "control = {'adapt_delta':0.9}\n",
    "fit = stanrunmodel.sampling(data = model.stan_data,init = init_1,control=control, chains = n_chains, warmup = n_warmups, iter = n_iter, thin=n_thin, seed=13219)\n",
    "\n"
   ]
  },
  {
   "cell_type": "code",
   "execution_count": 31,
   "metadata": {
    "colab": {},
    "colab_type": "code",
    "id": "2jXKxrCf3Vj2"
   },
   "outputs": [
    {
     "name": "stdout",
     "output_type": "stream",
     "text": [
      "Inference for Stan model: anon_model_3546012605c544f2fa3caecba882fb18.\n",
      "3 chains, each with iter=5000; warmup=500; thin=50; \n",
      "post-warmup draws per chain=90, total post-warmup draws=270.\n",
      "\n",
      "              mean se_mean     sd   2.5%    25%    50%    75%  97.5%  n_eff   Rhat\n",
      "theta[1]    7.7e-7  1.2e-8 2.0e-7 4.1e-7 6.4e-7 7.5e-7 9.0e-7 1.3e-6    295    1.0\n",
      "theta[2]    2.0e-3  2.5e-7 3.7e-6 2.0e-3 2.0e-3 2.0e-3 2.0e-3 2.0e-3    225    1.0\n",
      "S0            0.18  1.1e-5 1.8e-4   0.18   0.18   0.18   0.18   0.18    250   1.01\n",
      "y_hat[1,1]    0.18  1.1e-5 1.8e-4   0.18   0.18   0.18   0.18   0.18    250   1.01\n",
      "y_hat[2,1]    0.18  1.1e-5 1.8e-4   0.18   0.18   0.18   0.18   0.18    250   1.01\n",
      "y_hat[3,1]    0.18  1.1e-5 1.8e-4   0.18   0.18   0.18   0.18   0.18    250   1.01\n",
      "y_hat[4,1]    0.18  1.1e-5 1.8e-4   0.18   0.18   0.18   0.18   0.18    250   1.01\n",
      "y_hat[5,1]    0.18  1.1e-5 1.8e-4   0.18   0.18   0.18   0.18   0.18    250   1.01\n",
      "y_hat[6,1]    0.18  1.1e-5 1.8e-4   0.18   0.18   0.18   0.18   0.18    250   1.01\n",
      "y_hat[7,1]    0.18  1.1e-5 1.8e-4   0.18   0.18   0.18   0.18   0.18    250   1.01\n",
      "y_hat[8,1]    0.18  1.1e-5 1.8e-4   0.18   0.18   0.18   0.18   0.18    250   1.01\n",
      "y_hat[9,1]    0.18  1.1e-5 1.8e-4   0.18   0.18   0.18   0.18   0.18    250   1.01\n",
      "y_hat[10,1]   0.18  1.1e-5 1.8e-4   0.18   0.18   0.18   0.18   0.18    250   1.01\n",
      "y_hat[11,1]   0.18  1.1e-5 1.8e-4   0.18   0.18   0.18   0.18   0.18    250   1.01\n",
      "y_hat[12,1]   0.18  1.1e-5 1.8e-4   0.18   0.18   0.18   0.18   0.18    250   1.01\n",
      "y_hat[13,1]   0.18  1.1e-5 1.8e-4   0.18   0.18   0.18   0.18   0.18    250   1.01\n",
      "y_hat[14,1]   0.18  1.1e-5 1.8e-4   0.18   0.18   0.18   0.18   0.18    250   1.01\n",
      "y_hat[15,1]   0.18  1.1e-5 1.8e-4   0.18   0.18   0.18   0.18   0.18    250   1.01\n",
      "y_hat[16,1]   0.18  1.1e-5 1.8e-4   0.18   0.18   0.18   0.18   0.18    250   1.01\n",
      "y_hat[17,1]   0.18  1.1e-5 1.8e-4   0.18   0.18   0.18   0.18   0.18    250   1.01\n",
      "y_hat[18,1]   0.18  1.1e-5 1.8e-4   0.18   0.18   0.18   0.18   0.18    250   1.01\n",
      "y_hat[19,1]   0.18  1.1e-5 1.8e-4   0.18   0.18   0.18   0.18   0.18    250   1.01\n",
      "y_hat[20,1]   0.18  1.1e-5 1.8e-4   0.18   0.18   0.18   0.18   0.18    250   1.01\n",
      "y_hat[21,1]   0.18  1.1e-5 1.8e-4   0.18   0.18   0.18   0.18   0.18    250   1.01\n",
      "y_hat[22,1]   0.18  1.1e-5 1.8e-4   0.18   0.18   0.18   0.18   0.18    250   1.01\n",
      "y_hat[23,1]   0.18  1.1e-5 1.8e-4   0.18   0.18   0.18   0.18   0.18    250   1.01\n",
      "y_hat[24,1]   0.18  1.1e-5 1.8e-4   0.18   0.18   0.18   0.18   0.18    250   1.01\n",
      "y_hat[25,1]   0.18  1.1e-5 1.8e-4   0.18   0.18   0.18   0.18   0.18    250   1.01\n",
      "y_hat[26,1]   0.18  1.1e-5 1.8e-4   0.18   0.18   0.18   0.18   0.18    250   1.01\n",
      "y_hat[27,1]   0.18  1.1e-5 1.8e-4   0.18   0.18   0.18   0.18   0.18    250   1.01\n",
      "y_hat[28,1]   0.18  1.1e-5 1.8e-4   0.18   0.18   0.18   0.18   0.18    250   1.01\n",
      "y_hat[29,1]   0.18  1.1e-5 1.8e-4   0.18   0.18   0.18   0.18   0.18    250   1.01\n",
      "y_hat[30,1]   0.18  1.1e-5 1.8e-4   0.18   0.18   0.18   0.18   0.18    250   1.01\n",
      "y_hat[31,1]   0.18  1.1e-5 1.8e-4   0.18   0.18   0.18   0.18   0.18    250   1.01\n",
      "y_hat[32,1]   0.18  1.1e-5 1.8e-4   0.18   0.18   0.18   0.18   0.18    250   1.01\n",
      "y_hat[33,1]   0.18  1.1e-5 1.8e-4   0.18   0.18   0.18   0.18   0.18    250   1.01\n",
      "y_hat[34,1]   0.18  1.1e-5 1.8e-4   0.18   0.18   0.18   0.18   0.18    250   1.01\n",
      "y_hat[35,1]   0.18  1.1e-5 1.8e-4   0.18   0.18   0.18   0.18   0.18    250   1.01\n",
      "y_hat[36,1]   0.18  1.1e-5 1.8e-4   0.18   0.18   0.18   0.18   0.18    250   1.01\n",
      "y_hat[37,1]   0.18  1.1e-5 1.8e-4   0.18   0.18   0.18   0.18   0.18    250   1.01\n",
      "y_hat[38,1]   0.18  1.1e-5 1.8e-4   0.18   0.18   0.18   0.18   0.18    250   1.01\n",
      "y_hat[39,1]   0.18  1.1e-5 1.8e-4   0.18   0.18   0.18   0.18   0.18    250   1.01\n",
      "y_hat[40,1]   0.18  1.1e-5 1.8e-4   0.18   0.18   0.18   0.18   0.18    250   1.01\n",
      "y_hat[41,1]   0.18  1.1e-5 1.8e-4   0.18   0.18   0.18   0.18   0.18    250   1.01\n",
      "y_hat[42,1]   0.18  1.1e-5 1.8e-4   0.18   0.18   0.18   0.18   0.18    250   1.01\n",
      "y_hat[43,1]   0.18  1.1e-5 1.8e-4   0.18   0.18   0.18   0.18   0.18    250   1.01\n",
      "y_hat[44,1]   0.18  1.1e-5 1.8e-4   0.18   0.18   0.18   0.18   0.18    250   1.01\n",
      "y_hat[45,1]   0.18  1.1e-5 1.8e-4   0.18   0.18   0.18   0.18   0.18    250   1.01\n",
      "y_hat[46,1]   0.18  1.1e-5 1.8e-4   0.18   0.18   0.18   0.18   0.18    250   1.01\n",
      "y_hat[47,1]   0.18  1.1e-5 1.8e-4   0.18   0.18   0.18   0.18   0.18    250   1.01\n",
      "y_hat[48,1]   0.18  1.1e-5 1.8e-4   0.18   0.18   0.18   0.18   0.18    250   1.01\n",
      "y_hat[49,1]   0.18  1.1e-5 1.8e-4   0.18   0.18   0.18   0.18   0.18    250   1.01\n",
      "y_hat[50,1]   0.18  1.1e-5 1.8e-4   0.18   0.18   0.18   0.18   0.18    250   1.01\n",
      "y_hat[51,1]   0.18  1.1e-5 1.8e-4   0.18   0.18   0.18   0.18   0.18    250   1.01\n",
      "y_hat[52,1]   0.18  1.1e-5 1.8e-4   0.18   0.18   0.18   0.18   0.18    250   1.01\n",
      "y_hat[53,1]   0.18  1.1e-5 1.8e-4   0.18   0.18   0.18   0.18   0.18    250   1.01\n",
      "y_hat[54,1]   0.18  1.1e-5 1.8e-4   0.18   0.18   0.18   0.18   0.18    250   1.01\n",
      "y_hat[55,1]   0.18  1.1e-5 1.8e-4   0.18   0.18   0.18   0.18   0.18    250   1.01\n",
      "y_hat[56,1]   0.18  1.1e-5 1.8e-4   0.18   0.18   0.18   0.18   0.18    250   1.01\n",
      "y_hat[57,1]   0.18  1.1e-5 1.8e-4   0.18   0.18   0.18   0.18   0.18    250   1.01\n",
      "y_hat[58,1]   0.18  1.1e-5 1.8e-4   0.18   0.18   0.18   0.18   0.18    250   1.01\n",
      "y_hat[59,1]   0.18  1.1e-5 1.8e-4   0.18   0.18   0.18   0.18   0.18    250   1.01\n",
      "y_hat[60,1]   0.18  1.1e-5 1.8e-4   0.18   0.18   0.18   0.18   0.18    250   1.01\n",
      "y_hat[61,1]   0.18  1.1e-5 1.8e-4   0.18   0.18   0.18   0.18   0.18    250   1.01\n",
      "y_hat[62,1]   0.18  1.1e-5 1.8e-4   0.18   0.18   0.18   0.18   0.18    250   1.01\n",
      "y_hat[63,1]   0.18  1.1e-5 1.8e-4   0.18   0.18   0.18   0.18   0.18    250   1.01\n",
      "y_hat[1,2]    0.82  1.1e-5 1.8e-4   0.82   0.82   0.82   0.82   0.82    249   1.01\n",
      "y_hat[2,2]    0.82  1.1e-5 1.8e-4   0.82   0.82   0.82   0.82   0.82    249   1.01\n",
      "y_hat[3,2]    0.82  1.1e-5 1.8e-4   0.82   0.82   0.82   0.82   0.82    248   1.01\n",
      "y_hat[4,2]    0.82  1.1e-5 1.8e-4   0.82   0.82   0.82   0.82   0.82    248   1.01\n",
      "y_hat[5,2]    0.82  1.1e-5 1.8e-4   0.81   0.82   0.82   0.82   0.82    248   1.01\n",
      "y_hat[6,2]    0.81  1.1e-5 1.8e-4   0.81   0.81   0.81   0.81   0.81    247   1.01\n",
      "y_hat[7,2]    0.81  1.1e-5 1.8e-4   0.81   0.81   0.81   0.81   0.81    247   1.01\n",
      "y_hat[8,2]    0.81  1.1e-5 1.8e-4   0.81   0.81   0.81   0.81   0.81    246   1.01\n",
      "y_hat[9,2]    0.81  1.2e-5 1.8e-4   0.81   0.81   0.81   0.81   0.81    246   1.01\n",
      "y_hat[10,2]   0.81  1.2e-5 1.8e-4   0.81   0.81   0.81   0.81   0.81    246   1.01\n",
      "y_hat[11,2]   0.81  1.2e-5 1.8e-4   0.81   0.81   0.81   0.81   0.81    245   1.01\n",
      "y_hat[12,2]    0.8  1.2e-5 1.8e-4    0.8    0.8    0.8    0.8    0.8    245   1.01\n",
      "y_hat[13,2]    0.8  1.2e-5 1.9e-4    0.8    0.8    0.8    0.8    0.8    245   1.01\n",
      "y_hat[14,2]    0.8  1.2e-5 1.9e-4    0.8    0.8    0.8    0.8    0.8    244   1.01\n",
      "y_hat[15,2]    0.8  1.2e-5 1.9e-4    0.8    0.8    0.8    0.8    0.8    244   1.01\n",
      "y_hat[16,2]    0.8  1.2e-5 1.9e-4    0.8    0.8    0.8    0.8    0.8    244   1.01\n",
      "y_hat[17,2]    0.8  1.2e-5 1.9e-4    0.8    0.8    0.8    0.8    0.8    243   1.01\n",
      "y_hat[18,2]   0.79  1.2e-5 1.9e-4   0.79   0.79   0.79   0.79   0.79    243   1.01\n",
      "y_hat[19,2]   0.79  1.2e-5 1.9e-4   0.79   0.79   0.79   0.79   0.79    243   1.01\n",
      "y_hat[20,2]   0.79  1.2e-5 1.9e-4   0.79   0.79   0.79   0.79   0.79    242   1.01\n",
      "y_hat[21,2]   0.79  1.2e-5 1.9e-4   0.79   0.79   0.79   0.79   0.79    242   1.01\n",
      "y_hat[22,2]   0.79  1.3e-5 2.0e-4   0.79   0.79   0.79   0.79   0.79    242    1.0\n",
      "y_hat[23,2]   0.79  1.3e-5 2.0e-4   0.79   0.79   0.79   0.79   0.79    242    1.0\n",
      "y_hat[24,2]   0.78  1.3e-5 2.0e-4   0.78   0.78   0.78   0.78   0.79    241    1.0\n",
      "y_hat[25,2]   0.78  1.3e-5 2.0e-4   0.78   0.78   0.78   0.78   0.78    241    1.0\n",
      "y_hat[26,2]   0.78  1.3e-5 2.0e-4   0.78   0.78   0.78   0.78   0.78    241    1.0\n",
      "y_hat[27,2]   0.78  1.3e-5 2.0e-4   0.78   0.78   0.78   0.78   0.78    241    1.0\n",
      "y_hat[28,2]   0.78  1.3e-5 2.0e-4   0.78   0.78   0.78   0.78   0.78    240    1.0\n",
      "y_hat[29,2]   0.78  1.3e-5 2.0e-4   0.78   0.78   0.78   0.78   0.78    240    1.0\n",
      "y_hat[30,2]   0.78  1.3e-5 2.1e-4   0.77   0.78   0.78   0.78   0.78    240    1.0\n",
      "y_hat[31,2]   0.77  1.3e-5 2.1e-4   0.77   0.77   0.77   0.77   0.77    240    1.0\n",
      "y_hat[32,2]   0.77  1.4e-5 2.1e-4   0.77   0.77   0.77   0.77   0.77    240    1.0\n",
      "y_hat[33,2]   0.77  1.4e-5 2.1e-4   0.77   0.77   0.77   0.77   0.77    239    1.0\n",
      "y_hat[34,2]   0.77  1.4e-5 2.1e-4   0.77   0.77   0.77   0.77   0.77    239    1.0\n",
      "y_hat[35,2]   0.77  1.4e-5 2.1e-4   0.77   0.77   0.77   0.77   0.77    239    1.0\n",
      "y_hat[36,2]   0.77  1.4e-5 2.2e-4   0.77   0.77   0.77   0.77   0.77    239    1.0\n",
      "y_hat[37,2]   0.76  1.4e-5 2.2e-4   0.76   0.76   0.76   0.76   0.77    239    1.0\n",
      "y_hat[38,2]   0.76  1.4e-5 2.2e-4   0.76   0.76   0.76   0.76   0.76    239    1.0\n",
      "y_hat[39,2]   0.76  1.4e-5 2.2e-4   0.76   0.76   0.76   0.76   0.76    238    1.0\n",
      "y_hat[40,2]   0.76  1.4e-5 2.2e-4   0.76   0.76   0.76   0.76   0.76    238    1.0\n",
      "y_hat[41,2]   0.76  1.4e-5 2.2e-4   0.76   0.76   0.76   0.76   0.76    238    1.0\n",
      "y_hat[42,2]   0.76  1.5e-5 2.2e-4   0.76   0.76   0.76   0.76   0.76    238    1.0\n",
      "y_hat[43,2]   0.76  1.5e-5 2.3e-4   0.75   0.76   0.76   0.76   0.76    238    1.0\n",
      "y_hat[44,2]   0.75  1.5e-5 2.3e-4   0.75   0.75   0.75   0.75   0.75    238    1.0\n",
      "y_hat[45,2]   0.75  1.5e-5 2.3e-4   0.75   0.75   0.75   0.75   0.75    238    1.0\n",
      "y_hat[46,2]   0.75  1.5e-5 2.3e-4   0.75   0.75   0.75   0.75   0.75    238    1.0\n",
      "y_hat[47,2]   0.75  1.5e-5 2.3e-4   0.75   0.75   0.75   0.75   0.75    237    1.0\n",
      "y_hat[48,2]   0.75  1.5e-5 2.3e-4   0.75   0.75   0.75   0.75   0.75    237    1.0\n",
      "y_hat[49,2]   0.75  1.5e-5 2.4e-4   0.75   0.75   0.75   0.75   0.75    237    1.0\n",
      "y_hat[50,2]   0.74  1.5e-5 2.4e-4   0.74   0.74   0.74   0.75   0.75    237    1.0\n",
      "y_hat[51,2]   0.74  1.6e-5 2.4e-4   0.74   0.74   0.74   0.74   0.74    237    1.0\n",
      "y_hat[52,2]   0.74  1.6e-5 2.4e-4   0.74   0.74   0.74   0.74   0.74    237    1.0\n",
      "y_hat[53,2]   0.74  1.6e-5 2.4e-4   0.74   0.74   0.74   0.74   0.74    237    1.0\n",
      "y_hat[54,2]   0.74  1.6e-5 2.4e-4   0.74   0.74   0.74   0.74   0.74    237    1.0\n",
      "y_hat[55,2]   0.74  1.6e-5 2.5e-4   0.74   0.74   0.74   0.74   0.74    237    1.0\n",
      "y_hat[56,2]   0.74  1.6e-5 2.5e-4   0.74   0.74   0.74   0.74   0.74    237    1.0\n",
      "y_hat[57,2]   0.73  1.6e-5 2.5e-4   0.73   0.73   0.73   0.73   0.73    237    1.0\n",
      "y_hat[58,2]   0.73  1.6e-5 2.5e-4   0.73   0.73   0.73   0.73   0.73    237    1.0\n",
      "y_hat[59,2]   0.73  1.6e-5 2.5e-4   0.73   0.73   0.73   0.73   0.73    236    1.0\n",
      "y_hat[60,2]   0.73  1.7e-5 2.5e-4   0.73   0.73   0.73   0.73   0.73    236    1.0\n",
      "y_hat[61,2]   0.73  1.7e-5 2.6e-4   0.73   0.73   0.73   0.73   0.73    236    1.0\n",
      "y_hat[62,2]   0.73  1.7e-5 2.6e-4   0.73   0.73   0.73   0.73   0.73    236    1.0\n",
      "y_hat[63,2]   0.73  1.7e-5 2.6e-4   0.73   0.73   0.73   0.73   0.73    236    1.0\n",
      "y_hat[1,3]  1.7e-3  2.0e-7 3.0e-6 1.6e-3 1.7e-3 1.7e-3 1.7e-3 1.7e-3    221    1.0\n",
      "y_hat[2,3]  3.3e-3  4.0e-7 6.0e-6 3.3e-3 3.3e-3 3.3e-3 3.3e-3 3.3e-3    221    1.0\n",
      "y_hat[3,3]  4.9e-3  6.0e-7 8.9e-6 4.9e-3 4.9e-3 4.9e-3 5.0e-3 5.0e-3    221    1.0\n",
      "y_hat[4,3]  6.6e-3  8.0e-7 1.2e-5 6.6e-3 6.6e-3 6.6e-3 6.6e-3 6.6e-3    221    1.0\n",
      "y_hat[5,3]  8.2e-3 10.0e-7 1.5e-5 8.2e-3 8.2e-3 8.2e-3 8.2e-3 8.3e-3    221    1.0\n",
      "y_hat[6,3]  9.9e-3  1.2e-6 1.8e-5 9.8e-3 9.9e-3 9.9e-3 9.9e-3 9.9e-3    221    1.0\n",
      "y_hat[7,3]    0.01  1.4e-6 2.1e-5   0.01   0.01   0.01   0.01   0.01    221    1.0\n",
      "y_hat[8,3]    0.01  1.6e-6 2.4e-5   0.01   0.01   0.01   0.01   0.01    221    1.0\n",
      "y_hat[9,3]    0.01  1.8e-6 2.6e-5   0.01   0.01   0.01   0.01   0.01    221    1.0\n",
      "y_hat[10,3]   0.02  2.0e-6 2.9e-5   0.02   0.02   0.02   0.02   0.02    221    1.0\n",
      "y_hat[11,3]   0.02  2.2e-6 3.2e-5   0.02   0.02   0.02   0.02   0.02    221    1.0\n",
      "y_hat[12,3]   0.02  2.4e-6 3.5e-5   0.02   0.02   0.02   0.02   0.02    221    1.0\n",
      "y_hat[13,3]   0.02  2.5e-6 3.8e-5   0.02   0.02   0.02   0.02   0.02    221    1.0\n",
      "y_hat[14,3]   0.02  2.7e-6 4.1e-5   0.02   0.02   0.02   0.02   0.02    221    1.0\n",
      "y_hat[15,3]   0.02  2.9e-6 4.4e-5   0.02   0.02   0.02   0.02   0.02    221    1.0\n",
      "y_hat[16,3]   0.03  3.1e-6 4.6e-5   0.03   0.03   0.03   0.03   0.03    221    1.0\n",
      "y_hat[17,3]   0.03  3.3e-6 4.9e-5   0.03   0.03   0.03   0.03   0.03    221    1.0\n",
      "y_hat[18,3]   0.03  3.5e-6 5.2e-5   0.03   0.03   0.03   0.03   0.03    221    1.0\n",
      "y_hat[19,3]   0.03  3.7e-6 5.5e-5   0.03   0.03   0.03   0.03   0.03    221    1.0\n",
      "y_hat[20,3]   0.03  3.9e-6 5.7e-5   0.03   0.03   0.03   0.03   0.03    221    1.0\n",
      "y_hat[21,3]   0.03  4.1e-6 6.0e-5   0.03   0.03   0.03   0.03   0.03    221    1.0\n",
      "y_hat[22,3]   0.04  4.2e-6 6.3e-5   0.04   0.04   0.04   0.04   0.04    221    1.0\n",
      "y_hat[23,3]   0.04  4.4e-6 6.6e-5   0.04   0.04   0.04   0.04   0.04    221    1.0\n",
      "y_hat[24,3]   0.04  4.6e-6 6.8e-5   0.04   0.04   0.04   0.04   0.04    221    1.0\n",
      "y_hat[25,3]   0.04  4.8e-6 7.1e-5   0.04   0.04   0.04   0.04   0.04    221    1.0\n",
      "y_hat[26,3]   0.04  5.0e-6 7.4e-5   0.04   0.04   0.04   0.04   0.04    221    1.0\n",
      "y_hat[27,3]   0.04  5.1e-6 7.6e-5   0.04   0.04   0.04   0.04   0.04    221    1.0\n",
      "y_hat[28,3]   0.05  5.3e-6 7.9e-5   0.04   0.04   0.05   0.05   0.05    221    1.0\n",
      "y_hat[29,3]   0.05  5.5e-6 8.2e-5   0.05   0.05   0.05   0.05   0.05    221    1.0\n",
      "y_hat[30,3]   0.05  5.7e-6 8.4e-5   0.05   0.05   0.05   0.05   0.05    221    1.0\n",
      "y_hat[31,3]   0.05  5.9e-6 8.7e-5   0.05   0.05   0.05   0.05   0.05    221    1.0\n",
      "y_hat[32,3]   0.05  6.0e-6 9.0e-5   0.05   0.05   0.05   0.05   0.05    221    1.0\n",
      "y_hat[33,3]   0.05  6.2e-6 9.2e-5   0.05   0.05   0.05   0.05   0.05    221    1.0\n",
      "y_hat[34,3]   0.05  6.4e-6 9.5e-5   0.05   0.05   0.05   0.05   0.05    221    1.0\n",
      "y_hat[35,3]   0.06  6.6e-6 9.8e-5   0.06   0.06   0.06   0.06   0.06    221    1.0\n",
      "y_hat[36,3]   0.06  6.7e-6 1.0e-4   0.06   0.06   0.06   0.06   0.06    221    1.0\n",
      "y_hat[37,3]   0.06  6.9e-6 1.0e-4   0.06   0.06   0.06   0.06   0.06    221    1.0\n",
      "y_hat[38,3]   0.06  7.1e-6 1.1e-4   0.06   0.06   0.06   0.06   0.06    221    1.0\n",
      "y_hat[39,3]   0.06  7.3e-6 1.1e-4   0.06   0.06   0.06   0.06   0.06    221    1.0\n",
      "y_hat[40,3]   0.06  7.4e-6 1.1e-4   0.06   0.06   0.06   0.06   0.06    221    1.0\n",
      "y_hat[41,3]   0.07  7.6e-6 1.1e-4   0.06   0.07   0.07   0.07   0.07    221    1.0\n",
      "y_hat[42,3]   0.07  7.8e-6 1.2e-4   0.07   0.07   0.07   0.07   0.07    221    1.0\n",
      "y_hat[43,3]   0.07  7.9e-6 1.2e-4   0.07   0.07   0.07   0.07   0.07    221    1.0\n",
      "y_hat[44,3]   0.07  8.1e-6 1.2e-4   0.07   0.07   0.07   0.07   0.07    221    1.0\n",
      "y_hat[45,3]   0.07  8.3e-6 1.2e-4   0.07   0.07   0.07   0.07   0.07    221    1.0\n",
      "y_hat[46,3]   0.07  8.4e-6 1.3e-4   0.07   0.07   0.07   0.07   0.07    221    1.0\n",
      "y_hat[47,3]   0.07  8.6e-6 1.3e-4   0.07   0.07   0.07   0.07   0.07    221    1.0\n",
      "y_hat[48,3]   0.08  8.8e-6 1.3e-4   0.08   0.08   0.08   0.08   0.08    221    1.0\n",
      "y_hat[49,3]   0.08  8.9e-6 1.3e-4   0.08   0.08   0.08   0.08   0.08    221    1.0\n",
      "y_hat[50,3]   0.08  9.1e-6 1.4e-4   0.08   0.08   0.08   0.08   0.08    221    1.0\n",
      "y_hat[51,3]   0.08  9.3e-6 1.4e-4   0.08   0.08   0.08   0.08   0.08    221    1.0\n",
      "y_hat[52,3]   0.08  9.4e-6 1.4e-4   0.08   0.08   0.08   0.08   0.08    221    1.0\n",
      "y_hat[53,3]   0.08  9.6e-6 1.4e-4   0.08   0.08   0.08   0.08   0.08    221    1.0\n",
      "y_hat[54,3]   0.08  9.8e-6 1.4e-4   0.08   0.08   0.08   0.08   0.08    221    1.0\n",
      "y_hat[55,3]   0.09  9.9e-6 1.5e-4   0.09   0.09   0.09   0.09   0.09    221    1.0\n",
      "y_hat[56,3]   0.09  1.0e-5 1.5e-4   0.09   0.09   0.09   0.09   0.09    221    1.0\n",
      "y_hat[57,3]   0.09  1.0e-5 1.5e-4   0.09   0.09   0.09   0.09   0.09    221    1.0\n",
      "y_hat[58,3]   0.09  1.0e-5 1.5e-4   0.09   0.09   0.09   0.09   0.09    221    1.0\n",
      "y_hat[59,3]   0.09  1.1e-5 1.6e-4   0.09   0.09   0.09   0.09   0.09    221    1.0\n",
      "y_hat[60,3]   0.09  1.1e-5 1.6e-4   0.09   0.09   0.09   0.09   0.09    221    1.0\n",
      "y_hat[61,3]   0.09  1.1e-5 1.6e-4   0.09   0.09   0.09    0.1    0.1    221    1.0\n",
      "y_hat[62,3]    0.1  1.1e-5 1.6e-4    0.1    0.1    0.1    0.1    0.1    221    1.0\n",
      "y_hat[63,3]    0.1  1.1e-5 1.7e-4    0.1    0.1    0.1    0.1    0.1    221    1.0\n",
      "y_init[1]     0.18  1.1e-5 1.8e-4   0.18   0.18   0.18   0.18   0.18    250   1.01\n",
      "y_init[2]     0.82  1.1e-5 1.8e-4   0.82   0.82   0.82   0.82   0.82    250   1.01\n",
      "y_init[3]      0.0     nan    0.0    0.0    0.0    0.0    0.0    0.0    nan    nan\n",
      "R_0         3.8e-4  5.8e-6 1.0e-4 2.0e-4 3.2e-4 3.7e-4 4.5e-4 6.3e-4    295    1.0\n",
      "lp__         1.2e7    0.07   1.28  1.2e7  1.2e7  1.2e7  1.2e7  1.2e7    293   0.99\n",
      "\n",
      "Samples were drawn using NUTS at Fri Apr  3 00:01:08 2020.\n",
      "For each parameter, n_eff is a crude measure of effective sample size,\n",
      "and Rhat is the potential scale reduction factor on split chains (at \n",
      "convergence, Rhat=1).\n"
     ]
    }
   ],
   "source": [
    "print(fit)"
   ]
  },
  {
   "cell_type": "code",
   "execution_count": 26,
   "metadata": {},
   "outputs": [
    {
     "data": {
      "text/plain": [
       "array([<matplotlib.axes._subplots.AxesSubplot object at 0x135c47950>,\n",
       "       <matplotlib.axes._subplots.AxesSubplot object at 0x135cf5150>,\n",
       "       <matplotlib.axes._subplots.AxesSubplot object at 0x135bcffd0>],\n",
       "      dtype=object)"
      ]
     },
     "execution_count": 26,
     "metadata": {},
     "output_type": "execute_result"
    },
    {
     "data": {
      "image/png": "[encoded data removed]",
      "text/plain": [
       "<Figure size 1490.4x331.2 with 3 Axes>"
      ]
     },
     "metadata": {
      "needs_background": "light"
     },
     "output_type": "display_data"
    }
   ],
   "source": [
    "#https://arviz-devs.github.io/arviz/generated/arviz.plot_density\n",
    "az.plot_density(fit,group='posterior',var_names=[\"theta\",\"R_0\"])"
   ]
  },
  {
   "cell_type": "code",
   "execution_count": 33,
   "metadata": {},
   "outputs": [
    {
     "data": {
      "text/plain": [
       "[<matplotlib.lines.Line2D at 0x135adfb50>]"
      ]
     },
     "execution_count": 33,
     "metadata": {},
     "output_type": "execute_result"
    },
    {
     "data": {
      "image/png": "[encoded data removed]",
      "text/plain": [
       "<Figure size 432x288 with 1 Axes>"
      ]
     },
     "metadata": {
      "needs_background": "light"
     },
     "output_type": "display_data"
    }
   ],
   "source": [
    "# dir(fit)\n",
    "# stan_data = az.from_pystan(\n",
    "#     posterior=fit,\n",
    "#     posterior_predictive='y_hat',\n",
    "#     observed_data=\"y[1,1]\")\n",
    "\n",
    "# print(stan_data)\n",
    "# # az.plot_ppc(stan_data)\n",
    "\n",
    "np.shape(fit.extract()['y_hat'])\n",
    "plt.plot(np.mean(fit.extract()['y_hat'][:,:,1],0))#*pop)\n",
    "# plt.plot(model.stan_data['y'][:,0],'bo', label=\"cases\")\n",
    "plt.plot(np.mean(fit.extract()['y_hat'][:,:,2],0))#*pop)\n",
    "# plt.plot(model.stan_data['y'][:,1],'go',label=\"recovered\")\n"
   ]
  },
  {
   "cell_type": "code",
   "execution_count": null,
   "metadata": {},
   "outputs": [],
   "source": []
  }
 ],
 "metadata": {
  "colab": {
   "collapsed_sections": [],
   "name": "MBS_SIRmodeling_version2.ipynb",
   "provenance": []
  },
  "kernelspec": {
   "display_name": "Python 3",
   "language": "python",
   "name": "python3"
  },
  "language_info": {
   "codemirror_mode": {
    "name": "ipython",
    "version": 3
   },
   "file_extension": ".py",
   "mimetype": "text/x-python",
   "name": "python",
   "nbconvert_exporter": "python",
   "pygments_lexer": "ipython3",
   "version": "3.7.4"
  }
 },
 "nbformat": 4,
 "nbformat_minor": 1
}
