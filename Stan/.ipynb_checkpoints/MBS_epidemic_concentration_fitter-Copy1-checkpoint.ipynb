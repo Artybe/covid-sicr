{
 "cells": [
  {
   "cell_type": "code",
   "execution_count": 1,
   "metadata": {
    "cellView": "both",
    "colab": {
     "base_uri": "https://localhost:8080/",
     "height": 309
    },
    "colab_type": "code",
    "id": "AKP2Vok31tsE",
    "outputId": "f268f545-a908-4e75-f957-dad08b72c277"
   },
   "outputs": [],
   "source": [
    "#@title Install arviz\n",
    "# !pip3 install arviz"
   ]
  },
  {
   "cell_type": "code",
   "execution_count": 2,
   "metadata": {
    "colab": {},
    "colab_type": "code",
    "id": "a0disJ2Uy-Bx"
   },
   "outputs": [],
   "source": [
    "import arviz as az\n",
    "import pystan\n",
    "import os\n",
    "# os.environ['STAN_NUM_THREADS'] = \"4\"\n",
    "import pandas as pd\n",
    "import matplotlib.pyplot as plt\n",
    "import numpy as np\n",
    "import networkx as nx\n",
    "import warnings\n",
    "warnings.filterwarnings(\"ignore\", category=DeprecationWarning)\n",
    "%matplotlib inline"
   ]
  },
  {
   "cell_type": "markdown",
   "metadata": {
    "colab_type": "text",
    "id": "YT3IVNpzrBoM"
   },
   "source": [
    "## Select model"
   ]
  },
  {
   "cell_type": "code",
   "execution_count": 3,
   "metadata": {
    "colab": {},
    "colab_type": "code",
    "id": "-UJBadMvq8aM"
   },
   "outputs": [
    {
     "name": "stdout",
     "output_type": "stream",
     "text": [
      "\n",
      "        About: \n",
      "\n",
      "        SICU model \n",
      "\n",
      "        Some unknown I and known C, both go to recovered and death \n",
      "\n",
      "        I and C have same leak to R and D but I leak is to unknown U\n",
      "        \n",
      "S: susceptible\n",
      "I: infected\n",
      "C: identified cases\n",
      "R: recovered\n",
      "D: dead\n",
      "U: unknown recovered/dead\n"
     ]
    },
    {
     "name": "stderr",
     "output_type": "stream",
     "text": [
      "/usr/local/lib/python3.7/site-packages/networkx/drawing/nx_pylab.py:579: MatplotlibDeprecationWarning: \n",
      "The iterable function was deprecated in Matplotlib 3.1 and will be removed in 3.3. Use np.iterable instead.\n",
      "  if not cb.iterable(width):\n",
      "/usr/local/lib/python3.7/site-packages/networkx/drawing/nx_pylab.py:676: MatplotlibDeprecationWarning: \n",
      "The iterable function was deprecated in Matplotlib 3.1 and will be removed in 3.3. Use np.iterable instead.\n",
      "  if cb.iterable(node_size):  # many node sizes\n"
     ]
    },
    {
     "data": {
      "image/png": "[encoded data removed]",
      "text/plain": [
       "<Figure size 432x288 with 1 Axes>"
      ]
     },
     "metadata": {},
     "output_type": "display_data"
    }
   ],
   "source": [
    "import MBS_epidemic_concentration_models as models\n",
    "model = models.model_sicu()\n",
    "model.plotnetwork()"
   ]
  },
  {
   "cell_type": "markdown",
   "metadata": {},
   "source": [
    "## Compile"
   ]
  },
  {
   "cell_type": "code",
   "execution_count": 4,
   "metadata": {},
   "outputs": [
    {
     "name": "stderr",
     "output_type": "stream",
     "text": [
      "INFO:pystan:COMPILING THE C++ CODE FOR MODEL anon_model_0034e5da3ec0e205404b00038b8a12f7 NOW.\n"
     ]
    }
   ],
   "source": [
    "stanrunmodel = pystan.StanModel(model_code=model.stan)"
   ]
  },
  {
   "cell_type": "markdown",
   "metadata": {
    "colab_type": "text",
    "id": "qn5Cei_mLN0P"
   },
   "source": [
    "# Load data from JHU\n",
    "\n"
   ]
  },
  {
   "cell_type": "code",
   "execution_count": 5,
   "metadata": {
    "colab": {},
    "colab_type": "code",
    "id": "ofuI7UGsLNd7"
   },
   "outputs": [],
   "source": [
    "url_confirmed = \"https://raw.githubusercontent.com/CSSEGISandData/COVID-19/master/csse_covid_19_data/csse_covid_19_time_series/time_series_covid19_confirmed_global.csv\"\n",
    "url_deaths = \"https://raw.githubusercontent.com/CSSEGISandData/COVID-19/master/csse_covid_19_data/csse_covid_19_time_series/time_series_covid19_deaths_global.csv\"\n",
    "url_recovered = \"https://raw.githubusercontent.com/CSSEGISandData/COVID-19/master/csse_covid_19_data/csse_covid_19_time_series/time_series_covid19_recovered_global.csv\"\n",
    "\n",
    "dfc = pd.read_csv(url_confirmed)\n",
    "dfd = pd.read_csv(url_deaths)\n",
    "dfr = pd.read_csv(url_recovered)\n",
    "\n",
    "\n"
   ]
  },
  {
   "cell_type": "markdown",
   "metadata": {
    "colab_type": "text",
    "id": "JQDsWrTVteCu"
   },
   "source": [
    "## Make JHU ROI DF"
   ]
  },
  {
   "cell_type": "markdown",
   "metadata": {},
   "source": [
    "### Enter country "
   ]
  },
  {
   "cell_type": "code",
   "execution_count": 6,
   "metadata": {},
   "outputs": [],
   "source": [
    "#Austria,Belgium,Denmark,France,Germany,Italy,Norway,Spain,Sweden,Switzerland,United Kingdom\n",
    "roi = \"France\""
   ]
  },
  {
   "cell_type": "code",
   "execution_count": 7,
   "metadata": {
    "colab": {},
    "colab_type": "code",
    "id": "XDoHvSi-NQRQ"
   },
   "outputs": [
    {
     "name": "stdout",
     "output_type": "stream",
     "text": [
      "t0 assumed to be: day 9\n"
     ]
    },
    {
     "data": {
      "text/plain": [
       "<matplotlib.legend.Legend at 0x132a8dd50>"
      ]
     },
     "execution_count": 7,
     "metadata": {},
     "output_type": "execute_result"
    },
    {
     "data": {
      "image/png": "[encoded data removed]",
      "text/plain": [
       "<Figure size 432x288 with 1 Axes>"
      ]
     },
     "metadata": {
      "needs_background": "light"
     },
     "output_type": "display_data"
    }
   ],
   "source": [
    "dfc2 = dfc.loc[(dfc['Country/Region']==roi)&(pd.isnull(dfc['Province/State']))]\n",
    "dfd2 = dfd.loc[(dfd['Country/Region']==roi)&(pd.isnull(dfd['Province/State']))]\n",
    "dfr2 = dfr.loc[(dfr['Country/Region']==roi)&(pd.isnull(dfr['Province/State']))]\n",
    "\n",
    "\n",
    "DF = df = pd.DataFrame(columns=['date','cases','recovered','deaths'])\n",
    "\n",
    "dates = dfc.columns[4:].values\n",
    "\n",
    "for i in range(len(dates)):\n",
    "  DF.loc[i] = pd.Series({'date':dates[i],\n",
    "                         'cases':dfc2[dates[i]].values[0] - (dfr2[dates[i]].values[0] + dfd2[dates[i]].values[0]),\n",
    "                         'recovered':dfr2[dates[i]].values[0],\n",
    "                         'deaths':dfd2[dates[i]].values[0]})\n",
    "\n",
    "\n",
    "pop = {}\n",
    "pop['Italy'] = 60500000\n",
    "pop['United Kingdom'] = 64400000\n",
    "pop['France'] = 66990000\n",
    "\n",
    "t0 = np.where(DF[\"cases\"].values>5)[0][0] - 1# estimated day of first exposure? Need to make this a parameter\n",
    "model.stan_data['t0'] = t0-1\n",
    "print(\"t0 assumed to be: day \"+str(t0))\n",
    "plt.plot(DF[\"cases\"],'bo', label=\"cases\")\n",
    "plt.plot(DF[\"recovered\"],'go',label=\"recovered\")\n",
    "plt.plot(DF[\"deaths\"],'ks',label=\"deaths\")\n",
    "\n",
    "plt.axvline(model.stan_data['t0'],color='k', linestyle=\"dashed\")\n",
    "plt.legend()\n"
   ]
  },
  {
   "cell_type": "markdown",
   "metadata": {
    "colab_type": "text",
    "id": "gLSieVFFtjOb"
   },
   "source": [
    "## Format JHU ROI data for Stan"
   ]
  },
  {
   "cell_type": "code",
   "execution_count": 8,
   "metadata": {
    "colab": {
     "base_uri": "https://localhost:8080/",
     "height": 299
    },
    "colab_type": "code",
    "id": "iG4K7TG6NTJI",
    "outputId": "12052154-8907-4d79-d85a-7823584d3aca",
    "scrolled": true
   },
   "outputs": [],
   "source": [
    "#truncate time series from t0 on (initial is t0-1)\n",
    "model.stan_data['ts'] = np.arange(t0,len(dates))  \n",
    "model.stan_data['y'] = (DF[['cases','recovered','deaths']].to_numpy()).astype(int)[t0:,:]\n",
    "model.stan_data['n_obs'] = len(dates) - t0"
   ]
  },
  {
   "cell_type": "markdown",
   "metadata": {},
   "source": [
    "### Enter population manually"
   ]
  },
  {
   "cell_type": "code",
   "execution_count": 9,
   "metadata": {},
   "outputs": [],
   "source": [
    "model.stan_data['n_pop'] = pop[roi] \n",
    "model.stan_data['n_scale'] = 10000000\n"
   ]
  },
  {
   "cell_type": "markdown",
   "metadata": {},
   "source": [
    "### Print data for Stan "
   ]
  },
  {
   "cell_type": "code",
   "execution_count": 10,
   "metadata": {},
   "outputs": [
    {
     "name": "stdout",
     "output_type": "stream",
     "text": [
      "{'n_theta': 4, 'n_difeq': 4, 'n_ostates': 3, 't0': 8, 'ts': array([ 9, 10, 11, 12, 13, 14, 15, 16, 17, 18, 19, 20, 21, 22, 23, 24, 25,\n",
      "       26, 27, 28, 29, 30, 31, 32, 33, 34, 35, 36, 37, 38, 39, 40, 41, 42,\n",
      "       43, 44, 45, 46, 47, 48, 49, 50, 51, 52, 53, 54, 55, 56, 57, 58, 59,\n",
      "       60, 61, 62, 63, 64, 65, 66, 67, 68, 69, 70, 71, 72, 73]), 'y': array([[    5,     0,     0],\n",
      "       [    6,     0,     0],\n",
      "       [    6,     0,     0],\n",
      "       [    6,     0,     0],\n",
      "       [    6,     0,     0],\n",
      "       [    6,     0,     0],\n",
      "       [    6,     0,     0],\n",
      "       [    6,     0,     0],\n",
      "       [   11,     0,     0],\n",
      "       [   11,     0,     0],\n",
      "       [   11,     0,     0],\n",
      "       [   11,     0,     0],\n",
      "       [    9,     2,     0],\n",
      "       [    9,     2,     0],\n",
      "       [    9,     2,     0],\n",
      "       [    7,     4,     1],\n",
      "       [    7,     4,     1],\n",
      "       [    7,     4,     1],\n",
      "       [    7,     4,     1],\n",
      "       [    7,     4,     1],\n",
      "       [    7,     4,     1],\n",
      "       [    7,     4,     1],\n",
      "       [    7,     4,     1],\n",
      "       [    7,     4,     1],\n",
      "       [    7,     4,     1],\n",
      "       [    2,    11,     1],\n",
      "       [    5,    11,     2],\n",
      "       [   25,    11,     2],\n",
      "       [   44,    11,     2],\n",
      "       [   86,    12,     2],\n",
      "       [  116,    12,     2],\n",
      "       [  176,    12,     3],\n",
      "       [  188,    12,     4],\n",
      "       [  269,    12,     4],\n",
      "       [  359,    12,     6],\n",
      "       [  632,    12,     9],\n",
      "       [  926,    12,    11],\n",
      "       [ 1095,    12,    19],\n",
      "       [ 1178,    12,    19],\n",
      "       [ 1739,    12,    33],\n",
      "       [ 2221,    12,    48],\n",
      "       [ 2221,    12,    48],\n",
      "       [ 3570,    12,    79],\n",
      "       [ 4366,    12,    91],\n",
      "       [ 4396,    12,    91],\n",
      "       [ 6473,    12,   148],\n",
      "       [ 7492,    12,   148],\n",
      "       [ 8883,    12,   148],\n",
      "       [10616,    12,   243],\n",
      "       [12150,    12,   450],\n",
      "       [13708,    12,   562],\n",
      "       [13144,  2200,   674],\n",
      "       [16796,  2200,   860],\n",
      "       [17961,  3243,  1100],\n",
      "       [20002,  3900,  1331],\n",
      "       [22511,  4948,  1696],\n",
      "       [25269,  5700,  1995],\n",
      "       [29561,  5700,  2314],\n",
      "       [30366,  7202,  2606],\n",
      "       [33599,  7927,  3024],\n",
      "       [39161,  9444,  3523],\n",
      "       [42023, 10934,  4032],\n",
      "       [41290, 12428,  5387],\n",
      "       [43823, 14008,  6507],\n",
      "       [66955, 15438,  7560]]), 'n_obs': 65, 'n_pop': 66990000, 'n_scale': 10000000}\n"
     ]
    }
   ],
   "source": [
    "print(model.stan_data)"
   ]
  },
  {
   "cell_type": "markdown",
   "metadata": {},
   "source": [
    "# Load England School 1978 Influenza data "
   ]
  },
  {
   "cell_type": "code",
   "execution_count": 11,
   "metadata": {},
   "outputs": [],
   "source": [
    "# #England 1978 influenza\n",
    "# cases = [0,8,26,76,225,298,258,233,189,128,150,85,14,4]\n",
    "# recovered = [0,0,0,0,9,17,105,162,176,166,150,85,47,20]\n",
    "# plt.plot(cases,'bo', label=\"cases\")\n",
    "# plt.plot(recovered,'go',label=\"recovered\")\n",
    "# pop = 763\n",
    "# model.stan_data['t0'] = 0\n",
    "# #truncate time series from t0 on (initial is t0-1)\n",
    "# model.stan_data['n_pop'] = pop \n",
    "# model.stan_data['ts'] = np.arange(1,len(cases)+1)  \n",
    "# Y = np.hstack([np.c_[cases],np.c_[recovered],np.zeros((len(cases),1))]).astype(int)\n",
    "# model.stan_data['y'] = Y\n",
    "# model.stan_data['n_obs'] = len(cases)\n",
    "\n",
    "# plt.plot(cases,'bo', label=\"cases\")\n",
    "# plt.plot(recovered,'go',label=\"recovered\")\n",
    "\n",
    "# plt.legend()"
   ]
  },
  {
   "cell_type": "markdown",
   "metadata": {
    "colab_type": "text",
    "id": "GDWmF_KQ2Hg3"
   },
   "source": [
    "# Run Stan "
   ]
  },
  {
   "cell_type": "markdown",
   "metadata": {},
   "source": [
    "## Initialize parameters"
   ]
  },
  {
   "cell_type": "code",
   "execution_count": 12,
   "metadata": {
    "colab": {},
    "colab_type": "code",
    "id": "oImIcxX9Lull"
   },
   "outputs": [],
   "source": [
    "# Feed in some feasible initial values to start from\n",
    "\n",
    "# init_par = [{'theta':[0.25,0.01,0.01,0.05,.02],'S0':0.5}] \n",
    "\n",
    "if model.stan_data['n_theta'] == 2:\n",
    "    def init_fun():\n",
    "        x = {'theta':[np.random.uniform(0,5),np.random.uniform(0.2,0.4)],\n",
    "              'S0':np.random.uniform()}\n",
    "        return x\n",
    "if model.name == \"sicu\":\n",
    "    def init_fun():\n",
    "        x = {'theta':\n",
    "             [0.1*np.random.uniform()]+\n",
    "             [0.1*np.random.uniform()]+\n",
    "             [0.5*np.random.uniform()]+\n",
    "             [0.1*np.random.uniform()]\n",
    "            }\n",
    "        return x\n",
    "else:\n",
    "    def init_fun():\n",
    "        x = {'theta':\n",
    "             [0.1*np.random.uniform()]+\n",
    "             [0.1*np.random.uniform()]+\n",
    "             [0.1*np.random.uniform()]+\n",
    "             [0.1*np.random.uniform()]+\n",
    "             [0.5*np.random.uniform()]+\n",
    "             [0.1*np.random.uniform()]}\n",
    "#              [model.stan_data['n_scale']],\n",
    "#               'S0':1*np.random.uniform()}\n",
    "#         x = {'theta':[np.random.uniform(), np.random.uniform(),\n",
    "#                       np.random.uniform(),np.random.uniform(),np.random.uniform()],\n",
    "#               'S0':1*np.random.uniform()}\n",
    "        return x"
   ]
  },
  {
   "cell_type": "markdown",
   "metadata": {},
   "source": [
    "## Fit Stan "
   ]
  },
  {
   "cell_type": "code",
   "execution_count": 13,
   "metadata": {
    "colab": {
     "base_uri": "https://localhost:8080/",
     "height": 429
    },
    "colab_type": "code",
    "id": "3rtwA8puqVrv",
    "outputId": "061a2610-4f20-4cb2-c8fd-10d97d845fbe"
   },
   "outputs": [
    {
     "name": "stderr",
     "output_type": "stream",
     "text": [
      "WARNING:pystan:n_eff / iter below 0.001 indicates that the effective sample size has likely been overestimated\n",
      "WARNING:pystan:Rhat above 1.1 or below 0.9 indicates that the chains very likely have not mixed\n",
      "WARNING:pystan:706 of 1800 iterations saturated the maximum tree depth of 10 (39.2 %)\n",
      "WARNING:pystan:Run again with max_treedepth larger than 10 to avoid saturation\n",
      "WARNING:pystan:Chain 4: E-BFMI = 0.00294\n",
      "WARNING:pystan:E-BFMI below 0.2 indicates you may need to reparameterize your model\n"
     ]
    }
   ],
   "source": [
    "n_chains=4\n",
    "n_warmups=1000\n",
    "n_iter=5000\n",
    "n_thin=10\n",
    "\n",
    "control = {'adapt_delta':0.95}\n",
    "fit = stanrunmodel.sampling(data = model.stan_data,init = init_fun,control=control, chains = n_chains, warmup = n_warmups, iter = n_iter, thin=n_thin, seed=13219)\n",
    "\n"
   ]
  },
  {
   "cell_type": "code",
   "execution_count": 14,
   "metadata": {
    "colab": {},
    "colab_type": "code",
    "id": "2jXKxrCf3Vj2"
   },
   "outputs": [
    {
     "name": "stdout",
     "output_type": "stream",
     "text": [
      "Inference for Stan model: anon_model_0034e5da3ec0e205404b00038b8a12f7.\n",
      "4 chains, each with iter=5000; warmup=500; thin=10; \n",
      "post-warmup draws per chain=450, total post-warmup draws=1800.\n",
      "\n",
      "                  mean se_mean     sd   2.5%    25%    50%    75%  97.5%  n_eff   Rhat\n",
      "theta[1]        2.5e-3  7.7e-4 5.7e-3 1.8e-3 1.9e-3 1.9e-3 1.9e-3 2.3e-3     55   1.05\n",
      "theta[2]          0.04  1.1e-4 6.0e-4   0.04   0.04   0.04   0.04   0.04     29    1.1\n",
      "theta[3]           0.2  6.8e-4 5.0e-3    0.2    0.2    0.2    0.2    0.2     56   1.05\n",
      "theta[4]          0.06  1.8e-3   0.02   0.02   0.06   0.06   0.07   0.12    160   1.04\n",
      "u[1,1]          5.7e-7 2.1e-10 2.2e-9 5.7e-7 5.7e-7 5.7e-7 5.7e-7 5.7e-7    109   1.03\n",
      "u[2,1]          6.4e-7 4.4e-10 4.6e-9 6.4e-7 6.4e-7 6.4e-7 6.4e-7 6.4e-7    111   1.03\n",
      "u[3,1]          7.4e-7 6.7e-10 7.1e-9 7.4e-7 7.4e-7 7.4e-7 7.4e-7 7.4e-7    113   1.03\n",
      "u[4,1]          8.4e-7 9.2e-10 9.9e-9 8.4e-7 8.4e-7 8.4e-7 8.4e-7 8.4e-7    115   1.02\n",
      "u[5,1]          9.7e-7  1.2e-9 1.3e-8 9.7e-7 9.7e-7 9.7e-7 9.7e-7 9.7e-7    117   1.02\n",
      "u[6,1]          1.1e-6  1.5e-9 1.6e-8 1.1e-6 1.1e-6 1.1e-6 1.1e-6 1.1e-6    119   1.02\n",
      "u[7,1]          1.3e-6  1.8e-9 1.9e-8 1.3e-6 1.3e-6 1.3e-6 1.3e-6 1.3e-6    122   1.02\n",
      "u[8,1]          1.5e-6  2.1e-9 2.3e-8 1.5e-6 1.5e-6 1.5e-6 1.5e-6 1.5e-6    124   1.02\n",
      "u[9,1]          1.7e-6  2.4e-9 2.7e-8 1.7e-6 1.7e-6 1.7e-6 1.7e-6 1.7e-6    127   1.01\n",
      "u[10,1]         2.0e-6  2.8e-9 3.1e-8 2.0e-6 2.0e-6 2.0e-6 2.0e-6 2.0e-6    130   1.01\n",
      "u[11,1]         2.4e-6  3.1e-9 3.6e-8 2.4e-6 2.4e-6 2.4e-6 2.4e-6 2.4e-6    133   1.01\n",
      "u[12,1]         2.7e-6  3.6e-9 4.1e-8 2.7e-6 2.7e-6 2.7e-6 2.7e-6 2.8e-6    136   1.01\n",
      "u[13,1]         3.2e-6  4.4e-9 5.2e-8 3.2e-6 3.2e-6 3.2e-6 3.2e-6 3.2e-6    137   1.01\n",
      "u[14,1]         3.7e-6  5.7e-9 6.6e-8 3.7e-6 3.7e-6 3.7e-6 3.7e-6 3.7e-6    138   1.01\n",
      "u[15,1]         4.4e-6  6.9e-9 8.2e-8 4.3e-6 4.4e-6 4.4e-6 4.4e-6 4.4e-6    140   1.01\n",
      "u[16,1]         5.1e-6  8.0e-9 9.6e-8 5.1e-6 5.1e-6 5.1e-6 5.1e-6 5.1e-6    143    1.0\n",
      "u[17,1]         5.9e-6  8.8e-9 1.1e-7 5.9e-6 5.9e-6 5.9e-6 5.9e-6 6.0e-6    147    1.0\n",
      "u[18,1]         6.9e-6  9.4e-9 1.1e-7 6.9e-6 6.9e-6 6.9e-6 6.9e-6 7.0e-6    150    1.0\n",
      "u[19,1]         8.1e-6  9.8e-9 1.2e-7 8.1e-6 8.1e-6 8.1e-6 8.1e-6 8.1e-6    148    1.0\n",
      "u[20,1]         9.5e-6  1.1e-8 1.2e-7 9.4e-6 9.5e-6 9.5e-6 9.5e-6 9.5e-6    138    1.0\n",
      "u[21,1]         1.1e-5  1.2e-8 1.3e-7 1.1e-5 1.1e-5 1.1e-5 1.1e-5 1.1e-5    116   1.02\n",
      "u[22,1]         1.3e-5  1.6e-8 1.5e-7 1.3e-5 1.3e-5 1.3e-5 1.3e-5 1.3e-5     87   1.04\n",
      "u[23,1]         1.5e-5  2.1e-8 1.7e-7 1.5e-5 1.5e-5 1.5e-5 1.5e-5 1.5e-5     63   1.06\n",
      "u[24,1]         1.8e-5  3.5e-8 2.1e-7 1.8e-5 1.8e-5 1.8e-5 1.8e-5 1.8e-5     35   1.08\n",
      "u[25,1]         2.1e-5  4.7e-8 2.6e-7 2.1e-5 2.1e-5 2.1e-5 2.1e-5 2.1e-5     31    1.1\n",
      "u[26,1]         2.4e-5  6.1e-8 3.2e-7 2.4e-5 2.4e-5 2.4e-5 2.4e-5 2.4e-5     29    1.1\n",
      "u[27,1]         2.8e-5  7.6e-8 4.0e-7 2.8e-5 2.8e-5 2.8e-5 2.8e-5 2.8e-5     28   1.11\n",
      "u[28,1]         3.3e-5  9.5e-8 5.0e-7 3.2e-5 3.3e-5 3.3e-5 3.3e-5 3.3e-5     27   1.11\n",
      "u[29,1]         3.9e-5  1.2e-7 6.1e-7 3.8e-5 3.9e-5 3.9e-5 3.9e-5 3.9e-5     27   1.11\n",
      "u[30,1]         4.5e-5  1.4e-7 7.4e-7 4.4e-5 4.5e-5 4.5e-5 4.5e-5 4.6e-5     27   1.11\n",
      "u[31,1]         5.3e-5  1.7e-7 9.0e-7 5.1e-5 5.3e-5 5.3e-5 5.3e-5 5.3e-5     27   1.11\n",
      "u[32,1]         6.2e-5  2.1e-7 1.1e-6 6.0e-5 6.2e-5 6.2e-5 6.2e-5 6.2e-5     27   1.11\n",
      "u[33,1]         7.2e-5  2.5e-7 1.3e-6 7.0e-5 7.2e-5 7.2e-5 7.3e-5 7.3e-5     27   1.11\n",
      "u[34,1]         8.4e-5  3.1e-7 1.6e-6 8.2e-5 8.5e-5 8.5e-5 8.5e-5 8.5e-5     27   1.11\n",
      "u[35,1]         9.9e-5  3.7e-7 1.9e-6 9.5e-5 9.9e-5 9.9e-5 9.9e-5 9.9e-5     27   1.11\n",
      "u[36,1]         1.2e-4  4.5e-7 2.4e-6 1.1e-4 1.2e-4 1.2e-4 1.2e-4 1.2e-4     27   1.11\n",
      "u[37,1]         1.3e-4  5.5e-7 2.9e-6 1.3e-4 1.3e-4 1.4e-4 1.4e-4 1.4e-4     27   1.11\n",
      "u[38,1]         1.6e-4  6.6e-7 3.4e-6 1.5e-4 1.6e-4 1.6e-4 1.6e-4 1.6e-4     27   1.11\n",
      "u[39,1]         1.8e-4  7.9e-7 4.1e-6 1.8e-4 1.8e-4 1.8e-4 1.8e-4 1.8e-4     27   1.11\n",
      "u[40,1]         2.1e-4  9.5e-7 5.0e-6 2.1e-4 2.1e-4 2.1e-4 2.2e-4 2.2e-4     27   1.11\n",
      "u[41,1]         2.5e-4  1.1e-6 6.0e-6 2.4e-4 2.5e-4 2.5e-4 2.5e-4 2.5e-4     27   1.11\n",
      "u[42,1]         2.9e-4  1.4e-6 7.1e-6 2.8e-4 2.9e-4 2.9e-4 2.9e-4 2.9e-4     28   1.11\n",
      "u[43,1]         3.4e-4  1.6e-6 8.4e-6 3.3e-4 3.4e-4 3.4e-4 3.4e-4 3.4e-4     28   1.11\n",
      "u[44,1]         3.9e-4  1.9e-610.0e-6 3.8e-4 4.0e-4 4.0e-4 4.0e-4 4.0e-4     28   1.11\n",
      "u[45,1]         4.6e-4  2.2e-6 1.2e-5 4.4e-4 4.6e-4 4.6e-4 4.6e-4 4.6e-4     28   1.11\n",
      "u[46,1]         5.3e-4  2.6e-6 1.4e-5 5.2e-4 5.3e-4 5.4e-4 5.4e-4 5.4e-4     28   1.11\n",
      "u[47,1]         6.2e-4  3.0e-6 1.6e-5 6.0e-4 6.2e-4 6.2e-4 6.2e-4 6.2e-4     28    1.1\n",
      "u[48,1]         7.2e-4  3.5e-6 1.9e-5 6.9e-4 7.2e-4 7.2e-4 7.2e-4 7.2e-4     28    1.1\n",
      "u[49,1]         8.3e-4  4.0e-6 2.1e-5 8.1e-4 8.3e-4 8.3e-4 8.4e-4 8.4e-4     28    1.1\n",
      "u[50,1]         9.6e-4  4.6e-6 2.4e-5 9.3e-4 9.6e-4 9.6e-4 9.7e-4 9.7e-4     28    1.1\n",
      "u[51,1]         1.1e-3  5.2e-6 2.8e-5 1.1e-3 1.1e-3 1.1e-3 1.1e-3 1.1e-3     29    1.1\n",
      "u[52,1]         1.3e-3  5.8e-6 3.1e-5 1.2e-3 1.3e-3 1.3e-3 1.3e-3 1.3e-3     29    1.1\n",
      "u[53,1]         1.5e-3  6.3e-6 3.4e-5 1.4e-3 1.5e-3 1.5e-3 1.5e-3 1.5e-3     29    1.1\n",
      "u[54,1]         1.7e-3  6.8e-6 3.7e-5 1.6e-3 1.7e-3 1.7e-3 1.7e-3 1.7e-3     29    1.1\n",
      "u[55,1]         1.9e-3  7.2e-6 3.9e-5 1.9e-3 1.9e-3 1.9e-3 1.9e-3 1.9e-3     30    1.1\n",
      "u[56,1]         2.2e-3  7.4e-6 4.1e-5 2.2e-3 2.2e-3 2.2e-3 2.2e-3 2.2e-3     31   1.09\n",
      "u[57,1]         2.5e-3  7.3e-6 4.1e-5 2.5e-3 2.5e-3 2.5e-3 2.5e-3 2.5e-3     32   1.09\n",
      "u[58,1]         2.8e-3  6.7e-6 3.9e-5 2.8e-3 2.8e-3 2.8e-3 2.8e-3 2.8e-3     34   1.08\n",
      "u[59,1]         3.2e-3  5.6e-6 3.4e-5 3.2e-3 3.2e-3 3.2e-3 3.2e-3 3.2e-3     38   1.07\n",
      "u[60,1]         3.5e-3  3.7e-6 2.7e-5 3.5e-3 3.5e-3 3.6e-3 3.6e-3 3.6e-3     55   1.05\n",
      "u[61,1]         4.0e-3  1.6e-6 1.9e-5 4.0e-3 4.0e-3 4.0e-3 4.0e-3 4.0e-3    143    1.0\n",
      "u[62,1]         4.4e-3  2.6e-6 2.4e-5 4.4e-3 4.4e-3 4.4e-3 4.4e-3 4.4e-3     83   1.05\n",
      "u[63,1]         4.9e-3  8.6e-6 4.8e-5 4.9e-3 4.9e-3 4.9e-3 4.9e-3 4.9e-3     31    1.1\n",
      "u[64,1]         5.4e-3  1.6e-5 8.5e-5 5.3e-3 5.3e-3 5.4e-3 5.4e-3 5.5e-3     28    1.1\n",
      "u[65,1]         5.9e-3  2.6e-5 1.4e-4 5.8e-3 5.9e-3 5.9e-3 5.9e-3 6.1e-3     28   1.11\n",
      "u[1,2]          2.0e-8 6.5e-113.5e-10 2.0e-8 2.0e-8 2.0e-8 2.0e-8 2.1e-8     29    1.1\n",
      "u[2,2]          4.3e-8 1.5e-108.2e-10 4.3e-8 4.3e-8 4.3e-8 4.3e-8 4.4e-8     30   1.09\n",
      "u[3,2]          7.0e-8 2.5e-10 1.4e-9 6.9e-8 6.9e-8 6.9e-8 6.9e-8 7.1e-8     32   1.09\n",
      "u[4,2]         10.0e-8 3.8e-10 2.2e-9 9.9e-8 9.9e-8 9.9e-810.0e-8 1.0e-7     33   1.09\n",
      "u[5,2]          1.3e-7 5.3e-10 3.1e-9 1.3e-7 1.3e-7 1.3e-7 1.3e-7 1.4e-7     34   1.08\n",
      "u[6,2]          1.7e-7 7.0e-10 4.1e-9 1.7e-7 1.7e-7 1.7e-7 1.7e-7 1.8e-7     35   1.08\n",
      "u[7,2]          2.2e-7 9.1e-10 5.4e-9 2.2e-7 2.2e-7 2.2e-7 2.2e-7 2.2e-7     36   1.08\n",
      "u[8,2]          2.7e-7  1.1e-9 7.0e-9 2.7e-7 2.7e-7 2.7e-7 2.7e-7 2.8e-7     37   1.08\n",
      "u[9,2]          3.3e-7  1.4e-9 8.7e-9 3.3e-7 3.3e-7 3.3e-7 3.3e-7 3.4e-7     38   1.07\n",
      "u[10,2]         4.1e-7  1.7e-9 1.1e-8 4.0e-7 4.0e-7 4.0e-7 4.1e-7 4.1e-7     39   1.07\n",
      "u[11,2]         4.9e-7  2.1e-9 1.3e-8 4.9e-7 4.9e-7 4.9e-7 4.9e-7 5.0e-7     40   1.07\n",
      "u[12,2]         5.9e-7  2.5e-9 1.6e-8 5.8e-7 5.8e-7 5.8e-7 5.9e-7 6.0e-7     41   1.07\n",
      "u[13,2]         7.0e-7  3.1e-9 2.0e-8 6.9e-7 7.0e-7 7.0e-7 7.0e-7 7.1e-7     43   1.06\n",
      "u[14,2]         8.3e-7  3.9e-9 2.6e-8 8.2e-7 8.3e-7 8.3e-7 8.3e-7 8.4e-7     45   1.06\n",
      "u[15,2]         9.9e-7  4.8e-9 3.3e-8 9.8e-7 9.8e-7 9.8e-7 9.8e-710.0e-7     48   1.06\n",
      "u[16,2]         1.2e-6  5.6e-9 3.9e-8 1.2e-6 1.2e-6 1.2e-6 1.2e-6 1.2e-6     50   1.05\n",
      "u[17,2]         1.4e-6  6.3e-9 4.5e-8 1.4e-6 1.4e-6 1.4e-6 1.4e-6 1.4e-6     51   1.05\n",
      "u[18,2]         1.6e-6  6.8e-9 5.0e-8 1.6e-6 1.6e-6 1.6e-6 1.6e-6 1.6e-6     53   1.05\n",
      "u[19,2]         1.9e-6  7.2e-9 5.3e-8 1.9e-6 1.9e-6 1.9e-6 1.9e-6 1.9e-6     54   1.05\n",
      "u[20,2]         2.2e-6  7.5e-9 5.6e-8 2.2e-6 2.2e-6 2.2e-6 2.2e-6 2.3e-6     55   1.05\n",
      "u[21,2]         2.6e-6  7.6e-9 5.7e-8 2.6e-6 2.6e-6 2.6e-6 2.6e-6 2.6e-6     56   1.05\n",
      "u[22,2]         3.1e-6  7.7e-9 5.8e-8 3.1e-6 3.1e-6 3.1e-6 3.1e-6 3.1e-6     57   1.05\n",
      "u[23,2]         3.6e-6  7.6e-9 5.8e-8 3.6e-6 3.6e-6 3.6e-6 3.6e-6 3.6e-6     58   1.05\n",
      "u[24,2]         4.2e-6  7.6e-9 5.9e-8 4.2e-6 4.2e-6 4.2e-6 4.2e-6 4.3e-6     60   1.05\n",
      "u[25,2]         5.0e-6  7.5e-9 5.9e-8 4.9e-6 5.0e-6 5.0e-6 5.0e-6 5.0e-6     63   1.04\n",
      "u[26,2]         5.8e-6  7.3e-9 6.1e-8 5.8e-6 5.8e-6 5.8e-6 5.8e-6 5.9e-6     68   1.04\n",
      "u[27,2]         6.8e-6  7.2e-9 6.3e-8 6.8e-6 6.8e-6 6.8e-6 6.8e-6 6.9e-6     77   1.04\n",
      "u[28,2]         8.0e-6  7.0e-9 6.7e-8 7.9e-6 8.0e-6 8.0e-6 8.0e-6 8.0e-6     90   1.03\n",
      "u[29,2]         9.3e-6  6.8e-9 7.2e-8 9.3e-6 9.3e-6 9.3e-6 9.4e-6 9.4e-6    111   1.03\n",
      "u[30,2]         1.1e-5  6.4e-9 7.9e-8 1.1e-5 1.1e-5 1.1e-5 1.1e-5 1.1e-5    152   1.02\n",
      "u[31,2]         1.3e-5  6.6e-9 8.8e-8 1.3e-5 1.3e-5 1.3e-5 1.3e-5 1.3e-5    179   1.01\n",
      "u[32,2]         1.5e-5  6.8e-9 9.9e-8 1.5e-5 1.5e-5 1.5e-5 1.5e-5 1.5e-5    209   1.01\n",
      "u[33,2]         1.8e-5  7.2e-9 1.1e-7 1.7e-5 1.7e-5 1.8e-5 1.8e-5 1.8e-5    239    1.0\n",
      "u[34,2]         2.1e-5  7.7e-9 1.3e-7 2.0e-5 2.0e-5 2.1e-5 2.1e-5 2.1e-5    265    1.0\n",
      "u[35,2]         2.4e-5  8.6e-9 1.4e-7 2.4e-5 2.4e-5 2.4e-5 2.4e-5 2.4e-5    275    1.0\n",
      "u[36,2]         2.8e-5  1.0e-8 1.6e-7 2.8e-5 2.8e-5 2.8e-5 2.8e-5 2.8e-5    250    1.0\n",
      "u[37,2]         3.3e-5  1.4e-8 1.9e-7 3.3e-5 3.3e-5 3.3e-5 3.3e-5 3.3e-5    199   1.01\n",
      "u[38,2]         3.8e-5  1.9e-8 2.3e-7 3.8e-5 3.8e-5 3.8e-5 3.8e-5 3.9e-5    145   1.02\n",
      "u[39,2]         4.5e-5  2.7e-8 2.8e-7 4.4e-5 4.5e-5 4.5e-5 4.5e-5 4.5e-5    106   1.03\n",
      "u[40,2]         5.2e-5  4.0e-8 3.4e-7 5.2e-5 5.2e-5 5.2e-5 5.2e-5 5.3e-5     72   1.05\n",
      "u[41,2]         6.1e-5  6.1e-8 4.3e-7 6.1e-5 6.1e-5 6.1e-5 6.1e-5 6.2e-5     50   1.06\n",
      "u[42,2]         7.1e-5  8.3e-8 5.4e-7 7.1e-5 7.1e-5 7.1e-5 7.2e-5 7.2e-5     42   1.07\n",
      "u[43,2]         8.3e-5  1.1e-7 6.7e-7 8.3e-5 8.3e-5 8.3e-5 8.4e-5 8.4e-5     38   1.08\n",
      "u[44,2]         9.7e-5  1.4e-7 8.4e-7 9.7e-5 9.7e-5 9.7e-5 9.8e-5 9.8e-5     36   1.08\n",
      "u[45,2]         1.1e-4  1.8e-7 1.0e-6 1.1e-4 1.1e-4 1.1e-4 1.1e-4 1.1e-4     34   1.08\n",
      "u[46,2]         1.3e-4  2.2e-7 1.3e-6 1.3e-4 1.3e-4 1.3e-4 1.3e-4 1.3e-4     33   1.09\n",
      "u[47,2]         1.5e-4  2.8e-7 1.6e-6 1.5e-4 1.5e-4 1.5e-4 1.5e-4 1.6e-4     33   1.09\n",
      "u[48,2]         1.8e-4  3.4e-7 1.9e-6 1.8e-4 1.8e-4 1.8e-4 1.8e-4 1.8e-4     32   1.09\n",
      "u[49,2]         2.1e-4  4.1e-7 2.3e-6 2.1e-4 2.1e-4 2.1e-4 2.1e-4 2.1e-4     32   1.09\n",
      "u[50,2]         2.4e-4  4.9e-7 2.8e-6 2.4e-4 2.4e-4 2.4e-4 2.4e-4 2.4e-4     32   1.09\n",
      "u[51,2]         2.8e-4  5.8e-7 3.3e-6 2.8e-4 2.8e-4 2.8e-4 2.8e-4 2.8e-4     33   1.09\n",
      "u[52,2]         3.3e-4  6.7e-7 3.8e-6 3.3e-4 3.3e-4 3.3e-4 3.3e-4 3.3e-4     33   1.09\n",
      "u[53,2]         3.8e-4  7.7e-7 4.4e-6 3.8e-4 3.8e-4 3.8e-4 3.8e-4 3.8e-4     33   1.09\n",
      "u[54,2]         4.4e-4  8.7e-7 5.1e-6 4.4e-4 4.4e-4 4.4e-4 4.4e-4 4.4e-4     34   1.08\n",
      "u[55,2]         5.1e-4  9.6e-7 5.7e-6 5.0e-4 5.1e-4 5.1e-4 5.1e-4 5.1e-4     35   1.08\n",
      "u[56,2]         5.9e-4  1.0e-6 6.3e-6 5.8e-4 5.9e-4 5.9e-4 5.9e-4 5.9e-4     37   1.08\n",
      "u[57,2]         6.7e-4  1.1e-6 6.7e-6 6.7e-4 6.7e-4 6.8e-4 6.8e-4 6.8e-4     39   1.07\n",
      "u[58,2]         7.8e-4  1.1e-6 7.1e-6 7.7e-4 7.7e-4 7.8e-4 7.8e-4 7.8e-4     43   1.06\n",
      "u[59,2]         8.9e-4  9.8e-7 7.2e-6 8.8e-4 8.9e-4 8.9e-4 8.9e-4 8.9e-4     53   1.05\n",
      "u[60,2]         1.0e-3  7.3e-7 7.0e-6 1.0e-3 1.0e-3 1.0e-3 1.0e-3 1.0e-3     92   1.04\n",
      "u[61,2]         1.2e-3  5.8e-7 6.7e-6 1.2e-3 1.2e-3 1.2e-3 1.2e-3 1.2e-3    135   1.01\n",
      "u[62,2]         1.3e-3  5.0e-7 6.7e-6 1.3e-3 1.3e-3 1.3e-3 1.3e-3 1.3e-3    178    1.0\n",
      "u[63,2]         1.5e-3  7.2e-7 8.2e-6 1.5e-3 1.5e-3 1.5e-3 1.5e-3 1.5e-3    130   1.02\n",
      "u[64,2]         1.7e-3  1.7e-6 1.2e-5 1.7e-3 1.7e-3 1.7e-3 1.7e-3 1.7e-3     50   1.07\n",
      "u[65,2]         1.9e-3  3.3e-6 1.9e-5 1.9e-3 1.9e-3 1.9e-3 1.9e-3 1.9e-3     33   1.09\n",
      "u[1,3]          4.9e-5  1.2e-6 6.1e-6 4.0e-5 4.9e-5 4.9e-5 5.0e-5 5.0e-5     28   1.11\n",
      "u[2,3]          5.7e-5  1.4e-6 7.2e-6 4.7e-5 5.7e-5 5.8e-5 5.8e-5 5.9e-5     28   1.11\n",
      "u[3,3]          6.6e-5  1.6e-6 8.4e-6 5.5e-5 6.7e-5 6.8e-5 6.8e-5 6.9e-5     28   1.11\n",
      "u[4,3]          7.8e-5  1.9e-6 9.9e-6 6.4e-5 7.9e-5 7.9e-5 8.0e-5 8.1e-5     28   1.11\n",
      "u[5,3]          9.1e-5  2.2e-6 1.2e-5 7.5e-5 9.2e-5 9.3e-5 9.3e-5 9.5e-5     28   1.11\n",
      "u[6,3]          1.1e-4  2.6e-6 1.4e-5 8.8e-5 1.1e-4 1.1e-4 1.1e-4 1.1e-4     28   1.11\n",
      "u[7,3]          1.2e-4  3.0e-6 1.6e-5 1.0e-4 1.3e-4 1.3e-4 1.3e-4 1.3e-4     28   1.11\n",
      "u[8,3]          1.5e-4  3.5e-6 1.9e-5 1.2e-4 1.5e-4 1.5e-4 1.5e-4 1.5e-4     28   1.11\n",
      "u[9,3]          1.7e-4  4.1e-6 2.2e-5 1.4e-4 1.7e-4 1.7e-4 1.7e-4 1.8e-4     28   1.11\n",
      "u[10,3]         2.0e-4  4.8e-6 2.5e-5 1.6e-4 2.0e-4 2.0e-4 2.0e-4 2.1e-4     28   1.11\n",
      "u[11,3]         2.3e-4  5.7e-6 3.0e-5 1.9e-4 2.4e-4 2.4e-4 2.4e-4 2.4e-4     28   1.11\n",
      "u[12,3]         2.7e-4  6.7e-6 3.5e-5 2.2e-4 2.8e-4 2.8e-4 2.8e-4 2.8e-4     28   1.11\n",
      "u[13,3]         3.2e-4  7.8e-6 4.1e-5 2.6e-4 3.2e-4 3.3e-4 3.3e-4 3.3e-4     28   1.11\n",
      "u[14,3]         3.7e-4  9.1e-6 4.8e-5 3.1e-4 3.8e-4 3.8e-4 3.8e-4 3.9e-4     28   1.11\n",
      "u[15,3]         4.4e-4  1.1e-5 5.6e-5 3.6e-4 4.4e-4 4.5e-4 4.5e-4 4.6e-4     28   1.11\n",
      "u[16,3]         5.1e-4  1.3e-5 6.6e-5 4.2e-4 5.2e-4 5.2e-4 5.3e-4 5.3e-4     28   1.11\n",
      "u[17,3]         6.0e-4  1.5e-5 7.7e-5 4.9e-4 6.1e-4 6.1e-4 6.2e-4 6.2e-4     28   1.11\n",
      "u[18,3]         7.0e-4  1.7e-5 9.0e-5 5.7e-4 7.1e-4 7.1e-4 7.2e-4 7.3e-4     27   1.11\n",
      "u[19,3]         8.2e-4  2.0e-5 1.1e-4 6.7e-4 8.3e-4 8.4e-4 8.4e-4 8.5e-4     27   1.11\n",
      "u[20,3]         9.6e-4  2.4e-5 1.2e-4 7.8e-4 9.7e-4 9.8e-4 9.9e-410.0e-4     27   1.11\n",
      "u[21,3]         1.1e-3  2.8e-5 1.4e-4 9.1e-4 1.1e-3 1.1e-3 1.2e-3 1.2e-3     27   1.11\n",
      "u[22,3]         1.3e-3  3.2e-5 1.7e-4 1.1e-3 1.3e-3 1.3e-3 1.3e-3 1.4e-3     27   1.11\n",
      "u[23,3]         1.5e-3  3.8e-5 2.0e-4 1.2e-3 1.6e-3 1.6e-3 1.6e-3 1.6e-3     27   1.11\n",
      "u[24,3]         1.8e-3  4.4e-5 2.3e-4 1.5e-3 1.8e-3 1.8e-3 1.8e-3 1.9e-3     27   1.11\n",
      "u[25,3]         2.1e-3  5.2e-5 2.7e-4 1.7e-3 2.1e-3 2.1e-3 2.2e-3 2.2e-3     27   1.11\n",
      "u[26,3]         2.5e-3  6.1e-5 3.2e-4 2.0e-3 2.5e-3 2.5e-3 2.5e-3 2.6e-3     27   1.11\n",
      "u[27,3]         2.9e-3  7.1e-5 3.7e-4 2.3e-3 2.9e-3 2.9e-3 3.0e-3 3.0e-3     27   1.11\n",
      "u[28,3]         3.4e-3  8.3e-5 4.4e-4 2.7e-3 3.4e-3 3.4e-3 3.5e-3 3.5e-3     27   1.11\n",
      "u[29,3]         3.9e-3  9.7e-5 5.1e-4 3.2e-3 4.0e-3 4.0e-3 4.0e-3 4.1e-3     27   1.11\n",
      "u[30,3]         4.6e-3  1.1e-4 6.0e-4 3.7e-3 4.6e-3 4.7e-3 4.7e-3 4.8e-3     27   1.11\n",
      "u[31,3]         5.4e-3  1.3e-4 7.0e-4 4.3e-3 5.4e-3 5.5e-3 5.5e-3 5.6e-3     27   1.11\n",
      "u[32,3]         6.3e-3  1.6e-4 8.2e-4 5.1e-3 6.3e-3 6.4e-3 6.4e-3 6.5e-3     27   1.11\n",
      "u[33,3]         7.3e-3  1.8e-4 9.5e-4 5.9e-3 7.4e-3 7.5e-3 7.5e-3 7.6e-3     27   1.11\n",
      "u[34,3]         8.6e-3  2.1e-4 1.1e-3 6.9e-3 8.7e-3 8.7e-3 8.8e-3 8.9e-3     27   1.11\n",
      "u[35,3]        10.0e-3  2.5e-4 1.3e-3 8.1e-3   0.01   0.01   0.01   0.01     27   1.11\n",
      "u[36,3]           0.01  2.9e-4 1.5e-3 9.4e-3   0.01   0.01   0.01   0.01     27   1.11\n",
      "u[37,3]           0.01  3.4e-4 1.8e-3   0.01   0.01   0.01   0.01   0.01     27   1.11\n",
      "u[38,3]           0.02  4.0e-4 2.1e-3   0.01   0.02   0.02   0.02   0.02     27   1.11\n",
      "u[39,3]           0.02  4.6e-4 2.4e-3   0.01   0.02   0.02   0.02   0.02     27   1.11\n",
      "u[40,3]           0.02  5.4e-4 2.8e-3   0.02   0.02   0.02   0.02   0.02     27   1.11\n",
      "u[41,3]           0.03  6.2e-4 3.3e-3   0.02   0.03   0.03   0.03   0.03     27   1.11\n",
      "u[42,3]           0.03  7.3e-4 3.8e-3   0.02   0.03   0.03   0.03   0.03     27   1.11\n",
      "u[43,3]           0.03  8.4e-4 4.4e-3   0.03   0.03   0.03   0.03   0.04     27   1.11\n",
      "u[44,3]           0.04  9.8e-4 5.1e-3   0.03   0.04   0.04   0.04   0.04     27   1.11\n",
      "u[45,3]           0.05  1.1e-3 5.9e-3   0.04   0.05   0.05   0.05   0.05     27   1.11\n",
      "u[46,3]           0.05  1.3e-3 6.8e-3   0.04   0.05   0.05   0.05   0.05     27   1.11\n",
      "u[47,3]           0.06  1.5e-3 7.9e-3   0.05   0.06   0.06   0.06   0.06     27   1.11\n",
      "u[48,3]           0.07  1.7e-3 9.0e-3   0.06   0.07   0.07   0.07   0.07     27   1.11\n",
      "u[49,3]           0.08  2.0e-3   0.01   0.07   0.08   0.08   0.08   0.08     27   1.11\n",
      "u[50,3]           0.09  2.3e-3   0.01   0.07   0.09   0.09   0.09    0.1     28   1.11\n",
      "u[51,3]            0.1  2.6e-3   0.01   0.09   0.11   0.11   0.11   0.11     28   1.11\n",
      "u[52,3]           0.12  2.9e-3   0.02    0.1   0.12   0.12   0.12   0.12     28   1.11\n",
      "u[53,3]           0.13  3.3e-3   0.02   0.11   0.14   0.14   0.14   0.14     28   1.11\n",
      "u[54,3]           0.15  3.7e-3   0.02   0.13   0.15   0.15   0.16   0.16     28   1.11\n",
      "u[55,3]           0.17  4.1e-3   0.02   0.14   0.17   0.17   0.17   0.18     28    1.1\n",
      "u[56,3]           0.19  4.6e-3   0.02   0.16   0.19   0.19   0.19    0.2     28    1.1\n",
      "u[57,3]           0.21  5.0e-3   0.03   0.18   0.21   0.21   0.22   0.22     28    1.1\n",
      "u[58,3]           0.23  5.5e-3   0.03    0.2   0.24   0.24   0.24   0.24     28    1.1\n",
      "u[59,3]           0.26  6.0e-3   0.03   0.22   0.26   0.26   0.26   0.26     29    1.1\n",
      "u[60,3]           0.28  6.4e-3   0.03   0.24   0.28   0.28   0.28   0.29     29    1.1\n",
      "u[61,3]            0.3  6.8e-3   0.04   0.27   0.31   0.31   0.31   0.31     29    1.1\n",
      "u[62,3]           0.32  7.2e-3   0.04   0.29   0.33   0.33   0.33   0.33     29    1.1\n",
      "u[63,3]           0.35  7.6e-3   0.04   0.31   0.35   0.35   0.35   0.36     30    1.1\n",
      "u[64,3]           0.37  7.9e-3   0.04   0.33   0.37   0.37   0.37   0.38     30    1.1\n",
      "u[65,3]           0.39  8.2e-3   0.04   0.35   0.39   0.39   0.39    0.4     30    1.1\n",
      "u[1,4]             1.0  1.4e-6 7.6e-6    1.0    1.0    1.0    1.0    1.0     28   1.11\n",
      "u[2,4]             1.0  1.7e-6 8.9e-6    1.0    1.0    1.0    1.0    1.0     28   1.11\n",
      "u[3,4]             1.0  2.0e-6 1.0e-5    1.0    1.0    1.0    1.0    1.0     28   1.11\n",
      "u[4,4]             1.0  2.3e-6 1.2e-5    1.0    1.0    1.0    1.0    1.0     28   1.11\n",
      "u[5,4]             1.0  2.7e-6 1.4e-5    1.0    1.0    1.0    1.0    1.0     28   1.11\n",
      "u[6,4]             1.0  3.2e-6 1.7e-5    1.0    1.0    1.0    1.0    1.0     28   1.11\n",
      "u[7,4]             1.0  3.7e-6 2.0e-5    1.0    1.0    1.0    1.0    1.0     28   1.11\n",
      "u[8,4]             1.0  4.4e-6 2.3e-5    1.0    1.0    1.0    1.0    1.0     28   1.11\n",
      "u[9,4]             1.0  5.1e-6 2.7e-5    1.0    1.0    1.0    1.0    1.0     28   1.11\n",
      "u[10,4]            1.0  6.0e-6 3.1e-5    1.0    1.0    1.0    1.0    1.0     28   1.11\n",
      "u[11,4]            1.0  7.0e-6 3.7e-5    1.0    1.0    1.0    1.0    1.0     28   1.11\n",
      "u[12,4]            1.0  8.2e-6 4.3e-5    1.0    1.0    1.0    1.0    1.0     28   1.11\n",
      "u[13,4]            1.0  9.6e-6 5.1e-5    1.0    1.0    1.0    1.0    1.0     28   1.11\n",
      "u[14,4]            1.0  1.1e-5 5.9e-5    1.0    1.0    1.0    1.0    1.0     28   1.11\n",
      "u[15,4]            1.0  1.3e-5 6.9e-5    1.0    1.0    1.0    1.0    1.0     28   1.11\n",
      "u[16,4]            1.0  1.5e-5 8.1e-5    1.0    1.0    1.0    1.0    1.0     28   1.11\n",
      "u[17,4]            1.0  1.8e-5 9.5e-5    1.0    1.0    1.0    1.0    1.0     28   1.11\n",
      "u[18,4]            1.0  2.1e-5 1.1e-4    1.0    1.0    1.0    1.0    1.0     28   1.11\n",
      "u[19,4]            1.0  2.5e-5 1.3e-4    1.0    1.0    1.0    1.0    1.0     28   1.11\n",
      "u[20,4]            1.0  2.9e-5 1.5e-4    1.0    1.0    1.0    1.0    1.0     28   1.11\n",
      "u[21,4]            1.0  3.4e-5 1.8e-4    1.0    1.0    1.0    1.0    1.0     28   1.11\n",
      "u[22,4]            1.0  4.0e-5 2.1e-4    1.0    1.0    1.0    1.0    1.0     28   1.11\n",
      "u[23,4]            1.0  4.7e-5 2.5e-4    1.0    1.0    1.0    1.0    1.0     28   1.11\n",
      "u[24,4]            1.0  5.5e-5 2.9e-4    1.0    1.0    1.0    1.0    1.0     28   1.11\n",
      "u[25,4]            1.0  6.4e-5 3.4e-4    1.0    1.0    1.0    1.0    1.0     28   1.11\n",
      "u[26,4]            1.0  7.5e-5 3.9e-4    1.0    1.0    1.0    1.0    1.0     27   1.11\n",
      "u[27,4]            1.0  8.8e-5 4.6e-4    1.0    1.0    1.0    1.0    1.0     27   1.11\n",
      "u[28,4]            1.0  1.0e-4 5.4e-4    1.0    1.0    1.0    1.0    1.0     27   1.11\n",
      "u[29,4]            1.0  1.2e-4 6.3e-4   0.99   0.99   0.99    1.0    1.0     27   1.11\n",
      "u[30,4]           0.99  1.4e-4 7.4e-4   0.99   0.99   0.99   0.99    1.0     27   1.11\n",
      "u[31,4]           0.99  1.6e-4 8.6e-4   0.99   0.99   0.99   0.99   0.99     27   1.11\n",
      "u[32,4]           0.99  1.9e-4 1.0e-3   0.99   0.99   0.99   0.99   0.99     27   1.11\n",
      "u[33,4]           0.99  2.3e-4 1.2e-3   0.99   0.99   0.99   0.99   0.99     27   1.11\n",
      "u[34,4]           0.99  2.6e-4 1.4e-3   0.99   0.99   0.99   0.99   0.99     27   1.11\n",
      "u[35,4]           0.99  3.1e-4 1.6e-3   0.99   0.99   0.99   0.99   0.99     27   1.11\n",
      "u[36,4]           0.99  3.6e-4 1.9e-3   0.98   0.98   0.99   0.99   0.99     27   1.11\n",
      "u[37,4]           0.98  4.2e-4 2.2e-3   0.98   0.98   0.98   0.98   0.99     27   1.11\n",
      "u[38,4]           0.98  4.9e-4 2.6e-3   0.98   0.98   0.98   0.98   0.98     27   1.11\n",
      "u[39,4]           0.98  5.7e-4 3.0e-3   0.98   0.98   0.98   0.98   0.98     27   1.11\n",
      "u[40,4]           0.97  6.7e-4 3.5e-3   0.97   0.97   0.97   0.97   0.98     27   1.11\n",
      "u[41,4]           0.97  7.8e-4 4.1e-3   0.97   0.97   0.97   0.97   0.97     27   1.11\n",
      "u[42,4]           0.96  9.0e-4 4.7e-3   0.96   0.96   0.96   0.96   0.97     27   1.11\n",
      "u[43,4]           0.96  1.0e-3 5.5e-3   0.96   0.96   0.96   0.96   0.97     27   1.11\n",
      "u[44,4]           0.95  1.2e-3 6.4e-3   0.95   0.95   0.95   0.95   0.96     27   1.11\n",
      "u[45,4]           0.94  1.4e-3 7.4e-3   0.94   0.94   0.94   0.94   0.95     27   1.11\n",
      "u[46,4]           0.93  1.6e-3 8.5e-3   0.93   0.93   0.93   0.93   0.95     27   1.11\n",
      "u[47,4]           0.92  1.9e-3 9.9e-3   0.92   0.92   0.92   0.92   0.94     27   1.11\n",
      "u[48,4]           0.91  2.2e-3   0.01   0.91   0.91   0.91   0.91   0.93     28   1.11\n",
      "u[49,4]            0.9  2.5e-3   0.01   0.89    0.9    0.9    0.9   0.92     28   1.11\n",
      "u[50,4]           0.88  2.8e-3   0.01   0.88   0.88   0.88   0.88    0.9     28   1.11\n",
      "u[51,4]           0.87  3.2e-3   0.02   0.86   0.86   0.86   0.87   0.89     28   1.11\n",
      "u[52,4]           0.85  3.7e-3   0.02   0.84   0.84   0.84   0.85   0.87     28   1.11\n",
      "u[53,4]           0.83  4.2e-3   0.02   0.82   0.82   0.82   0.83   0.86     28   1.11\n",
      "u[54,4]            0.8  4.7e-3   0.02    0.8    0.8    0.8    0.8   0.84     28   1.11\n",
      "u[55,4]           0.78  5.3e-3   0.03   0.77   0.77   0.78   0.78   0.81     28    1.1\n",
      "u[56,4]           0.75  5.9e-3   0.03   0.74   0.75   0.75   0.75   0.79     28    1.1\n",
      "u[57,4]           0.72  6.5e-3   0.03   0.71   0.72   0.72   0.72   0.76     28    1.1\n",
      "u[58,4]           0.69  7.2e-3   0.04   0.68   0.68   0.69   0.69   0.74     28    1.1\n",
      "u[59,4]           0.66  7.9e-3   0.04   0.65   0.65   0.65   0.66   0.71     28    1.1\n",
      "u[60,4]           0.63  8.5e-3   0.05   0.61   0.62   0.62   0.62   0.67     29    1.1\n",
      "u[61,4]           0.59  9.2e-3   0.05   0.58   0.58   0.58   0.59   0.64     29    1.1\n",
      "u[62,4]           0.56  9.9e-3   0.05   0.54   0.55   0.55   0.55   0.61     29    1.1\n",
      "u[63,4]           0.52    0.01   0.06   0.51   0.51   0.51   0.52   0.57     29    1.1\n",
      "u[64,4]           0.49    0.01   0.06   0.47   0.48   0.48   0.48   0.54     30    1.1\n",
      "u[65,4]           0.45    0.01   0.06   0.44   0.44   0.44   0.45    0.5     30    1.1\n",
      "u_init[1]       5.0e-7 7.5e-231.1e-22  5e-07  5e-07  5e-07  5e-07  5e-07      2    1.0\n",
      "u_init[2]          0.0     nan    0.0    0.0    0.0    0.0    0.0    0.0    nan    nan\n",
      "u_init[3]       4.1e-5 10.0e-7 5.2e-6 3.4e-5 4.2e-5 4.2e-5 4.3e-5 4.3e-5     28   1.11\n",
      "u_init[4]          1.0  1.2e-6 6.5e-6    1.0    1.0    1.0    1.0    1.0     28   1.11\n",
      "sigmaci         2.5e-3  7.7e-4 5.7e-3 1.8e-3 1.9e-3 1.9e-3 1.9e-3 2.3e-3     55   1.05\n",
      "sigmai            0.04  1.1e-4 6.0e-4   0.04   0.04   0.04   0.04   0.04     29    1.1\n",
      "betai              0.2  6.8e-4 5.0e-3    0.2    0.2    0.2    0.2    0.2     56   1.05\n",
      "theta_init        0.06  1.8e-3   0.02   0.02   0.06   0.06   0.07   0.12    160   1.04\n",
      "R_0               4.91    0.04   0.26   4.78   4.93   4.94   4.95   4.97     35   1.08\n",
      "ll_lambda[1,1]    5.66  2.1e-3   0.02   5.66   5.66   5.66   5.66   5.66    109   1.03\n",
      "ll_lambda[2,1]    6.44  4.4e-3   0.05   6.43   6.44   6.44   6.44   6.44    111   1.03\n",
      "ll_lambda[3,1]    7.36  6.7e-3   0.07   7.35   7.35   7.36   7.36   7.36    113   1.03\n",
      "ll_lambda[4,1]    8.45  9.2e-3    0.1   8.43   8.44   8.44   8.44   8.45    115   1.02\n",
      "ll_lambda[5,1]    9.72    0.01   0.13    9.7   9.71   9.71   9.71   9.72    117   1.02\n",
      "ll_lambda[6,1]   11.21    0.01   0.16  11.18  11.19   11.2   11.2  11.22    119   1.02\n",
      "ll_lambda[7,1]   12.96    0.02   0.19  12.93  12.94  12.95  12.95  12.97    122   1.02\n",
      "ll_lambda[8,1]   15.02    0.02   0.23  14.97  14.99   15.0  15.01  15.03    124   1.02\n",
      "ll_lambda[9,1]   17.43    0.02   0.27  17.38   17.4  17.41  17.42  17.44    127   1.01\n",
      "ll_lambda[10,1]  20.26    0.03   0.31   20.2  20.23  20.24  20.26  20.28    130   1.01\n",
      "ll_lambda[11,1]  23.58    0.03   0.36  23.51  23.55  23.56  23.58  23.61    133   1.01\n",
      "ll_lambda[12,1]  27.47    0.04   0.41  27.38  27.43  27.45  27.47  27.51    136   1.01\n",
      "ll_lambda[13,1]  32.03    0.04   0.52  31.92  31.98  32.01  32.03  32.08    137   1.01\n",
      "ll_lambda[14,1]  37.37    0.06   0.66  37.23   37.3  37.33  37.36  37.43    138   1.01\n",
      "ll_lambda[15,1]   43.6    0.07   0.82  43.43  43.52  43.56   43.6  43.67    140   1.01\n",
      "ll_lambda[16,1]  50.89    0.08   0.96  50.69   50.8  50.84  50.89  50.98    143    1.0\n",
      "ll_lambda[17,1]  59.41    0.09   1.07  59.19  59.33  59.38  59.44  59.55    147    1.0\n",
      "ll_lambda[18,1]  69.41    0.09   1.14  69.15  69.32  69.38  69.45  69.59    150    1.0\n",
      "ll_lambda[19,1]   81.1     0.1    1.2  80.82  81.03  81.11  81.19  81.36    148    1.0\n",
      "ll_lambda[20,1]  94.79    0.11   1.24  94.47  94.73  94.82  94.92  95.12    138    1.0\n",
      "ll_lambda[21,1] 110.78    0.12   1.31 110.42 110.74 110.86 110.98 111.23    116   1.02\n",
      "ll_lambda[22,1] 129.49    0.16   1.45 129.09 129.48 129.62 129.77 130.05     87   1.04\n",
      "ll_lambda[23,1] 151.36    0.21   1.71 150.91 151.39 151.56 151.73 152.08     63   1.06\n",
      "ll_lambda[24,1] 176.94    0.35   2.09 176.35 177.01 177.21 177.43 177.84     35   1.08\n",
      "ll_lambda[25,1] 206.88    0.47    2.6 206.03  207.0 207.25 207.51  208.0     31    1.1\n",
      "ll_lambda[26,1] 241.91    0.61   3.25 237.13 242.08 242.38  242.7 243.29     29    1.1\n",
      "ll_lambda[27,1] 282.88    0.76   4.03 275.28 283.11 283.47 283.85 284.55     28   1.11\n",
      "ll_lambda[28,1] 330.77    0.95   4.97 321.66 331.06 331.51 331.95 332.81     27   1.11\n",
      "ll_lambda[29,1] 386.74    1.17   6.09 375.82 387.12 387.65 388.19 389.21     27   1.11\n",
      "ll_lambda[30,1] 452.17    1.42   7.42 439.08 452.65 453.28 453.93 455.15     27   1.11\n",
      "ll_lambda[31,1] 528.66    1.73   9.01 512.96 529.25 530.02 530.79 532.26     27   1.11\n",
      "ll_lambda[32,1] 618.03     2.1  10.93 599.27 618.76 619.67  620.6 622.35     27   1.11\n",
      "ll_lambda[33,1] 722.41    2.54  13.24 700.01 723.31  724.4 725.51  727.6     27   1.11\n",
      "ll_lambda[34,1] 844.27    3.07  16.04  817.6 845.38 846.67 847.99  850.5     27   1.11\n",
      "ll_lambda[35,1] 986.51    3.72  19.44 954.77 987.88 989.44  991.0  994.0     27   1.11\n",
      "ll_lambda[36,1] 1152.5    4.51  23.56 1114.7 1154.2 1156.0 1157.9 1161.4     27   1.11\n",
      "ll_lambda[37,1] 1346.0    5.46  28.51 1301.4 1348.1 1350.4 1352.5 1356.8     27   1.11\n",
      "ll_lambda[38,1] 1571.7    6.59  34.43 1518.9 1574.3 1576.9 1579.5 1584.5     27   1.11\n",
      "ll_lambda[39,1] 1834.5    7.93  41.46 1772.2 1837.7 1840.8 1843.9 1849.8     27   1.11\n",
      "ll_lambda[40,1] 2140.5    9.51  49.77 2067.2 2144.3 2148.0 2151.6 2158.6     27   1.11\n",
      "ll_lambda[41,1] 2496.4   11.37  59.56 2410.3 2501.0 2505.4 2509.7 2517.8     27   1.11\n",
      "ll_lambda[42,1] 2909.9   13.53  71.01 2809.3 2915.4 2920.6 2925.6 2935.1     28   1.11\n",
      "ll_lambda[43,1] 3389.8   16.05  84.34 3272.6 3396.5 3402.5 3408.4 3419.4     28   1.11\n",
      "ll_lambda[44,1] 3946.1   18.97  99.79 3810.2 3954.1 3961.0 3967.8 3980.8     28   1.11\n",
      "ll_lambda[45,1] 4589.9    22.3 117.54 4433.1 4599.4 4607.5 4615.5 4630.5     28   1.11\n",
      "ll_lambda[46,1] 5333.8    26.1  137.8 5153.8 5345.0 5354.3 5363.5 5381.0     28   1.11\n",
      "ll_lambda[47,1] 6191.5   30.37 160.67 5986.4 6204.6 6215.3 6225.9 6246.1     28    1.1\n",
      "ll_lambda[48,1] 7178.2   35.12 186.19 6946.4 7193.6 7205.7 7217.9 7240.8     28    1.1\n",
      "ll_lambda[49,1] 8310.5   40.31 214.25 8051.0 8328.2 8342.0 8355.8 8381.9     28    1.1\n",
      "ll_lambda[50,1] 9605.9   45.88 244.54 9318.7 9626.2 9642.0 9657.4 9686.6     28    1.1\n",
      "ll_lambda[51,1]  1.1e4   51.71 276.49  1.1e4  1.1e4  1.1e4  1.1e4  1.1e4     29    1.1\n",
      "ll_lambda[52,1]  1.3e4   57.59 309.15  1.2e4  1.3e4  1.3e4  1.3e4  1.3e4     29    1.1\n",
      "ll_lambda[53,1]  1.5e4   63.24  341.1  1.4e4  1.5e4  1.5e4  1.5e4  1.5e4     29    1.1\n",
      "ll_lambda[54,1]  1.7e4   68.24 370.25  1.6e4  1.7e4  1.7e4  1.7e4  1.7e4     29    1.1\n",
      "ll_lambda[55,1]  1.9e4    72.0 393.79  1.9e4  1.9e4  1.9e4  1.9e4  1.9e4     30    1.1\n",
      "ll_lambda[56,1]  2.2e4   73.77  408.0  2.2e4  2.2e4  2.2e4  2.2e4  2.2e4     31   1.09\n",
      "ll_lambda[57,1]  2.5e4   72.56 408.14  2.5e4  2.5e4  2.5e4  2.5e4  2.5e4     32   1.09\n",
      "ll_lambda[58,1]  2.8e4    67.1 388.56  2.8e4  2.8e4  2.8e4  2.8e4  2.8e4     34   1.08\n",
      "ll_lambda[59,1]  3.2e4   55.76 343.43  3.2e4  3.2e4  3.2e4  3.2e4  3.2e4     38   1.07\n",
      "ll_lambda[60,1]  3.5e4   36.52 270.19  3.5e4  3.5e4  3.6e4  3.6e4  3.6e4     55   1.05\n",
      "ll_lambda[61,1]  4.0e4   16.07 192.06  4.0e4  4.0e4  4.0e4  4.0e4  4.0e4    143    1.0\n",
      "ll_lambda[62,1]  4.4e4   26.47 241.28  4.4e4  4.4e4  4.4e4  4.4e4  4.4e4     83   1.05\n",
      "ll_lambda[63,1]  4.9e4   86.09 482.19  4.9e4  4.9e4  4.9e4  4.9e4  4.9e4     31    1.1\n",
      "ll_lambda[64,1]  5.4e4  160.18 854.08  5.3e4  5.3e4  5.4e4  5.4e4  5.5e4     28    1.1\n",
      "ll_lambda[65,1]  5.9e4  255.72 1352.8  5.8e4  5.9e4  5.9e4  5.9e4  6.1e4     28   1.11\n",
      "ll_lambda[1,2]     0.2  6.5e-4 3.5e-3    0.2    0.2    0.2    0.2   0.21     29    1.1\n",
      "ll_lambda[2,2]    0.43  1.5e-3 8.2e-3   0.43   0.43   0.43   0.43   0.44     30   1.09\n",
      "ll_lambda[3,2]     0.7  2.5e-3   0.01   0.69   0.69   0.69   0.69   0.71     32   1.09\n",
      "ll_lambda[4,2]     1.0  3.8e-3   0.02   0.99   0.99   0.99    1.0   1.02     33   1.09\n",
      "ll_lambda[5,2]    1.34  5.3e-3   0.03   1.33   1.33   1.34   1.34   1.37     34   1.08\n",
      "ll_lambda[6,2]    1.74  7.0e-3   0.04   1.72   1.73   1.73   1.74   1.77     35   1.08\n",
      "ll_lambda[7,2]     2.2  9.1e-3   0.05   2.18   2.19   2.19   2.19   2.24     36   1.08\n",
      "ll_lambda[8,2]    2.73    0.01   0.07    2.7   2.71   2.72   2.72   2.78     37   1.08\n",
      "ll_lambda[9,2]    3.34    0.01   0.09   3.31   3.33   3.33   3.34    3.4     38   1.07\n",
      "ll_lambda[10,2]   4.06    0.02   0.11   4.03   4.04   4.05   4.05   4.13     39   1.07\n",
      "ll_lambda[11,2]    4.9    0.02   0.13   4.85   4.87   4.88   4.89   4.97     40   1.07\n",
      "ll_lambda[12,2]   5.87    0.02   0.16   5.82   5.84   5.85   5.86   5.95     41   1.07\n",
      "ll_lambda[13,2]    7.0    0.03    0.2   6.94   6.96   6.98   6.99    7.1     43   1.06\n",
      "ll_lambda[14,2]   8.32    0.04   0.26   8.25   8.28   8.29   8.31   8.43     45   1.06\n",
      "ll_lambda[15,2]   9.86    0.05   0.33   9.77    9.8   9.82   9.84   9.97     48   1.06\n",
      "ll_lambda[16,2]  11.65    0.06   0.39  11.55  11.59  11.61  11.63  11.78     50   1.05\n",
      "ll_lambda[17,2]  13.74    0.06   0.45  13.63  13.67  13.69  13.72  13.88     51   1.05\n",
      "ll_lambda[18,2]  16.19    0.07    0.5  16.06  16.11  16.14  16.16  16.33     53   1.05\n",
      "ll_lambda[19,2]  19.05    0.07   0.53   18.9  18.96  18.99  19.03  19.19     54   1.05\n",
      "ll_lambda[20,2]  22.39    0.07   0.56  22.22   22.3  22.33  22.37  22.54     55   1.05\n",
      "ll_lambda[21,2]  26.29    0.08   0.57  26.11  26.19  26.23  26.28  26.46     56   1.05\n",
      "ll_lambda[22,2]  30.85    0.08   0.58  30.64  30.74  30.79  30.85  31.02     57   1.05\n",
      "ll_lambda[23,2]  36.18    0.08   0.58  35.94  36.06  36.12  36.18  36.37     58   1.05\n",
      "ll_lambda[24,2]  42.41    0.08   0.59  42.14  42.28  42.35  42.42  42.64     60   1.05\n",
      "ll_lambda[25,2]   49.7    0.07   0.59   49.4  49.56  49.64  49.73  49.97     63   1.04\n",
      "ll_lambda[26,2]  58.22    0.07   0.61  57.88  58.07  58.17  58.27  58.55     68   1.04\n",
      "ll_lambda[27,2]  68.19    0.07   0.63   67.8  68.03  68.14  68.26  68.57     77   1.04\n",
      "ll_lambda[28,2]  79.85    0.07   0.67   79.4  79.67   79.8  79.93  80.27     90   1.03\n",
      "ll_lambda[29,2]  93.48    0.07   0.72  92.96  93.28  93.43  93.59  93.94    111   1.03\n",
      "ll_lambda[30,2] 109.42    0.06   0.79  108.8 109.19 109.36 109.55 109.97    152   1.02\n",
      "ll_lambda[31,2] 128.06    0.07   0.88 127.33  127.8 128.01 128.22 128.71    179   1.01\n",
      "ll_lambda[32,2] 149.85    0.07   0.99  149.0 149.56  149.8 150.05 150.63    209   1.01\n",
      "ll_lambda[33,2] 175.32    0.07   1.11 174.29 174.99 175.27 175.58 176.24    239    1.0\n",
      "ll_lambda[34,2] 205.08    0.08   1.26 203.83 204.71 205.05  205.4 206.17    265    1.0\n",
      "ll_lambda[35,2] 239.86    0.09   1.43 238.33 239.45 239.86 240.27 241.13    275    1.0\n",
      "ll_lambda[36,2]  280.5     0.1   1.64 278.66 280.05 280.53 281.01 281.96    250    1.0\n",
      "ll_lambda[37,2] 327.96    0.14   1.91 325.76 327.47 328.06 328.61 329.73    199   1.01\n",
      "ll_lambda[38,2] 383.39    0.19   2.26 380.82 382.86 383.54  384.2 385.46    145   1.02\n",
      "ll_lambda[39,2] 448.08    0.27   2.75 444.89 447.52 448.32 449.09 450.57    106   1.03\n",
      "ll_lambda[40,2]  523.6     0.4   3.41 519.71  523.0 523.93 524.83 526.59     72   1.05\n",
      "ll_lambda[41,2] 611.68    0.61   4.28  607.2 611.05 612.15 613.23 615.29     50   1.06\n",
      "ll_lambda[42,2] 714.37    0.83   5.37  709.2 713.72  715.0  716.3 718.69     42   1.07\n",
      "ll_lambda[43,2] 834.04    1.09   6.75 827.91 833.35 834.86 836.39 839.21     38   1.08\n",
      "ll_lambda[44,2]  973.4    1.41   8.44 965.93 972.71 974.44 976.26 979.59     36   1.08\n",
      "ll_lambda[45,2] 1135.5    1.79   10.5 1126.8 1134.8 1136.8 1139.0 1142.9     34   1.08\n",
      "ll_lambda[46,2] 1324.0    2.25  12.96 1313.7 1323.3 1325.7 1328.2 1332.8     33   1.09\n",
      "ll_lambda[47,2] 1543.0    2.78  15.89 1531.0 1542.3 1545.0 1548.0 1553.4     33   1.09\n",
      "ll_lambda[48,2] 1797.0    3.39  19.32 1783.1 1796.3 1799.5 1802.9 1809.2     32   1.09\n",
      "ll_lambda[49,2] 2091.3    4.09  23.29 2075.2 2090.5 2094.3 2098.3 2105.6     32   1.09\n",
      "ll_lambda[50,2] 2431.7    4.89   27.8 2412.8 2430.9 2435.4 2440.0 2448.5     32   1.09\n",
      "ll_lambda[51,2] 2824.9    5.76  32.87 2803.1 2823.9 2829.2 2834.5 2844.2     33   1.09\n",
      "ll_lambda[52,2] 3278.0     6.7  38.44 3252.7 3277.0 3283.0 3289.2 3300.5     33   1.09\n",
      "ll_lambda[53,2] 3799.1    7.69  44.41 3769.7 3798.0 3805.0 3812.1 3825.1     33   1.09\n",
      "ll_lambda[54,2] 4397.0    8.67  50.62 4362.6 4395.5 4403.6 4411.7 4426.9     34   1.08\n",
      "ll_lambda[55,2] 5081.2    9.58   56.8 5043.3 5079.1 5088.2 5097.9 5115.3     35   1.08\n",
      "ll_lambda[56,2] 5861.7   10.33  62.56 5820.0 5858.8 5869.3 5880.3 5900.3     37   1.08\n",
      "ll_lambda[57,2] 6749.2   10.77  67.38 6702.0 6745.2 6757.2 6769.8 6792.7     39   1.07\n",
      "ll_lambda[58,2] 7754.8   10.73  70.62 7704.5 7749.3 7762.8 7777.3 7803.1     43   1.06\n",
      "ll_lambda[59,2] 8890.0    9.85  71.64 8838.3 8881.8 8897.5 8914.0 8943.1     53   1.05\n",
      "ll_lambda[60,2]  1.0e4    7.29  70.07  1.0e4  1.0e4  1.0e4  1.0e4  1.0e4     92   1.04\n",
      "ll_lambda[61,2]  1.2e4    5.76  66.85  1.2e4  1.2e4  1.2e4  1.2e4  1.2e4    135   1.01\n",
      "ll_lambda[62,2]  1.3e4    5.01  66.95  1.3e4  1.3e4  1.3e4  1.3e4  1.3e4    178    1.0\n",
      "ll_lambda[63,2]  1.5e4    7.17  81.76  1.5e4  1.5e4  1.5e4  1.5e4  1.5e4    130   1.02\n",
      "ll_lambda[64,2]  1.7e4    17.2 121.61  1.7e4  1.7e4  1.7e4  1.7e4  1.7e4     50   1.07\n",
      "ll_lambda[65,2]  1.9e4   32.86 189.66  1.9e4  1.9e4  1.9e4  1.9e4  1.9e4     33   1.09\n",
      "ll_[1]           -1.98  9.7e-4 6.0e-3  -1.99  -1.98  -1.98  -1.98  -1.98     39   1.07\n",
      "ll_[2]           -2.28  2.0e-3   0.01  -2.29  -2.28  -2.28  -2.27  -2.27     38   1.07\n",
      "ll_[3]           -2.66  4.2e-3   0.03  -2.67  -2.66  -2.66  -2.65  -2.65     47   1.06\n",
      "ll_[4]           -3.22  7.1e-3   0.05  -3.23  -3.22  -3.21  -3.21  -3.21     54   1.05\n",
      "ll_[5]            -4.0    0.01   0.08  -3.99  -3.99  -3.99  -3.99  -3.98     60   1.04\n",
      "ll_[6]           -5.03    0.01   0.12  -5.02  -5.02  -5.02  -5.01  -5.01     65   1.04\n",
      "ll_[7]           -6.37    0.02   0.16  -6.36  -6.35  -6.35  -6.35  -6.34     77   1.04\n",
      "ll_[8]           -8.07    0.02   0.21  -8.06  -8.05  -8.05  -8.05  -8.04    101   1.03\n",
      "ll_[9]           -6.84    0.02   0.19  -6.83  -6.82  -6.82  -6.81   -6.8     67   1.04\n",
      "ll_[10]          -8.73    0.03   0.25  -8.72  -8.71  -8.71   -8.7  -8.69     98   1.03\n",
      "ll_[11]         -11.22    0.03   0.32 -11.21  -11.2 -11.19 -11.18 -11.17    108   1.03\n",
      "ll_[12]          -14.4    0.04    0.4 -14.39 -14.37 -14.36 -14.35 -14.33    114   1.03\n",
      "ll_[13]         -17.44    0.05   0.52 -17.44 -17.41  -17.4 -17.38 -17.35    124   1.02\n",
      "ll_[14]         -22.36    0.06    0.7 -22.37 -22.33 -22.31 -22.29 -22.25    126   1.02\n",
      "ll_[15]          -28.4    0.08   0.91 -28.41 -28.36 -28.34 -28.32 -28.26    129   1.02\n",
      "ll_[16]         -36.07    0.09   1.06 -36.11 -36.04 -36.01 -35.97 -35.89    137   1.01\n",
      "ll_[17]         -44.78     0.1   1.22 -44.85 -44.76 -44.71 -44.67 -44.57    143   1.01\n",
      "ll_[18]         -55.31    0.11   1.34 -55.42  -55.3 -55.25  -55.2 -55.06    149   1.01\n",
      "ll_[19]         -67.96    0.11   1.41 -68.13 -67.99 -67.92 -67.86 -67.69    155    1.0\n",
      "ll_[20]         -83.09    0.11   1.44 -83.33 -83.15 -83.07 -82.99 -82.77    158    1.0\n",
      "ll_[21]         -101.0    0.12   1.46 -101.4 -101.2 -101.1 -101.0 -100.7    151    1.0\n",
      "ll_[22]         -122.4    0.13   1.51 -122.9 -122.6 -122.5 -122.4 -122.0    130   1.01\n",
      "ll_[23]         -147.7    0.17   1.65 -148.3 -148.0 -147.9 -147.7 -147.3     97   1.03\n",
      "ll_[24]         -177.7    0.23   1.91 -178.4 -178.1 -177.9 -177.7 -177.1     69   1.06\n",
      "ll_[25]         -213.0    0.37   2.34 -214.0 -213.5 -213.3 -213.1 -212.3     41   1.08\n",
      "ll_[26]         -261.0    0.54   3.02 -262.3 -261.7 -261.5 -261.1 -260.2     31   1.09\n",
      "ll_[27]         -295.3    0.69   3.72 -296.8 -296.1 -295.8 -295.4 -292.1     29    1.1\n",
      "ll_[28]         -289.2    0.81   4.32 -290.9 -290.2 -289.8 -289.4 -282.2     28    1.1\n",
      "ll_[29]         -306.9    0.96   5.08 -309.0 -308.1 -307.7 -307.2 -297.4     28   1.11\n",
      "ll_[30]         -295.4    1.07   5.66 -297.8 -296.8 -296.3 -295.7 -285.0     28   1.11\n",
      "ll_[31]         -325.3    1.26   6.67 -328.0 -326.9 -326.3 -325.7 -313.2     28   1.11\n",
      "ll_[32]         -327.1    1.41   7.42 -330.1 -328.8 -328.2 -327.5 -313.7     28   1.11\n",
      "ll_[33]         -408.2    1.79   9.43 -412.0 -410.4 -409.6 -408.7 -391.5     28   1.11\n",
      "ll_[34]         -421.9     2.0  10.56 -426.2 -424.4 -423.5 -422.5 -403.5     28   1.11\n",
      "ll_[35]         -446.1    2.28  12.01 -451.0 -449.0 -447.9 -446.8 -425.6     28   1.11\n",
      "ll_[36]         -352.6    1.91   10.1 -356.9 -355.0 -354.0 -353.1 -335.0     28   1.11\n",
      "ll_[37]         -324.5    1.54   8.18 -328.4 -326.7 -325.7 -324.8 -314.6     28    1.1\n",
      "ll_[38]         -362.7    1.84   9.72 -367.2 -365.2 -364.1 -363.1 -348.2     28   1.11\n",
      "ll_[39]         -476.4    2.73  14.35 -482.6 -480.0 -478.5 -477.1 -452.5     28   1.11\n",
      "ll_[40]         -416.4    1.57   8.41 -421.0 -418.9 -417.5 -416.4 -407.5     29    1.1\n",
      "ll_[41]         -436.6    0.97   5.56 -440.7 -438.5 -437.3 -436.0 -431.8     33   1.09\n",
      "ll_[42]         -603.1    3.09  16.26 -610.8 -607.4 -605.4 -603.6 -575.9     28   1.11\n",
      "ll_[43]         -555.5    1.34   8.29 -559.9 -555.9 -554.5 -553.2 -550.5     38   1.08\n",
      "ll_[44]         -670.5    2.62  14.92 -680.2 -670.1 -668.4 -666.9 -663.8     32   1.09\n",
      "ll_[45]         -799.4    0.54    5.4 -806.0 -801.9 -799.9 -797.8 -790.2    100   1.04\n",
      "ll_[46]         -950.9    6.52  35.69 -982.4 -948.4 -945.8 -943.3 -938.8     30    1.1\n",
      "ll_[47]          -1160    7.31  40.17  -1194  -1157  -1154  -1151  -1146     30    1.1\n",
      "ll_[48]          -1450     9.3  51.07  -1495  -1446  -1443  -1439  -1433     30    1.1\n",
      "ll_[49]          -1606   12.38  67.78  -1667  -1601  -1596  -1592  -1584     30    1.1\n",
      "ll_[50]          -1527   13.56  74.48  -1591  -1521  -1516  -1511  -1503     30    1.1\n",
      "ll_[51]          -1639   13.47  74.54  -1700  -1634  -1629  -1624  -1614     31   1.09\n",
      "ll_[52]         -46.79    6.35  36.79 -55.05 -42.52 -41.69 -40.91 -39.39     34   1.08\n",
      "ll_[53]         -241.7   14.09   78.9 -289.5 -233.5 -230.4 -227.4 -221.7     31   1.09\n",
      "ll_[54]         -55.84   10.81  61.97 -79.83 -48.65  -47.1 -45.66 -42.97     33   1.09\n",
      "ll_[55]         -35.11    9.32   54.6 -48.94 -28.62 -27.56 -26.49 -24.78     34   1.08\n",
      "ll_[56]         -75.56    9.21  54.99  -83.8 -69.93 -68.18 -66.43 -63.52     36   1.08\n",
      "ll_[57]         -82.99    7.77   47.9  -86.2 -78.61 -76.78 -74.96 -71.66     38   1.07\n",
      "ll_[58]         -58.25    7.99  49.77 -64.79 -53.43 -51.74 -50.14 -47.54     39   1.07\n",
      "ll_[59]         -84.84    1.32  13.52 -90.56 -85.75 -83.61  -81.7 -77.54    105   1.03\n",
      "ll_[60]         -92.88    0.33    5.4 -99.89 -95.16 -92.62 -90.43 -85.57    265    1.0\n",
      "ll_[61]         -93.37     1.1  11.56 -101.0 -94.79 -92.38 -89.78 -85.04    110   1.03\n",
      "ll_[62]         -175.0    2.26  14.28 -190.8 -177.0 -173.1 -169.6 -162.5     40   1.07\n",
      "ll_[63]         -873.3   14.22  80.25 -907.9 -872.1 -862.2 -852.5 -833.5     32   1.09\n",
      "ll_[64]          -1343    32.1 175.11  -1538  -1332  -1318  -1304  -1278     30    1.1\n",
      "ll_[65]         -953.2   21.99  112.5  -1019 -987.1 -969.8 -952.3 -615.4     26   1.12\n",
      "sigmac          2.5e-3  7.7e-4 5.7e-3 1.8e-3 1.9e-3 1.9e-3 1.9e-3 2.3e-3     55   1.05\n",
      "sigma             0.04  1.1e-4 6.0e-4   0.04   0.04   0.04   0.04   0.04     29    1.1\n",
      "beta               0.2  6.8e-4 5.0e-3    0.2    0.2    0.2    0.2    0.2     56   1.05\n",
      "lp__            -2.2e4  125.75 722.61 -2.2e4 -2.2e4 -2.2e4 -2.2e4 -2.2e4     33   1.09\n",
      "\n",
      "Samples were drawn using NUTS at Sat Apr  4 22:13:25 2020.\n",
      "For each parameter, n_eff is a crude measure of effective sample size,\n",
      "and Rhat is the potential scale reduction factor on split chains (at \n",
      "convergence, Rhat=1).\n"
     ]
    }
   ],
   "source": [
    "print(fit)"
   ]
  },
  {
   "cell_type": "code",
   "execution_count": 15,
   "metadata": {},
   "outputs": [
    {
     "data": {
      "text/plain": [
       "array([<matplotlib.axes._subplots.AxesSubplot object at 0x132d7a250>,\n",
       "       <matplotlib.axes._subplots.AxesSubplot object at 0x132db8ed0>,\n",
       "       <matplotlib.axes._subplots.AxesSubplot object at 0x133082e10>,\n",
       "       <matplotlib.axes._subplots.AxesSubplot object at 0x132f57190>,\n",
       "       <matplotlib.axes._subplots.AxesSubplot object at 0x132e3c990>],\n",
       "      dtype=object)"
      ]
     },
     "execution_count": 15,
     "metadata": {},
     "output_type": "execute_result"
    },
    {
     "data": {
      "image/png": "[encoded data removed]",
      "text/plain": [
       "<Figure size 1490.4x662.4 with 6 Axes>"
      ]
     },
     "metadata": {
      "needs_background": "light"
     },
     "output_type": "display_data"
    }
   ],
   "source": [
    "#https://arviz-devs.github.io/arviz/generated/arviz.plot_density\n",
    "az.plot_density(fit,group='posterior',var_names=[\"theta\",\"R_0\"])"
   ]
  },
  {
   "cell_type": "code",
   "execution_count": 16,
   "metadata": {},
   "outputs": [
    {
     "name": "stdout",
     "output_type": "stream",
     "text": [
      "(1800, 65, 4)\n"
     ]
    },
    {
     "data": {
      "text/plain": [
       "(0, 100000)"
      ]
     },
     "execution_count": 16,
     "metadata": {},
     "output_type": "execute_result"
    },
    {
     "data": {
      "image/png": "[encoded data removed]",
      "text/plain": [
       "<Figure size 432x288 with 1 Axes>"
      ]
     },
     "metadata": {
      "needs_background": "light"
     },
     "output_type": "display_data"
    }
   ],
   "source": [
    "# dir(fit)\n",
    "# stan_data = az.from_pystan(\n",
    "#     posterior=fit,\n",
    "#     posterior_predictive='y_hat',\n",
    "#     observed_data=\"y[1,1]\")\n",
    "\n",
    "# print(stan_data)\n",
    "# # az.plot_ppc(stan_data)\n",
    "\n",
    "print(np.shape(fit.extract()['u']))\n",
    "# plt.plot(np.mean(fit.extract()['y_hat'][:,:,1],0),'r', label=r'$\\hat{I}$')\n",
    "# plt.plot(np.mean(fit.extract()['y_hat'][:,:,2],0),'b', label=r'$\\hat{R}$')\n",
    "# plt.legend()\n",
    "# plt.ylabel('fraction')\n",
    "# plt.xlabel('days')\n",
    "# # plt.plot(model.stan_data['y'][:,0],'bo', label=\"cases\")\n",
    "# # plt.plot(model.stan_data['y'][:,1],'go',label=\"recovered\")\n",
    "\n",
    "# plt.plot(fit.extract()['u'][-1,:,4],'r', label=r'$\\hat{I}$')\n",
    "# plt.plot(fit.extract()['u'][-1,:,2],'b', label=r'$\\hat{R}$')\n",
    "# plt.legend()\n",
    "# plt.ylabel('fraction')\n",
    "# plt.xlabel('days')\n",
    "# plt.plot(model.stan_data['y'][:,0],'bo', label=\"cases\")\n",
    "# plt.plot(model.stan_data['y'][:,1],'go',label=\"recovered\")\n",
    "# plt.subplot(1,2,1)\n",
    "ms=2 \n",
    "x = range(len(fit.extract()['u'][-1,:,0]))\n",
    "# plt.plot(x,DF[\"cases\"][t0:],'bo', label=\"cases\",ms=ms)\n",
    "# plt.plot(x,DF[\"recovered\"][t0:],'go',label=\"recovered\",ms=ms)\n",
    "# plt.plot(x,DF[\"deaths\"][t0:],'s',label=\"deaths\",color='orange',ms=ms)\n",
    "\n",
    "plt.plot(x,DF[\"cases\"][t0:],'bo', label=\"cases\",ms=ms)\n",
    "plt.plot(x,DF[\"recovered\"][t0:] + DF[\"deaths\"][t0:],'o',color='orange',label=\"unknown\",ms=ms)\n",
    "\n",
    "\n",
    "\n",
    "labels = ['C','U','I','S','Z']\n",
    "\n",
    "lw=4\n",
    "a = 0.5\n",
    "for i in range(4):\n",
    "    plt.plot(model.stan_data['n_scale']*fit.extract()['u'][-1,:,i],label=labels[i],lw=lw,alpha=a)\n",
    "plt.plot(model.stan_data['n_scale']*(1-fit.extract()['u'][-1,:,i]),label=labels[-1],lw=lw,alpha=a)\n",
    "plt.legend()\n",
    "plt.ylim((0,100000))\n",
    "\n",
    "# labels = ['C','D','R','I','S','Z']\n",
    "# lw=4\n",
    "# a = 0.5\n",
    "# for i in range(5):\n",
    "#     plt.plot(model.stan_data['n_scale']*fit.extract()['u'][-1,:,i],label=labels[i],lw=lw,alpha=a)\n",
    "# plt.plot(model.stan_data['n_scale']*(1-fit.extract()['u'][-1,:,4]),label=labels[-1],lw=lw,alpha=a)\n",
    "# plt.legend()\n",
    "# plt.ylim((0,100000))\n",
    "\n",
    "# # plt.subplot(1,2,2)\n",
    "# # tot = DF[\"cases\"][-1:] + DF[\"recovered\"][-1:] + DF[\"deaths\"][-1:]\n",
    "\n",
    "# # plt.axvline(model.stan_data['t0'],color='k', linestyle=\"dashed\")\n",
    "# plt.legend()\n",
    "# plt.title(roi)\n",
    "# plt.figure()\n",
    "# # plt.plot(fit.extract()['lp__'])\n",
    "# az.plot_density(fit,group='posterior',var_names=[\"theta\",\"R_0\"])\n",
    "\n"
   ]
  },
  {
   "cell_type": "code",
   "execution_count": 17,
   "metadata": {},
   "outputs": [
    {
     "data": {
      "text/plain": [
       "array([[<matplotlib.axes._subplots.AxesSubplot object at 0x1322455d0>,\n",
       "        <matplotlib.axes._subplots.AxesSubplot object at 0x1332d0c10>,\n",
       "        <matplotlib.axes._subplots.AxesSubplot object at 0x132bba610>],\n",
       "       [<matplotlib.axes._subplots.AxesSubplot object at 0x132b58810>,\n",
       "        <matplotlib.axes._subplots.AxesSubplot object at 0x132c2a190>,\n",
       "        <matplotlib.axes._subplots.AxesSubplot object at 0x132bf0890>],\n",
       "       [<matplotlib.axes._subplots.AxesSubplot object at 0x132b3fa10>,\n",
       "        <matplotlib.axes._subplots.AxesSubplot object at 0x132cbe910>,\n",
       "        <matplotlib.axes._subplots.AxesSubplot object at 0x132c62fd0>]],\n",
       "      dtype=object)"
      ]
     },
     "execution_count": 17,
     "metadata": {},
     "output_type": "execute_result"
    },
    {
     "data": {
      "image/png": "[encoded data removed]",
      "text/plain": [
       "<Figure size 993.6x662.4 with 9 Axes>"
      ]
     },
     "metadata": {
      "needs_background": "light"
     },
     "output_type": "display_data"
    }
   ],
   "source": [
    "az.plot_pair(fit,var_names=[\"theta\"], divergences=True)"
   ]
  },
  {
   "cell_type": "code",
   "execution_count": null,
   "metadata": {},
   "outputs": [],
   "source": []
  }
 ],
 "metadata": {
  "colab": {
   "collapsed_sections": [],
   "name": "MBS_SIRmodeling_version2.ipynb",
   "provenance": []
  },
  "kernelspec": {
   "display_name": "Python 3",
   "language": "python",
   "name": "python3"
  },
  "language_info": {
   "codemirror_mode": {
    "name": "ipython",
    "version": 3
   },
   "file_extension": ".py",
   "mimetype": "text/x-python",
   "name": "python",
   "nbconvert_exporter": "python",
   "pygments_lexer": "ipython3",
   "version": "3.7.4"
  }
 },
 "nbformat": 4,
 "nbformat_minor": 1
}
