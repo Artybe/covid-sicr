{
 "cells": [
  {
   "cell_type": "code",
   "execution_count": 1,
   "metadata": {
    "cellView": "both",
    "colab": {
     "base_uri": "https://localhost:8080/",
     "height": 309
    },
    "colab_type": "code",
    "id": "AKP2Vok31tsE",
    "outputId": "f268f545-a908-4e75-f957-dad08b72c277"
   },
   "outputs": [],
   "source": [
    "#@title Install arviz\n",
    "# !pip3 install arviz"
   ]
  },
  {
   "cell_type": "code",
   "execution_count": 2,
   "metadata": {
    "colab": {},
    "colab_type": "code",
    "id": "a0disJ2Uy-Bx"
   },
   "outputs": [],
   "source": [
    "import arviz as az\n",
    "import pystan\n",
    "import os\n",
    "# os.environ['STAN_NUM_THREADS'] = \"4\"\n",
    "import pandas as pd\n",
    "import matplotlib.pyplot as plt\n",
    "import numpy as np\n",
    "import networkx as nx\n",
    "import warnings\n",
    "warnings.filterwarnings(\"ignore\", category=DeprecationWarning)\n",
    "%matplotlib inline"
   ]
  },
  {
   "cell_type": "code",
   "execution_count": 3,
   "metadata": {},
   "outputs": [],
   "source": [
    "stancode = \"\"\"\n",
    "functions {\n",
    "            real[] SIR(real t,  // time\n",
    "            real[] u,           // system state {infected,cases,susceptible}\n",
    "            real[] theta,       // parameters \n",
    "            real[] x_r,\n",
    "            int[] x_i) {\n",
    "\n",
    "            real du_dt[2];\n",
    "        \n",
    "            real beta = theta[1];\n",
    "            real sigmac = theta[2];\n",
    "            real sigmar = theta[3];\n",
    "            real sigmad =  theta[4];\n",
    "            real q = theta[5]; \n",
    "            real f = theta[6]; \n",
    "            real mbase = theta[7]; \n",
    "            real mlocation = theta[8]; \n",
    "            real mrate = theta[9]; \n",
    "            real cmax = theta[10];\n",
    "            real c50 = theta[11];\n",
    "            \n",
    "            real I = u[1];  # unknown infected\n",
    "            real C = u[2];  # cases\n",
    "            \n",
    "            beta *= mbase + (1-mbase)/(1 + exp(mrate*(t - mlocation)));\n",
    "            sigmac *= 1 + cmax*t/(c50+t);\n",
    "            \n",
    "            \n",
    "            du_dt[1] = beta*(I+q*C) - sigmac*I - f*(sigmar+sigmad)*I; //I\n",
    "            du_dt[2] = sigmac*I - (sigmar+sigmad)*C; //C\n",
    "            \n",
    "            return du_dt;\n",
    "          }\n",
    "        }\n",
    "\n",
    "        data {\n",
    "          int<lower = 1> n_obs;       // number of days observed\n",
    "          int<lower = 1> n_theta;     // number of model parameters\n",
    "          int<lower = 1> n_difeq;     // number of differential equations for yhat\n",
    "          int<lower = 1> n_ostates;     // number of observed states\n",
    "          int<lower = 1> n_pop;       // population\n",
    "          real<lower = 1> n_scale;       // scale to match observed scale\n",
    "          int y[n_obs,n_ostates];           // data, per-day-tally [cases,recovered,death]\n",
    "          real t0;                // initial time point \n",
    "          real tm; //start day of mitigation\n",
    "          real ts[n_obs];         // time points that were observed\n",
    "          int<lower = 1> n_obs_predict;       // number of days to predict\n",
    "          real ts_predict[n_obs_predict];         // \n",
    "        }\n",
    "\n",
    "        transformed data {\n",
    "            real x_r[0];\n",
    "            int x_i[0];           \n",
    "        }\n",
    "\n",
    "        parameters {\n",
    "            real<lower = 0> theta[n_theta]; // model parameters \n",
    "        }\n",
    "\n",
    "        transformed parameters{\n",
    "            real u[n_obs, n_difeq]; // solution from the ODE solver\n",
    "            real u_init[n_difeq];     // initial conditions for fractions\n",
    "            \n",
    "            real beta = theta[1];\n",
    "            real sigmac = theta[2];\n",
    "            real sigmar = theta[3];\n",
    "            real sigmad =  theta[4];\n",
    "            real q = theta[5]; \n",
    "            real f = theta[6]; \n",
    "            real mbase = theta[7]; \n",
    "            real mlocation = theta[8]; \n",
    "            real mrate = theta[9]; \n",
    "            real cmax = theta[10];\n",
    "            real c50 = theta[11];\n",
    "            real theta_init = theta[12];\n",
    "                        \n",
    "            u_init[1] = theta_init/n_scale; // I\n",
    "            u_init[2] = y[1,1]/n_scale; //C\n",
    "                     \n",
    "            u = integrate_ode_rk45(SIR, u_init, t0, ts, theta, x_r, x_i);\n",
    "  \n",
    "        }\n",
    "\n",
    "        model {\n",
    "            real lambda[n_obs,3]; //poisson parameter [cases, deaths, recovered]\n",
    "\n",
    "            //priors\n",
    "            \n",
    "            //for (i in 1:n_theta){theta[1] ~ lognormal(log(0.1),10);};\n",
    "            //theta[5] ~ lognormal(log(0.25),10);\n",
    "            \n",
    "            \n",
    "            //real beta = theta[1];\n",
    "            //real sigmac = theta[2];\n",
    "            //real sigmar = theta[3];\n",
    "            //real sigmad =  theta[4];\n",
    "            //real q = theta[5]; \n",
    "            //real f = theta[6]; \n",
    "            //real mbase = theta[7]; \n",
    "            //real mlocation = theta[8]; \n",
    "            //real mrate = theta[9]; \n",
    "            //real cmax = theta[10];\n",
    "            //real c50 = theta[11];\n",
    "            \n",
    "            // [0.25,\n",
    "            //0.1,\n",
    "            //0.01,\n",
    "            //0.01,\n",
    "            //0.01,\n",
    "            //1.0,\n",
    "            //0.1,\n",
    "            //1.0,\n",
    "            //1.0,\n",
    "            //0.1,\n",
    "            //10.0,\n",
    "            //1.0]\n",
    "\n",
    "            theta[1] ~ lognormal(log(0.25),1); //beta \n",
    "            theta[2] ~ lognormal(log(0.1),1); //sigmac\n",
    "            theta[3] ~ lognormal(log(0.01),1); //sigmar\n",
    "            theta[4] ~ lognormal(log(0.01),1); //sigmad\n",
    "            theta[5] ~ lognormal(log(0.01),1); //q\n",
    "            theta[6] ~ lognormal(log(1),1); //f\n",
    "            theta[7] ~ lognormal(log(0.1),1); //mbase  \n",
    "            theta[8] ~ lognormal(log(tm),5); //mlocation \n",
    "            theta[9] ~ lognormal(log(1),5); //mrate\n",
    "            theta[10] ~ lognormal(log(0.1),1);//cmax \n",
    "            theta[11] ~ lognormal(log(10),1);//c50 \n",
    "            theta[12] ~ lognormal(log(1),1);// theta_init \n",
    "\n",
    "          \n",
    "            //likelihood\n",
    "            lambda[1,1] = .5*(u[1,1]+u_init[1])*sigmac*n_scale; //C: cases sigma_c*\\int I\n",
    "            lambda[1,2] = .5*(u[1,2]+u_init[2])*sigmar*n_scale; //R: recovered sigma_r*\\int C\n",
    "            lambda[1,3] = .5*(u[1,2]+u_init[2])*sigmad*n_scale; //D: dead sigma_d * \\int C\n",
    "        \n",
    "            target += poisson_lpmf(y[1,1]|max([lambda[1,1],0.0])); //C\n",
    "            target += poisson_lpmf(y[1,2]|max([lambda[1,2],0.0])); //R\n",
    "            target += poisson_lpmf(y[1,3]|max([lambda[1,3],0.0])); //D\n",
    "\n",
    "            \n",
    "            for (i in 2:n_obs){\n",
    "                lambda[i,1] = .5*(u[i,1]+u[i-1,1])*sigmac*n_scale; //C: cases sigma_c*\\int_{interval} I\n",
    "                lambda[i,2] = .5*(u[i,2]+u[i-1,2])*sigmar*n_scale; //R: recovered sigma_r*C\n",
    "                lambda[i,3] = .5*(u[i,2]+u[i-1,2])*sigmad*n_scale; //D: dead\n",
    "            \n",
    "                target += poisson_lpmf(y[i,1]|max([lambda[i,1],0.0])); //C\n",
    "                target += poisson_lpmf(y[i,2]|max([lambda[i,2],0.0])); //R\n",
    "                target += poisson_lpmf(y[i,3]|max([lambda[i,3],0.0])); //D\n",
    "            }\n",
    "\n",
    "        }\n",
    "\n",
    "        generated quantities {\n",
    "            real R_0;      // Basic reproduction number\n",
    "            real sigma_ = theta[2] + theta[3] + theta[4];\n",
    "            real beta_ = theta[1];\n",
    "            real u_predict[n_obs_predict, n_difeq]; // solution from the ODE solver\n",
    "            \n",
    "            real ll_[n_obs]; // log-likelihood for model\n",
    "            real lambda[n_obs,3]; //poisson parameter [cases, deaths, recovered]\n",
    "            \n",
    "            R_0 = beta_/sigma_;\n",
    "\n",
    "            //likelihood\n",
    "            lambda[1,1] = .5*(u[1,1]+u_init[1])*sigmac*n_scale; //C: cases sigma_c*\\int I\n",
    "            lambda[1,2] = .5*(u[1,2]+u_init[2])*sigmar*n_scale; //R: recovered sigma_r*\\int C\n",
    "            lambda[1,3] = .5*(u[1,2]+u_init[2])*sigmad*n_scale; //D: dead sigma_d * \\int C\n",
    "            \n",
    "            ll_[1] = poisson_lpmf(y[1,1]|max([lambda[1,1],0.0]));\n",
    "            ll_[1] += poisson_lpmf(y[1,2]|max([lambda[1,2],0.0]));\n",
    "            ll_[1] += poisson_lpmf(y[1,3]|max([lambda[1,3],0.0]));\n",
    "\n",
    "            \n",
    "            for (i in 2:n_obs){\n",
    "                lambda[i,1] = .5*(u[i,1]+u[i-1,1])*sigmac*n_scale; //C: cases sigma_c*\\int_{interval} I\n",
    "                lambda[i,2] = .5*(u[i,2]+u[i-1,2])*sigmar*n_scale; //R: recovered sigma_r*C\n",
    "                lambda[i,3] = .5*(u[i,2]+u[i-1,2])*sigmad*n_scale; //D: dead\n",
    "\n",
    "                ll_[i] = poisson_lpmf(y[i,1]|max([lambda[i,1],0.0]));\n",
    "                ll_[i] += poisson_lpmf(y[i,2]|max([lambda[i,2],0.0]));\n",
    "                ll_[i] += poisson_lpmf(y[i,3]|max([lambda[i,3],0.0]));\n",
    "            }\n",
    "         \n",
    "        //u_init[2] = y[1,1]/n_scale; //C\n",
    "        //u_init[1] = (beta - (sigmar+sigmad))/sigmac * u_init[2] + theta_init/n_scale; // I\n",
    "                  \n",
    "        //u_predict = integrate_ode_rk45(SIR, u_init, t0, ts_predict, theta, x_r, x_i);   \n",
    "\n",
    "        }\n",
    "        \"\"\""
   ]
  },
  {
   "cell_type": "code",
   "execution_count": 4,
   "metadata": {},
   "outputs": [
    {
     "name": "stderr",
     "output_type": "stream",
     "text": [
      "INFO:pystan:COMPILING THE C++ CODE FOR MODEL anon_model_634b24a321f4a17843cf5e4b3b0ef0ee NOW.\n"
     ]
    }
   ],
   "source": [
    "stanrunmodel = pystan.StanModel(model_code=stancode)"
   ]
  },
  {
   "cell_type": "markdown",
   "metadata": {
    "colab_type": "text",
    "id": "qn5Cei_mLN0P"
   },
   "source": [
    "# Load data from Gerkin scrape"
   ]
  },
  {
   "cell_type": "code",
   "execution_count": 11,
   "metadata": {},
   "outputs": [
    {
     "name": "stdout",
     "output_type": "stream",
     "text": [
      "t0 index assumed to be: day 36\n",
      "t0 date: 2/27/20\n",
      "tm index assumed to be: day 50\n",
      "mitigation date: 3/12/20\n"
     ]
    },
    {
     "data": {
      "image/png": "[encoded data removed]",
      "text/plain": [
       "<Figure size 432x288 with 2 Axes>"
      ]
     },
     "metadata": {
      "needs_background": "light"
     },
     "output_type": "display_data"
    }
   ],
   "source": [
    "roi = \"Netherlands\"\n",
    "\n",
    "DF = pd.read_csv(\"../data/covid_timeseries_\"+roi+\".csv\")\n",
    "\n",
    "pop = {}\n",
    "pop['Italy'] = 60500000\n",
    "pop['United Kingdom'] = 64400000\n",
    "pop['France'] = 66990000\n",
    "pop['Netherlands'] = 17000000\n",
    "\n",
    "mitigate = {}\n",
    "mitigate['Italy'] = '3/9/20' #approximate date\n",
    "mitigate['Netherlands'] = '3/12/20' #approximate date\n",
    "\n",
    "# t0 := where to start time series, index space\n",
    "t0 = np.where(DF[\"new_cases\"].values>=1)[0][0] \n",
    "# tm := start of mitigation, index space\n",
    "tm = np.where(mitigate[roi]==DF['dates2'])[0][0]\n",
    "\n",
    "#plot the data with important time stamps (t0, tm)\n",
    "plt.subplot(1,2,1)\n",
    "plt.title('cumulatives')\n",
    "plt.plot(DF[\"cum_cases\"],'bo', label=\"cases\")\n",
    "plt.plot(DF[\"cum_recover\"],'go',label=\"recovered\")\n",
    "plt.plot(DF[\"cum_deaths\"],'ks',label=\"deaths\")\n",
    "\n",
    "plt.axvline(t0,color='k', linestyle=\"dashed\", label='t0')\n",
    "plt.axvline(tm,color='b', linestyle=\"dashed\", label='mitigate')\n",
    "plt.legend()\n",
    "\n",
    "\n",
    "plt.subplot(1,2,2)\n",
    "plt.title('dailies')\n",
    "plt.plot(DF[\"new_cases\"],'bo', label=\"cases\")\n",
    "plt.plot(DF[\"new_recover\"],'go',label=\"recovered\")\n",
    "plt.plot(DF[\"new_deaths\"],'ks',label=\"deaths\")\n",
    "plt.axvline(t0,color='k', linestyle=\"dashed\", label='t0')\n",
    "plt.axvline(tm,color='b', linestyle=\"dashed\", label='mitigate')\n",
    "plt.suptitle(roi)\n",
    "plt.legend()\n",
    "\n",
    "\n",
    "print(\"t0 index assumed to be: day \"+str(t0))\n",
    "print(\"t0 date: \"+DF['dates2'][t0])\n",
    "print(\"tm index assumed to be: day \"+str(tm))\n",
    "print(\"mitigation date: \"+DF['dates2'][tm])\n",
    "\n"
   ]
  },
  {
   "cell_type": "markdown",
   "metadata": {
    "colab_type": "text",
    "id": "gLSieVFFtjOb"
   },
   "source": [
    "## Format JHU ROI data for Stan"
   ]
  },
  {
   "cell_type": "code",
   "execution_count": 6,
   "metadata": {
    "colab": {
     "base_uri": "https://localhost:8080/",
     "height": 299
    },
    "colab_type": "code",
    "id": "iG4K7TG6NTJI",
    "outputId": "12052154-8907-4d79-d85a-7823584d3aca",
    "scrolled": true
   },
   "outputs": [],
   "source": [
    "# int<lower = 1> n_obs;       // number of days observed\n",
    "# int<lower = 1> n_theta;     // number of model parameters\n",
    "# int<lower = 1> n_difeq;     // number of differential equations for yhat\n",
    "# int<lower = 1> n_ostates;     // number of observed states\n",
    "# int<lower = 1> n_pop;       // population\n",
    "# real<lower = 1> n_scale;       // scale to match observed scale\n",
    "# int y[n_obs,n_ostates];           // data, per-day-tally [cases,recovered,death]\n",
    "# real t0;                // initial time point \n",
    "# real tm; //start day of mitigation\n",
    "# real ts[n_obs];         // time points that were observed\n",
    "# int<lower = 1> n_obs_predict;       // number of days to predict\n",
    "# real ts_predict[n_obs_predict];         // \n",
    "\n",
    "stan_data = {}\n",
    "\n",
    "stan_data['n_pop'] = pop[roi] \n",
    "stan_data['n_scale'] = 10000000 #use this instead of population\n",
    "\n",
    "stan_data['n_theta'] = 12\n",
    "stan_data['n_difeq'] = 3\n",
    "stan_data['n_ostates'] = 3\n",
    "\n",
    "stan_data['t0'] = t0-1 #to for ODE is one day, index before start of series\n",
    "stan_data['tm'] = tm\n",
    "stan_data['ts'] = np.arange(t0,len(DF['dates2'])) \n",
    "# DF = DF.replace('NaN', 0)\n",
    "# DF = DF.replace(-1, 0)\n",
    "stan_data['y'] = (DF[['new_cases','new_recover','new_deaths']].to_numpy()).astype(int)[t0:,:]\n",
    "stan_data['n_obs'] = len(DF['dates2']) - t0\n",
    "\n",
    "#forward predict n days from t0\n",
    "#returns uhat\n",
    "stan_data['ts_predict'] = np.arange(t0,len(DF['dates2'])+365)\n",
    "stan_data['n_obs_predict'] = len(DF['dates2']) - t0 + 365"
   ]
  },
  {
   "cell_type": "markdown",
   "metadata": {},
   "source": [
    "### Print data for Stan "
   ]
  },
  {
   "cell_type": "code",
   "execution_count": 7,
   "metadata": {},
   "outputs": [
    {
     "name": "stdout",
     "output_type": "stream",
     "text": [
      "{'n_pop': 17000000, 'n_scale': 10000000, 'n_theta': 12, 'n_difeq': 3, 'n_ostates': 3, 't0': 35, 'tm': 50, 'ts': array([36, 37, 38, 39, 40, 41, 42, 43, 44, 45, 46, 47, 48, 49, 50, 51, 52,\n",
      "       53, 54, 55, 56, 57, 58, 59, 60, 61, 62, 63, 64, 65, 66, 67, 68, 69,\n",
      "       70, 71, 72, 73, 74, 75, 76]), 'y': array([[   1,    0,    0],\n",
      "       [   0,    0,    0],\n",
      "       [   5,    0,    0],\n",
      "       [   4,    0,    0],\n",
      "       [   8,    0,    0],\n",
      "       [   6,    0,    0],\n",
      "       [  14,    0,    0],\n",
      "       [  44,    0,    0],\n",
      "       [  46,    0,    1],\n",
      "       [  60,    0,    0],\n",
      "       [  77,    0,    2],\n",
      "       [  56,    0,    0],\n",
      "       [  61,    0,    1],\n",
      "       [ 121,    0,    1],\n",
      "       [   0,    0,    0],\n",
      "       [ 301,    0,    5],\n",
      "       [ 155,    2,    2],\n",
      "       [ 176,    0,    8],\n",
      "       [ 278,    0,    4],\n",
      "       [ 292,    0,   19],\n",
      "       [ 346,    0,   15],\n",
      "       [ 409,    0,   18],\n",
      "       [ 534,    0,   30],\n",
      "       [ 637,    0,   30],\n",
      "       [ 573,    0,   43],\n",
      "       [ 545,    0,   34],\n",
      "       [ 811,    0,   63],\n",
      "       [ 852,    1,   80],\n",
      "       [1019,    0,   78],\n",
      "       [1172,    0,  112],\n",
      "       [1159,    0,   93],\n",
      "       [1104,  247,  132],\n",
      "       [ 884,    0,   93],\n",
      "       [ 845,    0,  175],\n",
      "       [1019,    0,  134],\n",
      "       [1083,    0,  166],\n",
      "       [1026,    0,  148],\n",
      "       [ 904,    0,  164],\n",
      "       [1224,    0,  115],\n",
      "       [ 952,    0,  101],\n",
      "       [ 777,    0,  234]]), 'n_obs': 41, 'ts_predict': array([ 36,  37,  38,  39,  40,  41,  42,  43,  44,  45,  46,  47,  48,\n",
      "        49,  50,  51,  52,  53,  54,  55,  56,  57,  58,  59,  60,  61,\n",
      "        62,  63,  64,  65,  66,  67,  68,  69,  70,  71,  72,  73,  74,\n",
      "        75,  76,  77,  78,  79,  80,  81,  82,  83,  84,  85,  86,  87,\n",
      "        88,  89,  90,  91,  92,  93,  94,  95,  96,  97,  98,  99, 100,\n",
      "       101, 102, 103, 104, 105, 106, 107, 108, 109, 110, 111, 112, 113,\n",
      "       114, 115, 116, 117, 118, 119, 120, 121, 122, 123, 124, 125, 126,\n",
      "       127, 128, 129, 130, 131, 132, 133, 134, 135, 136, 137, 138, 139,\n",
      "       140, 141, 142, 143, 144, 145, 146, 147, 148, 149, 150, 151, 152,\n",
      "       153, 154, 155, 156, 157, 158, 159, 160, 161, 162, 163, 164, 165,\n",
      "       166, 167, 168, 169, 170, 171, 172, 173, 174, 175, 176, 177, 178,\n",
      "       179, 180, 181, 182, 183, 184, 185, 186, 187, 188, 189, 190, 191,\n",
      "       192, 193, 194, 195, 196, 197, 198, 199, 200, 201, 202, 203, 204,\n",
      "       205, 206, 207, 208, 209, 210, 211, 212, 213, 214, 215, 216, 217,\n",
      "       218, 219, 220, 221, 222, 223, 224, 225, 226, 227, 228, 229, 230,\n",
      "       231, 232, 233, 234, 235, 236, 237, 238, 239, 240, 241, 242, 243,\n",
      "       244, 245, 246, 247, 248, 249, 250, 251, 252, 253, 254, 255, 256,\n",
      "       257, 258, 259, 260, 261, 262, 263, 264, 265, 266, 267, 268, 269,\n",
      "       270, 271, 272, 273, 274, 275, 276, 277, 278, 279, 280, 281, 282,\n",
      "       283, 284, 285, 286, 287, 288, 289, 290, 291, 292, 293, 294, 295,\n",
      "       296, 297, 298, 299, 300, 301, 302, 303, 304, 305, 306, 307, 308,\n",
      "       309, 310, 311, 312, 313, 314, 315, 316, 317, 318, 319, 320, 321,\n",
      "       322, 323, 324, 325, 326, 327, 328, 329, 330, 331, 332, 333, 334,\n",
      "       335, 336, 337, 338, 339, 340, 341, 342, 343, 344, 345, 346, 347,\n",
      "       348, 349, 350, 351, 352, 353, 354, 355, 356, 357, 358, 359, 360,\n",
      "       361, 362, 363, 364, 365, 366, 367, 368, 369, 370, 371, 372, 373,\n",
      "       374, 375, 376, 377, 378, 379, 380, 381, 382, 383, 384, 385, 386,\n",
      "       387, 388, 389, 390, 391, 392, 393, 394, 395, 396, 397, 398, 399,\n",
      "       400, 401, 402, 403, 404, 405, 406, 407, 408, 409, 410, 411, 412,\n",
      "       413, 414, 415, 416, 417, 418, 419, 420, 421, 422, 423, 424, 425,\n",
      "       426, 427, 428, 429, 430, 431, 432, 433, 434, 435, 436, 437, 438,\n",
      "       439, 440, 441]), 'n_obs_predict': 406}\n"
     ]
    }
   ],
   "source": [
    "print(stan_data)"
   ]
  },
  {
   "cell_type": "markdown",
   "metadata": {},
   "source": [
    "# Load England School 1978 Influenza data "
   ]
  },
  {
   "cell_type": "code",
   "execution_count": 8,
   "metadata": {},
   "outputs": [],
   "source": [
    "# #England 1978 influenza\n",
    "# cases = [0,8,26,76,225,298,258,233,189,128,150,85,14,4]\n",
    "# recovered = [0,0,0,0,9,17,105,162,176,166,150,85,47,20]\n",
    "# plt.plot(cases,'bo', label=\"cases\")\n",
    "# plt.plot(recovered,'go',label=\"recovered\")\n",
    "# pop = 763\n",
    "# model.stan_data['t0'] = 0\n",
    "# #truncate time series from t0 on (initial is t0-1)\n",
    "# model.stan_data['n_pop'] = pop \n",
    "# model.stan_data['ts'] = np.arange(1,len(cases)+1)  \n",
    "# Y = np.hstack([np.c_[cases],np.c_[recovered],np.zeros((len(cases),1))]).astype(int)\n",
    "# model.stan_data['y'] = Y\n",
    "# model.stan_data['n_obs'] = len(cases)\n",
    "\n",
    "# plt.plot(cases,'bo', label=\"cases\")\n",
    "# plt.plot(recovered,'go',label=\"recovered\")\n",
    "\n",
    "# plt.legend()"
   ]
  },
  {
   "cell_type": "markdown",
   "metadata": {
    "colab_type": "text",
    "id": "GDWmF_KQ2Hg3"
   },
   "source": [
    "# Run Stan "
   ]
  },
  {
   "cell_type": "markdown",
   "metadata": {},
   "source": [
    "## Initialize parameters"
   ]
  },
  {
   "cell_type": "code",
   "execution_count": 9,
   "metadata": {
    "colab": {},
    "colab_type": "code",
    "id": "oImIcxX9Lull"
   },
   "outputs": [],
   "source": [
    "# theta[1] ~ lognormal(log(0.25),1); //beta \n",
    "# theta[2] ~ lognormal(log(0.1),1); //sigmac\n",
    "# theta[3] ~ lognormal(log(0.01),1); //sigmar\n",
    "# theta[4] ~ lognormal(log(0.01),1); //sigmad\n",
    "# theta[5] ~ lognormal(log(0.01),1); //q\n",
    "# theta[6] ~ lognormal(log(1),1); //f\n",
    "# theta[7] ~ lognormal(log(0.1),1); //mbase  \n",
    "# theta[8] ~ lognormal(log(tm),5); //mlocation \n",
    "# theta[9] ~ lognormal(log(1),5); //mrate\n",
    "# theta[10] ~ lognormal(log(0.1),1);//cmax \n",
    "# theta[11] ~ lognormal(log(10),1);//c50 \n",
    "# theta[12] ~ lognormal(log(1),1);// theta_init \n",
    "init = [{'theta':[0.25,0.1,0.01,0.01,0.01,1.0,0.1,1.0,1.0,0.1,10.0,1.0]}]\n",
    "    \n",
    "def init_fun():\n",
    "        x = {'theta':\n",
    "             [np.random.lognormal(np.log(0.25),1)]+\n",
    "             [np.random.lognormal(np.log(0.1),1)]+\n",
    "             [np.random.lognormal(np.log(0.01),1)]+\n",
    "             [np.random.lognormal(np.log(0.01),1)]+\n",
    "             [np.random.lognormal(np.log(0.01),1)]+\n",
    "             [np.random.lognormal(np.log(1),1)]+\n",
    "             [np.random.lognormal(np.log(0.1),1)]+\n",
    "             [np.random.lognormal(np.log(stan_data['tm']),5)]+\n",
    "             [np.random.lognormal(np.log(1),5)]+\n",
    "             [np.random.lognormal(np.log(0.1),1)]+\n",
    "             [np.random.lognormal(np.log(10),1)]+\n",
    "             [np.random.lognormal(np.log(1),1)]\n",
    "            }\n",
    "        return x\n"
   ]
  },
  {
   "cell_type": "markdown",
   "metadata": {},
   "source": [
    "## Fit Stan "
   ]
  },
  {
   "cell_type": "code",
   "execution_count": 10,
   "metadata": {
    "colab": {
     "base_uri": "https://localhost:8080/",
     "height": 429
    },
    "colab_type": "code",
    "id": "3rtwA8puqVrv",
    "outputId": "061a2610-4f20-4cb2-c8fd-10d97d845fbe"
   },
   "outputs": [
    {
     "ename": "RuntimeError",
     "evalue": "Initialization failed.",
     "output_type": "error",
     "traceback": [
      "\u001b[0;31m---------------------------------------------------------------------------\u001b[0m",
      "\u001b[0;31mRuntimeError\u001b[0m                              Traceback (most recent call last)",
      "\u001b[0;32m<ipython-input-10-94448a579c6e>\u001b[0m in \u001b[0;36m<module>\u001b[0;34m\u001b[0m\n\u001b[1;32m      5\u001b[0m \u001b[0;34m\u001b[0m\u001b[0m\n\u001b[1;32m      6\u001b[0m \u001b[0mcontrol\u001b[0m \u001b[0;34m=\u001b[0m \u001b[0;34m{\u001b[0m\u001b[0;34m'adapt_delta'\u001b[0m\u001b[0;34m:\u001b[0m\u001b[0;36m0.95\u001b[0m\u001b[0;34m}\u001b[0m\u001b[0;34m\u001b[0m\u001b[0;34m\u001b[0m\u001b[0m\n\u001b[0;32m----> 7\u001b[0;31m \u001b[0mfit\u001b[0m \u001b[0;34m=\u001b[0m \u001b[0mstanrunmodel\u001b[0m\u001b[0;34m.\u001b[0m\u001b[0msampling\u001b[0m\u001b[0;34m(\u001b[0m\u001b[0mdata\u001b[0m \u001b[0;34m=\u001b[0m \u001b[0mstan_data\u001b[0m\u001b[0;34m,\u001b[0m\u001b[0minit\u001b[0m \u001b[0;34m=\u001b[0m \u001b[0minit_fun\u001b[0m \u001b[0;34m,\u001b[0m\u001b[0mcontrol\u001b[0m\u001b[0;34m=\u001b[0m\u001b[0mcontrol\u001b[0m\u001b[0;34m,\u001b[0m \u001b[0mchains\u001b[0m \u001b[0;34m=\u001b[0m \u001b[0mn_chains\u001b[0m\u001b[0;34m,\u001b[0m \u001b[0mwarmup\u001b[0m \u001b[0;34m=\u001b[0m \u001b[0mn_warmups\u001b[0m\u001b[0;34m,\u001b[0m \u001b[0miter\u001b[0m \u001b[0;34m=\u001b[0m \u001b[0mn_iter\u001b[0m\u001b[0;34m,\u001b[0m \u001b[0mthin\u001b[0m\u001b[0;34m=\u001b[0m\u001b[0mn_thin\u001b[0m\u001b[0;34m,\u001b[0m \u001b[0mseed\u001b[0m\u001b[0;34m=\u001b[0m\u001b[0;36m13219\u001b[0m\u001b[0;34m)\u001b[0m\u001b[0;34m\u001b[0m\u001b[0;34m\u001b[0m\u001b[0m\n\u001b[0m",
      "\u001b[0;32m/usr/local/lib/python3.7/site-packages/pystan/model.py\u001b[0m in \u001b[0;36msampling\u001b[0;34m(self, data, pars, chains, iter, warmup, thin, seed, init, sample_file, diagnostic_file, verbose, algorithm, control, n_jobs, **kwargs)\u001b[0m\n\u001b[1;32m    776\u001b[0m         \u001b[0mcall_sampler_args\u001b[0m \u001b[0;34m=\u001b[0m \u001b[0mizip\u001b[0m\u001b[0;34m(\u001b[0m\u001b[0mitertools\u001b[0m\u001b[0;34m.\u001b[0m\u001b[0mrepeat\u001b[0m\u001b[0;34m(\u001b[0m\u001b[0mdata\u001b[0m\u001b[0;34m)\u001b[0m\u001b[0;34m,\u001b[0m \u001b[0margs_list\u001b[0m\u001b[0;34m,\u001b[0m \u001b[0mitertools\u001b[0m\u001b[0;34m.\u001b[0m\u001b[0mrepeat\u001b[0m\u001b[0;34m(\u001b[0m\u001b[0mpars\u001b[0m\u001b[0;34m)\u001b[0m\u001b[0;34m)\u001b[0m\u001b[0;34m\u001b[0m\u001b[0;34m\u001b[0m\u001b[0m\n\u001b[1;32m    777\u001b[0m         \u001b[0mcall_sampler_star\u001b[0m \u001b[0;34m=\u001b[0m \u001b[0mself\u001b[0m\u001b[0;34m.\u001b[0m\u001b[0mmodule\u001b[0m\u001b[0;34m.\u001b[0m\u001b[0m_call_sampler_star\u001b[0m\u001b[0;34m\u001b[0m\u001b[0;34m\u001b[0m\u001b[0m\n\u001b[0;32m--> 778\u001b[0;31m         \u001b[0mret_and_samples\u001b[0m \u001b[0;34m=\u001b[0m \u001b[0m_map_parallel\u001b[0m\u001b[0;34m(\u001b[0m\u001b[0mcall_sampler_star\u001b[0m\u001b[0;34m,\u001b[0m \u001b[0mcall_sampler_args\u001b[0m\u001b[0;34m,\u001b[0m \u001b[0mn_jobs\u001b[0m\u001b[0;34m)\u001b[0m\u001b[0;34m\u001b[0m\u001b[0;34m\u001b[0m\u001b[0m\n\u001b[0m\u001b[1;32m    779\u001b[0m         \u001b[0msamples\u001b[0m \u001b[0;34m=\u001b[0m \u001b[0;34m[\u001b[0m\u001b[0msmpl\u001b[0m \u001b[0;32mfor\u001b[0m \u001b[0m_\u001b[0m\u001b[0;34m,\u001b[0m \u001b[0msmpl\u001b[0m \u001b[0;32min\u001b[0m \u001b[0mret_and_samples\u001b[0m\u001b[0;34m]\u001b[0m\u001b[0;34m\u001b[0m\u001b[0;34m\u001b[0m\u001b[0m\n\u001b[1;32m    780\u001b[0m \u001b[0;34m\u001b[0m\u001b[0m\n",
      "\u001b[0;32m/usr/local/lib/python3.7/site-packages/pystan/model.py\u001b[0m in \u001b[0;36m_map_parallel\u001b[0;34m(function, args, n_jobs)\u001b[0m\n\u001b[1;32m     88\u001b[0m             \u001b[0mpool\u001b[0m\u001b[0;34m.\u001b[0m\u001b[0mjoin\u001b[0m\u001b[0;34m(\u001b[0m\u001b[0;34m)\u001b[0m\u001b[0;34m\u001b[0m\u001b[0;34m\u001b[0m\u001b[0m\n\u001b[1;32m     89\u001b[0m     \u001b[0;32melse\u001b[0m\u001b[0;34m:\u001b[0m\u001b[0;34m\u001b[0m\u001b[0;34m\u001b[0m\u001b[0m\n\u001b[0;32m---> 90\u001b[0;31m         \u001b[0mmap_result\u001b[0m \u001b[0;34m=\u001b[0m \u001b[0mlist\u001b[0m\u001b[0;34m(\u001b[0m\u001b[0mmap\u001b[0m\u001b[0;34m(\u001b[0m\u001b[0mfunction\u001b[0m\u001b[0;34m,\u001b[0m \u001b[0margs\u001b[0m\u001b[0;34m)\u001b[0m\u001b[0;34m)\u001b[0m\u001b[0;34m\u001b[0m\u001b[0;34m\u001b[0m\u001b[0m\n\u001b[0m\u001b[1;32m     91\u001b[0m     \u001b[0;32mreturn\u001b[0m \u001b[0mmap_result\u001b[0m\u001b[0;34m\u001b[0m\u001b[0;34m\u001b[0m\u001b[0m\n\u001b[1;32m     92\u001b[0m \u001b[0;34m\u001b[0m\u001b[0m\n",
      "\u001b[0;32mstanfit4anon_model_634b24a321f4a17843cf5e4b3b0ef0ee_4784715988679754863.pyx\u001b[0m in \u001b[0;36mstanfit4anon_model_634b24a321f4a17843cf5e4b3b0ef0ee_4784715988679754863._call_sampler_star\u001b[0;34m()\u001b[0m\n",
      "\u001b[0;32mstanfit4anon_model_634b24a321f4a17843cf5e4b3b0ef0ee_4784715988679754863.pyx\u001b[0m in \u001b[0;36mstanfit4anon_model_634b24a321f4a17843cf5e4b3b0ef0ee_4784715988679754863._call_sampler\u001b[0;34m()\u001b[0m\n",
      "\u001b[0;31mRuntimeError\u001b[0m: Initialization failed."
     ]
    }
   ],
   "source": [
    "n_chains=1\n",
    "n_warmups=1000\n",
    "n_iter=5000\n",
    "n_thin=50\n",
    "\n",
    "control = {'adapt_delta':0.95}\n",
    "fit = stanrunmodel.sampling(data = stan_data,init = init_fun ,control=control, chains = n_chains, warmup = n_warmups, iter = n_iter, thin=n_thin, seed=13219)\n"
   ]
  },
  {
   "cell_type": "code",
   "execution_count": null,
   "metadata": {
    "colab": {},
    "colab_type": "code",
    "id": "2jXKxrCf3Vj2"
   },
   "outputs": [],
   "source": [
    "print(fit)"
   ]
  },
  {
   "cell_type": "code",
   "execution_count": null,
   "metadata": {},
   "outputs": [],
   "source": [
    "#https://arviz-devs.github.io/arviz/generated/arviz.plot_density\n",
    "az.plot_density(fit,group='posterior',var_names=[\"theta\",\"R_0\"])"
   ]
  },
  {
   "cell_type": "code",
   "execution_count": null,
   "metadata": {},
   "outputs": [],
   "source": [
    "ms=2 \n",
    "\n",
    "x = range(len(DF[\"daily_cases\"][t0:]))\n",
    "     \n",
    "plt.plot(x,DF[\"daily_cases\"][t0:],'bo', label=\"cases\",ms=ms)\n",
    "plt.plot(x,DF[\"daily_recover\"][t0:],'o',color='orange',label=\"unknown\",ms=ms)\n",
    "plt.plot(x,DF[\"daily_deaths\"][t0:],'x',color='k',label=\"unknown\",ms=ms)\n",
    "  \n",
    "lw=4\n",
    "alpha = 0.5\n",
    "labels = ['I','C']\n",
    "c_ = ['r','b']\n",
    "n = 2 \n",
    "for i in range(n):\n",
    "    plt.plot(model.stan_data['n_scale']*fit.extract()['u'][-1,:,i],label=labels[i],lw=lw,alpha=alpha,color=c_[i])\n",
    "\n",
    "plt.legend()\n",
    "plt.ylim((0,50000))\n"
   ]
  }
 ],
 "metadata": {
  "colab": {
   "collapsed_sections": [],
   "name": "MBS_SIRmodeling_version2.ipynb",
   "provenance": []
  },
  "kernelspec": {
   "display_name": "Python 3",
   "language": "python",
   "name": "python3"
  },
  "language_info": {
   "codemirror_mode": {
    "name": "ipython",
    "version": 3
   },
   "file_extension": ".py",
   "mimetype": "text/x-python",
   "name": "python",
   "nbconvert_exporter": "python",
   "pygments_lexer": "ipython3",
   "version": "3.7.4"
  }
 },
 "nbformat": 4,
 "nbformat_minor": 1
}
