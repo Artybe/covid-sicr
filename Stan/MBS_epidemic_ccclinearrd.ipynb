{
 "cells": [
  {
   "cell_type": "code",
   "execution_count": 1,
   "metadata": {
    "cellView": "both",
    "colab": {
     "base_uri": "https://localhost:8080/",
     "height": 309
    },
    "colab_type": "code",
    "id": "AKP2Vok31tsE",
    "outputId": "f268f545-a908-4e75-f957-dad08b72c277"
   },
   "outputs": [],
   "source": [
    "#@title Install arviz\n",
    "# !pip3 install arviz"
   ]
  },
  {
   "cell_type": "code",
   "execution_count": 2,
   "metadata": {
    "colab": {},
    "colab_type": "code",
    "id": "a0disJ2Uy-Bx"
   },
   "outputs": [],
   "source": [
    "import arviz as az\n",
    "import pystan\n",
    "import os\n",
    "# os.environ['STAN_NUM_THREADS'] = \"4\"\n",
    "import pandas as pd\n",
    "import matplotlib.pyplot as plt\n",
    "import numpy as np\n",
    "import networkx as nx\n",
    "import warnings\n",
    "warnings.filterwarnings(\"ignore\", category=DeprecationWarning)\n",
    "%matplotlib inline"
   ]
  },
  {
   "cell_type": "code",
   "execution_count": 3,
   "metadata": {},
   "outputs": [],
   "source": [
    "stancode = \"\"\"\n",
    "functions {\n",
    "            real[] SIR(real t,  // time\n",
    "            real[] u,           // system state {infected,cases,susceptible}\n",
    "            real[] theta,       // parameters \n",
    "            real[] x_r,\n",
    "            int[] x_i) {\n",
    "\n",
    "            real du_dt[2];\n",
    "\n",
    "            real sigmac = theta[1];\n",
    "            real sigmar = theta[2];\n",
    "            real sigmad =  theta[3];\n",
    "            real q = theta[4]; \n",
    "            real f = theta[5]; \n",
    "            real beta = theta[6];\n",
    "            real mbase = theta[7]; \n",
    "            real mlocation = theta[8]; \n",
    "            real mrate = theta[9]; \n",
    "            real cmax = theta[10];\n",
    "            real c50 = theta[11];\n",
    "            \n",
    "            real I = u[1];  # unknown infected\n",
    "            real C = u[2];  # cases\n",
    "            \n",
    "            beta *= mbase + (1-mbase)/(1 + exp(mrate*(t - mlocation)));\n",
    "            sigmac *= 1 + cmax*t/(c50+t);\n",
    "            \n",
    "            \n",
    "            du_dt[1] = beta*(I+q*C) - sigmac*I - f*(sigmar+sigmad)*I; //I\n",
    "            du_dt[2] = sigmac*I - (sigmar+sigmad)*C; //C\n",
    "            \n",
    "            return du_dt;\n",
    "          }\n",
    "        }\n",
    "\n",
    "        data {\n",
    "          int<lower = 1> n_obs;       // number of days observed\n",
    "          int<lower = 1> n_theta;     // number of model parameters\n",
    "          int<lower = 1> n_difeq;     // number of differential equations for yhat\n",
    "          int<lower = 1> n_ostates;     // number of observed states\n",
    "          int<lower = 1> n_pop;       // population\n",
    "          real<lower = 1> n_scale;       // scale to match observed scale\n",
    "          int y[n_obs,n_ostates];           // data, per-day-tally [cases,recovered,death]\n",
    "          real t0;                // initial time point \n",
    "          real tm; //start day of mitigation\n",
    "          real ts[n_obs];         // time points that were observed\n",
    "          int<lower = 1> n_obs_predict;       // number of days to predict\n",
    "          real ts_predict[n_obs_predict];         // \n",
    "        }\n",
    "\n",
    "        transformed data {\n",
    "            real x_r[0];\n",
    "            int x_i[0];           \n",
    "        }\n",
    "\n",
    "        parameters {\n",
    "            real<lower = 0> theta[n_theta]; // model parameters \n",
    "        }\n",
    "\n",
    "        transformed parameters{\n",
    "            real u[n_obs, n_difeq]; // solution from the ODE solver\n",
    "            real u_init[n_difeq];     // initial conditions for fractions\n",
    "            \n",
    "            real sigmac = theta[1];\n",
    "            real sigmar = theta[2];\n",
    "            real sigmad =  theta[3];\n",
    "            real q = theta[4]; \n",
    "            real f = theta[5]; \n",
    "            real beta = theta[6];\n",
    "            real mbase = theta[7]; \n",
    "            real mlocation = theta[8]; \n",
    "            real mrate = theta[9]; \n",
    "            real cmax = theta[10];\n",
    "            real c50 = theta[11];\n",
    "            real theta_init = theta[12];\n",
    "            \n",
    "            beta *= mbase + (1-mbase)/(1 + exp(mrate*(t0 - mlocation)));\n",
    "            sigmac *= 1 + cmax*t0/(c50+t0);\n",
    "        \n",
    "            u_init[2] = y[1,1]/n_scale; //C\n",
    "            u_init[1] = theta_init/n_scale; // I\n",
    "                     \n",
    "            u = integrate_ode_rk45(SIR, u_init, t0, ts, theta, x_r, x_i);\n",
    "  \n",
    "        }\n",
    "\n",
    "        model {\n",
    "            real lambda[n_obs,3]; //poisson parameter [cases, deaths, recovered]\n",
    "\n",
    "            //priors\n",
    "            \n",
    "            //for (i in 1:n_theta){theta[1] ~ lognormal(log(0.1),10);};\n",
    "            //theta[5] ~ lognormal(log(0.25),10);\n",
    "            \n",
    "            \n",
    "            theta[1] ~ lognormal(log(0.1),1); //sigmac\n",
    "            theta[2] ~ lognormal(log(0.1),1); //sigmar\n",
    "            theta[3] ~ lognormal(log(0.1),1); //sigmad\n",
    "            theta[4] ~ lognormal(log(0.1),1); //q\n",
    "            theta[5] ~ lognormal(log(0.1),1); //f\n",
    "            theta[6] ~ lognormal(log(0.25),1); //beta \n",
    "            theta[7] ~ lognormal(log(0.25),1); //mbase  \n",
    "            theta[8] ~ lognormal(log(tm),5); //mlocation \n",
    "            theta[9] ~ lognormal(log(1),5); //mrate\n",
    "            theta[10] ~ lognormal(log(0.1),1);//cmax \n",
    "            theta[11] ~ lognormal(log(0.1),1);//c50 \n",
    "            theta[12] ~ lognormal(log(0.1),1);// theta_init \n",
    "          \n",
    "            //likelihood\n",
    "            lambda[1,1] = .5*(u[1,2]+u_init[2])*sigmac*n_scale; //C: cases sigma_c*\\int I\n",
    "            lambda[1,2] = .5*(u[1,1]+u_init[1])*sigmar*n_scale; //R: recovered sigma_r*\\int C\n",
    "            lambda[1,3] = .5*(u[1,1]+u_init[1])*sigmad*n_scale; //D: dead sigma_d * \\int C\n",
    "        \n",
    "            target += poisson_lpmf(y[1,1]|max([lambda[1,1],0.0]));\n",
    "            target += poisson_lpmf(y[1,2]|max([lambda[1,2],0.0]));\n",
    "            target += poisson_lpmf(y[1,3]|max([lambda[1,3],0.0]));\n",
    "\n",
    "            \n",
    "            for (i in 2:n_obs){\n",
    "                lambda[i,1] = .5*(u[i,2]+u[i-1,2])*sigmac*n_scale; //C: cases sigma_c*\\int_{interval} I\n",
    "                lambda[i,2] = .5*(u[i,1]+u[i-1,1])*sigmar*n_scale; //R: recovered sigma_r*C\n",
    "                lambda[i,3] = .5*(u[i,1]+u[i-1,1])*sigmad*n_scale; //D: dead\n",
    "            \n",
    "                target += poisson_lpmf(y[i,1]|max([lambda[i,1],0.0]));\n",
    "                target += poisson_lpmf(y[i,2]|max([lambda[i,2],0.0]));\n",
    "                target += poisson_lpmf(y[i,3]|max([lambda[i,3],0.0]));\n",
    "            }\n",
    "\n",
    "        }\n",
    "\n",
    "        generated quantities {\n",
    "            real R_0;      // Basic reproduction number\n",
    "            real sigma_ = theta[1] + theta[2] + theta[3];\n",
    "            real beta_ = theta[6];\n",
    "            real u_predict[n_obs_predict, n_difeq]; // solution from the ODE solver\n",
    "            \n",
    "            real ll_[n_obs]; // log-likelihood for model\n",
    "            real lambda[n_obs,3]; //poisson parameter [cases, deaths, recovered]\n",
    "            \n",
    "            R_0 = beta_/sigma_;\n",
    "\n",
    "            //likelihood\n",
    "            lambda[1,1] = .5*(u[1,1]+u_init[1])*sigmac*n_scale; //C: cases sigma_c*\\int I\n",
    "            lambda[1,2] = .5*(u[1,2]+u_init[2])*sigmar*n_scale; //R: recovered sigma_r*\\int C\n",
    "            lambda[1,3] = .5*(u[1,2]+u_init[2])*sigmad*n_scale; //D: dead sigma_d * \\int C\n",
    "            \n",
    "            ll_[1] = poisson_lpmf(y[1,1]|max([lambda[1,1],0.0]));\n",
    "            ll_[1] += poisson_lpmf(y[1,2]|max([lambda[1,2],0.0]));\n",
    "            ll_[1] += poisson_lpmf(y[1,3]|max([lambda[1,3],0.0]));\n",
    "\n",
    "            \n",
    "            for (i in 2:n_obs){\n",
    "                lambda[i,1] = .5*(u[i,1]+u[i-1,1])*sigmac*n_scale; //C: cases sigma_c*\\int_{interval} I\n",
    "                lambda[i,2] = .5*(u[i,2]+u[i-1,2])*sigmar*n_scale; //R: recovered sigma_r*C\n",
    "                lambda[i,3] = .5*(u[i,2]+u[i-1,2])*sigmad*n_scale; //D: dead\n",
    "\n",
    "                ll_[i] = poisson_lpmf(y[i,1]|max([lambda[i,1],0.0]));\n",
    "                ll_[i] += poisson_lpmf(y[i,2]|max([lambda[i,2],0.0]));\n",
    "                ll_[i] += poisson_lpmf(y[i,3]|max([lambda[i,3],0.0]));\n",
    "            }\n",
    "         \n",
    "        //u_init[2] = y[1,1]/n_scale; //C\n",
    "        //u_init[1] = (beta - (sigmar+sigmad))/sigmac * u_init[2] + theta_init/n_scale; // I\n",
    "                  \n",
    "        //u_predict = integrate_ode_rk45(SIR, u_init, t0, ts_predict, theta, x_r, x_i);   \n",
    "\n",
    "        }\n",
    "        \"\"\""
   ]
  },
  {
   "cell_type": "code",
   "execution_count": null,
   "metadata": {},
   "outputs": [
    {
     "name": "stderr",
     "output_type": "stream",
     "text": [
      "INFO:pystan:COMPILING THE C++ CODE FOR MODEL anon_model_eb43f4a7bc2bfa98f22f59f694a77308 NOW.\n"
     ]
    }
   ],
   "source": [
    "stanrunmodel = pystan.StanModel(model_code=stancode)"
   ]
  },
  {
   "cell_type": "markdown",
   "metadata": {
    "colab_type": "text",
    "id": "qn5Cei_mLN0P"
   },
   "source": [
    "# Load data from JHU\n",
    "\n"
   ]
  },
  {
   "cell_type": "code",
   "execution_count": null,
   "metadata": {
    "colab": {},
    "colab_type": "code",
    "id": "ofuI7UGsLNd7"
   },
   "outputs": [],
   "source": [
    "url_confirmed = \"https://raw.githubusercontent.com/CSSEGISandData/COVID-19/master/csse_covid_19_data/csse_covid_19_time_series/time_series_covid19_confirmed_global.csv\"\n",
    "url_deaths = \"https://raw.githubusercontent.com/CSSEGISandData/COVID-19/master/csse_covid_19_data/csse_covid_19_time_series/time_series_covid19_deaths_global.csv\"\n",
    "url_recovered = \"https://raw.githubusercontent.com/CSSEGISandData/COVID-19/master/csse_covid_19_data/csse_covid_19_time_series/time_series_covid19_recovered_global.csv\"\n",
    "\n",
    "dfc = pd.read_csv(url_confirmed)\n",
    "dfd = pd.read_csv(url_deaths)\n",
    "dfr = pd.read_csv(url_recovered)\n",
    "\n",
    "# print(dfc)\n"
   ]
  },
  {
   "cell_type": "markdown",
   "metadata": {
    "colab_type": "text",
    "id": "JQDsWrTVteCu"
   },
   "source": [
    "## Make JHU ROI DF"
   ]
  },
  {
   "cell_type": "markdown",
   "metadata": {},
   "source": [
    "### Enter country "
   ]
  },
  {
   "cell_type": "code",
   "execution_count": null,
   "metadata": {},
   "outputs": [],
   "source": [
    "#Austria,Belgium,Denmark,France,Germany,Italy,Norway,Spain,Sweden,Switzerland,United Kingdom\n",
    "roi = \"Netherlands\""
   ]
  },
  {
   "cell_type": "code",
   "execution_count": null,
   "metadata": {
    "colab": {},
    "colab_type": "code",
    "id": "XDoHvSi-NQRQ"
   },
   "outputs": [],
   "source": [
    "\n",
    "dfc2 = dfc.loc[(dfc['Country/Region']==roi)&(pd.isnull(dfc['Province/State']))]\n",
    "dfd2 = dfd.loc[(dfd['Country/Region']==roi)&(pd.isnull(dfd['Province/State']))]\n",
    "dfr2 = dfr.loc[(dfr['Country/Region']==roi)&(pd.isnull(dfr['Province/State']))]\n",
    "\n",
    "dates_all = dfc.columns[4:].values[:-1]\n",
    "\n",
    "dates = dates_all[:]\n",
    "\n",
    "DF = df = pd.DataFrame(columns=['date','cum_cases','cum_recover','cum_deaths'])\n",
    "\n",
    "for i in range(len(dates)):\n",
    "  DF.loc[i] = pd.Series({'date':dates[i],\n",
    "                         'cum_cases':dfc2[dates[i]].values[0] - (dfr2[dates[i]].values[0] + dfd2[dates[i]].values[0]),\n",
    "                         'cum_recover':dfr2[dates[i]].values[0],\n",
    "                         'cum_deaths':dfd2[dates[i]].values[0]})\n",
    "\n",
    "DF[['daily_cases', 'daily_deaths', 'daily_recover']] = df[['cum_cases', 'cum_deaths', 'cum_recover']].diff()"
   ]
  },
  {
   "cell_type": "code",
   "execution_count": null,
   "metadata": {},
   "outputs": [],
   "source": [
    "pop = {}\n",
    "pop['Italy'] = 60500000\n",
    "pop['United Kingdom'] = 64400000\n",
    "pop['France'] = 66990000\n",
    "pop['Netherlands'] = 17000000\n",
    "\n",
    "mitigate = {}\n",
    "mitigate['Italy'] = '3/9/20' #approximate date\n",
    "mitigate['Netherlands'] = '3/12/20' #approximate date\n",
    "\n",
    "t0 = np.where(DF[\"cum_cases\"].values>5)[0][0] - 1# estimated day of first exposure? Need to make this a parameter\n",
    "\n",
    "plt.subplot(1,2,1)\n",
    "plt.title('cumulatives')\n",
    "plt.plot(DF[\"cum_cases\"],'bo', label=\"cases\")\n",
    "plt.plot(DF[\"cum_recover\"],'go',label=\"recovered\")\n",
    "plt.plot(DF[\"cum_deaths\"],'ks',label=\"deaths\")\n",
    "\n",
    "plt.axvline(t0,color='k', linestyle=\"dashed\", label='t0')\n",
    "\n",
    "ind = np.where(mitigate[roi]==dates)[0][0]\n",
    "plt.axvline(ind,color='b', linestyle=\"dashed\", label='mitigate')\n",
    "\n",
    "plt.legend()\n",
    "\n",
    "\n",
    "plt.subplot(1,2,2)\n",
    "plt.title('dailies')\n",
    "plt.plot(DF[\"daily_cases\"],'bo', label=\"cases\")\n",
    "plt.plot(DF[\"daily_recover\"],'go',label=\"recovered\")\n",
    "plt.plot(DF[\"daily_deaths\"],'ks',label=\"deaths\")\n",
    "\n",
    "plt.axvline(t0,color='k', linestyle=\"dashed\", label='t0')\n",
    "\n",
    "ind = np.where(mitigate[roi]==dates)[0][0]\n",
    "plt.axvline(ind,color='b', linestyle=\"dashed\", label='mitigate')\n",
    "\n",
    "plt.suptitle(roi)\n",
    "plt.legend()\n",
    "\n",
    "\n",
    "print(\"t0 assumed to be: day \"+str(t0))\n",
    "print(\"t0 date: \"+dates[t0])\n",
    "print(\"mitigation date: \"+dates[ind])\n",
    "print(ind)\n"
   ]
  },
  {
   "cell_type": "markdown",
   "metadata": {
    "colab_type": "text",
    "id": "gLSieVFFtjOb"
   },
   "source": [
    "## Format JHU ROI data for Stan"
   ]
  },
  {
   "cell_type": "code",
   "execution_count": null,
   "metadata": {
    "colab": {
     "base_uri": "https://localhost:8080/",
     "height": 299
    },
    "colab_type": "code",
    "id": "iG4K7TG6NTJI",
    "outputId": "12052154-8907-4d79-d85a-7823584d3aca",
    "scrolled": true
   },
   "outputs": [],
   "source": [
    "# int<lower = 1> n_obs;       // number of days observed\n",
    "# int<lower = 1> n_theta;     // number of model parameters\n",
    "# int<lower = 1> n_difeq;     // number of differential equations for yhat\n",
    "# int<lower = 1> n_ostates;     // number of observed states\n",
    "# int<lower = 1> n_pop;       // population\n",
    "# real<lower = 1> n_scale;       // scale to match observed scale\n",
    "# int y[n_obs,n_ostates];           // data, per-day-tally [cases,recovered,death]\n",
    "# real t0;                // initial time point \n",
    "# real tm; //start day of mitigation\n",
    "# real ts[n_obs];         // time points that were observed\n",
    "# int<lower = 1> n_obs_predict;       // number of days to predict\n",
    "# real ts_predict[n_obs_predict];         // \n",
    "\n",
    "stan_data = {}\n",
    "\n",
    "stan_data['n_pop'] = pop[roi] \n",
    "stan_data['n_scale'] = 10000000 #use this instead of population\n",
    "\n",
    "stan_data['n_theta'] = 12\n",
    "stan_data['n_difeq'] = 3\n",
    "stan_data['n_ostates'] = 3\n",
    "\n",
    "stan_data['t0'] = t0-1\n",
    "stan_data['tm'] = ind\n",
    "stan_data['ts'] = np.arange(t0,len(dates)) \n",
    "DF = DF.replace('NaN', 0)\n",
    "DF = DF.replace(-1, 0)\n",
    "stan_data['y'] = (DF[['daily_cases','daily_recover','daily_deaths']].to_numpy()).astype(int)[t0:,:]\n",
    "stan_data['n_obs'] = len(dates) - t0\n",
    "\n",
    "stan_data['ts_predict'] = np.arange(t0,len(dates)+365)\n",
    "stan_data['n_obs_predict'] = len(dates) - t0 + 365"
   ]
  },
  {
   "cell_type": "markdown",
   "metadata": {},
   "source": [
    "### Print data for Stan "
   ]
  },
  {
   "cell_type": "code",
   "execution_count": null,
   "metadata": {},
   "outputs": [],
   "source": [
    "print(stan_data)"
   ]
  },
  {
   "cell_type": "markdown",
   "metadata": {},
   "source": [
    "# Load England School 1978 Influenza data "
   ]
  },
  {
   "cell_type": "code",
   "execution_count": null,
   "metadata": {},
   "outputs": [],
   "source": [
    "# #England 1978 influenza\n",
    "# cases = [0,8,26,76,225,298,258,233,189,128,150,85,14,4]\n",
    "# recovered = [0,0,0,0,9,17,105,162,176,166,150,85,47,20]\n",
    "# plt.plot(cases,'bo', label=\"cases\")\n",
    "# plt.plot(recovered,'go',label=\"recovered\")\n",
    "# pop = 763\n",
    "# model.stan_data['t0'] = 0\n",
    "# #truncate time series from t0 on (initial is t0-1)\n",
    "# model.stan_data['n_pop'] = pop \n",
    "# model.stan_data['ts'] = np.arange(1,len(cases)+1)  \n",
    "# Y = np.hstack([np.c_[cases],np.c_[recovered],np.zeros((len(cases),1))]).astype(int)\n",
    "# model.stan_data['y'] = Y\n",
    "# model.stan_data['n_obs'] = len(cases)\n",
    "\n",
    "# plt.plot(cases,'bo', label=\"cases\")\n",
    "# plt.plot(recovered,'go',label=\"recovered\")\n",
    "\n",
    "# plt.legend()"
   ]
  },
  {
   "cell_type": "markdown",
   "metadata": {
    "colab_type": "text",
    "id": "GDWmF_KQ2Hg3"
   },
   "source": [
    "# Run Stan "
   ]
  },
  {
   "cell_type": "markdown",
   "metadata": {},
   "source": [
    "## Initialize parameters"
   ]
  },
  {
   "cell_type": "code",
   "execution_count": null,
   "metadata": {
    "colab": {},
    "colab_type": "code",
    "id": "oImIcxX9Lull"
   },
   "outputs": [],
   "source": [
    "# theta[1] ~ lognormal(log(0.1),1); //sigmac\n",
    "# theta[2] ~ lognormal(log(0.1),1); //sigmar\n",
    "# theta[3] ~ lognormal(log(0.1),1); //sigmad\n",
    "# theta[4] ~ lognormal(log(0.1),1); //q\n",
    "# theta[5] ~ lognormal(log(0.25),1); //beta \n",
    "# theta[6] ~ lognormal(log(0.25),1); //mbase = theta[5]; \n",
    "# theta[7] ~ lognormal(log(tm),5); //mlocation = theta[6]; \n",
    "# theta[8] ~ lognormal(log(1),5); //mrate = theta[7]; \n",
    "# theta[9] ~ lognormal(log(0.1),1);//cmax = theta[9];\n",
    "# theta[10] ~ lognormal(log(0.1),1);//c50 = theta[10];\n",
    "# theta[11] ~ lognormal(log(0.1),1);// theta_init = theta[11];\n",
    "            \n",
    "def init_fun():\n",
    "        x = {'theta':\n",
    "             [np.random.lognormal(np.log(0.1),1)]+\n",
    "             [np.random.lognormal(np.log(0.1),1)]+\n",
    "             [np.random.lognormal(np.log(0.1),1)]+\n",
    "             [np.random.lognormal(np.log(0.1),1)]+\n",
    "             [np.random.lognormal(np.log(0.1),1)]+\n",
    "             [np.random.lognormal(np.log(0.25),1)]+\n",
    "             [np.random.lognormal(np.log(0.25),1)]+\n",
    "             [np.random.lognormal(np.log(stan_data['tm']),1)]+\n",
    "             [np.random.lognormal(np.log(1),5)]+\n",
    "             [np.random.lognormal(np.log(0.1),1)]+\n",
    "             [np.random.lognormal(np.log(0.1),1)]+\n",
    "             [np.random.lognormal(np.log(0.1),1)]\n",
    "            }\n",
    "        return x\n"
   ]
  },
  {
   "cell_type": "markdown",
   "metadata": {},
   "source": [
    "## Fit Stan "
   ]
  },
  {
   "cell_type": "code",
   "execution_count": null,
   "metadata": {
    "colab": {
     "base_uri": "https://localhost:8080/",
     "height": 429
    },
    "colab_type": "code",
    "id": "3rtwA8puqVrv",
    "outputId": "061a2610-4f20-4cb2-c8fd-10d97d845fbe"
   },
   "outputs": [],
   "source": [
    "n_chains=1\n",
    "n_warmups=1000\n",
    "n_iter=5000\n",
    "n_thin=50\n",
    "\n",
    "control = {'adapt_delta':0.95}\n",
    "fit = stanrunmodel.sampling(data = stan_data,init = init_fun,control=control, chains = n_chains, warmup = n_warmups, iter = n_iter, thin=n_thin, seed=13219)\n",
    "\n"
   ]
  },
  {
   "cell_type": "code",
   "execution_count": null,
   "metadata": {
    "colab": {},
    "colab_type": "code",
    "id": "2jXKxrCf3Vj2"
   },
   "outputs": [],
   "source": [
    "print(fit)"
   ]
  },
  {
   "cell_type": "code",
   "execution_count": null,
   "metadata": {},
   "outputs": [],
   "source": [
    "#https://arviz-devs.github.io/arviz/generated/arviz.plot_density\n",
    "az.plot_density(fit,group='posterior',var_names=[\"theta\",\"R_0\"])"
   ]
  },
  {
   "cell_type": "code",
   "execution_count": null,
   "metadata": {},
   "outputs": [],
   "source": [
    "ms=2 \n",
    "\n",
    "x = range(len(DF[\"daily_cases\"][t0:]))\n",
    "     \n",
    "plt.plot(x,DF[\"daily_cases\"][t0:],'bo', label=\"cases\",ms=ms)\n",
    "plt.plot(x,DF[\"daily_recover\"][t0:],'o',color='orange',label=\"unknown\",ms=ms)\n",
    "plt.plot(x,DF[\"daily_deaths\"][t0:],'x',color='k',label=\"unknown\",ms=ms)\n",
    "  \n",
    "lw=4\n",
    "alpha = 0.5\n",
    "labels = ['I','C']\n",
    "c_ = ['r','b']\n",
    "n = 2 \n",
    "for i in range(n):\n",
    "    plt.plot(model.stan_data['n_scale']*fit.extract()['u'][-1,:,i],label=labels[i],lw=lw,alpha=alpha,color=c_[i])\n",
    "\n",
    "plt.legend()\n",
    "plt.ylim((0,50000))\n"
   ]
  }
 ],
 "metadata": {
  "colab": {
   "collapsed_sections": [],
   "name": "MBS_SIRmodeling_version2.ipynb",
   "provenance": []
  },
  "kernelspec": {
   "display_name": "Python 3",
   "language": "python",
   "name": "python3"
  },
  "language_info": {
   "codemirror_mode": {
    "name": "ipython",
    "version": 3
   },
   "file_extension": ".py",
   "mimetype": "text/x-python",
   "name": "python",
   "nbconvert_exporter": "python",
   "pygments_lexer": "ipython3",
   "version": "3.7.4"
  }
 },
 "nbformat": 4,
 "nbformat_minor": 1
}
