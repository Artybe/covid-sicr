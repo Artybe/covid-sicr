{
 "cells": [
  {
   "cell_type": "code",
   "execution_count": 1,
   "metadata": {
    "cellView": "both",
    "colab": {
     "base_uri": "https://localhost:8080/",
     "height": 309
    },
    "colab_type": "code",
    "id": "AKP2Vok31tsE",
    "outputId": "f268f545-a908-4e75-f957-dad08b72c277"
   },
   "outputs": [],
   "source": [
    "#@title Install arviz\n",
    "# !pip3 install arviz"
   ]
  },
  {
   "cell_type": "code",
   "execution_count": 2,
   "metadata": {
    "colab": {},
    "colab_type": "code",
    "id": "a0disJ2Uy-Bx"
   },
   "outputs": [],
   "source": [
    "import arviz as az\n",
    "import pystan\n",
    "import os\n",
    "# os.environ['STAN_NUM_THREADS'] = \"4\"\n",
    "import pandas as pd\n",
    "import matplotlib.pyplot as plt\n",
    "import numpy as np\n",
    "import networkx as nx\n",
    "import warnings\n",
    "warnings.filterwarnings(\"ignore\", category=DeprecationWarning)\n",
    "%matplotlib inline"
   ]
  },
  {
   "cell_type": "markdown",
   "metadata": {
    "colab_type": "text",
    "id": "YT3IVNpzrBoM"
   },
   "source": [
    "## Select model"
   ]
  },
  {
   "cell_type": "code",
   "execution_count": 3,
   "metadata": {
    "colab": {},
    "colab_type": "code",
    "id": "-UJBadMvq8aM"
   },
   "outputs": [
    {
     "name": "stdout",
     "output_type": "stream",
     "text": [
      "\n",
      "        About: \n",
      "\n",
      "        SICU model \n",
      "\n",
      "        Some unknown I and known C, both go to recovered and death \n",
      "\n",
      "        I and C have same leak to R and D but I leak is to unknown U\n",
      "        \n",
      "S: susceptible\n",
      "I: infected\n",
      "C: identified cases\n",
      "R: recovered\n",
      "D: dead\n",
      "U: unknown recovered/dead\n"
     ]
    },
    {
     "name": "stderr",
     "output_type": "stream",
     "text": [
      "/usr/local/lib/python3.7/site-packages/networkx/drawing/nx_pylab.py:579: MatplotlibDeprecationWarning: \n",
      "The iterable function was deprecated in Matplotlib 3.1 and will be removed in 3.3. Use np.iterable instead.\n",
      "  if not cb.iterable(width):\n",
      "/usr/local/lib/python3.7/site-packages/networkx/drawing/nx_pylab.py:676: MatplotlibDeprecationWarning: \n",
      "The iterable function was deprecated in Matplotlib 3.1 and will be removed in 3.3. Use np.iterable instead.\n",
      "  if cb.iterable(node_size):  # many node sizes\n"
     ]
    },
    {
     "data": {
      "image/png": "[encoded data removed]",
      "text/plain": [
       "<Figure size 432x288 with 1 Axes>"
      ]
     },
     "metadata": {},
     "output_type": "display_data"
    }
   ],
   "source": [
    "import MBS_epidemic_concentration_models as models\n",
    "model = models.model_sicu()\n",
    "model.plotnetwork()"
   ]
  },
  {
   "cell_type": "markdown",
   "metadata": {},
   "source": [
    "## Compile"
   ]
  },
  {
   "cell_type": "code",
   "execution_count": 4,
   "metadata": {},
   "outputs": [
    {
     "name": "stderr",
     "output_type": "stream",
     "text": [
      "INFO:pystan:COMPILING THE C++ CODE FOR MODEL anon_model_c537d097933e1af4e687ed5482dc7366 NOW.\n"
     ]
    }
   ],
   "source": [
    "stanrunmodel = pystan.StanModel(model_code=model.stan)"
   ]
  },
  {
   "cell_type": "markdown",
   "metadata": {
    "colab_type": "text",
    "id": "qn5Cei_mLN0P"
   },
   "source": [
    "# Load data from JHU\n",
    "\n"
   ]
  },
  {
   "cell_type": "code",
   "execution_count": 5,
   "metadata": {
    "colab": {},
    "colab_type": "code",
    "id": "ofuI7UGsLNd7"
   },
   "outputs": [],
   "source": [
    "url_confirmed = \"https://raw.githubusercontent.com/CSSEGISandData/COVID-19/master/csse_covid_19_data/csse_covid_19_time_series/time_series_covid19_confirmed_global.csv\"\n",
    "url_deaths = \"https://raw.githubusercontent.com/CSSEGISandData/COVID-19/master/csse_covid_19_data/csse_covid_19_time_series/time_series_covid19_deaths_global.csv\"\n",
    "url_recovered = \"https://raw.githubusercontent.com/CSSEGISandData/COVID-19/master/csse_covid_19_data/csse_covid_19_time_series/time_series_covid19_recovered_global.csv\"\n",
    "\n",
    "dfc = pd.read_csv(url_confirmed)\n",
    "dfd = pd.read_csv(url_deaths)\n",
    "dfr = pd.read_csv(url_recovered)\n",
    "\n",
    "\n"
   ]
  },
  {
   "cell_type": "markdown",
   "metadata": {
    "colab_type": "text",
    "id": "JQDsWrTVteCu"
   },
   "source": [
    "## Make JHU ROI DF"
   ]
  },
  {
   "cell_type": "markdown",
   "metadata": {},
   "source": [
    "### Enter country "
   ]
  },
  {
   "cell_type": "code",
   "execution_count": 6,
   "metadata": {},
   "outputs": [],
   "source": [
    "#Austria,Belgium,Denmark,France,Germany,Italy,Norway,Spain,Sweden,Switzerland,United Kingdom\n",
    "roi = \"France\""
   ]
  },
  {
   "cell_type": "code",
   "execution_count": 7,
   "metadata": {
    "colab": {},
    "colab_type": "code",
    "id": "XDoHvSi-NQRQ"
   },
   "outputs": [
    {
     "name": "stdout",
     "output_type": "stream",
     "text": [
      "t0 assumed to be: day 9\n"
     ]
    },
    {
     "data": {
      "text/plain": [
       "<matplotlib.legend.Legend at 0x12baba650>"
      ]
     },
     "execution_count": 7,
     "metadata": {},
     "output_type": "execute_result"
    },
    {
     "data": {
      "image/png": "[encoded data removed]",
      "text/plain": [
       "<Figure size 432x288 with 1 Axes>"
      ]
     },
     "metadata": {
      "needs_background": "light"
     },
     "output_type": "display_data"
    }
   ],
   "source": [
    "dfc2 = dfc.loc[(dfc['Country/Region']==roi)&(pd.isnull(dfc['Province/State']))]\n",
    "dfd2 = dfd.loc[(dfd['Country/Region']==roi)&(pd.isnull(dfd['Province/State']))]\n",
    "dfr2 = dfr.loc[(dfr['Country/Region']==roi)&(pd.isnull(dfr['Province/State']))]\n",
    "\n",
    "\n",
    "DF = df = pd.DataFrame(columns=['date','cases','recovered','deaths'])\n",
    "\n",
    "dates = dfc.columns[4:].values\n",
    "\n",
    "for i in range(len(dates)):\n",
    "  DF.loc[i] = pd.Series({'date':dates[i],\n",
    "                         'cases':dfc2[dates[i]].values[0] - (dfr2[dates[i]].values[0] + dfd2[dates[i]].values[0]),\n",
    "                         'recovered':dfr2[dates[i]].values[0],\n",
    "                         'deaths':dfd2[dates[i]].values[0]})\n",
    "\n",
    "\n",
    "pop = {}\n",
    "pop['Italy'] = 60500000\n",
    "pop['United Kingdom'] = 64400000\n",
    "pop['France'] = 66990000\n",
    "\n",
    "t0 = np.where(DF[\"cases\"].values>5)[0][0] - 1# estimated day of first exposure? Need to make this a parameter\n",
    "model.stan_data['t0'] = t0-1\n",
    "print(\"t0 assumed to be: day \"+str(t0))\n",
    "plt.plot(DF[\"cases\"],'bo', label=\"cases\")\n",
    "plt.plot(DF[\"recovered\"],'go',label=\"recovered\")\n",
    "plt.plot(DF[\"deaths\"],'ks',label=\"deaths\")\n",
    "\n",
    "plt.axvline(model.stan_data['t0'],color='k', linestyle=\"dashed\")\n",
    "plt.legend()\n"
   ]
  },
  {
   "cell_type": "markdown",
   "metadata": {
    "colab_type": "text",
    "id": "gLSieVFFtjOb"
   },
   "source": [
    "## Format JHU ROI data for Stan"
   ]
  },
  {
   "cell_type": "code",
   "execution_count": 8,
   "metadata": {
    "colab": {
     "base_uri": "https://localhost:8080/",
     "height": 299
    },
    "colab_type": "code",
    "id": "iG4K7TG6NTJI",
    "outputId": "12052154-8907-4d79-d85a-7823584d3aca",
    "scrolled": true
   },
   "outputs": [],
   "source": [
    "#truncate time series from t0 on (initial is t0-1)\n",
    "model.stan_data['ts'] = np.arange(t0,len(dates))  \n",
    "model.stan_data['y'] = (DF[['cases','recovered','deaths']].to_numpy()).astype(int)[t0:,:]\n",
    "model.stan_data['n_obs'] = len(dates) - t0"
   ]
  },
  {
   "cell_type": "markdown",
   "metadata": {},
   "source": [
    "### Enter population manually"
   ]
  },
  {
   "cell_type": "code",
   "execution_count": 9,
   "metadata": {},
   "outputs": [],
   "source": [
    "model.stan_data['n_pop'] = pop[roi] \n",
    "model.stan_data['n_scale'] = 10000000\n"
   ]
  },
  {
   "cell_type": "markdown",
   "metadata": {},
   "source": [
    "### Print data for Stan "
   ]
  },
  {
   "cell_type": "code",
   "execution_count": 10,
   "metadata": {},
   "outputs": [
    {
     "name": "stdout",
     "output_type": "stream",
     "text": [
      "{'n_theta': 4, 'n_difeq': 4, 'n_ostates': 3, 't0': 8, 'ts': array([ 9, 10, 11, 12, 13, 14, 15, 16, 17, 18, 19, 20, 21, 22, 23, 24, 25,\n",
      "       26, 27, 28, 29, 30, 31, 32, 33, 34, 35, 36, 37, 38, 39, 40, 41, 42,\n",
      "       43, 44, 45, 46, 47, 48, 49, 50, 51, 52, 53, 54, 55, 56, 57, 58, 59,\n",
      "       60, 61, 62, 63, 64, 65, 66, 67, 68, 69, 70, 71, 72, 73]), 'y': array([[    5,     0,     0],\n",
      "       [    6,     0,     0],\n",
      "       [    6,     0,     0],\n",
      "       [    6,     0,     0],\n",
      "       [    6,     0,     0],\n",
      "       [    6,     0,     0],\n",
      "       [    6,     0,     0],\n",
      "       [    6,     0,     0],\n",
      "       [   11,     0,     0],\n",
      "       [   11,     0,     0],\n",
      "       [   11,     0,     0],\n",
      "       [   11,     0,     0],\n",
      "       [    9,     2,     0],\n",
      "       [    9,     2,     0],\n",
      "       [    9,     2,     0],\n",
      "       [    7,     4,     1],\n",
      "       [    7,     4,     1],\n",
      "       [    7,     4,     1],\n",
      "       [    7,     4,     1],\n",
      "       [    7,     4,     1],\n",
      "       [    7,     4,     1],\n",
      "       [    7,     4,     1],\n",
      "       [    7,     4,     1],\n",
      "       [    7,     4,     1],\n",
      "       [    7,     4,     1],\n",
      "       [    2,    11,     1],\n",
      "       [    5,    11,     2],\n",
      "       [   25,    11,     2],\n",
      "       [   44,    11,     2],\n",
      "       [   86,    12,     2],\n",
      "       [  116,    12,     2],\n",
      "       [  176,    12,     3],\n",
      "       [  188,    12,     4],\n",
      "       [  269,    12,     4],\n",
      "       [  359,    12,     6],\n",
      "       [  632,    12,     9],\n",
      "       [  926,    12,    11],\n",
      "       [ 1095,    12,    19],\n",
      "       [ 1178,    12,    19],\n",
      "       [ 1739,    12,    33],\n",
      "       [ 2221,    12,    48],\n",
      "       [ 2221,    12,    48],\n",
      "       [ 3570,    12,    79],\n",
      "       [ 4366,    12,    91],\n",
      "       [ 4396,    12,    91],\n",
      "       [ 6473,    12,   148],\n",
      "       [ 7492,    12,   148],\n",
      "       [ 8883,    12,   148],\n",
      "       [10616,    12,   243],\n",
      "       [12150,    12,   450],\n",
      "       [13708,    12,   562],\n",
      "       [13144,  2200,   674],\n",
      "       [16796,  2200,   860],\n",
      "       [17961,  3243,  1100],\n",
      "       [20002,  3900,  1331],\n",
      "       [22511,  4948,  1696],\n",
      "       [25269,  5700,  1995],\n",
      "       [29561,  5700,  2314],\n",
      "       [30366,  7202,  2606],\n",
      "       [33599,  7927,  3024],\n",
      "       [39161,  9444,  3523],\n",
      "       [42023, 10934,  4032],\n",
      "       [41290, 12428,  5387],\n",
      "       [43823, 14008,  6507],\n",
      "       [66955, 15438,  7560]]), 'n_obs': 65, 'n_pop': 66990000, 'n_scale': 10000000}\n"
     ]
    }
   ],
   "source": [
    "print(model.stan_data)"
   ]
  },
  {
   "cell_type": "markdown",
   "metadata": {},
   "source": [
    "# Load England School 1978 Influenza data "
   ]
  },
  {
   "cell_type": "code",
   "execution_count": 11,
   "metadata": {},
   "outputs": [],
   "source": [
    "# #England 1978 influenza\n",
    "# cases = [0,8,26,76,225,298,258,233,189,128,150,85,14,4]\n",
    "# recovered = [0,0,0,0,9,17,105,162,176,166,150,85,47,20]\n",
    "# plt.plot(cases,'bo', label=\"cases\")\n",
    "# plt.plot(recovered,'go',label=\"recovered\")\n",
    "# pop = 763\n",
    "# model.stan_data['t0'] = 0\n",
    "# #truncate time series from t0 on (initial is t0-1)\n",
    "# model.stan_data['n_pop'] = pop \n",
    "# model.stan_data['ts'] = np.arange(1,len(cases)+1)  \n",
    "# Y = np.hstack([np.c_[cases],np.c_[recovered],np.zeros((len(cases),1))]).astype(int)\n",
    "# model.stan_data['y'] = Y\n",
    "# model.stan_data['n_obs'] = len(cases)\n",
    "\n",
    "# plt.plot(cases,'bo', label=\"cases\")\n",
    "# plt.plot(recovered,'go',label=\"recovered\")\n",
    "\n",
    "# plt.legend()"
   ]
  },
  {
   "cell_type": "markdown",
   "metadata": {
    "colab_type": "text",
    "id": "GDWmF_KQ2Hg3"
   },
   "source": [
    "# Run Stan "
   ]
  },
  {
   "cell_type": "markdown",
   "metadata": {},
   "source": [
    "## Initialize parameters"
   ]
  },
  {
   "cell_type": "code",
   "execution_count": 12,
   "metadata": {
    "colab": {},
    "colab_type": "code",
    "id": "oImIcxX9Lull"
   },
   "outputs": [],
   "source": [
    "# Feed in some feasible initial values to start from\n",
    "\n",
    "# init_par = [{'theta':[0.25,0.01,0.01,0.05,.02],'S0':0.5}] \n",
    "\n",
    "if model.stan_data['n_theta'] == 2:\n",
    "    def init_fun():\n",
    "        x = {'theta':[np.random.uniform(0,5),np.random.uniform(0.2,0.4)],\n",
    "              'S0':np.random.uniform()}\n",
    "        return x\n",
    "if model.name == \"sicu\":\n",
    "    def init_fun():\n",
    "        x = {'theta':\n",
    "             [0.1*np.random.uniform()]+\n",
    "             [0.1*np.random.uniform()]+\n",
    "             [0.5*np.random.uniform()]+\n",
    "             [0.1*np.random.uniform()]\n",
    "            }\n",
    "        return x\n",
    "else:\n",
    "    def init_fun():\n",
    "        x = {'theta':\n",
    "             [0.1*np.random.uniform()]+\n",
    "             [0.1*np.random.uniform()]+\n",
    "             [0.1*np.random.uniform()]+\n",
    "             [0.1*np.random.uniform()]+\n",
    "             [0.5*np.random.uniform()]+\n",
    "             [0.1*np.random.uniform()]}\n",
    "#              [model.stan_data['n_scale']],\n",
    "#               'S0':1*np.random.uniform()}\n",
    "#         x = {'theta':[np.random.uniform(), np.random.uniform(),\n",
    "#                       np.random.uniform(),np.random.uniform(),np.random.uniform()],\n",
    "#               'S0':1*np.random.uniform()}\n",
    "        return x"
   ]
  },
  {
   "cell_type": "markdown",
   "metadata": {},
   "source": [
    "## Fit Stan "
   ]
  },
  {
   "cell_type": "code",
   "execution_count": null,
   "metadata": {
    "colab": {
     "base_uri": "https://localhost:8080/",
     "height": 429
    },
    "colab_type": "code",
    "id": "3rtwA8puqVrv",
    "outputId": "061a2610-4f20-4cb2-c8fd-10d97d845fbe"
   },
   "outputs": [],
   "source": [
    "n_chains=4\n",
    "n_warmups=1000\n",
    "n_iter=5000\n",
    "n_thin=10\n",
    "\n",
    "control = {'adapt_delta':0.95}\n",
    "fit = stanrunmodel.sampling(data = model.stan_data,init = init_fun,control=control, chains = n_chains, warmup = n_warmups, iter = n_iter, thin=n_thin, seed=13219)\n",
    "\n"
   ]
  },
  {
   "cell_type": "code",
   "execution_count": null,
   "metadata": {
    "colab": {},
    "colab_type": "code",
    "id": "2jXKxrCf3Vj2"
   },
   "outputs": [],
   "source": [
    "print(fit)"
   ]
  },
  {
   "cell_type": "code",
   "execution_count": null,
   "metadata": {},
   "outputs": [],
   "source": [
    "#https://arviz-devs.github.io/arviz/generated/arviz.plot_density\n",
    "az.plot_density(fit,group='posterior',var_names=[\"theta\",\"R_0\"])"
   ]
  },
  {
   "cell_type": "code",
   "execution_count": null,
   "metadata": {},
   "outputs": [],
   "source": [
    "# dir(fit)\n",
    "# stan_data = az.from_pystan(\n",
    "#     posterior=fit,\n",
    "#     posterior_predictive='y_hat',\n",
    "#     observed_data=\"y[1,1]\")\n",
    "\n",
    "# print(stan_data)\n",
    "# # az.plot_ppc(stan_data)\n",
    "\n",
    "print(np.shape(fit.extract()['u']))\n",
    "# plt.plot(np.mean(fit.extract()['y_hat'][:,:,1],0),'r', label=r'$\\hat{I}$')\n",
    "# plt.plot(np.mean(fit.extract()['y_hat'][:,:,2],0),'b', label=r'$\\hat{R}$')\n",
    "# plt.legend()\n",
    "# plt.ylabel('fraction')\n",
    "# plt.xlabel('days')\n",
    "# # plt.plot(model.stan_data['y'][:,0],'bo', label=\"cases\")\n",
    "# # plt.plot(model.stan_data['y'][:,1],'go',label=\"recovered\")\n",
    "\n",
    "# plt.plot(fit.extract()['u'][-1,:,4],'r', label=r'$\\hat{I}$')\n",
    "# plt.plot(fit.extract()['u'][-1,:,2],'b', label=r'$\\hat{R}$')\n",
    "# plt.legend()\n",
    "# plt.ylabel('fraction')\n",
    "# plt.xlabel('days')\n",
    "# plt.plot(model.stan_data['y'][:,0],'bo', label=\"cases\")\n",
    "# plt.plot(model.stan_data['y'][:,1],'go',label=\"recovered\")\n",
    "# plt.subplot(1,2,1)\n",
    "ms=2 \n",
    "x = range(len(fit.extract()['u'][-1,:,0]))\n",
    "# plt.plot(x,DF[\"cases\"][t0:],'bo', label=\"cases\",ms=ms)\n",
    "# plt.plot(x,DF[\"recovered\"][t0:],'go',label=\"recovered\",ms=ms)\n",
    "# plt.plot(x,DF[\"deaths\"][t0:],'s',label=\"deaths\",color='orange',ms=ms)\n",
    "\n",
    "plt.plot(x,DF[\"cases\"][t0:],'bo', label=\"cases\",ms=ms)\n",
    "plt.plot(x,DF[\"recovered\"][t0:] + DF[\"deaths\"][t0:],'o',color='orange',label=\"unknown\",ms=ms)\n",
    "\n",
    "\n",
    "\n",
    "labels = ['C','U','I','S','Z']\n",
    "\n",
    "lw=4\n",
    "a = 0.5\n",
    "for i in range(4):\n",
    "    plt.plot(model.stan_data['n_scale']*fit.extract()['u'][-1,:,i],label=labels[i],lw=lw,alpha=a)\n",
    "plt.plot(model.stan_data['n_scale']*(1-fit.extract()['u'][-1,:,i]),label=labels[-1],lw=lw,alpha=a)\n",
    "plt.legend()\n",
    "plt.ylim((0,100000))\n",
    "\n",
    "# labels = ['C','D','R','I','S','Z']\n",
    "# lw=4\n",
    "# a = 0.5\n",
    "# for i in range(5):\n",
    "#     plt.plot(model.stan_data['n_scale']*fit.extract()['u'][-1,:,i],label=labels[i],lw=lw,alpha=a)\n",
    "# plt.plot(model.stan_data['n_scale']*(1-fit.extract()['u'][-1,:,4]),label=labels[-1],lw=lw,alpha=a)\n",
    "# plt.legend()\n",
    "# plt.ylim((0,100000))\n",
    "\n",
    "# # plt.subplot(1,2,2)\n",
    "# # tot = DF[\"cases\"][-1:] + DF[\"recovered\"][-1:] + DF[\"deaths\"][-1:]\n",
    "\n",
    "# # plt.axvline(model.stan_data['t0'],color='k', linestyle=\"dashed\")\n",
    "# plt.legend()\n",
    "# plt.title(roi)\n",
    "# plt.figure()\n",
    "# # plt.plot(fit.extract()['lp__'])\n",
    "# az.plot_density(fit,group='posterior',var_names=[\"theta\",\"R_0\"])\n",
    "\n"
   ]
  },
  {
   "cell_type": "code",
   "execution_count": null,
   "metadata": {},
   "outputs": [],
   "source": [
    "az.plot_pair(fit,var_names=[\"theta\"], divergences=True)"
   ]
  },
  {
   "cell_type": "code",
   "execution_count": null,
   "metadata": {},
   "outputs": [],
   "source": []
  }
 ],
 "metadata": {
  "colab": {
   "collapsed_sections": [],
   "name": "MBS_SIRmodeling_version2.ipynb",
   "provenance": []
  },
  "kernelspec": {
   "display_name": "Python 3",
   "language": "python",
   "name": "python3"
  },
  "language_info": {
   "codemirror_mode": {
    "name": "ipython",
    "version": 3
   },
   "file_extension": ".py",
   "mimetype": "text/x-python",
   "name": "python",
   "nbconvert_exporter": "python",
   "pygments_lexer": "ipython3",
   "version": "3.7.4"
  }
 },
 "nbformat": 4,
 "nbformat_minor": 1
}
