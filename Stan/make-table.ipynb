{
 "cells": [
  {
   "cell_type": "code",
   "execution_count": 6,
   "metadata": {},
   "outputs": [],
   "source": [
    "%matplotlib inline\n",
    "import matplotlib.pyplot as plt\n",
    "import pandas as pd\n",
    "from tqdm import tqdm\n",
    "from __init__ import list_rois, extract_samples, make_table"
   ]
  },
  {
   "cell_type": "code",
   "execution_count": 2,
   "metadata": {},
   "outputs": [],
   "source": [
    "fits_path = './fits'\n",
    "models_path = '.'\n",
    "model_name = 'reducedlinearmodelNegBinom'\n",
    "fit_format = 1\n",
    "params = ['R0', 'car', 'ifr']"
   ]
  },
  {
   "cell_type": "code",
   "execution_count": 3,
   "metadata": {},
   "outputs": [
    {
     "name": "stdout",
     "output_type": "stream",
     "text": [
      "There are 163 ROIs\n"
     ]
    }
   ],
   "source": [
    "extension = ['csv', 'pkl'][fit_format]\n",
    "rois = list_rois(fits_path, model_name, extension)\n",
    "print(\"There are %d ROIs\" % len(rois))"
   ]
  },
  {
   "cell_type": "code",
   "execution_count": 4,
   "metadata": {},
   "outputs": [
    {
     "name": "stderr",
     "output_type": "stream",
     "text": [
      "  0%|          | 0/163 [00:00<?, ?it/s]"
     ]
    },
    {
     "name": "stdout",
     "output_type": "stream",
     "text": [
      "Loading reducedlinearmodelNegBinom from cache...\n"
     ]
    },
    {
     "name": "stderr",
     "output_type": "stream",
     "text": [
      "100%|██████████| 163/163 [06:21<00:00,  2.39s/it]\n"
     ]
    }
   ],
   "source": [
    "dfs = []\n",
    "for roi in tqdm(rois):\n",
    "    samples = extract_samples(fits_path, models_path, model_name, roi, fit_format)\n",
    "    df = make_table(roi, samples, params)\n",
    "    dfs.append(df)\n",
    "\n",
    "df = pd.concat(dfs)"
   ]
  },
  {
   "cell_type": "code",
   "execution_count": 22,
   "metadata": {},
   "outputs": [
    {
     "data": {
      "image/png": "[encoded data removed]",
      "text/plain": [
       "<Figure size 1080x360 with 3 Axes>"
      ]
     },
     "metadata": {
      "needs_background": "light"
     },
     "output_type": "display_data"
    }
   ],
   "source": [
    "# The ROIs you want to plot\n",
    "roi_subset = ['Germany', 'US_MI', 'Spain']\n",
    "\n",
    "def plot_table_data(df, roi_subset):\n",
    "    n_params = df.shape[1]\n",
    "    fig, axes = plt.subplots(1, n_params, figsize=(n_params*5, 5))\n",
    "    for i, ax in enumerate(axes.flat):\n",
    "        for j, roi in enumerate(roi_subset):\n",
    "            col = df.columns[i]\n",
    "            boxes = [\n",
    "                {\n",
    "                'x': i,\n",
    "                'label' : roi,\n",
    "                'whislo': df.loc[(roi, 0.05), col],    # Bottom whisker position\n",
    "                'q1'    : df.loc[(roi, 0.25), col],    # First quartile (25th percentile)\n",
    "                'med'   : df.loc[(roi, 0.5), col],    # Median         (50th percentile)\n",
    "                'q3'    : df.loc[(roi, 0.75), col],    # Third quartile (75th percentile)\n",
    "                'whishi': df.loc[(roi, 0.95), col],    # Top whisker position\n",
    "                'fliers': []        # Outliers\n",
    "                }\n",
    "            ]\n",
    "            ax.bxp(boxes, positions=[j], showfliers=False)\n",
    "        ax.set_title(df.columns[i])\n",
    "        \n",
    "plot_table_data(df, roi_subset)"
   ]
  },
  {
   "cell_type": "code",
   "execution_count": null,
   "metadata": {},
   "outputs": [],
   "source": []
  }
 ],
 "metadata": {
  "kernelspec": {
   "display_name": "Python 3",
   "language": "python",
   "name": "python3"
  },
  "language_info": {
   "codemirror_mode": {
    "name": "ipython",
    "version": 3
   },
   "file_extension": ".py",
   "mimetype": "text/x-python",
   "name": "python",
   "nbconvert_exporter": "python",
   "pygments_lexer": "ipython3",
   "version": "3.7.4"
  }
 },
 "nbformat": 4,
 "nbformat_minor": 4
}
