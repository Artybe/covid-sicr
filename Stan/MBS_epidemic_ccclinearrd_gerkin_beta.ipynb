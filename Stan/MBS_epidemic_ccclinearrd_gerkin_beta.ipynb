{
 "cells": [
  {
   "cell_type": "code",
   "execution_count": 1,
   "metadata": {
    "cellView": "both",
    "colab": {
     "base_uri": "https://localhost:8080/",
     "height": 309
    },
    "colab_type": "code",
    "id": "AKP2Vok31tsE",
    "outputId": "f268f545-a908-4e75-f957-dad08b72c277"
   },
   "outputs": [],
   "source": [
    "#@title Install arviz\n",
    "# !pip3 install arviz"
   ]
  },
  {
   "cell_type": "code",
<<<<<<< HEAD
   "execution_count": 1,
=======
   "execution_count": 2,
>>>>>>> a82a7ffe928b271d93357010f0d5e8aab9eae967
   "metadata": {
    "colab": {},
    "colab_type": "code",
    "id": "a0disJ2Uy-Bx"
   },
   "outputs": [],
   "source": [
    "import arviz as az\n",
    "import pystan, pickle\n",
    "import os\n",
    "# os.environ['STAN_NUM_THREADS'] = \"4\"\n",
    "import pandas as pd\n",
    "import matplotlib.pyplot as plt\n",
    "import numpy as np\n",
    "# import networkx as nx\n",
    "# import warnings\n",
    "# warnings.filterwarnings(\"ignore\", category=DeprecationWarning)\n",
    "# %matplotlib inline"
   ]
  },
  {
   "cell_type": "code",
<<<<<<< HEAD
   "execution_count": 2,
=======
   "execution_count": 3,
>>>>>>> a82a7ffe928b271d93357010f0d5e8aab9eae967
   "metadata": {},
   "outputs": [],
   "source": [
    "stancode = \"\"\"\n",
    "functions {\n",
    "            real[] SIR(real t,  // time\n",
    "            real[] u,           // system state {infected,cases,susceptible}\n",
    "            real[] theta,       // parameters \n",
    "            real[] x_r,\n",
    "            int[] x_i) {\n",
    "\n",
    "            real du_dt[6];\n",
    "        \n",
    "            real beta = theta[1];\n",
    "            real sigmac = theta[2];\n",
    "            real sigmar = theta[3];\n",
    "            real sigmad =  theta[4];\n",
    "            real q = theta[5]; \n",
    "            real sigmau = theta[6]; \n",
    "            real mbase = theta[7]; \n",
    "            real mlocation = theta[8]; \n",
    "            real mrate = theta[9]; \n",
    "            real cmax = theta[10];\n",
    "            real c50 = theta[11];\n",
    "            \n",
    "            real I = u[1];  # unknown infected\n",
    "            real C = u[2];  # cases\n",
    "            \n",
    "            real m;\n",
    "            real c;\n",
    "            \n",
    "            m = mbase + (1-mbase)/(1 + exp(mrate*(t - mlocation)));            \n",
    "            \n",
    "            c = 1 + cmax*t/(c50+t);\n",
    "            \n",
    "            beta *= m;\n",
    "            sigmac *= c;\n",
    "            \n",
    "            du_dt[1] = beta*(I+q*C) - sigmac*I - sigmau*I; //I\n",
    "            du_dt[2] = sigmac*I - (sigmar+sigmad)*C; //C\n",
    "            du_dt[3] = beta*(I+q*C); //N_I\n",
    "            du_dt[4] = sigmac*I; //N_C case appearance rate\n",
    "            du_dt[5] = sigmar*C; // R_C appearance rate\n",
    "            du_dt[6] = sigmad*C; // D_C appearance rate\n",
    "            \n",
    "            return du_dt;\n",
    "          }\n",
    "            \n",
    "          \n",
    "        }\n",
    "\n",
    "        data {\n",
    "          int<lower = 1> n_obs;       // number of days observed\n",
    "          int<lower = 1> n_theta;     // number of model parameters\n",
    "          int<lower = 1> n_difeq;     // number of differential equations for yhat\n",
    "          int<lower = 1> n_ostates;   // number of observed states\n",
    "          real<lower = 1> n_scale;    // scale to match observed scale\n",
    "          int y[n_obs,n_ostates];     // data, per-day-tally [cases,recovered,death]\n",
    "          real t0;                    // initial time point \n",
    "          real tm;                    //start day of mitigation\n",
    "          real ts[n_obs];             // time points that were observed\n",
    "          }\n",
    "\n",
    "        transformed data {\n",
    "            real x_r[0];\n",
    "            int x_i[0];           \n",
    "        }\n",
    "\n",
    "        parameters {\n",
    "            real<lower = 0> theta[n_theta]; // model parameters \n",
    "        }\n",
    "\n",
    "        transformed parameters{\n",
    "            real u[n_obs, n_difeq]; // solution from the ODE solver\n",
    "            real u_init[n_difeq];     // initial conditions for fractions\n",
    "            \n",
    "            real beta = theta[1];\n",
    "            real sigmac = theta[2];\n",
    "            real sigmar = theta[3];\n",
    "            real sigmad =  theta[4];\n",
    "            real q = theta[5]; \n",
    "            real sigmau = theta[6]; \n",
    "            real mbase = theta[7]; \n",
    "            real mlocation = theta[8]; \n",
    "            real mrate = theta[9]; \n",
    "            real cmax = theta[10];\n",
    "            real c50 = theta[11];\n",
    "            real theta_init = theta[12];\n",
    "            \n",
    "            real lambda[n_obs,3]; //poisson parameter [cases, deaths, recovered] \n",
    "                \n",
    "            // What ODE system is expecting:    \n",
    "            // beta -> beta*m(t), sigmac -> sigmac*c(t)\n",
    "            //du_dt[1] = beta*(I+q*C) - sigmac*c(t)*I - sigmau*I; //I\n",
    "            //du_dt[2] = sigmac*c(t)*I - (sigmar+sigmad)*C; //C\n",
    "            //du_dt[3] = beta*(I+q*C); //N_I\n",
    "            //du_dt[4] = sigmac*I; //N_C\n",
    "            //du_dt[5] = sigmar*C;// sigmarC\n",
    "            //du_dt[6] = sigmad*C; // sigmadD                     \n",
    "                        \n",
    "            u_init[1] = theta_init/n_scale; // I\n",
    "            u_init[2] = y[1,1]/n_scale; //C\n",
    "            u_init[3] = u_init[1];  //N_I\n",
    "            u_init[4] = u_init[2] ;  //N_C\n",
    "            u_init[5] = 0;  //sigmarC\n",
    "            u_init[6] = 0;  //sigmadD \n",
    "            \n",
    "            //print(theta)\n",
    "            u = integrate_ode_rk45(SIR, u_init, t0, ts, theta, x_r, x_i);\n",
    "            \n",
    "            //lambda\n",
    "            lambda[1,1] = (u[1,4]-u_init[4])*n_scale; //C: cases sigma_c*\\int I\n",
    "            lambda[1,2] = (u[1,5]-u_init[5])*n_scale; //R: recovered sigma_r*\\int C\n",
    "            lambda[1,3] = (u[1,6]-u_init[6])*n_scale; //D: dead sigma_d * \\int C\n",
    "        \n",
    "            for (i in 2:n_obs){\n",
    "                lambda[i,1] = (u[i,4]-u[i-1,4])*n_scale; //C: cases sigma_c*\\int_{interval} I\n",
    "                lambda[i,2] = (u[i,5]-u[i-1,5])*n_scale; //R: recovered sigma_r*C\n",
    "                lambda[i,3] = (u[i,6]-u[i-1,6])*n_scale; //D: dead\n",
    "            \n",
    "            }\n",
    "  \n",
    "        }\n",
    "\n",
    "        model {\n",
    "  \n",
    "            //priors\n",
    "            \n",
    "            //for (i in 1:n_theta){theta[1] ~ lognormal(log(0.1),10);};\n",
    "            //theta[5] ~ lognormal(log(0.25),10);\n",
    "            \n",
    "            \n",
    "            //real beta = theta[1];\n",
    "            //real sigmac = theta[2];\n",
    "            //real sigmar = theta[3];\n",
    "            //real sigmad =  theta[4];\n",
    "            //real q = theta[5]; \n",
    "            //real sigmau = theta[6]; \n",
    "            //real mbase = theta[7]; \n",
    "            //real mlocation = theta[8]; \n",
    "            //real mrate = theta[9]; \n",
    "            //real cmax = theta[10];\n",
    "            //real c50 = theta[11];\n",
    "            \n",
    "            // [0.25,\n",
    "            //0.1,\n",
    "            //0.01,\n",
    "            //0.01,\n",
    "            //0.01,\n",
    "            //1.0,\n",
    "            //0.1,\n",
    "            //1.0,\n",
    "            //1.0,\n",
    "            //0.1,\n",
    "            //10.0,\n",
    "            //1.0]\n",
    "\n",
    "            theta[1] ~ lognormal(log(0.25),1); //beta \n",
    "            theta[2] ~ lognormal(log(0.1),1); //sigmac\n",
    "            theta[3] ~ lognormal(log(0.01),1); //sigmar\n",
    "            theta[4] ~ lognormal(log(0.01),1); //sigmad\n",
    "            theta[5] ~ lognormal(log(0.01),1); //q\n",
    "            theta[6] ~ lognormal(log(0.01),1); //sigmau\n",
    "            theta[7] ~ lognormal(log(0.1),1); //mbase  \n",
    "            theta[8] ~ lognormal(log(tm),5); //mlocation \n",
    "            theta[9] ~ lognormal(log(1),5); //mrate\n",
    "            theta[10] ~ lognormal(log(0.1),1);//cmax \n",
    "            theta[11] ~ lognormal(log(10),1);//c50 \n",
    "            theta[12] ~ lognormal(log(1),0.1);// theta_init \n",
    "\n",
    "          \n",
    "            //likelihood\n",
    "            //lambda[1,1] = (u[1,4]-u_init[4])*sigmac*n_scale; //C: cases sigma_c*\\int I\n",
    "            //lambda[1,2] = (u[1,5]-u_init[5])*sigmar*n_scale; //R: recovered sigma_r*\\int C\n",
    "            //lambda[1,3] = (u[1,6]-u_init[6])*sigmad*n_scale; //D: dead sigma_d * \\int C\n",
    "        \n",
    "            target += poisson_lpmf(y[1,1]|max([lambda[1,1],0.0])); //C\n",
    "            target += poisson_lpmf(y[1,2]|max([lambda[1,2],0.0])); //R\n",
    "            target += poisson_lpmf(y[1,3]|max([lambda[1,3],0.0])); //D\n",
    "\n",
    "            \n",
    "            for (i in 2:n_obs){\n",
    "                target += poisson_lpmf(y[i,1]|max([lambda[i,1],0.0])); //C\n",
    "                target += poisson_lpmf(y[i,2]|max([lambda[i,2],0.0])); //R\n",
    "                target += poisson_lpmf(y[i,3]|max([lambda[i,3],0.0])); //D\n",
    "            }\n",
    "\n",
    "        }\n",
    "\n",
    "        generated quantities {\n",
    "            real R0;\n",
    "            real car[n_obs];\n",
    "            real attack_ratio[n_obs];\n",
    "            real ifr[n_obs];\n",
    "            \n",
    "            //u[3]:NI\n",
    "            //u[4]:NC\n",
    "            //u[5]:NR\n",
    "            //u[6]:ND\n",
    "            \n",
    "            real ll_; // log-likelihood for model\n",
    "         \n",
    "            //likelihood\n",
    "            R0 = beta*(sigmau+q*sigmac)/(sigmau)*(sigmac+sigmau);\n",
    "            \n",
    "            car[1] = u[1,4]/u[1,3];\n",
    "            attack_ratio[1] = u[1,3]; // u's are already scaled by n_scale\n",
    "            ifr[1] = u[1,6]/u[1,3];\n",
    "             \n",
    "            ll_ = poisson_lpmf(y[1,1]|max([lambda[1,1],0.0]));\n",
    "            ll_ += poisson_lpmf(y[1,2]|max([lambda[1,2],0.0]));\n",
    "            ll_ += poisson_lpmf(y[1,3]|max([lambda[1,3],0.0]));\n",
    "\n",
    "            \n",
    "            for (i in 2:n_obs){\n",
    "                car[i] = u[i,4]/u[i,3];\n",
    "                attack_ratio[i] = u[i,3]; // u's are already scaled by n_scale\n",
    "                ifr[i] = u[i,6]/u[i,3];\n",
    "            \n",
    "                ll_ += poisson_lpmf(y[i,1]|max([lambda[i,1],0.0]));\n",
    "                ll_ += poisson_lpmf(y[i,2]|max([lambda[i,2],0.0]));\n",
    "                ll_ += poisson_lpmf(y[i,3]|max([lambda[i,3],0.0]));\n",
    "            }\n",
    "            \n",
    "            print(ll_)\n",
    "         \n",
    "        }\n",
    "        \"\"\""
   ]
  },
  {
   "cell_type": "code",
<<<<<<< HEAD
   "execution_count": 8,
=======
   "execution_count": 4,
>>>>>>> a82a7ffe928b271d93357010f0d5e8aab9eae967
   "metadata": {},
   "outputs": [
    {
     "name": "stderr",
     "output_type": "stream",
     "text": [
<<<<<<< HEAD
      "INFO:pystan:COMPILING THE C++ CODE FOR MODEL anon_model_39dfb0158a05fc823b35e926eb435920 NOW.\n"
=======
      "INFO:pystan:COMPILING THE C++ CODE FOR MODEL anon_model_b3da9300951289ac3262659927c90eda NOW.\n"
>>>>>>> a82a7ffe928b271d93357010f0d5e8aab9eae967
     ]
    }
   ],
   "source": [
    "stanrunmodel = pystan.StanModel(model_code=stancode)\n",
    "\n",
    "with open('stanrunmodel.pkl', 'wb') as f:\n",
    "    pickle.dump(stanrunmodel, f)\n",
    "\n",
    "#stanrunmodel = pickle.load(open('stanrunmodel.pkl', 'rb'))\n"
   ]
  },
  {
   "cell_type": "markdown",
   "metadata": {
    "colab_type": "text",
    "id": "qn5Cei_mLN0P"
   },
   "source": [
    "# Load data from Gerkin scrape"
   ]
  },
  {
   "cell_type": "code",
<<<<<<< HEAD
   "execution_count": 9,
=======
   "execution_count": 5,
>>>>>>> a82a7ffe928b271d93357010f0d5e8aab9eae967
   "metadata": {},
   "outputs": [
    {
     "name": "stdout",
     "output_type": "stream",
     "text": [
      "t0 index assumed to be: day 1\n",
      "t0 date: 03/05/20\n",
      "tm index assumed to be: day 11\n",
      "mitigation date: 03/15/20\n"
     ]
    },
    {
     "data": {
      "image/png": "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\n",
      "text/plain": [
       "<Figure size 432x288 with 2 Axes>"
      ]
     },
     "metadata": {
      "needs_background": "light"
     },
     "output_type": "display_data"
    }
   ],
   "source": [
    "roi = \"Belgium\""
   ]
  },
  {
   "cell_type": "code",
   "execution_count": 6,
   "metadata": {},
   "outputs": [
    {
     "name": "stdout",
     "output_type": "stream",
     "text": [
      "t0 index assumed to be: day 42\n",
      "t0 date: 3/4/20\n",
      "tm index assumed to be: day 52\n",
      "mitigation date: 3/14/20\n"
     ]
    },
    {
     "data": {
      "image/png": "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\n",
      "text/plain": [
       "<Figure size 432x288 with 2 Axes>"
      ]
     },
     "metadata": {
      "needs_background": "light"
     },
     "output_type": "display_data"
    }
   ],
   "source": [
    "DF = pd.read_csv(\"../data/covid_timeseries_\"+roi+\".csv\")\n",
    "\n",
    "# pop = {}\n",
    "# pop['Italy'] = 60500000\n",
    "# pop['United Kingdom'] = 64400000\n",
    "# pop['France'] = 66990000\n",
    "# pop['Netherlands'] = 17000000\n",
    "\n",
    "# mitigate = {}\n",
    "# mitigate['Italy'] = '3/9/20' #approximate date\n",
    "# mitigate['Netherlands'] = '3/12/20' #approximate date\n",
    "\n",
    "# t0 := where to start time series, index space\n",
    "t0 = np.where(DF[\"new_cases\"].values>=10)[0][0] \n",
    "# tm := start of mitigation, index space\n",
    "tm = t0 + 10 #np.where(mitigate[roi]==DF['dates2'])[0][0]\n",
    "\n",
    "#plot the data with important time stamps (t0, tm)\n",
    "plt.subplot(1,2,1)\n",
    "plt.title('cumulatives')\n",
    "plt.plot(DF[\"cum_cases\"],'bo', label=\"cases\")\n",
    "plt.plot(DF[\"cum_recover\"],'go',label=\"recovered\")\n",
    "plt.plot(DF[\"cum_deaths\"],'ks',label=\"deaths\")\n",
    "\n",
    "plt.axvline(t0,color='k', linestyle=\"dashed\", label='t0')\n",
    "plt.axvline(tm,color='b', linestyle=\"dashed\", label='mitigate')\n",
    "plt.legend()\n",
    "\n",
    "\n",
    "plt.subplot(1,2,2)\n",
    "plt.title('dailies')\n",
    "plt.plot(DF[\"new_cases\"],'bo', label=\"cases\")\n",
    "plt.plot(DF[\"new_recover\"],'go',label=\"recovered\")\n",
    "plt.plot(DF[\"new_deaths\"],'ks',label=\"deaths\")\n",
    "plt.axvline(t0,color='k', linestyle=\"dashed\", label='t0')\n",
    "plt.axvline(tm,color='b', linestyle=\"dashed\", label='mitigate')\n",
    "plt.suptitle(roi)\n",
    "plt.legend()\n",
    "\n",
    "\n",
    "print(\"t0 index assumed to be: day \"+str(t0))\n",
    "print(\"t0 date: \"+DF['dates2'][t0])\n",
    "print(\"tm index assumed to be: day \"+str(tm))\n",
    "print(\"mitigation date: \"+DF['dates2'][tm])\n",
    "\n"
   ]
  },
  {
   "cell_type": "markdown",
   "metadata": {
    "colab_type": "text",
    "id": "gLSieVFFtjOb"
   },
   "source": [
    "## Format JHU ROI data for Stan"
   ]
  },
  {
   "cell_type": "code",
<<<<<<< HEAD
   "execution_count": 10,
=======
   "execution_count": 7,
>>>>>>> a82a7ffe928b271d93357010f0d5e8aab9eae967
   "metadata": {
    "colab": {
     "base_uri": "https://localhost:8080/",
     "height": 299
    },
    "colab_type": "code",
    "id": "iG4K7TG6NTJI",
    "outputId": "12052154-8907-4d79-d85a-7823584d3aca",
    "scrolled": true
   },
   "outputs": [],
   "source": [
    "# int<lower = 1> n_obs;       // number of days observed\n",
    "# int<lower = 1> n_theta;     // number of model parameters\n",
    "# int<lower = 1> n_difeq;     // number of differential equations for yhat\n",
    "# int<lower = 1> n_ostates;     // number of observed states\n",
    "# int<lower = 1> n_pop;       // population\n",
    "# real<lower = 1> n_scale;       // scale to match observed scale\n",
    "# int y[n_obs,n_ostates];           // data, per-day-tally [cases,recovered,death]\n",
    "# real t0;                // initial time point \n",
    "# real tm; //start day of mitigation\n",
    "# real ts[n_obs];         // time points that were observed\n",
    "# int<lower = 1> n_obs_predict;       // number of days to predict\n",
    "# real ts_predict[n_obs_predict];         // \n",
    "\n",
    "stan_data = {}\n",
    "\n",
    "# stan_data['n_pop'] = pop[roi] \n",
    "stan_data['n_scale'] = 100000#10000000 #use this instead of population\n",
    "\n",
    "stan_data['n_theta'] = 12\n",
    "stan_data['n_difeq'] = 6\n",
    "stan_data['n_ostates'] = 3\n",
    "\n",
    "stan_data['t0'] = t0-1 #to for ODE is one day, index before start of series\n",
    "stan_data['tm'] = tm\n",
    "stan_data['ts'] = np.arange(t0,len(DF['dates2'])) \n",
    "# DF = DF.replace('NaN', 0)\n",
    "stan_data['y'] = (DF[['new_cases','new_recover','new_deaths']].to_numpy()).astype(int)[t0:,:]\n",
    "# stan_data['y'][stan_data['y']<0] = 0\n",
    "stan_data['n_obs'] = len(DF['dates2']) - t0\n",
    "\n",
    "#forward predict n days from t0\n",
    "#returns uhat\n",
    "# stan_data['ts_predict'] = np.arange(t0,len(DF['dates2'])+365)\n",
    "# stan_data['n_obs_predict'] = len(DF['dates2']) - t0 + 365"
   ]
  },
  {
   "cell_type": "markdown",
   "metadata": {},
   "source": [
    "### Print data for Stan "
   ]
  },
  {
   "cell_type": "code",
   "execution_count": 8,
   "metadata": {},
   "outputs": [],
   "source": [
    "# print(stan_data)"
   ]
  },
  {
   "cell_type": "markdown",
   "metadata": {},
   "source": [
    "# Load England School 1978 Influenza data "
   ]
  },
  {
   "cell_type": "code",
   "execution_count": 9,
   "metadata": {},
   "outputs": [],
   "source": [
    "# #England 1978 influenza\n",
    "# cases = [0,8,26,76,225,298,258,233,189,128,150,85,14,4]\n",
    "# recovered = [0,0,0,0,9,17,105,162,176,166,150,85,47,20]\n",
    "# plt.plot(cases,'bo', label=\"cases\")\n",
    "# plt.plot(recovered,'go',label=\"recovered\")\n",
    "# pop = 763\n",
    "# model.stan_data['t0'] = 0\n",
    "# #truncate time series from t0 on (initial is t0-1)\n",
    "# model.stan_data['n_pop'] = pop \n",
    "# model.stan_data['ts'] = np.arange(1,len(cases)+1)  \n",
    "# Y = np.hstack([np.c_[cases],np.c_[recovered],np.zeros((len(cases),1))]).astype(int)\n",
    "# model.stan_data['y'] = Y\n",
    "# model.stan_data['n_obs'] = len(cases)\n",
    "\n",
    "# plt.plot(cases,'bo', label=\"cases\")\n",
    "# plt.plot(recovered,'go',label=\"recovered\")\n",
    "\n",
    "# plt.legend()"
   ]
  },
  {
   "cell_type": "markdown",
   "metadata": {
    "colab_type": "text",
    "id": "GDWmF_KQ2Hg3"
   },
   "source": [
    "# Run Stan "
   ]
  },
  {
   "cell_type": "markdown",
   "metadata": {},
   "source": [
    "## Initialize parameters"
   ]
  },
  {
   "cell_type": "code",
<<<<<<< HEAD
   "execution_count": 11,
=======
   "execution_count": 10,
>>>>>>> a82a7ffe928b271d93357010f0d5e8aab9eae967
   "metadata": {
    "colab": {},
    "colab_type": "code",
    "id": "oImIcxX9Lull"
   },
   "outputs": [],
   "source": [
    "# theta[1] ~ lognormal(log(0.25),1); //beta \n",
    "# theta[2] ~ lognormal(log(0.1),1); //sigmac\n",
    "# theta[3] ~ lognormal(log(0.01),1); //sigmar\n",
    "# theta[4] ~ lognormal(log(0.01),1); //sigmad\n",
    "# theta[5] ~ lognormal(log(0.01),1); //q\n",
    "# theta[6] ~ lognormal(log(1),1); //sigmau\n",
    "# theta[7] ~ lognormal(log(0.1),1); //mbase  \n",
    "# theta[8] ~ lognormal(log(tm),5); //mlocation \n",
    "# theta[9] ~ lognormal(log(1),5); //mrate\n",
    "# theta[10] ~ lognormal(log(0.1),1);//cmax \n",
    "# theta[11] ~ lognormal(log(10),1);//c50 \n",
    "# theta[12] ~ lognormal(log(1),1);// theta_init \n",
    "init = [{'theta':[0.25,0.1,0.01,0.01,0.01,1.0,0.1,1.0,1.0,0.1,10.0,1.0]}]\n",
    "    \n",
    "def init_fun():\n",
    "        x = {'theta':\n",
    "             [np.random.lognormal(np.log(0.25),1)]+\n",
    "             [np.random.lognormal(np.log(0.1),1)]+\n",
    "             [np.random.lognormal(np.log(0.01),1)]+\n",
    "             [np.random.lognormal(np.log(0.01),1)]+\n",
    "             [np.random.lognormal(np.log(0.01),1)]+\n",
    "             [np.random.lognormal(np.log(1),1)]+\n",
    "             [np.random.lognormal(np.log(0.1),1)]+\n",
    "             [np.random.lognormal(np.log(stan_data['tm']),5)]+\n",
    "             [np.random.lognormal(np.log(1),5)]+\n",
    "             [np.random.lognormal(np.log(0.1),1)]+\n",
    "             [np.random.lognormal(np.log(10),1)]+\n",
    "             [np.random.lognormal(np.log(1),0.1)]\n",
    "            }\n",
    "        return x\n"
   ]
  },
  {
   "cell_type": "markdown",
   "metadata": {},
   "source": [
    "## Fit Stan "
   ]
  },
  {
   "cell_type": "code",
   "execution_count": 12,
   "metadata": {
    "colab": {
     "base_uri": "https://localhost:8080/",
     "height": 429
    },
    "colab_type": "code",
    "id": "3rtwA8puqVrv",
    "outputId": "061a2610-4f20-4cb2-c8fd-10d97d845fbe"
   },
   "outputs": [
    {
     "ename": "RuntimeError",
     "evalue": "Initialization failed.",
     "output_type": "error",
     "traceback": [
      "\u001b[0;31m---------------------------------------------------------------------------\u001b[0m",
      "\u001b[0;31mRemoteTraceback\u001b[0m                           Traceback (most recent call last)",
      "\u001b[0;31mRemoteTraceback\u001b[0m: \n\"\"\"\nTraceback (most recent call last):\n  File \"/Library/Frameworks/Python.framework/Versions/3.7/lib/python3.7/multiprocessing/pool.py\", line 121, in worker\n    result = (True, func(*args, **kwds))\n  File \"/Library/Frameworks/Python.framework/Versions/3.7/lib/python3.7/multiprocessing/pool.py\", line 44, in mapstar\n    return list(map(*args))\n  File \"stanfit4anon_model_39dfb0158a05fc823b35e926eb435920_6147306193772393134.pyx\", line 373, in stanfit4anon_model_39dfb0158a05fc823b35e926eb435920_6147306193772393134._call_sampler_star\n  File \"stanfit4anon_model_39dfb0158a05fc823b35e926eb435920_6147306193772393134.pyx\", line 406, in stanfit4anon_model_39dfb0158a05fc823b35e926eb435920_6147306193772393134._call_sampler\nRuntimeError: Initialization failed.\n\"\"\"",
      "\nThe above exception was the direct cause of the following exception:\n",
      "\u001b[0;31mRuntimeError\u001b[0m                              Traceback (most recent call last)",
      "\u001b[0;32m<ipython-input-12-ea5e9f3958f7>\u001b[0m in \u001b[0;36m<module>\u001b[0;34m\u001b[0m\n\u001b[1;32m      5\u001b[0m \u001b[0;34m\u001b[0m\u001b[0m\n\u001b[1;32m      6\u001b[0m \u001b[0mcontrol\u001b[0m \u001b[0;34m=\u001b[0m \u001b[0;34m{\u001b[0m\u001b[0;34m'adapt_delta'\u001b[0m\u001b[0;34m:\u001b[0m\u001b[0;36m0.95\u001b[0m\u001b[0;34m}\u001b[0m\u001b[0;34m\u001b[0m\u001b[0;34m\u001b[0m\u001b[0m\n\u001b[0;32m----> 7\u001b[0;31m \u001b[0mfit\u001b[0m \u001b[0;34m=\u001b[0m \u001b[0mstanrunmodel\u001b[0m\u001b[0;34m.\u001b[0m\u001b[0msampling\u001b[0m\u001b[0;34m(\u001b[0m\u001b[0mdata\u001b[0m \u001b[0;34m=\u001b[0m \u001b[0mstan_data\u001b[0m\u001b[0;34m,\u001b[0m\u001b[0minit\u001b[0m \u001b[0;34m=\u001b[0m \u001b[0minit_fun\u001b[0m \u001b[0;34m,\u001b[0m\u001b[0mcontrol\u001b[0m\u001b[0;34m=\u001b[0m\u001b[0mcontrol\u001b[0m\u001b[0;34m,\u001b[0m \u001b[0mchains\u001b[0m \u001b[0;34m=\u001b[0m \u001b[0mn_chains\u001b[0m\u001b[0;34m,\u001b[0m\u001b[0mchain_id\u001b[0m\u001b[0;34m=\u001b[0m\u001b[0mnp\u001b[0m\u001b[0;34m.\u001b[0m\u001b[0marange\u001b[0m\u001b[0;34m(\u001b[0m\u001b[0mn_chains\u001b[0m\u001b[0;34m)\u001b[0m\u001b[0;34m,\u001b[0m \u001b[0mwarmup\u001b[0m \u001b[0;34m=\u001b[0m \u001b[0mn_warmups\u001b[0m\u001b[0;34m,\u001b[0m \u001b[0miter\u001b[0m \u001b[0;34m=\u001b[0m \u001b[0mn_iter\u001b[0m\u001b[0;34m,\u001b[0m \u001b[0mthin\u001b[0m\u001b[0;34m=\u001b[0m\u001b[0mn_thin\u001b[0m\u001b[0;34m,\u001b[0m \u001b[0mseed\u001b[0m\u001b[0;34m=\u001b[0m\u001b[0;36m13219\u001b[0m\u001b[0;34m)\u001b[0m\u001b[0;34m\u001b[0m\u001b[0;34m\u001b[0m\u001b[0m\n\u001b[0m",
      "\u001b[0;32m/Library/Frameworks/Python.framework/Versions/3.7/lib/python3.7/site-packages/pystan/model.py\u001b[0m in \u001b[0;36msampling\u001b[0;34m(self, data, pars, chains, iter, warmup, thin, seed, init, sample_file, diagnostic_file, verbose, algorithm, control, n_jobs, **kwargs)\u001b[0m\n\u001b[1;32m    811\u001b[0m         \u001b[0mcall_sampler_args\u001b[0m \u001b[0;34m=\u001b[0m \u001b[0mizip\u001b[0m\u001b[0;34m(\u001b[0m\u001b[0mitertools\u001b[0m\u001b[0;34m.\u001b[0m\u001b[0mrepeat\u001b[0m\u001b[0;34m(\u001b[0m\u001b[0mdata\u001b[0m\u001b[0;34m)\u001b[0m\u001b[0;34m,\u001b[0m \u001b[0margs_list\u001b[0m\u001b[0;34m,\u001b[0m \u001b[0mitertools\u001b[0m\u001b[0;34m.\u001b[0m\u001b[0mrepeat\u001b[0m\u001b[0;34m(\u001b[0m\u001b[0mpars\u001b[0m\u001b[0;34m)\u001b[0m\u001b[0;34m)\u001b[0m\u001b[0;34m\u001b[0m\u001b[0;34m\u001b[0m\u001b[0m\n\u001b[1;32m    812\u001b[0m         \u001b[0mcall_sampler_star\u001b[0m \u001b[0;34m=\u001b[0m \u001b[0mself\u001b[0m\u001b[0;34m.\u001b[0m\u001b[0mmodule\u001b[0m\u001b[0;34m.\u001b[0m\u001b[0m_call_sampler_star\u001b[0m\u001b[0;34m\u001b[0m\u001b[0;34m\u001b[0m\u001b[0m\n\u001b[0;32m--> 813\u001b[0;31m         \u001b[0mret_and_samples\u001b[0m \u001b[0;34m=\u001b[0m \u001b[0m_map_parallel\u001b[0m\u001b[0;34m(\u001b[0m\u001b[0mcall_sampler_star\u001b[0m\u001b[0;34m,\u001b[0m \u001b[0mcall_sampler_args\u001b[0m\u001b[0;34m,\u001b[0m \u001b[0mn_jobs\u001b[0m\u001b[0;34m)\u001b[0m\u001b[0;34m\u001b[0m\u001b[0;34m\u001b[0m\u001b[0m\n\u001b[0m\u001b[1;32m    814\u001b[0m         \u001b[0msamples\u001b[0m \u001b[0;34m=\u001b[0m \u001b[0;34m[\u001b[0m\u001b[0msmpl\u001b[0m \u001b[0;32mfor\u001b[0m \u001b[0m_\u001b[0m\u001b[0;34m,\u001b[0m \u001b[0msmpl\u001b[0m \u001b[0;32min\u001b[0m \u001b[0mret_and_samples\u001b[0m\u001b[0;34m]\u001b[0m\u001b[0;34m\u001b[0m\u001b[0;34m\u001b[0m\u001b[0m\n\u001b[1;32m    815\u001b[0m \u001b[0;34m\u001b[0m\u001b[0m\n",
      "\u001b[0;32m/Library/Frameworks/Python.framework/Versions/3.7/lib/python3.7/site-packages/pystan/model.py\u001b[0m in \u001b[0;36m_map_parallel\u001b[0;34m(function, args, n_jobs)\u001b[0m\n\u001b[1;32m     83\u001b[0m         \u001b[0;32mtry\u001b[0m\u001b[0;34m:\u001b[0m\u001b[0;34m\u001b[0m\u001b[0;34m\u001b[0m\u001b[0m\n\u001b[1;32m     84\u001b[0m             \u001b[0mpool\u001b[0m \u001b[0;34m=\u001b[0m \u001b[0mmultiprocessing\u001b[0m\u001b[0;34m.\u001b[0m\u001b[0mPool\u001b[0m\u001b[0;34m(\u001b[0m\u001b[0mprocesses\u001b[0m\u001b[0;34m=\u001b[0m\u001b[0mn_jobs\u001b[0m\u001b[0;34m)\u001b[0m\u001b[0;34m\u001b[0m\u001b[0;34m\u001b[0m\u001b[0m\n\u001b[0;32m---> 85\u001b[0;31m             \u001b[0mmap_result\u001b[0m \u001b[0;34m=\u001b[0m \u001b[0mpool\u001b[0m\u001b[0;34m.\u001b[0m\u001b[0mmap\u001b[0m\u001b[0;34m(\u001b[0m\u001b[0mfunction\u001b[0m\u001b[0;34m,\u001b[0m \u001b[0margs\u001b[0m\u001b[0;34m)\u001b[0m\u001b[0;34m\u001b[0m\u001b[0;34m\u001b[0m\u001b[0m\n\u001b[0m\u001b[1;32m     86\u001b[0m         \u001b[0;32mfinally\u001b[0m\u001b[0;34m:\u001b[0m\u001b[0;34m\u001b[0m\u001b[0;34m\u001b[0m\u001b[0m\n\u001b[1;32m     87\u001b[0m             \u001b[0mpool\u001b[0m\u001b[0;34m.\u001b[0m\u001b[0mclose\u001b[0m\u001b[0;34m(\u001b[0m\u001b[0;34m)\u001b[0m\u001b[0;34m\u001b[0m\u001b[0;34m\u001b[0m\u001b[0m\n",
      "\u001b[0;32m/Library/Frameworks/Python.framework/Versions/3.7/lib/python3.7/multiprocessing/pool.py\u001b[0m in \u001b[0;36mmap\u001b[0;34m(self, func, iterable, chunksize)\u001b[0m\n\u001b[1;32m    266\u001b[0m         \u001b[0;32min\u001b[0m \u001b[0ma\u001b[0m \u001b[0mlist\u001b[0m \u001b[0mthat\u001b[0m \u001b[0;32mis\u001b[0m \u001b[0mreturned\u001b[0m\u001b[0;34m.\u001b[0m\u001b[0;34m\u001b[0m\u001b[0;34m\u001b[0m\u001b[0m\n\u001b[1;32m    267\u001b[0m         '''\n\u001b[0;32m--> 268\u001b[0;31m         \u001b[0;32mreturn\u001b[0m \u001b[0mself\u001b[0m\u001b[0;34m.\u001b[0m\u001b[0m_map_async\u001b[0m\u001b[0;34m(\u001b[0m\u001b[0mfunc\u001b[0m\u001b[0;34m,\u001b[0m \u001b[0miterable\u001b[0m\u001b[0;34m,\u001b[0m \u001b[0mmapstar\u001b[0m\u001b[0;34m,\u001b[0m \u001b[0mchunksize\u001b[0m\u001b[0;34m)\u001b[0m\u001b[0;34m.\u001b[0m\u001b[0mget\u001b[0m\u001b[0;34m(\u001b[0m\u001b[0;34m)\u001b[0m\u001b[0;34m\u001b[0m\u001b[0;34m\u001b[0m\u001b[0m\n\u001b[0m\u001b[1;32m    269\u001b[0m \u001b[0;34m\u001b[0m\u001b[0m\n\u001b[1;32m    270\u001b[0m     \u001b[0;32mdef\u001b[0m \u001b[0mstarmap\u001b[0m\u001b[0;34m(\u001b[0m\u001b[0mself\u001b[0m\u001b[0;34m,\u001b[0m \u001b[0mfunc\u001b[0m\u001b[0;34m,\u001b[0m \u001b[0miterable\u001b[0m\u001b[0;34m,\u001b[0m \u001b[0mchunksize\u001b[0m\u001b[0;34m=\u001b[0m\u001b[0;32mNone\u001b[0m\u001b[0;34m)\u001b[0m\u001b[0;34m:\u001b[0m\u001b[0;34m\u001b[0m\u001b[0;34m\u001b[0m\u001b[0m\n",
      "\u001b[0;32m/Library/Frameworks/Python.framework/Versions/3.7/lib/python3.7/multiprocessing/pool.py\u001b[0m in \u001b[0;36mget\u001b[0;34m(self, timeout)\u001b[0m\n\u001b[1;32m    655\u001b[0m             \u001b[0;32mreturn\u001b[0m \u001b[0mself\u001b[0m\u001b[0;34m.\u001b[0m\u001b[0m_value\u001b[0m\u001b[0;34m\u001b[0m\u001b[0;34m\u001b[0m\u001b[0m\n\u001b[1;32m    656\u001b[0m         \u001b[0;32melse\u001b[0m\u001b[0;34m:\u001b[0m\u001b[0;34m\u001b[0m\u001b[0;34m\u001b[0m\u001b[0m\n\u001b[0;32m--> 657\u001b[0;31m             \u001b[0;32mraise\u001b[0m \u001b[0mself\u001b[0m\u001b[0;34m.\u001b[0m\u001b[0m_value\u001b[0m\u001b[0;34m\u001b[0m\u001b[0;34m\u001b[0m\u001b[0m\n\u001b[0m\u001b[1;32m    658\u001b[0m \u001b[0;34m\u001b[0m\u001b[0m\n\u001b[1;32m    659\u001b[0m     \u001b[0;32mdef\u001b[0m \u001b[0m_set\u001b[0m\u001b[0;34m(\u001b[0m\u001b[0mself\u001b[0m\u001b[0;34m,\u001b[0m \u001b[0mi\u001b[0m\u001b[0;34m,\u001b[0m \u001b[0mobj\u001b[0m\u001b[0;34m)\u001b[0m\u001b[0;34m:\u001b[0m\u001b[0;34m\u001b[0m\u001b[0;34m\u001b[0m\u001b[0m\n",
      "\u001b[0;31mRuntimeError\u001b[0m: Initialization failed."
     ]
    }
   ],
   "source": [
    "n_chains=1\n",
    "n_warmups=1000\n",
    "n_iter=5000\n",
    "n_thin=1\n",
    "\n",
    "control = {'adapt_delta':0.98}\n",
    "fit = stanrunmodel.sampling(data = stan_data,init = init_fun ,control=control, chains = n_chains,chain_id=np.arange(n_chains), warmup = n_warmups, iter = n_iter, thin=n_thin, seed=13219)\n"
   ]
  },
  {
   "cell_type": "code",
   "execution_count": null,
   "metadata": {},
   "outputs": [],
   "source": [
    "import pickle\n",
    "with open(\"./fits/model_fit\"+roi+\".pkl\", \"wb\") as f:\n",
    "    pickle.dump({'model' : stanrunmodel, 'fit' : fit}, f, protocol=-1)"
   ]
  },
  {
   "cell_type": "code",
   "execution_count": null,
   "metadata": {},
   "outputs": [],
   "source": [
    "#pystan.check_hmc_diagnostics(fit)"
   ]
  },
  {
   "cell_type": "code",
   "execution_count": null,
   "metadata": {
    "colab": {},
    "colab_type": "code",
    "id": "2jXKxrCf3Vj2"
   },
   "outputs": [],
   "source": [
    "print(fit)"
   ]
  },
  {
   "cell_type": "code",
   "execution_count": null,
   "metadata": {},
   "outputs": [],
   "source": [
    "# https://arviz-devs.github.io/arviz/generated/arviz.plot_density\n",
    "az.plot_density(fit,group='posterior',var_names=[\"theta\"])"
   ]
  },
  {
   "cell_type": "code",
   "execution_count": null,
   "metadata": {},
   "outputs": [],
   "source": [
    "print(np.shape(fit.extract()['u']))\n",
    "n,t,p = np.shape(fit.extract()['u'])\n",
    "print(np.shape(fit.extract()['theta']))\n",
    "\n",
    "ms=4\n",
    "\n",
    "x = range(len(DF[\"new_cases\"][t0:]))\n",
    "     \n",
    "plt.plot(x,DF[\"new_cases\"][t0:],'bo', label=\"cases\",ms=ms)\n",
    "plt.plot(x,DF[\"new_recover\"][t0:],'o',color='orange',label=\"recovered\",ms=ms)\n",
    "plt.plot(x,DF[\"new_deaths\"][t0:],'x',color='k',label=\"deaths\",ms=ms)\n",
    "  \n",
    "lw=4\n",
    "alpha = 0.5\n",
    "\n",
    "\n",
    "beta = fit.extract()['theta'][-1,0]\n",
    "sigmac = fit.extract()['theta'][-1,1]\n",
    "sigmar = fit.extract()['theta'][-1,2]\n",
    "sigmad =  fit.extract()['theta'][-1,3]\n",
    "q = fit.extract()['theta'][-1,4]\n",
    "f = fit.extract()['theta'][-1,5] \n",
    "mbase = fit.extract()['theta'][-1,6] \n",
    "mlocation = fit.extract()['theta'][-1,7] \n",
    "mrate = fit.extract()['theta'][-1,8]\n",
    "cmax = fit.extract()['theta'][-1,9]\n",
    "c50 = fit.extract()['theta'][-1,10]\n",
    "theta_init = fit.extract()['theta'][-1,11]\n",
    "\n",
    "\n",
    "\n",
    "Chat = fit.extract()['lambda'][-1,:,0]\n",
    "Rhat = fit.extract()['lambda'][-1,:,1]\n",
    "Dhat = fit.extract()['lambda'][-1,:,2]\n",
    "plt.plot(Chat,label=r'$\\hat{C}$',lw=lw,alpha=alpha,color='b')\n",
    "plt.plot(Rhat,label=r'$\\hat{R}$',lw=lw,alpha=alpha,color='orange')\n",
    "plt.plot(Dhat,label=r'$\\hat{D}$',lw=lw,alpha=alpha,color='k')\n",
    "\n",
    "plt.legend()\n",
    "plt.ylim((0,2000))\n"
   ]
  },
  {
   "cell_type": "code",
   "execution_count": null,
   "metadata": {},
   "outputs": [],
   "source": []
  }
 ],
 "metadata": {
  "colab": {
   "collapsed_sections": [],
   "name": "MBS_SIRmodeling_version2.ipynb",
   "provenance": []
  },
  "kernelspec": {
   "display_name": "Python 3",
   "language": "python",
   "name": "python3"
  },
  "language_info": {
   "codemirror_mode": {
    "name": "ipython",
    "version": 3
   },
   "file_extension": ".py",
   "mimetype": "text/x-python",
   "name": "python",
   "nbconvert_exporter": "python",
   "pygments_lexer": "ipython3",
   "version": "3.7.4"
  }
 },
 "nbformat": 4,
 "nbformat_minor": 1
}
