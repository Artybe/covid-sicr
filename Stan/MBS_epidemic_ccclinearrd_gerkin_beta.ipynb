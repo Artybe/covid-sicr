{
 "cells": [
  {
   "cell_type": "code",
   "execution_count": 1,
   "metadata": {
    "cellView": "both",
    "colab": {
     "base_uri": "https://localhost:8080/",
     "height": 309
    },
    "colab_type": "code",
    "id": "AKP2Vok31tsE",
    "outputId": "f268f545-a908-4e75-f957-dad08b72c277"
   },
   "outputs": [],
   "source": [
    "#@title Install arviz\n",
    "# !pip3 install arviz"
   ]
  },
  {
   "cell_type": "code",
   "execution_count": 2,
   "metadata": {
    "colab": {},
    "colab_type": "code",
    "id": "a0disJ2Uy-Bx"
   },
   "outputs": [],
   "source": [
    "import arviz as az\n",
    "import pystan, pickle\n",
    "import os\n",
    "# os.environ['STAN_NUM_THREADS'] = \"4\"\n",
    "import pandas as pd\n",
    "import matplotlib.pyplot as plt\n",
    "import numpy as np\n",
    "# import networkx as nx\n",
    "# import warnings\n",
    "# warnings.filterwarnings(\"ignore\", category=DeprecationWarning)\n",
    "# %matplotlib inline"
   ]
  },
  {
   "cell_type": "code",
   "execution_count": 3,
   "metadata": {},
   "outputs": [],
   "source": [
    "stancode = \"\"\"\n",
    "functions {\n",
    "            real[] SIR(real t,  // time\n",
    "            real[] u,           // system state {infected,cases,susceptible}\n",
    "            real[] theta,       // parameters \n",
    "            real[] x_r,\n",
    "            int[] x_i) {\n",
    "\n",
    "            real du_dt[6];\n",
    "        \n",
    "            real beta = theta[1];\n",
    "            real sigmac = theta[2];\n",
    "            real sigmar = theta[3];\n",
    "            real sigmad =  theta[4];\n",
    "            real q = theta[5]; \n",
    "            real sigmau = theta[6]; \n",
    "            real mbase = theta[7]; \n",
    "            real mlocation = theta[8]; \n",
    "            real mrate = theta[9]; \n",
    "            real cmax = theta[10];\n",
    "            real c50 = theta[11];\n",
    "            \n",
    "            real I = u[1];  # unknown infected\n",
    "            real C = u[2];  # cases\n",
    "            \n",
    "            real m;\n",
    "            real c;\n",
    "            \n",
    "            m = mbase + (1-mbase)/(1 + exp(mrate*(t - mlocation)));            \n",
    "            \n",
    "            c = 1 + cmax*t/(c50+t);\n",
    "            \n",
    "            beta *= m;\n",
    "            sigmac *= c;\n",
    "            \n",
    "            du_dt[1] = beta*(I+q*C) - sigmac*I - sigmau*I; //I\n",
    "            du_dt[2] = sigmac*I - (sigmar+sigmad)*C; //C\n",
    "            du_dt[3] = beta*(I+q*C); //N_I\n",
    "            du_dt[4] = sigmac*I; //N_C case appearance rate\n",
    "            du_dt[5] = sigmar*C; // R_C appearance rate\n",
    "            du_dt[6] = sigmad*C; // D_C appearance rate\n",
    "            \n",
    "            return du_dt;\n",
    "          }\n",
    "            \n",
    "          \n",
    "        }\n",
    "\n",
    "        data {\n",
    "          int<lower = 1> n_obs;       // number of days observed\n",
    "          int<lower = 1> n_theta;     // number of model parameters\n",
    "          int<lower = 1> n_difeq;     // number of differential equations for yhat\n",
    "          int<lower = 1> n_ostates;   // number of observed states\n",
    "          real<lower = 1> n_scale;    // scale to match observed scale\n",
    "          int y[n_obs,n_ostates];     // data, per-day-tally [cases,recovered,death]\n",
    "          real t0;                    // initial time point \n",
    "          real tm;                    //start day of mitigation\n",
    "          real ts[n_obs];             // time points that were observed\n",
    "          }\n",
    "\n",
    "        transformed data {\n",
    "            real x_r[0];\n",
    "            int x_i[0];           \n",
    "        }\n",
    "\n",
    "        parameters {\n",
    "            real<lower = 0> theta[n_theta]; // model parameters \n",
    "        }\n",
    "\n",
    "        transformed parameters{\n",
    "            real u[n_obs, n_difeq]; // solution from the ODE solver\n",
    "            real u_init[n_difeq];     // initial conditions for fractions\n",
    "            \n",
    "            real beta = theta[1];\n",
    "            real sigmac = theta[2];\n",
    "            real sigmar = theta[3];\n",
    "            real sigmad =  theta[4];\n",
    "            real q = theta[5]; \n",
    "            real sigmau = theta[6]; \n",
    "            real mbase = theta[7]; \n",
    "            real mlocation = theta[8]; \n",
    "            real mrate = theta[9]; \n",
    "            real cmax = theta[10];\n",
    "            real c50 = theta[11];\n",
    "            real theta_init = theta[12];\n",
    "            \n",
    "            real lambda[n_obs,3]; //poisson parameter [cases, deaths, recovered] \n",
    "                \n",
    "            // What ODE system is expecting:    \n",
    "            // beta -> beta*m(t), sigmac -> sigmac*c(t)\n",
    "            //du_dt[1] = beta*(I+q*C) - sigmac*c(t)*I - sigmau*I; //I\n",
    "            //du_dt[2] = sigmac*c(t)*I - (sigmar+sigmad)*C; //C\n",
    "            //du_dt[3] = beta*(I+q*C); //N_I\n",
    "            //du_dt[4] = sigmac*I; //N_C\n",
    "            //du_dt[5] = sigmar*C;// sigmarC\n",
    "            //du_dt[6] = sigmad*C; // sigmadD                     \n",
    "                        \n",
    "            u_init[1] = theta_init/n_scale; // I\n",
    "            u_init[2] = y[1,1]/n_scale; //C\n",
    "            u_init[3] = u_init[1];  //N_I\n",
    "            u_init[4] = u_init[2] ;  //N_C\n",
    "            u_init[5] = 0;  //sigmarC\n",
    "            u_init[6] = 0;  //sigmadD \n",
    "            \n",
    "            //print(theta)\n",
    "            u = integrate_ode_rk45(SIR, u_init, t0, ts, theta, x_r, x_i);\n",
    "            \n",
    "            //lambda\n",
    "            lambda[1,1] = (u[1,4]-u_init[4])*n_scale; //C: cases sigma_c*\\int I\n",
    "            lambda[1,2] = (u[1,5]-u_init[5])*n_scale; //R: recovered sigma_r*\\int C\n",
    "            lambda[1,3] = (u[1,6]-u_init[6])*n_scale; //D: dead sigma_d * \\int C\n",
    "        \n",
    "            for (i in 2:n_obs){\n",
    "                lambda[i,1] = (u[i,4]-u[i-1,4])*n_scale; //C: cases sigma_c*\\int_{interval} I\n",
    "                lambda[i,2] = (u[i,5]-u[i-1,5])*n_scale; //R: recovered sigma_r*C\n",
    "                lambda[i,3] = (u[i,6]-u[i-1,6])*n_scale; //D: dead\n",
    "            \n",
    "            }\n",
    "  \n",
    "        }\n",
    "\n",
    "        model {\n",
    "  \n",
    "            //priors\n",
    "            \n",
    "            //for (i in 1:n_theta){theta[1] ~ lognormal(log(0.1),10);};\n",
    "            //theta[5] ~ lognormal(log(0.25),10);\n",
    "            \n",
    "            \n",
    "            //real beta = theta[1];\n",
    "            //real sigmac = theta[2];\n",
    "            //real sigmar = theta[3];\n",
    "            //real sigmad =  theta[4];\n",
    "            //real q = theta[5]; \n",
    "            //real sigmau = theta[6]; \n",
    "            //real mbase = theta[7]; \n",
    "            //real mlocation = theta[8]; \n",
    "            //real mrate = theta[9]; \n",
    "            //real cmax = theta[10];\n",
    "            //real c50 = theta[11];\n",
    "            \n",
    "            // [0.25,\n",
    "            //0.1,\n",
    "            //0.01,\n",
    "            //0.01,\n",
    "            //0.01,\n",
    "            //1.0,\n",
    "            //0.1,\n",
    "            //1.0,\n",
    "            //1.0,\n",
    "            //0.1,\n",
    "            //10.0,\n",
    "            //1.0]\n",
    "\n",
    "            theta[1] ~ lognormal(log(0.25),1); //beta \n",
    "            theta[2] ~ lognormal(log(0.1),1); //sigmac\n",
    "            theta[3] ~ lognormal(log(0.01),1); //sigmar\n",
    "            theta[4] ~ lognormal(log(0.01),1); //sigmad\n",
    "            theta[5] ~ lognormal(log(0.01),1); //q\n",
    "            theta[6] ~ lognormal(log(0.01),1); //sigmau\n",
    "            theta[7] ~ lognormal(log(0.1),1); //mbase  \n",
    "            theta[8] ~ lognormal(log(tm),5); //mlocation \n",
    "            theta[9] ~ lognormal(log(1),5); //mrate\n",
    "            theta[10] ~ lognormal(log(0.1),1);//cmax \n",
    "            theta[11] ~ lognormal(log(10),1);//c50 \n",
    "            theta[12] ~ lognormal(log(1),0.1);// theta_init \n",
    "\n",
    "          \n",
    "            //likelihood\n",
    "            //lambda[1,1] = (u[1,4]-u_init[4])*sigmac*n_scale; //C: cases sigma_c*\\int I\n",
    "            //lambda[1,2] = (u[1,5]-u_init[5])*sigmar*n_scale; //R: recovered sigma_r*\\int C\n",
    "            //lambda[1,3] = (u[1,6]-u_init[6])*sigmad*n_scale; //D: dead sigma_d * \\int C\n",
    "        \n",
    "            target += poisson_lpmf(y[1,1]|max([lambda[1,1],0.0])); //C\n",
    "            target += poisson_lpmf(y[1,2]|max([lambda[1,2],0.0])); //R\n",
    "            target += poisson_lpmf(y[1,3]|max([lambda[1,3],0.0])); //D\n",
    "\n",
    "            \n",
    "            for (i in 2:n_obs){\n",
    "                target += poisson_lpmf(y[i,1]|max([lambda[i,1],0.0])); //C\n",
    "                target += poisson_lpmf(y[i,2]|max([lambda[i,2],0.0])); //R\n",
    "                target += poisson_lpmf(y[i,3]|max([lambda[i,3],0.0])); //D\n",
    "            }\n",
    "\n",
    "        }\n",
    "\n",
    "        generated quantities {\n",
    "        \n",
    "            real ll_; // log-likelihood for model\n",
    "         \n",
    "            //likelihood\n",
    "            ll_ = poisson_lpmf(y[1,1]|max([lambda[1,1],0.0]));\n",
    "            ll_ += poisson_lpmf(y[1,2]|max([lambda[1,2],0.0]));\n",
    "            ll_ += poisson_lpmf(y[1,3]|max([lambda[1,3],0.0]));\n",
    "\n",
    "            \n",
    "            for (i in 2:n_obs){\n",
    "                ll_ += poisson_lpmf(y[i,1]|max([lambda[i,1],0.0]));\n",
    "                ll_ += poisson_lpmf(y[i,2]|max([lambda[i,2],0.0]));\n",
    "                ll_ += poisson_lpmf(y[i,3]|max([lambda[i,3],0.0]));\n",
    "            }\n",
    "            \n",
    "            print(ll_)\n",
    "         \n",
    "        }\n",
    "        \"\"\""
   ]
  },
  {
   "cell_type": "code",
   "execution_count": 4,
   "metadata": {},
   "outputs": [],
   "source": [
    "# stanrunmodel = pystan.StanModel(model_code=stancode)\n",
    "\n",
    "# with open('stanrunmodel.pkl', 'wb') as f:\n",
    "#    pickle.dump(stanrunmodel, f)\n",
    "\n",
    "stanrunmodel = pickle.load(open('stanrunmodel.pkl', 'rb'))\n"
   ]
  },
  {
   "cell_type": "markdown",
   "metadata": {
    "colab_type": "text",
    "id": "qn5Cei_mLN0P"
   },
   "source": [
    "# Load data from Gerkin scrape"
   ]
  },
  {
   "cell_type": "code",
   "execution_count": 5,
   "metadata": {},
   "outputs": [
    {
     "name": "stdout",
     "output_type": "stream",
     "text": [
      "t0 index assumed to be: day 39\n",
      "t0 date: 3/1/20\n",
      "tm index assumed to be: day 49\n",
      "mitigation date: 3/11/20\n"
     ]
    },
    {
     "data": {
      "image/png": "[encoded data removed]",
      "text/plain": [
       "<Figure size 432x288 with 2 Axes>"
      ]
     },
     "metadata": {
      "needs_background": "light"
     },
     "output_type": "display_data"
    }
   ],
   "source": [
    "roi = \"UnitedKingdom\"\n",
    "\n",
    "DF = pd.read_csv(\"../data/covid_timeseries_\"+roi+\".csv\")\n",
    "\n",
    "# pop = {}\n",
    "# pop['Italy'] = 60500000\n",
    "# pop['United Kingdom'] = 64400000\n",
    "# pop['France'] = 66990000\n",
    "# pop['Netherlands'] = 17000000\n",
    "\n",
    "# mitigate = {}\n",
    "# mitigate['Italy'] = '3/9/20' #approximate date\n",
    "# mitigate['Netherlands'] = '3/12/20' #approximate date\n",
    "\n",
    "# t0 := where to start time series, index space\n",
    "t0 = np.where(DF[\"new_cases\"].values>=10)[0][0] \n",
    "# tm := start of mitigation, index space\n",
    "tm = t0 + 10 #np.where(mitigate[roi]==DF['dates2'])[0][0]\n",
    "\n",
    "#plot the data with important time stamps (t0, tm)\n",
    "plt.subplot(1,2,1)\n",
    "plt.title('cumulatives')\n",
    "plt.plot(DF[\"cum_cases\"],'bo', label=\"cases\")\n",
    "plt.plot(DF[\"cum_recover\"],'go',label=\"recovered\")\n",
    "plt.plot(DF[\"cum_deaths\"],'ks',label=\"deaths\")\n",
    "\n",
    "plt.axvline(t0,color='k', linestyle=\"dashed\", label='t0')\n",
    "plt.axvline(tm,color='b', linestyle=\"dashed\", label='mitigate')\n",
    "plt.legend()\n",
    "\n",
    "\n",
    "plt.subplot(1,2,2)\n",
    "plt.title('dailies')\n",
    "plt.plot(DF[\"new_cases\"],'bo', label=\"cases\")\n",
    "plt.plot(DF[\"new_recover\"],'go',label=\"recovered\")\n",
    "plt.plot(DF[\"new_deaths\"],'ks',label=\"deaths\")\n",
    "plt.axvline(t0,color='k', linestyle=\"dashed\", label='t0')\n",
    "plt.axvline(tm,color='b', linestyle=\"dashed\", label='mitigate')\n",
    "plt.suptitle(roi)\n",
    "plt.legend()\n",
    "\n",
    "\n",
    "print(\"t0 index assumed to be: day \"+str(t0))\n",
    "print(\"t0 date: \"+DF['dates2'][t0])\n",
    "print(\"tm index assumed to be: day \"+str(tm))\n",
    "print(\"mitigation date: \"+DF['dates2'][tm])\n",
    "\n"
   ]
  },
  {
   "cell_type": "markdown",
   "metadata": {
    "colab_type": "text",
    "id": "gLSieVFFtjOb"
   },
   "source": [
    "## Format JHU ROI data for Stan"
   ]
  },
  {
   "cell_type": "code",
   "execution_count": 6,
   "metadata": {
    "colab": {
     "base_uri": "https://localhost:8080/",
     "height": 299
    },
    "colab_type": "code",
    "id": "iG4K7TG6NTJI",
    "outputId": "12052154-8907-4d79-d85a-7823584d3aca",
    "scrolled": true
   },
   "outputs": [],
   "source": [
    "# int<lower = 1> n_obs;       // number of days observed\n",
    "# int<lower = 1> n_theta;     // number of model parameters\n",
    "# int<lower = 1> n_difeq;     // number of differential equations for yhat\n",
    "# int<lower = 1> n_ostates;     // number of observed states\n",
    "# int<lower = 1> n_pop;       // population\n",
    "# real<lower = 1> n_scale;       // scale to match observed scale\n",
    "# int y[n_obs,n_ostates];           // data, per-day-tally [cases,recovered,death]\n",
    "# real t0;                // initial time point \n",
    "# real tm; //start day of mitigation\n",
    "# real ts[n_obs];         // time points that were observed\n",
    "# int<lower = 1> n_obs_predict;       // number of days to predict\n",
    "# real ts_predict[n_obs_predict];         // \n",
    "\n",
    "stan_data = {}\n",
    "\n",
    "# stan_data['n_pop'] = pop[roi] \n",
    "stan_data['n_scale'] = 100000#10000000 #use this instead of population\n",
    "\n",
    "stan_data['n_theta'] = 12\n",
    "stan_data['n_difeq'] = 6\n",
    "stan_data['n_ostates'] = 3\n",
    "\n",
    "stan_data['t0'] = t0-1 #to for ODE is one day, index before start of series\n",
    "stan_data['tm'] = tm\n",
    "stan_data['ts'] = np.arange(t0,len(DF['dates2'])) \n",
    "# DF = DF.replace('NaN', 0)\n",
    "stan_data['y'] = (DF[['new_cases','new_recover','new_deaths']].to_numpy()).astype(int)[t0:,:]\n",
    "# stan_data['y'][stan_data['y']<0] = 0\n",
    "stan_data['n_obs'] = len(DF['dates2']) - t0\n",
    "\n",
    "#forward predict n days from t0\n",
    "#returns uhat\n",
    "# stan_data['ts_predict'] = np.arange(t0,len(DF['dates2'])+365)\n",
    "# stan_data['n_obs_predict'] = len(DF['dates2']) - t0 + 365"
   ]
  },
  {
   "cell_type": "markdown",
   "metadata": {},
   "source": [
    "### Print data for Stan "
   ]
  },
  {
   "cell_type": "code",
   "execution_count": 7,
   "metadata": {},
   "outputs": [],
   "source": [
    "# print(stan_data)"
   ]
  },
  {
   "cell_type": "markdown",
   "metadata": {},
   "source": [
    "# Load England School 1978 Influenza data "
   ]
  },
  {
   "cell_type": "code",
   "execution_count": 8,
   "metadata": {},
   "outputs": [],
   "source": [
    "# #England 1978 influenza\n",
    "# cases = [0,8,26,76,225,298,258,233,189,128,150,85,14,4]\n",
    "# recovered = [0,0,0,0,9,17,105,162,176,166,150,85,47,20]\n",
    "# plt.plot(cases,'bo', label=\"cases\")\n",
    "# plt.plot(recovered,'go',label=\"recovered\")\n",
    "# pop = 763\n",
    "# model.stan_data['t0'] = 0\n",
    "# #truncate time series from t0 on (initial is t0-1)\n",
    "# model.stan_data['n_pop'] = pop \n",
    "# model.stan_data['ts'] = np.arange(1,len(cases)+1)  \n",
    "# Y = np.hstack([np.c_[cases],np.c_[recovered],np.zeros((len(cases),1))]).astype(int)\n",
    "# model.stan_data['y'] = Y\n",
    "# model.stan_data['n_obs'] = len(cases)\n",
    "\n",
    "# plt.plot(cases,'bo', label=\"cases\")\n",
    "# plt.plot(recovered,'go',label=\"recovered\")\n",
    "\n",
    "# plt.legend()"
   ]
  },
  {
   "cell_type": "markdown",
   "metadata": {
    "colab_type": "text",
    "id": "GDWmF_KQ2Hg3"
   },
   "source": [
    "# Run Stan "
   ]
  },
  {
   "cell_type": "markdown",
   "metadata": {},
   "source": [
    "## Initialize parameters"
   ]
  },
  {
   "cell_type": "code",
   "execution_count": 9,
   "metadata": {
    "colab": {},
    "colab_type": "code",
    "id": "oImIcxX9Lull"
   },
   "outputs": [],
   "source": [
    "# theta[1] ~ lognormal(log(0.25),1); //beta \n",
    "# theta[2] ~ lognormal(log(0.1),1); //sigmac\n",
    "# theta[3] ~ lognormal(log(0.01),1); //sigmar\n",
    "# theta[4] ~ lognormal(log(0.01),1); //sigmad\n",
    "# theta[5] ~ lognormal(log(0.01),1); //q\n",
    "# theta[6] ~ lognormal(log(1),1); //sigmau\n",
    "# theta[7] ~ lognormal(log(0.1),1); //mbase  \n",
    "# theta[8] ~ lognormal(log(tm),5); //mlocation \n",
    "# theta[9] ~ lognormal(log(1),5); //mrate\n",
    "# theta[10] ~ lognormal(log(0.1),1);//cmax \n",
    "# theta[11] ~ lognormal(log(10),1);//c50 \n",
    "# theta[12] ~ lognormal(log(1),1);// theta_init \n",
    "init = [{'theta':[0.25,0.1,0.01,0.01,0.01,1.0,0.1,1.0,1.0,0.1,10.0,1.0]}]\n",
    "    \n",
    "def init_fun():\n",
    "        x = {'theta':\n",
    "             [np.random.lognormal(np.log(0.25),1)]+\n",
    "             [np.random.lognormal(np.log(0.1),1)]+\n",
    "             [np.random.lognormal(np.log(0.01),1)]+\n",
    "             [np.random.lognormal(np.log(0.01),1)]+\n",
    "             [np.random.lognormal(np.log(0.01),1)]+\n",
    "             [np.random.lognormal(np.log(1),1)]+\n",
    "             [np.random.lognormal(np.log(0.1),1)]+\n",
    "             [np.random.lognormal(np.log(stan_data['tm']),5)]+\n",
    "             [np.random.lognormal(np.log(1),5)]+\n",
    "             [np.random.lognormal(np.log(0.1),1)]+\n",
    "             [np.random.lognormal(np.log(10),1)]+\n",
    "             [np.random.lognormal(np.log(1),0.1)]\n",
    "            }\n",
    "        return x\n"
   ]
  },
  {
   "cell_type": "markdown",
   "metadata": {},
   "source": [
    "## Fit Stan "
   ]
  },
  {
   "cell_type": "code",
   "execution_count": null,
   "metadata": {
    "colab": {
     "base_uri": "https://localhost:8080/",
     "height": 429
    },
    "colab_type": "code",
    "id": "3rtwA8puqVrv",
    "outputId": "061a2610-4f20-4cb2-c8fd-10d97d845fbe"
   },
   "outputs": [],
   "source": [
    "n_chains=1\n",
    "n_warmups=1000\n",
    "n_iter=5000\n",
    "n_thin=1\n",
    "\n",
    "control = {'adapt_delta':0.95}\n",
    "fit = stanrunmodel.sampling(data = stan_data,init = init_fun ,control=control, chains = n_chains,chain_id=np.arange(n_chains), warmup = n_warmups, iter = n_iter, thin=n_thin, seed=13219)\n"
   ]
  },
  {
   "cell_type": "code",
   "execution_count": null,
   "metadata": {},
   "outputs": [],
   "source": [
    "import pickle\n",
    "with open(\"./fits/model_fit\"+roi+\".pkl\", \"wb\") as f:\n",
    "    pickle.dump({'model' : stanrunmodel, 'fit' : fit}, f, protocol=-1)"
   ]
  },
  {
   "cell_type": "code",
   "execution_count": null,
   "metadata": {},
   "outputs": [],
   "source": [
    "#pystan.check_hmc_diagnostics(fit)"
   ]
  },
  {
   "cell_type": "code",
   "execution_count": null,
   "metadata": {
    "colab": {},
    "colab_type": "code",
    "id": "2jXKxrCf3Vj2"
   },
   "outputs": [],
   "source": [
    "print(fit)"
   ]
  },
  {
   "cell_type": "code",
   "execution_count": null,
   "metadata": {},
   "outputs": [],
   "source": [
    "# https://arviz-devs.github.io/arviz/generated/arviz.plot_density\n",
    "az.plot_density(fit,group='posterior',var_names=[\"theta\"])"
   ]
  },
  {
   "cell_type": "code",
   "execution_count": null,
   "metadata": {},
   "outputs": [],
   "source": [
    "print(np.shape(fit.extract()['u']))\n",
    "n,t,p = np.shape(fit.extract()['u'])\n",
    "print(np.shape(fit.extract()['theta']))\n",
    "\n",
    "ms=4\n",
    "\n",
    "x = range(len(DF[\"new_cases\"][t0:]))\n",
    "     \n",
    "plt.plot(x,DF[\"new_cases\"][t0:],'bo', label=\"cases\",ms=ms)\n",
    "plt.plot(x,DF[\"new_recover\"][t0:],'o',color='orange',label=\"recovered\",ms=ms)\n",
    "plt.plot(x,DF[\"new_deaths\"][t0:],'x',color='k',label=\"deaths\",ms=ms)\n",
    "  \n",
    "lw=4\n",
    "alpha = 0.5\n",
    "\n",
    "\n",
    "beta = fit.extract()['theta'][-1,0]\n",
    "sigmac = fit.extract()['theta'][-1,1]\n",
    "sigmar = fit.extract()['theta'][-1,2]\n",
    "sigmad =  fit.extract()['theta'][-1,3]\n",
    "q = fit.extract()['theta'][-1,4]\n",
    "f = fit.extract()['theta'][-1,5] \n",
    "mbase = fit.extract()['theta'][-1,6] \n",
    "mlocation = fit.extract()['theta'][-1,7] \n",
    "mrate = fit.extract()['theta'][-1,8]\n",
    "cmax = fit.extract()['theta'][-1,9]\n",
    "c50 = fit.extract()['theta'][-1,10]\n",
    "theta_init = fit.extract()['theta'][-1,11]\n",
    "\n",
    "\n",
    "\n",
    "Chat = fit.extract()['lambda'][-1,:,0]\n",
    "Rhat = fit.extract()['lambda'][-1,:,1]\n",
    "Dhat = fit.extract()['lambda'][-1,:,2]\n",
    "plt.plot(Chat,label=r'$\\hat{C}$',lw=lw,alpha=alpha,color='b')\n",
    "plt.plot(Rhat,label=r'$\\hat{R}$',lw=lw,alpha=alpha,color='orange')\n",
    "plt.plot(Dhat,label=r'$\\hat{D}$',lw=lw,alpha=alpha,color='k')\n",
    "\n",
    "plt.legend()\n",
    "plt.ylim((0,10000))\n"
   ]
  },
  {
   "cell_type": "code",
   "execution_count": null,
   "metadata": {},
   "outputs": [],
   "source": []
  }
 ],
 "metadata": {
  "colab": {
   "collapsed_sections": [],
   "name": "MBS_SIRmodeling_version2.ipynb",
   "provenance": []
  },
  "kernelspec": {
   "display_name": "Python 3",
   "language": "python",
   "name": "python3"
  },
  "language_info": {
   "codemirror_mode": {
    "name": "ipython",
    "version": 3
   },
   "file_extension": ".py",
   "mimetype": "text/x-python",
   "name": "python",
   "nbconvert_exporter": "python",
   "pygments_lexer": "ipython3",
   "version": "3.7.4"
  }
 },
 "nbformat": 4,
 "nbformat_minor": 1
}
